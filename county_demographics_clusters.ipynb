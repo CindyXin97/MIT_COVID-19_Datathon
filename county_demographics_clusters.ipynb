{
  "nbformat": 4,
  "nbformat_minor": 0,
  "metadata": {
    "kernelspec": {
      "display_name": "R",
      "language": "R",
      "name": "ir"
    },
    "language_info": {
      "codemirror_mode": "r",
      "file_extension": ".r",
      "mimetype": "text/x-r-source",
      "name": "R",
      "pygments_lexer": "r",
      "version": "3.6.1"
    },
    "colab": {
      "name": "county_demographics_clusters.ipynb",
      "provenance": [],
      "include_colab_link": true
    }
  },
  "cells": [
    {
      "cell_type": "markdown",
      "metadata": {
        "id": "view-in-github",
        "colab_type": "text"
      },
      "source": [
        "<a href=\"https://colab.research.google.com/github/CindyXin97/MIT_COVID-19_Datathon/blob/master/county_demographics_clusters.ipynb\" target=\"_parent\"><img src=\"https://colab.research.google.com/assets/colab-badge.svg\" alt=\"Open In Colab\"/></a>"
      ]
    },
    {
      "cell_type": "markdown",
      "metadata": {
        "id": "DFZCCs_qbJIu",
        "colab_type": "text"
      },
      "source": [
        "In this notebook:\n",
        "1. Get county demographic data: \n",
        "    + county_demographics_df.csv\n",
        "    + jail_county_demographics_df.csv (jail_county_df.csv + county_demographics_df.csv)\n",
        "2. county clustering\n",
        "    + simple k-means"
      ]
    },
    {
      "cell_type": "code",
      "metadata": {
        "id": "3OGtIfA6bJIv",
        "colab_type": "code",
        "colab": {},
        "outputId": "5bda04f6-a345-4d61-c8de-524237e83a12"
      },
      "source": [
        "library('tidyverse')\n",
        "library('repr')\n",
        "library('cluster')\n",
        "library('factoextra')"
      ],
      "execution_count": 0,
      "outputs": [
        {
          "output_type": "stream",
          "text": [
            "Registered S3 methods overwritten by 'ggplot2':\n",
            "  method         from \n",
            "  [.quosures     rlang\n",
            "  c.quosures     rlang\n",
            "  print.quosures rlang\n",
            "Registered S3 method overwritten by 'rvest':\n",
            "  method            from\n",
            "  read_xml.response xml2\n",
            "-- Attaching packages --------------------------------------- tidyverse 1.2.1 --\n",
            "v ggplot2 3.1.1     v purrr   0.3.2\n",
            "v tibble  3.0.1     v dplyr   0.8.5\n",
            "v tidyr   1.0.3     v stringr 1.4.0\n",
            "v readr   1.3.1     v forcats 0.4.0\n",
            "Warning message:\n",
            "\"package 'tibble' was built under R version 3.6.3\"Warning message:\n",
            "\"package 'tidyr' was built under R version 3.6.3\"Warning message:\n",
            "\"package 'dplyr' was built under R version 3.6.3\"-- Conflicts ------------------------------------------ tidyverse_conflicts() --\n",
            "x dplyr::filter() masks stats::filter()\n",
            "x dplyr::lag()    masks stats::lag()\n",
            "Warning message:\n",
            "\"package 'cluster' was built under R version 3.6.3\"Warning message:\n",
            "\"package 'factoextra' was built under R version 3.6.3\"Welcome! Want to learn more? See two factoextra-related books at https://goo.gl/ve3WBa\n"
          ],
          "name": "stderr"
        }
      ]
    },
    {
      "cell_type": "code",
      "metadata": {
        "scrolled": true,
        "id": "oWe8YuwSbJIz",
        "colab_type": "code",
        "colab": {},
        "outputId": "9d7e40b2-5b35-47d6-b71e-57a7db087c37"
      },
      "source": [
        "# load datasets\n",
        "\n",
        "# --------------\n",
        "# from jessica:\n",
        "# jail_county_df, without the index column X\n",
        "jail_county_df <- read.csv('jail_county_df.csv', stringsAsFactors = FALSE)[ , 2:10]\n",
        "\n",
        "# prison_county_df, without the index column X\n",
        "prison_county_df <- read.csv('prison_county_df.csv', stringsAsFactors = FALSE)[ , 2:7]\n",
        "#  capitalize county name:\n",
        "prison_county_df$county <- str_to_title(prison_county_df$county)\n",
        "\n",
        "# nytimes\n",
        "us_counties <- read.csv('https://raw.githubusercontent.com/nytimes/covid-19-data/master/us-counties.csv')\n",
        "# vera inst\n",
        "#jail_population <- read.csv('https://raw.githubusercontent.com/vera-institute/jail-population-data/master/jail_population.csv')\n",
        "\n",
        "\n",
        "# merge with demographics datasets\n",
        "\n",
        "# --------------\n",
        "# county demographics: \n",
        "#   https://github.com/ringhilterra/enriched-covid19-data\n",
        "county_demographics_df <- read.csv('https://raw.githubusercontent.com/ringhilterra/enriched-covid19-data/master/us_county_demographics.csv', stringsAsFactors = FALSE)\n",
        "\n",
        "#  tidy up column names: convert to lower case\n",
        "names(county_demographics_df) <- str_to_lower(names(county_demographics_df))\n",
        "#  remove word \"county\" from county column\n",
        "county_demographics_df$county <- sub(county_demographics_df$county, pattern = \" [[:alpha:]]*$\", replacement = \"\")\n",
        "\n",
        "# -------------- \n",
        "# clean up county_demographic_df\n",
        "#  note: county populations from this dataset is similar but not the same as nytimes/vera inst.\n",
        "#   We'll use just the other columns (race/ethnicity, age, gender, etc.)\n",
        "county_demographics_df <- county_demographics_df[ , c(4, 3, 5:21)]\n",
        "            \n",
        "# compute age group percentages instead of count, and\n",
        "#  add lowrisk_agegroup_perc and highrisk_agegroup_perc columns:\n",
        "county_demographics_df <- county_demographics_df %>%\n",
        "    mutate(age_oto4_perc = age_oto4/tot_pop,\n",
        "          age_5to14_perc = age_5to14/tot_pop,\n",
        "          age_15to24_perc = age_15to24/tot_pop,\n",
        "          age_25to34_perc = age_25to34/tot_pop,\n",
        "          age_35to44_perc = age_35to44/tot_pop,\n",
        "          age_45to54_perc = age_45to54/tot_pop,\n",
        "          age_55to64_perc = age_55to64/tot_pop,\n",
        "          age_65to74_perc = age_65to74/tot_pop,\n",
        "          age_75to84_perc = age_75to84/tot_pop,\n",
        "          age_84plus_perc = age_84plus/tot_pop,\n",
        "          'lowrisk_agegroup_perc' = rowSums(. [10:16])/tot_pop ,\n",
        "          'highrisk_agegroup_perc' = rowSums(. [17:19])/tot_pop)                            \n",
        "# remove age group count:\n",
        "#  (note: resident_population (from vera inst) and tot_pop columns are close but not equal)\n",
        "county_demographics_df <- county_demographics_df[ , c(1:10, 21:31)]\n",
        "\n",
        "# ---------------\n",
        "# county land area and population data\n",
        "# from https://github.com/ykzeng/covid-19/tree/master/data\n",
        "landarea <- read.csv('https://raw.githubusercontent.com/ykzeng/covid-19/master/data/census-population-landarea.csv')\n",
        "\n",
        "# use nytimes to get fip-county key\n",
        "fips_county <- us_counties %>% \n",
        "    group_by(county, state, fips) %>%\n",
        "    summarize( dummy = 1)\n",
        "fips_county <- fips_county[ , 1:3]\n",
        "\n",
        "# --------------\n",
        "# join landarea and fips_county to get landarea information for each county\n",
        "landarea_county <- left_join( landarea, fips_county, by=\"fips\")\n",
        "\n",
        "#take only column LND110210\n",
        "landarea_county <- landarea_county[, c(8, 9, 6) ]\n",
        "# rename column LND110210 to land_area\n",
        "names(landarea_county)[3] <- 'land_area'\n",
        "\n",
        "# --------------\n",
        "# join demographics + landarea datasets\n",
        "county_demographics_df <- left_join(county_demographics_df, landarea_county, by=c(\"county\", \"state\"))\n",
        "# add a population density column\n",
        "county_demographics_df <- county_demographics_df %>% \n",
        "    mutate(population_density = tot_pop / land_area )\n",
        "\n",
        "# --------------\n",
        "# join jessica's jail dataset + (demographics + landarea) datasets\n",
        "jail_county_demographics_df <- full_join( jail_county_df, county_demographics_df, by = c('county', 'state')) \n",
        "\n",
        "# add infection rate column\n",
        "jail_county_demographics_df <- jail_county_demographics_df %>%\n",
        "    mutate( pop_infection_rate = cases/resident_population )"
      ],
      "execution_count": 0,
      "outputs": [
        {
          "output_type": "stream",
          "text": [
            "Warning message:\n",
            "\"Column `county` joining character vector and factor, coercing into character vector\"Warning message:\n",
            "\"Column `state` joining character vector and factor, coercing into character vector\""
          ],
          "name": "stderr"
        }
      ]
    },
    {
      "cell_type": "code",
      "metadata": {
        "scrolled": true,
        "id": "C4thazXtbJI2",
        "colab_type": "code",
        "colab": {},
        "outputId": "9d2dbce0-6afb-4971-addb-40a8f7347fe1"
      },
      "source": [
        "head(county_demographics_df, 3)\n",
        "#write.csv(county_demographics_df, 'county_demographics_df.csv')"
      ],
      "execution_count": 0,
      "outputs": [
        {
          "output_type": "display_data",
          "data": {
            "text/html": [
              "<table>\n",
              "<thead><tr><th scope=col>county</th><th scope=col>state</th><th scope=col>tot_pop</th><th scope=col>male_perc</th><th scope=col>female_perc</th><th scope=col>white_pop_perc</th><th scope=col>black_pop_perc</th><th scope=col>asian_pop_perc</th><th scope=col>hisp_pop_perc</th><th scope=col>age_oto4</th><th scope=col>...</th><th scope=col>age_35to44_perc</th><th scope=col>age_45to54_perc</th><th scope=col>age_55to64_perc</th><th scope=col>age_65to74_perc</th><th scope=col>age_75to84_perc</th><th scope=col>age_84plus_perc</th><th scope=col>lowrisk_agegroup_perc</th><th scope=col>highrisk_agegroup_perc</th><th scope=col>land_area</th><th scope=col>population_density</th></tr></thead>\n",
              "<tbody>\n",
              "\t<tr><td>Autauga    </td><td>Alabama    </td><td> 55601     </td><td>0.4855129  </td><td>0.5144871  </td><td>0.7837989  </td><td>0.20616536 </td><td>0.017301847</td><td>0.02965774 </td><td> 3364      </td><td>...        </td><td>0.1302854  </td><td>0.1398716  </td><td>0.1288466  </td><td>0.08812791 </td><td>0.05183360 </td><td>0.01566519 </td><td>0.8443733  </td><td>0.1556267  </td><td> 594.44    </td><td> 93.53509  </td></tr>\n",
              "\t<tr><td>Baldwin    </td><td>Alabama    </td><td>218022     </td><td>0.4846162  </td><td>0.5153838  </td><td>0.8895983  </td><td>0.09688472 </td><td>0.015613103</td><td>0.04646779 </td><td>11955      </td><td>...        </td><td>0.1194054  </td><td>0.1316519  </td><td>0.1440634  </td><td>0.12263900 </td><td>0.06205337 </td><td>0.01974113 </td><td>0.7955665  </td><td>0.2044335  </td><td>1589.78    </td><td>137.13973  </td></tr>\n",
              "\t<tr><td>Barbour    </td><td>Alabama    </td><td> 24881     </td><td>0.5278325  </td><td>0.4721675  </td><td>0.5003416  </td><td>0.49290623 </td><td>0.006068888</td><td>0.04276355 </td><td> 1284      </td><td>...        </td><td>0.1198103  </td><td>0.1296974  </td><td>0.1290543  </td><td>0.11563040 </td><td>0.05960371 </td><td>0.01897030 </td><td>0.8057956  </td><td>0.1942044  </td><td> 884.88    </td><td> 28.11794  </td></tr>\n",
              "</tbody>\n",
              "</table>\n"
            ],
            "text/latex": "\\begin{tabular}{r|lllllllllllllllllllllll}\n county & state & tot\\_pop & male\\_perc & female\\_perc & white\\_pop\\_perc & black\\_pop\\_perc & asian\\_pop\\_perc & hisp\\_pop\\_perc & age\\_oto4 & ... & age\\_35to44\\_perc & age\\_45to54\\_perc & age\\_55to64\\_perc & age\\_65to74\\_perc & age\\_75to84\\_perc & age\\_84plus\\_perc & lowrisk\\_agegroup\\_perc & highrisk\\_agegroup\\_perc & land\\_area & population\\_density\\\\\n\\hline\n\t Autauga     & Alabama     &  55601      & 0.4855129   & 0.5144871   & 0.7837989   & 0.20616536  & 0.017301847 & 0.02965774  &  3364       & ...         & 0.1302854   & 0.1398716   & 0.1288466   & 0.08812791  & 0.05183360  & 0.01566519  & 0.8443733   & 0.1556267   &  594.44     &  93.53509  \\\\\n\t Baldwin     & Alabama     & 218022      & 0.4846162   & 0.5153838   & 0.8895983   & 0.09688472  & 0.015613103 & 0.04646779  & 11955       & ...         & 0.1194054   & 0.1316519   & 0.1440634   & 0.12263900  & 0.06205337  & 0.01974113  & 0.7955665   & 0.2044335   & 1589.78     & 137.13973  \\\\\n\t Barbour     & Alabama     &  24881      & 0.5278325   & 0.4721675   & 0.5003416   & 0.49290623  & 0.006068888 & 0.04276355  &  1284       & ...         & 0.1198103   & 0.1296974   & 0.1290543   & 0.11563040  & 0.05960371  & 0.01897030  & 0.8057956   & 0.1942044   &  884.88     &  28.11794  \\\\\n\\end{tabular}\n",
            "text/markdown": "\n| county | state | tot_pop | male_perc | female_perc | white_pop_perc | black_pop_perc | asian_pop_perc | hisp_pop_perc | age_oto4 | ... | age_35to44_perc | age_45to54_perc | age_55to64_perc | age_65to74_perc | age_75to84_perc | age_84plus_perc | lowrisk_agegroup_perc | highrisk_agegroup_perc | land_area | population_density |\n|---|---|---|---|---|---|---|---|---|---|---|---|---|---|---|---|---|---|---|---|---|\n| Autauga     | Alabama     |  55601      | 0.4855129   | 0.5144871   | 0.7837989   | 0.20616536  | 0.017301847 | 0.02965774  |  3364       | ...         | 0.1302854   | 0.1398716   | 0.1288466   | 0.08812791  | 0.05183360  | 0.01566519  | 0.8443733   | 0.1556267   |  594.44     |  93.53509   |\n| Baldwin     | Alabama     | 218022      | 0.4846162   | 0.5153838   | 0.8895983   | 0.09688472  | 0.015613103 | 0.04646779  | 11955       | ...         | 0.1194054   | 0.1316519   | 0.1440634   | 0.12263900  | 0.06205337  | 0.01974113  | 0.7955665   | 0.2044335   | 1589.78     | 137.13973   |\n| Barbour     | Alabama     |  24881      | 0.5278325   | 0.4721675   | 0.5003416   | 0.49290623  | 0.006068888 | 0.04276355  |  1284       | ...         | 0.1198103   | 0.1296974   | 0.1290543   | 0.11563040  | 0.05960371  | 0.01897030  | 0.8057956   | 0.1942044   |  884.88     |  28.11794   |\n\n",
            "text/plain": [
              "  county  state   tot_pop male_perc female_perc white_pop_perc black_pop_perc\n",
              "1 Autauga Alabama  55601  0.4855129 0.5144871   0.7837989      0.20616536    \n",
              "2 Baldwin Alabama 218022  0.4846162 0.5153838   0.8895983      0.09688472    \n",
              "3 Barbour Alabama  24881  0.5278325 0.4721675   0.5003416      0.49290623    \n",
              "  asian_pop_perc hisp_pop_perc age_oto4 ... age_35to44_perc age_45to54_perc\n",
              "1 0.017301847    0.02965774     3364    ... 0.1302854       0.1398716      \n",
              "2 0.015613103    0.04646779    11955    ... 0.1194054       0.1316519      \n",
              "3 0.006068888    0.04276355     1284    ... 0.1198103       0.1296974      \n",
              "  age_55to64_perc age_65to74_perc age_75to84_perc age_84plus_perc\n",
              "1 0.1288466       0.08812791      0.05183360      0.01566519     \n",
              "2 0.1440634       0.12263900      0.06205337      0.01974113     \n",
              "3 0.1290543       0.11563040      0.05960371      0.01897030     \n",
              "  lowrisk_agegroup_perc highrisk_agegroup_perc land_area population_density\n",
              "1 0.8443733             0.1556267               594.44    93.53509         \n",
              "2 0.7955665             0.2044335              1589.78   137.13973         \n",
              "3 0.8057956             0.1942044               884.88    28.11794         "
            ]
          },
          "metadata": {
            "tags": []
          }
        }
      ]
    },
    {
      "cell_type": "code",
      "metadata": {
        "id": "a0a3i3nwbJI5",
        "colab_type": "code",
        "colab": {},
        "outputId": "029c2005-61c9-4571-c17f-4dd66d8cd3f4"
      },
      "source": [
        "head(jail_county_demographics_df, 3)"
      ],
      "execution_count": 0,
      "outputs": [
        {
          "output_type": "display_data",
          "data": {
            "text/html": [
              "<table>\n",
              "<thead><tr><th scope=col>date</th><th scope=col>county</th><th scope=col>state</th><th scope=col>jail_population</th><th scope=col>resident_population</th><th scope=col>cases</th><th scope=col>deaths</th><th scope=col>jail_incarceration_rate_per_100k</th><th scope=col>urbanicity</th><th scope=col>tot_pop</th><th scope=col>...</th><th scope=col>age_45to54_perc</th><th scope=col>age_55to64_perc</th><th scope=col>age_65to74_perc</th><th scope=col>age_75to84_perc</th><th scope=col>age_84plus_perc</th><th scope=col>lowrisk_agegroup_perc</th><th scope=col>highrisk_agegroup_perc</th><th scope=col>land_area</th><th scope=col>population_density</th><th scope=col>pop_infection_rate</th></tr></thead>\n",
              "<tbody>\n",
              "\t<tr><td>2020-01-21  </td><td>Snohomish   </td><td>Washington  </td><td>858         </td><td>822083      </td><td>1           </td><td>0           </td><td>104.4       </td><td>suburban    </td><td>814901      </td><td>...         </td><td>0.1358423   </td><td>0.1341095   </td><td>0.08393289  </td><td>0.03600683  </td><td>0.0147613   </td><td>0.865299    </td><td>0.134701    </td><td>2087.27     </td><td>390.4148    </td><td>1.216422e-06</td></tr>\n",
              "\t<tr><td>2020-01-22  </td><td>Snohomish   </td><td>Washington  </td><td>819         </td><td>822083      </td><td>1           </td><td>0           </td><td> 99.6       </td><td>suburban    </td><td>814901      </td><td>...         </td><td>0.1358423   </td><td>0.1341095   </td><td>0.08393289  </td><td>0.03600683  </td><td>0.0147613   </td><td>0.865299    </td><td>0.134701    </td><td>2087.27     </td><td>390.4148    </td><td>1.216422e-06</td></tr>\n",
              "\t<tr><td>2020-01-23  </td><td>Snohomish   </td><td>Washington  </td><td>825         </td><td>822083      </td><td>1           </td><td>0           </td><td>100.4       </td><td>suburban    </td><td>814901      </td><td>...         </td><td>0.1358423   </td><td>0.1341095   </td><td>0.08393289  </td><td>0.03600683  </td><td>0.0147613   </td><td>0.865299    </td><td>0.134701    </td><td>2087.27     </td><td>390.4148    </td><td>1.216422e-06</td></tr>\n",
              "</tbody>\n",
              "</table>\n"
            ],
            "text/latex": "\\begin{tabular}{r|lllllllllllllllllllllllllllllll}\n date & county & state & jail\\_population & resident\\_population & cases & deaths & jail\\_incarceration\\_rate\\_per\\_100k & urbanicity & tot\\_pop & ... & age\\_45to54\\_perc & age\\_55to64\\_perc & age\\_65to74\\_perc & age\\_75to84\\_perc & age\\_84plus\\_perc & lowrisk\\_agegroup\\_perc & highrisk\\_agegroup\\_perc & land\\_area & population\\_density & pop\\_infection\\_rate\\\\\n\\hline\n\t 2020-01-21   & Snohomish    & Washington   & 858          & 822083       & 1            & 0            & 104.4        & suburban     & 814901       & ...          & 0.1358423    & 0.1341095    & 0.08393289   & 0.03600683   & 0.0147613    & 0.865299     & 0.134701     & 2087.27      & 390.4148     & 1.216422e-06\\\\\n\t 2020-01-22   & Snohomish    & Washington   & 819          & 822083       & 1            & 0            &  99.6        & suburban     & 814901       & ...          & 0.1358423    & 0.1341095    & 0.08393289   & 0.03600683   & 0.0147613    & 0.865299     & 0.134701     & 2087.27      & 390.4148     & 1.216422e-06\\\\\n\t 2020-01-23   & Snohomish    & Washington   & 825          & 822083       & 1            & 0            & 100.4        & suburban     & 814901       & ...          & 0.1358423    & 0.1341095    & 0.08393289   & 0.03600683   & 0.0147613    & 0.865299     & 0.134701     & 2087.27      & 390.4148     & 1.216422e-06\\\\\n\\end{tabular}\n",
            "text/markdown": "\n| date | county | state | jail_population | resident_population | cases | deaths | jail_incarceration_rate_per_100k | urbanicity | tot_pop | ... | age_45to54_perc | age_55to64_perc | age_65to74_perc | age_75to84_perc | age_84plus_perc | lowrisk_agegroup_perc | highrisk_agegroup_perc | land_area | population_density | pop_infection_rate |\n|---|---|---|---|---|---|---|---|---|---|---|---|---|---|---|---|---|---|---|---|---|\n| 2020-01-21   | Snohomish    | Washington   | 858          | 822083       | 1            | 0            | 104.4        | suburban     | 814901       | ...          | 0.1358423    | 0.1341095    | 0.08393289   | 0.03600683   | 0.0147613    | 0.865299     | 0.134701     | 2087.27      | 390.4148     | 1.216422e-06 |\n| 2020-01-22   | Snohomish    | Washington   | 819          | 822083       | 1            | 0            |  99.6        | suburban     | 814901       | ...          | 0.1358423    | 0.1341095    | 0.08393289   | 0.03600683   | 0.0147613    | 0.865299     | 0.134701     | 2087.27      | 390.4148     | 1.216422e-06 |\n| 2020-01-23   | Snohomish    | Washington   | 825          | 822083       | 1            | 0            | 100.4        | suburban     | 814901       | ...          | 0.1358423    | 0.1341095    | 0.08393289   | 0.03600683   | 0.0147613    | 0.865299     | 0.134701     | 2087.27      | 390.4148     | 1.216422e-06 |\n\n",
            "text/plain": [
              "  date       county    state      jail_population resident_population cases\n",
              "1 2020-01-21 Snohomish Washington 858             822083              1    \n",
              "2 2020-01-22 Snohomish Washington 819             822083              1    \n",
              "3 2020-01-23 Snohomish Washington 825             822083              1    \n",
              "  deaths jail_incarceration_rate_per_100k urbanicity tot_pop ...\n",
              "1 0      104.4                            suburban   814901  ...\n",
              "2 0       99.6                            suburban   814901  ...\n",
              "3 0      100.4                            suburban   814901  ...\n",
              "  age_45to54_perc age_55to64_perc age_65to74_perc age_75to84_perc\n",
              "1 0.1358423       0.1341095       0.08393289      0.03600683     \n",
              "2 0.1358423       0.1341095       0.08393289      0.03600683     \n",
              "3 0.1358423       0.1341095       0.08393289      0.03600683     \n",
              "  age_84plus_perc lowrisk_agegroup_perc highrisk_agegroup_perc land_area\n",
              "1 0.0147613       0.865299              0.134701               2087.27  \n",
              "2 0.0147613       0.865299              0.134701               2087.27  \n",
              "3 0.0147613       0.865299              0.134701               2087.27  \n",
              "  population_density pop_infection_rate\n",
              "1 390.4148           1.216422e-06      \n",
              "2 390.4148           1.216422e-06      \n",
              "3 390.4148           1.216422e-06      "
            ]
          },
          "metadata": {
            "tags": []
          }
        }
      ]
    },
    {
      "cell_type": "markdown",
      "metadata": {
        "id": "9dNrQqMMbJI8",
        "colab_type": "text"
      },
      "source": [
        "### Filter by state, date"
      ]
    },
    {
      "cell_type": "code",
      "metadata": {
        "scrolled": true,
        "id": "XGN2HbJ1bJI9",
        "colab_type": "code",
        "colab": {}
      },
      "source": [
        "# filter jail_county_demographics_df \n",
        "\n",
        "#  consider only some states\n",
        "selected_states <- 'California|Texas|Ohio|Oregon'\n",
        "jail_county_demographics_filtered_df <- jail_county_demographics_df %>%\n",
        "    filter( grepl( selected_states, state) ,\n",
        "          jail_incarceration_rate_per_100k < 2000 ) # remove outlier counties\n",
        "\n",
        "#  keep most recent data\n",
        "jail_county_demographics_filtered_df$date <- as.Date(jail_county_demographics_filtered_df$date)\n",
        "\n",
        "jail_county_demographics_filtered_df <- jail_county_demographics_filtered_df %>%\n",
        "    group_by(county) %>% \n",
        "    filter(date == max(date))"
      ],
      "execution_count": 0,
      "outputs": []
    },
    {
      "cell_type": "code",
      "metadata": {
        "scrolled": true,
        "id": "wmdncrIabJJA",
        "colab_type": "code",
        "colab": {},
        "outputId": "554faf0c-b586-4c9b-a782-dce31c0036b5"
      },
      "source": [
        "# try some plots\n",
        "options(repr.plot.width=4, repr.plot.height=4)\n",
        "ggplot(jail_county_demographics_filtered_df, \n",
        "       aes( x = highrisk_agegroup_perc, y = jail_incarceration_rate_per_100k, color = urbanicity) ) + \n",
        "            geom_point()"
      ],
      "execution_count": 0,
      "outputs": [
        {
          "output_type": "display_data",
          "data": {
            "image/png": "[encoded data removed]",
            "text/plain": [
              "plot without title"
            ]
          },
          "metadata": {
            "tags": []
          }
        }
      ]
    },
    {
      "cell_type": "markdown",
      "metadata": {
        "id": "7jjugv7_bJJC",
        "colab_type": "text"
      },
      "source": [
        "## initial clustering"
      ]
    },
    {
      "cell_type": "code",
      "metadata": {
        "id": "ytkS3hmCbJJD",
        "colab_type": "code",
        "colab": {}
      },
      "source": [
        "# column names\n",
        "#jail_county_demographics_columns <- data.frame( colindex = 1:31, colname = names(jail_county_demographics_df))\n",
        "#jail_county_demographics_columns\n",
        "\n",
        "#county_demographics_columns <- data.frame( colindex = 1:23, colname = names(county_demographics_df))\n",
        "#county_demographics_columns"
      ],
      "execution_count": 0,
      "outputs": []
    },
    {
      "cell_type": "code",
      "metadata": {
        "id": "8oODvAD3bJJF",
        "colab_type": "code",
        "colab": {},
        "outputId": "ffaf09fe-4b29-4ca8-ebde-b6407eda8d81"
      },
      "source": [
        "# k means\n",
        "\n",
        "selected_column_indices <- c(4:8,10:31)\n",
        "num_clusters <- 4 #try some number\n",
        "\n",
        "\n",
        "jail_county_demographics_filtered_df_dropna <- drop_na(jail_county_demographics_filtered_df)\n",
        "\n",
        "\n",
        "#opt_k <- fviz_nbclust(jail_county_demographics_filtered_df_dropna[ , selected_column_indices], kmeans, method = \"gap_stat\")\n",
        "\n",
        "km <- kmeans(scale(jail_county_demographics_filtered_df_dropna[ , selected_column_indices]), num_clusters )\n",
        "jail_county_demographics_filtered_df_dropna$cluster <- as.factor(km$cluster)\n",
        "\n",
        "dim(jail_county_demographics_filtered_df_dropna)\n",
        "\n",
        "head(jail_county_demographics_filtered_df_dropna, 3)\n",
        "\n",
        "options(repr.plot.width=4)\n",
        "ggplot(jail_county_demographics_filtered_df_dropna, \n",
        "       aes( x = highrisk_agegroup_perc, y = population_density, color = cluster) ) + \n",
        "            geom_point()\n"
      ],
      "execution_count": 0,
      "outputs": [
        {
          "output_type": "display_data",
          "data": {
            "text/html": [
              "<ol class=list-inline>\n",
              "\t<li>308</li>\n",
              "\t<li>32</li>\n",
              "</ol>\n"
            ],
            "text/latex": "\\begin{enumerate*}\n\\item 308\n\\item 32\n\\end{enumerate*}\n",
            "text/markdown": "1. 308\n2. 32\n\n\n",
            "text/plain": [
              "[1] 308  32"
            ]
          },
          "metadata": {
            "tags": []
          }
        },
        {
          "output_type": "display_data",
          "data": {
            "text/html": [
              "<table>\n",
              "<thead><tr><th scope=col>date</th><th scope=col>county</th><th scope=col>state</th><th scope=col>jail_population</th><th scope=col>resident_population</th><th scope=col>cases</th><th scope=col>deaths</th><th scope=col>jail_incarceration_rate_per_100k</th><th scope=col>urbanicity</th><th scope=col>tot_pop</th><th scope=col>...</th><th scope=col>age_55to64_perc</th><th scope=col>age_65to74_perc</th><th scope=col>age_75to84_perc</th><th scope=col>age_84plus_perc</th><th scope=col>lowrisk_agegroup_perc</th><th scope=col>highrisk_agegroup_perc</th><th scope=col>land_area</th><th scope=col>population_density</th><th scope=col>pop_infection_rate</th><th scope=col>cluster</th></tr></thead>\n",
              "<tbody>\n",
              "\t<tr><td>2020-04-11  </td><td>Inyo        </td><td>California  </td><td> 24         </td><td> 18039      </td><td> 12         </td><td> 0          </td><td>133.0       </td><td>rural       </td><td> 17987      </td><td>...         </td><td>0.1650081   </td><td>0.1288709   </td><td>0.07043976  </td><td>0.03474732  </td><td>0.7659421   </td><td>0.2340579   </td><td>10180.88    </td><td>   1.766743 </td><td>0.0006652253</td><td>3           </td></tr>\n",
              "\t<tr><td>2020-04-27  </td><td>Summit      </td><td>Ohio        </td><td>388         </td><td>541013      </td><td>500         </td><td>39          </td><td> 71.7       </td><td>small/mid   </td><td>541918      </td><td>...         </td><td>0.1453338   </td><td>0.1039216   </td><td>0.05124945  </td><td>0.02425090  </td><td>0.8205780   </td><td>0.1794220   </td><td>  412.75    </td><td>1312.944882 </td><td>0.0009241922</td><td>3           </td></tr>\n",
              "\t<tr><td>2020-04-29  </td><td>Ottawa      </td><td>Ohio        </td><td> 49         </td><td> 40525      </td><td> 37         </td><td> 0          </td><td>120.9       </td><td>rural       </td><td> 40769      </td><td>...         </td><td>0.1739557   </td><td>0.1452820   </td><td>0.07549854  </td><td>0.02936054  </td><td>0.7498590   </td><td>0.2501410   </td><td>  254.92    </td><td> 159.928605 </td><td>0.0009130167</td><td>3           </td></tr>\n",
              "</tbody>\n",
              "</table>\n"
            ],
            "text/latex": "\\begin{tabular}{r|llllllllllllllllllllllllllllllll}\n date & county & state & jail\\_population & resident\\_population & cases & deaths & jail\\_incarceration\\_rate\\_per\\_100k & urbanicity & tot\\_pop & ... & age\\_55to64\\_perc & age\\_65to74\\_perc & age\\_75to84\\_perc & age\\_84plus\\_perc & lowrisk\\_agegroup\\_perc & highrisk\\_agegroup\\_perc & land\\_area & population\\_density & pop\\_infection\\_rate & cluster\\\\\n\\hline\n\t 2020-04-11   & Inyo         & California   &  24          &  18039       &  12          &  0           & 133.0        & rural        &  17987       & ...          & 0.1650081    & 0.1288709    & 0.07043976   & 0.03474732   & 0.7659421    & 0.2340579    & 10180.88     &    1.766743  & 0.0006652253 & 3           \\\\\n\t 2020-04-27   & Summit       & Ohio         & 388          & 541013       & 500          & 39           &  71.7        & small/mid    & 541918       & ...          & 0.1453338    & 0.1039216    & 0.05124945   & 0.02425090   & 0.8205780    & 0.1794220    &   412.75     & 1312.944882  & 0.0009241922 & 3           \\\\\n\t 2020-04-29   & Ottawa       & Ohio         &  49          &  40525       &  37          &  0           & 120.9        & rural        &  40769       & ...          & 0.1739557    & 0.1452820    & 0.07549854   & 0.02936054   & 0.7498590    & 0.2501410    &   254.92     &  159.928605  & 0.0009130167 & 3           \\\\\n\\end{tabular}\n",
            "text/markdown": "\n| date | county | state | jail_population | resident_population | cases | deaths | jail_incarceration_rate_per_100k | urbanicity | tot_pop | ... | age_55to64_perc | age_65to74_perc | age_75to84_perc | age_84plus_perc | lowrisk_agegroup_perc | highrisk_agegroup_perc | land_area | population_density | pop_infection_rate | cluster |\n|---|---|---|---|---|---|---|---|---|---|---|---|---|---|---|---|---|---|---|---|---|\n| 2020-04-11   | Inyo         | California   |  24          |  18039       |  12          |  0           | 133.0        | rural        |  17987       | ...          | 0.1650081    | 0.1288709    | 0.07043976   | 0.03474732   | 0.7659421    | 0.2340579    | 10180.88     |    1.766743  | 0.0006652253 | 3            |\n| 2020-04-27   | Summit       | Ohio         | 388          | 541013       | 500          | 39           |  71.7        | small/mid    | 541918       | ...          | 0.1453338    | 0.1039216    | 0.05124945   | 0.02425090   | 0.8205780    | 0.1794220    |   412.75     | 1312.944882  | 0.0009241922 | 3            |\n| 2020-04-29   | Ottawa       | Ohio         |  49          |  40525       |  37          |  0           | 120.9        | rural        |  40769       | ...          | 0.1739557    | 0.1452820    | 0.07549854   | 0.02936054   | 0.7498590    | 0.2501410    |   254.92     |  159.928605  | 0.0009130167 | 3            |\n\n",
            "text/plain": [
              "  date       county state      jail_population resident_population cases deaths\n",
              "1 2020-04-11 Inyo   California  24              18039               12    0    \n",
              "2 2020-04-27 Summit Ohio       388             541013              500   39    \n",
              "3 2020-04-29 Ottawa Ohio        49              40525               37    0    \n",
              "  jail_incarceration_rate_per_100k urbanicity tot_pop ... age_55to64_perc\n",
              "1 133.0                            rural       17987  ... 0.1650081      \n",
              "2  71.7                            small/mid  541918  ... 0.1453338      \n",
              "3 120.9                            rural       40769  ... 0.1739557      \n",
              "  age_65to74_perc age_75to84_perc age_84plus_perc lowrisk_agegroup_perc\n",
              "1 0.1288709       0.07043976      0.03474732      0.7659421            \n",
              "2 0.1039216       0.05124945      0.02425090      0.8205780            \n",
              "3 0.1452820       0.07549854      0.02936054      0.7498590            \n",
              "  highrisk_agegroup_perc land_area population_density pop_infection_rate\n",
              "1 0.2340579              10180.88     1.766743        0.0006652253      \n",
              "2 0.1794220                412.75  1312.944882        0.0009241922      \n",
              "3 0.2501410                254.92   159.928605        0.0009130167      \n",
              "  cluster\n",
              "1 3      \n",
              "2 3      \n",
              "3 3      "
            ]
          },
          "metadata": {
            "tags": []
          }
        },
        {
          "output_type": "display_data",
          "data": {
            "image/png": "[encoded data removed]",
            "text/plain": [
              "plot without title"
            ]
          },
          "metadata": {
            "tags": []
          }
        }
      ]
    },
    {
      "cell_type": "code",
      "metadata": {
        "id": "uujJMUA7bJJH",
        "colab_type": "code",
        "colab": {},
        "outputId": "b53e43c4-e023-4e30-f73d-bd14f9c14e8c"
      },
      "source": [
        "jail_county_demographics_filtered_df_dropna %>%\n",
        "    group_by( cluster ) %>%\n",
        "    summarize( count = n(),\n",
        "             ave_incarceration_rate = mean(jail_incarceration_rate_per_100k),\n",
        "             ave_jail_pop = mean(jail_population),\n",
        "             ave_res_pop = mean(resident_population))"
      ],
      "execution_count": 0,
      "outputs": [
        {
          "output_type": "display_data",
          "data": {
            "text/html": [
              "<table>\n",
              "<thead><tr><th scope=col>cluster</th><th scope=col>count</th><th scope=col>ave_incarceration_rate</th><th scope=col>ave_jail_pop</th><th scope=col>ave_res_pop</th></tr></thead>\n",
              "<tbody>\n",
              "\t<tr><td>1         </td><td>133       </td><td>183.2504  </td><td>  84.84211</td><td>  56775.47</td></tr>\n",
              "\t<tr><td>2         </td><td> 15       </td><td>268.6000  </td><td>  49.13333</td><td>  21151.20</td></tr>\n",
              "\t<tr><td>3         </td><td>141       </td><td>242.7489  </td><td> 293.92908</td><td> 161997.71</td></tr>\n",
              "\t<tr><td>4         </td><td> 19       </td><td>122.9000  </td><td>3072.89474</td><td>2370983.42</td></tr>\n",
              "</tbody>\n",
              "</table>\n"
            ],
            "text/latex": "\\begin{tabular}{r|lllll}\n cluster & count & ave\\_incarceration\\_rate & ave\\_jail\\_pop & ave\\_res\\_pop\\\\\n\\hline\n\t 1          & 133        & 183.2504   &   84.84211 &   56775.47\\\\\n\t 2          &  15        & 268.6000   &   49.13333 &   21151.20\\\\\n\t 3          & 141        & 242.7489   &  293.92908 &  161997.71\\\\\n\t 4          &  19        & 122.9000   & 3072.89474 & 2370983.42\\\\\n\\end{tabular}\n",
            "text/markdown": "\n| cluster | count | ave_incarceration_rate | ave_jail_pop | ave_res_pop |\n|---|---|---|---|---|\n| 1          | 133        | 183.2504   |   84.84211 |   56775.47 |\n| 2          |  15        | 268.6000   |   49.13333 |   21151.20 |\n| 3          | 141        | 242.7489   |  293.92908 |  161997.71 |\n| 4          |  19        | 122.9000   | 3072.89474 | 2370983.42 |\n\n",
            "text/plain": [
              "  cluster count ave_incarceration_rate ave_jail_pop ave_res_pop\n",
              "1 1       133   183.2504                 84.84211     56775.47 \n",
              "2 2        15   268.6000                 49.13333     21151.20 \n",
              "3 3       141   242.7489                293.92908    161997.71 \n",
              "4 4        19   122.9000               3072.89474   2370983.42 "
            ]
          },
          "metadata": {
            "tags": []
          }
        }
      ]
    },
    {
      "cell_type": "code",
      "metadata": {
        "id": "2dHWlnhwbJJJ",
        "colab_type": "code",
        "colab": {},
        "outputId": "7aa6d78b-e1b6-434a-be22-014471211856"
      },
      "source": [
        "jail_county_demographics_filtered_df_dropna %>%\n",
        "    group_by( cluster, urbanicity ) %>%\n",
        "    summarize( count = n(),\n",
        "             ave_incarceration_rate = mean(jail_incarceration_rate_per_100k),\n",
        "             ave_res_pop = mean(resident_population))"
      ],
      "execution_count": 0,
      "outputs": [
        {
          "output_type": "display_data",
          "data": {
            "text/html": [
              "<table>\n",
              "<thead><tr><th scope=col>cluster</th><th scope=col>urbanicity</th><th scope=col>count</th><th scope=col>ave_incarceration_rate</th><th scope=col>ave_res_pop</th></tr></thead>\n",
              "<tbody>\n",
              "\t<tr><td>1         </td><td>suburban  </td><td> 4        </td><td>107.4250  </td><td>1227968.00</td></tr>\n",
              "\t<tr><td>1         </td><td>urban     </td><td>15        </td><td>127.0267  </td><td>2675787.53</td></tr>\n",
              "\t<tr><td>2         </td><td>rural     </td><td>62        </td><td>293.3742  </td><td>  27151.56</td></tr>\n",
              "\t<tr><td>2         </td><td>small/mid </td><td>47        </td><td>231.8660  </td><td> 282973.91</td></tr>\n",
              "\t<tr><td>2         </td><td>suburban  </td><td>30        </td><td>164.6767  </td><td> 207605.93</td></tr>\n",
              "\t<tr><td>2         </td><td>urban     </td><td> 2        </td><td>100.2000  </td><td> 815164.00</td></tr>\n",
              "\t<tr><td>3         </td><td>rural     </td><td>99        </td><td>193.2061  </td><td>  30369.65</td></tr>\n",
              "\t<tr><td>3         </td><td>small/mid </td><td>23        </td><td>156.1174  </td><td> 124793.39</td></tr>\n",
              "\t<tr><td>3         </td><td>suburban  </td><td>11        </td><td>150.3818  </td><td> 152208.55</td></tr>\n",
              "\t<tr><td>4         </td><td>rural     </td><td>14        </td><td>276.0500  </td><td>  21227.50</td></tr>\n",
              "\t<tr><td>4         </td><td>small/mid </td><td> 1        </td><td>164.3000  </td><td>  20083.00</td></tr>\n",
              "</tbody>\n",
              "</table>\n"
            ],
            "text/latex": "\\begin{tabular}{r|lllll}\n cluster & urbanicity & count & ave\\_incarceration\\_rate & ave\\_res\\_pop\\\\\n\\hline\n\t 1          & suburban   &  4         & 107.4250   & 1227968.00\\\\\n\t 1          & urban      & 15         & 127.0267   & 2675787.53\\\\\n\t 2          & rural      & 62         & 293.3742   &   27151.56\\\\\n\t 2          & small/mid  & 47         & 231.8660   &  282973.91\\\\\n\t 2          & suburban   & 30         & 164.6767   &  207605.93\\\\\n\t 2          & urban      &  2         & 100.2000   &  815164.00\\\\\n\t 3          & rural      & 99         & 193.2061   &   30369.65\\\\\n\t 3          & small/mid  & 23         & 156.1174   &  124793.39\\\\\n\t 3          & suburban   & 11         & 150.3818   &  152208.55\\\\\n\t 4          & rural      & 14         & 276.0500   &   21227.50\\\\\n\t 4          & small/mid  &  1         & 164.3000   &   20083.00\\\\\n\\end{tabular}\n",
            "text/markdown": "\n| cluster | urbanicity | count | ave_incarceration_rate | ave_res_pop |\n|---|---|---|---|---|\n| 1          | suburban   |  4         | 107.4250   | 1227968.00 |\n| 1          | urban      | 15         | 127.0267   | 2675787.53 |\n| 2          | rural      | 62         | 293.3742   |   27151.56 |\n| 2          | small/mid  | 47         | 231.8660   |  282973.91 |\n| 2          | suburban   | 30         | 164.6767   |  207605.93 |\n| 2          | urban      |  2         | 100.2000   |  815164.00 |\n| 3          | rural      | 99         | 193.2061   |   30369.65 |\n| 3          | small/mid  | 23         | 156.1174   |  124793.39 |\n| 3          | suburban   | 11         | 150.3818   |  152208.55 |\n| 4          | rural      | 14         | 276.0500   |   21227.50 |\n| 4          | small/mid  |  1         | 164.3000   |   20083.00 |\n\n",
            "text/plain": [
              "   cluster urbanicity count ave_incarceration_rate ave_res_pop\n",
              "1  1       suburban    4    107.4250               1227968.00 \n",
              "2  1       urban      15    127.0267               2675787.53 \n",
              "3  2       rural      62    293.3742                 27151.56 \n",
              "4  2       small/mid  47    231.8660                282973.91 \n",
              "5  2       suburban   30    164.6767                207605.93 \n",
              "6  2       urban       2    100.2000                815164.00 \n",
              "7  3       rural      99    193.2061                 30369.65 \n",
              "8  3       small/mid  23    156.1174                124793.39 \n",
              "9  3       suburban   11    150.3818                152208.55 \n",
              "10 4       rural      14    276.0500                 21227.50 \n",
              "11 4       small/mid   1    164.3000                 20083.00 "
            ]
          },
          "metadata": {
            "tags": []
          }
        }
      ]
    },
    {
      "cell_type": "code",
      "metadata": {
        "id": "IuvrUbtYbJJL",
        "colab_type": "code",
        "colab": {}
      },
      "source": [
        ""
      ],
      "execution_count": 0,
      "outputs": []
    }
  ]
}