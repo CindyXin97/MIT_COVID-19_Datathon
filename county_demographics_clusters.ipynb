{
 "cells": [
  {
   "cell_type": "markdown",
   "metadata": {},
   "source": [
    "In this notebook:\n",
    "1. Get county demographic data: \n",
    "    + county_demographics_df.csv\n",
    "2. county clustering\n",
    "    + simple k-means"
   ]
  },
  {
   "cell_type": "code",
<<<<<<< HEAD
   "execution_count": 9,
=======
   "execution_count": 158,
>>>>>>> parent of 9a0f5bc... Merge branch 'tia'
   "metadata": {
    "scrolled": true
   },
   "outputs": [],
   "source": [
    "library('tidyverse')\n",
    "library('repr')\n",
    "library('factoextra')"
   ]
  },
  {
   "cell_type": "code",
<<<<<<< HEAD
   "execution_count": 3,
=======
   "execution_count": 161,
>>>>>>> parent of 9a0f5bc... Merge branch 'tia'
   "metadata": {
    "scrolled": true
   },
   "outputs": [
    {
     "name": "stderr",
     "output_type": "stream",
     "text": [
      "Warning message:\n",
      "\"Column `county` joining character vector and factor, coercing into character vector\"Warning message:\n",
      "\"Column `state` joining character vector and factor, coercing into character vector\""
     ]
    }
   ],
   "source": [
    "# load datasets\n",
    "\n",
    "# --------------\n",
    "# from jessica:\n",
    "# jail_county_df, without the index column X\n",
    "#jail_county_df <- read.csv('Data/jail_county_df.csv', stringsAsFactors = FALSE)[ , 2:10]\n",
    "\n",
    "# prison_county_df, without the index column X\n",
    "#prison_county_df <- read.csv('Data/prison_county_df.csv', stringsAsFactors = FALSE)[ , 2:7]\n",
    "#  capitalize county name:\n",
    "#prison_county_df$county <- str_to_title(prison_county_df$county)\n",
    "\n",
    "# nytimes\n",
    "us_counties <- read.csv('https://raw.githubusercontent.com/nytimes/covid-19-data/master/us-counties.csv')\n",
    "# vera inst\n",
    "#jail_population <- read.csv('https://raw.githubusercontent.com/vera-institute/jail-population-data/master/jail_population.csv')\n",
    "\n",
    "\n",
    "# merge with demographics datasets\n",
    "\n",
    "# --------------\n",
    "# county demographics: \n",
    "#   https://github.com/ringhilterra/enriched-covid19-data\n",
    "county_demographics_df <- read.csv('https://raw.githubusercontent.com/ringhilterra/enriched-covid19-data/master/us_county_demographics.csv', stringsAsFactors = FALSE)\n",
    "\n",
    "#  tidy up column names: convert to lower case\n",
    "names(county_demographics_df) <- str_to_lower(names(county_demographics_df))\n",
    "#  remove word \"county\" from county column\n",
    "county_demographics_df$county <- sub(county_demographics_df$county, pattern = \" [[:alpha:]]*$\", replacement = \"\")\n",
    "\n",
    "# -------------- \n",
    "# clean up county_demographic_df\n",
    "#  note: county populations from this dataset is similar but not the same as nytimes/vera inst.\n",
    "#   We'll use just the other columns (race/ethnicity, age, gender, etc.)\n",
    "county_demographics_df <- county_demographics_df[ , c(4, 3, 5:21)]\n",
    "            \n",
    "# compute age group percentages instead of count, and\n",
    "#  add lowrisk_agegroup_perc and highrisk_agegroup_perc columns:\n",
    "county_demographics_df <- county_demographics_df %>%\n",
    "    mutate(age_oto4_perc = age_oto4/tot_pop,\n",
    "          age_5to14_perc = age_5to14/tot_pop,\n",
    "          age_15to24_perc = age_15to24/tot_pop,\n",
    "          age_25to34_perc = age_25to34/tot_pop,\n",
    "          age_35to44_perc = age_35to44/tot_pop,\n",
    "          age_45to54_perc = age_45to54/tot_pop,\n",
    "          age_55to64_perc = age_55to64/tot_pop,\n",
    "          age_65to74_perc = age_65to74/tot_pop,\n",
    "          age_75to84_perc = age_75to84/tot_pop,\n",
    "          age_84plus_perc = age_84plus/tot_pop,\n",
    "          'lowrisk_agegroup_perc' = rowSums(. [10:16])/tot_pop ,\n",
    "          'highrisk_agegroup_perc' = rowSums(. [17:19])/tot_pop)   \n",
    "# remove age group count:\n",
    "#  (note: resident_population (from vera inst) and tot_pop columns are close but not equal)\n",
    "county_demographics_df <- county_demographics_df[ , c(1:9, 20:31)]\n",
    "\n",
    "# ---------------\n",
    "# county land area and population data\n",
    "# from https://github.com/ykzeng/covid-19/tree/master/data\n",
    "landarea <- read.csv('https://raw.githubusercontent.com/ykzeng/covid-19/master/data/census-population-landarea.csv')\n",
    "\n",
    "# use nytimes to get fip-county key\n",
    "fips_county <- us_counties %>% \n",
    "    group_by(county, state, fips) %>%\n",
    "    summarize( dummy = 1)\n",
    "fips_county <- fips_county[ , 1:3]\n",
    "\n",
    "# --------------\n",
    "# join landarea and fips_county to get landarea information for each county\n",
    "landarea_county <- left_join( landarea, fips_county, by=\"fips\")\n",
    "\n",
    "#take only column LND110210\n",
    "landarea_county <- landarea_county[, c(8, 9, 6) ]\n",
    "# rename column LND110210 to land_area\n",
<<<<<<< HEAD
    "#names(landarea_county)[2] <- 'land_area'\n",
    "\n",
    "landarea <- landarea[ , c(1, 6)]\n",
    "names(landarea)[2] <- 'land_area'\n",
    "head(landarea)\n",
=======
    "names(landarea_county)[3] <- 'land_area'\n",
>>>>>>> parent of 9a0f5bc... Merge branch 'tia'
    "\n",
    "# --------------\n",
    "# join demographics + landarea datasets\n",
    "county_demographics_df <- left_join(county_demographics_df, landarea_county, by=c(\"county\", \"state\"))\n",
    "# add a population density column\n",
    "county_demographics_df <- county_demographics_df %>% \n",
    "    mutate(population_density = tot_pop / land_area )\n",
    "\n",
    "# --------------\n",
    "# join jessica's jail dataset + (demographics + landarea) datasets\n",
    "jail_county_demographics_df <- full_join( jail_county_df, county_demographics_df, by = c('county', 'state')) \n",
    "\n",
    "# add infection rate column\n",
<<<<<<< HEAD
    "#jail_county_demographics_df <- jail_county_demographics_df %>%\n",
    "#    mutate( pop_infection_rate = cases/resident_population )"
=======
    "jail_county_demographics_df <- jail_county_demographics_df %>%\n",
    "    mutate( pop_infection_rate = cases/resident_population )"
>>>>>>> parent of 9a0f5bc... Merge branch 'tia'
   ]
  },
  {
   "cell_type": "code",
<<<<<<< HEAD
   "execution_count": 8,
=======
   "execution_count": 164,
>>>>>>> parent of 9a0f5bc... Merge branch 'tia'
   "metadata": {
    "scrolled": true
   },
   "outputs": [
    {
     "data": {
      "text/html": [
       "<table>\n",
       "<thead><tr><th scope=col>county</th><th scope=col>state</th><th scope=col>tot_pop</th><th scope=col>male_perc</th><th scope=col>female_perc</th><th scope=col>white_pop_perc</th><th scope=col>black_pop_perc</th><th scope=col>asian_pop_perc</th><th scope=col>hisp_pop_perc</th><th scope=col>age_oto4_perc</th><th scope=col>...</th><th scope=col>age_35to44_perc</th><th scope=col>age_45to54_perc</th><th scope=col>age_55to64_perc</th><th scope=col>age_65to74_perc</th><th scope=col>age_75to84_perc</th><th scope=col>age_84plus_perc</th><th scope=col>lowrisk_agegroup_perc</th><th scope=col>highrisk_agegroup_perc</th><th scope=col>land_area</th><th scope=col>population_density</th></tr></thead>\n",
       "<tbody>\n",
       "\t<tr><td>Autauga    </td><td>Alabama    </td><td> 55601     </td><td>0.4855129  </td><td>0.5144871  </td><td>0.7837989  </td><td>0.20616536 </td><td>0.017301847</td><td>0.02965774 </td><td>0.06050251 </td><td>...        </td><td>0.1302854  </td><td>0.1398716  </td><td>0.1288466  </td><td>0.08812791 </td><td>0.05183360 </td><td>0.01566519 </td><td>0.8443733  </td><td>0.1556267  </td><td> 594.44    </td><td> 93.53509  </td></tr>\n",
       "\t<tr><td>Baldwin    </td><td>Alabama    </td><td>218022     </td><td>0.4846162  </td><td>0.5153838  </td><td>0.8895983  </td><td>0.09688472 </td><td>0.015613103</td><td>0.04646779 </td><td>0.05483392 </td><td>...        </td><td>0.1194054  </td><td>0.1316519  </td><td>0.1440634  </td><td>0.12263900 </td><td>0.06205337 </td><td>0.01974113 </td><td>0.7955665  </td><td>0.2044335  </td><td>1589.78    </td><td>137.13973  </td></tr>\n",
       "\t<tr><td>Barbour    </td><td>Alabama    </td><td> 24881     </td><td>0.5278325  </td><td>0.4721675  </td><td>0.5003416  </td><td>0.49290623 </td><td>0.006068888</td><td>0.04276355 </td><td>0.05160564 </td><td>...        </td><td>0.1198103  </td><td>0.1296974  </td><td>0.1290543  </td><td>0.11563040 </td><td>0.05960371 </td><td>0.01897030 </td><td>0.8057956  </td><td>0.1942044  </td><td> 884.88    </td><td> 28.11794  </td></tr>\n",
       "</tbody>\n",
       "</table>\n"
      ],
      "text/latex": [
       "\\begin{tabular}{r|lllllllllllllllllllllll}\n",
       " county & state & tot\\_pop & male\\_perc & female\\_perc & white\\_pop\\_perc & black\\_pop\\_perc & asian\\_pop\\_perc & hisp\\_pop\\_perc & age\\_oto4\\_perc & ... & age\\_35to44\\_perc & age\\_45to54\\_perc & age\\_55to64\\_perc & age\\_65to74\\_perc & age\\_75to84\\_perc & age\\_84plus\\_perc & lowrisk\\_agegroup\\_perc & highrisk\\_agegroup\\_perc & land\\_area & population\\_density\\\\\n",
       "\\hline\n",
       "\t Autauga     & Alabama     &  55601      & 0.4855129   & 0.5144871   & 0.7837989   & 0.20616536  & 0.017301847 & 0.02965774  & 0.06050251  & ...         & 0.1302854   & 0.1398716   & 0.1288466   & 0.08812791  & 0.05183360  & 0.01566519  & 0.8443733   & 0.1556267   &  594.44     &  93.53509  \\\\\n",
       "\t Baldwin     & Alabama     & 218022      & 0.4846162   & 0.5153838   & 0.8895983   & 0.09688472  & 0.015613103 & 0.04646779  & 0.05483392  & ...         & 0.1194054   & 0.1316519   & 0.1440634   & 0.12263900  & 0.06205337  & 0.01974113  & 0.7955665   & 0.2044335   & 1589.78     & 137.13973  \\\\\n",
       "\t Barbour     & Alabama     &  24881      & 0.5278325   & 0.4721675   & 0.5003416   & 0.49290623  & 0.006068888 & 0.04276355  & 0.05160564  & ...         & 0.1198103   & 0.1296974   & 0.1290543   & 0.11563040  & 0.05960371  & 0.01897030  & 0.8057956   & 0.1942044   &  884.88     &  28.11794  \\\\\n",
       "\\end{tabular}\n"
      ],
      "text/markdown": [
       "\n",
       "| county | state | tot_pop | male_perc | female_perc | white_pop_perc | black_pop_perc | asian_pop_perc | hisp_pop_perc | age_oto4_perc | ... | age_35to44_perc | age_45to54_perc | age_55to64_perc | age_65to74_perc | age_75to84_perc | age_84plus_perc | lowrisk_agegroup_perc | highrisk_agegroup_perc | land_area | population_density |\n",
       "|---|---|---|---|---|---|---|---|---|---|---|---|---|---|---|---|---|---|---|---|---|\n",
       "| Autauga     | Alabama     |  55601      | 0.4855129   | 0.5144871   | 0.7837989   | 0.20616536  | 0.017301847 | 0.02965774  | 0.06050251  | ...         | 0.1302854   | 0.1398716   | 0.1288466   | 0.08812791  | 0.05183360  | 0.01566519  | 0.8443733   | 0.1556267   |  594.44     |  93.53509   |\n",
       "| Baldwin     | Alabama     | 218022      | 0.4846162   | 0.5153838   | 0.8895983   | 0.09688472  | 0.015613103 | 0.04646779  | 0.05483392  | ...         | 0.1194054   | 0.1316519   | 0.1440634   | 0.12263900  | 0.06205337  | 0.01974113  | 0.7955665   | 0.2044335   | 1589.78     | 137.13973   |\n",
       "| Barbour     | Alabama     |  24881      | 0.5278325   | 0.4721675   | 0.5003416   | 0.49290623  | 0.006068888 | 0.04276355  | 0.05160564  | ...         | 0.1198103   | 0.1296974   | 0.1290543   | 0.11563040  | 0.05960371  | 0.01897030  | 0.8057956   | 0.1942044   |  884.88     |  28.11794   |\n",
       "\n"
      ],
      "text/plain": [
       "  county  state   tot_pop male_perc female_perc white_pop_perc black_pop_perc\n",
       "1 Autauga Alabama  55601  0.4855129 0.5144871   0.7837989      0.20616536    \n",
       "2 Baldwin Alabama 218022  0.4846162 0.5153838   0.8895983      0.09688472    \n",
       "3 Barbour Alabama  24881  0.5278325 0.4721675   0.5003416      0.49290623    \n",
       "  asian_pop_perc hisp_pop_perc age_oto4_perc ... age_35to44_perc\n",
       "1 0.017301847    0.02965774    0.06050251    ... 0.1302854      \n",
       "2 0.015613103    0.04646779    0.05483392    ... 0.1194054      \n",
       "3 0.006068888    0.04276355    0.05160564    ... 0.1198103      \n",
       "  age_45to54_perc age_55to64_perc age_65to74_perc age_75to84_perc\n",
       "1 0.1398716       0.1288466       0.08812791      0.05183360     \n",
       "2 0.1316519       0.1440634       0.12263900      0.06205337     \n",
       "3 0.1296974       0.1290543       0.11563040      0.05960371     \n",
       "  age_84plus_perc lowrisk_agegroup_perc highrisk_agegroup_perc land_area\n",
       "1 0.01566519      0.8443733             0.1556267               594.44  \n",
       "2 0.01974113      0.7955665             0.2044335              1589.78  \n",
       "3 0.01897030      0.8057956             0.1942044               884.88  \n",
       "  population_density\n",
       "1  93.53509         \n",
       "2 137.13973         \n",
       "3  28.11794         "
      ]
     },
     "metadata": {},
     "output_type": "display_data"
    }
   ],
   "source": [
    "head(county_demographics_df, 3)\n",
<<<<<<< HEAD
    "write.csv(county_demographics_df, 'Data/county_demographics_df.csv', row.names = FALSE)"
=======
    "#write.csv(county_demographics_df, 'county_demographics_df.csv')"
>>>>>>> parent of 9a0f5bc... Merge branch 'tia'
   ]
  },
  {
   "cell_type": "markdown",
   "metadata": {},
   "source": [
    "### Filter by state, date"
   ]
  },
  {
   "cell_type": "code",
   "execution_count": 165,
   "metadata": {
    "scrolled": true
   },
   "outputs": [],
   "source": [
    "# filter jail_county_demographics_df \n",
    "\n",
    "#  consider only some states\n",
    "selected_states <- 'California|Texas|Ohio|Oregon'\n",
    "jail_county_demographics_filtered_df <- jail_county_demographics_df %>%\n",
    "    filter( #grepl( selected_states, state) ,   # use all states\n",
    "          jail_incarceration_rate_per_100k < 2000 ) # remove outlier counties\n",
    "\n",
    "\n",
    "\n",
    "#  keep most recent data\n",
    "jail_county_demographics_filtered_df$date <- as.Date(jail_county_demographics_filtered_df$date)\n",
    "\n",
    "jail_county_demographics_filtered_df <- jail_county_demographics_filtered_df %>%\n",
    "    group_by(county) %>% \n",
    "    filter(date == max(date))"
   ]
  },
  {
   "cell_type": "code",
   "execution_count": 166,
   "metadata": {
    "scrolled": true
   },
   "outputs": [
    {
     "name": "stderr",
     "output_type": "stream",
     "text": [
      "Warning message:\n",
      "\"Removed 8 rows containing missing values (geom_point).\""
     ]
    },
    {
     "data": {
      "image/png": "iVBORw0KGgoAAAANSUhEUgAAAeAAAAHgCAMAAABKCk6nAAAARVBMVEUAAAAAv8QzMzNNTU1o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\nLgZ8cDHgg4sBH1z/B77+SW07u+ZGAAAAAElFTkSuQmCC",
      "text/plain": [
       "plot without title"
      ]
     },
     "metadata": {},
     "output_type": "display_data"
    }
   ],
   "source": [
    "# try some plots\n",
    "options(repr.plot.width=4, repr.plot.height=4)\n",
    "ggplot(jail_county_demographics_filtered_df, \n",
    "       aes( x = highrisk_agegroup_perc, y = jail_incarceration_rate_per_100k, color = urbanicity) ) + \n",
    "            geom_point()"
   ]
  },
  {
   "cell_type": "markdown",
   "metadata": {},
   "source": [
    "## k-means clustering + project to 2 principal components to visualize"
   ]
  },
  {
   "cell_type": "code",
   "execution_count": 167,
   "metadata": {},
   "outputs": [
    {
     "data": {
      "text/html": [
       "<table>\n",
       "<thead><tr><th scope=col>colindex</th><th scope=col>colname</th></tr></thead>\n",
       "<tbody>\n",
       "\t<tr><td> 1                              </td><td>date                            </td></tr>\n",
       "\t<tr><td> 2                              </td><td>county                          </td></tr>\n",
       "\t<tr><td> 3                              </td><td>state                           </td></tr>\n",
       "\t<tr><td> 4                              </td><td>jail_population                 </td></tr>\n",
       "\t<tr><td> 5                              </td><td>resident_population             </td></tr>\n",
       "\t<tr><td> 6                              </td><td>cases                           </td></tr>\n",
       "\t<tr><td> 7                              </td><td>deaths                          </td></tr>\n",
       "\t<tr><td> 8                              </td><td>jail_incarceration_rate_per_100k</td></tr>\n",
       "\t<tr><td> 9                              </td><td>urbanicity                      </td></tr>\n",
       "\t<tr><td>10                              </td><td>tot_pop                         </td></tr>\n",
       "\t<tr><td>11                              </td><td>male_perc                       </td></tr>\n",
       "\t<tr><td>12                              </td><td>female_perc                     </td></tr>\n",
       "\t<tr><td>13                              </td><td>white_pop_perc                  </td></tr>\n",
       "\t<tr><td>14                              </td><td>black_pop_perc                  </td></tr>\n",
       "\t<tr><td>15                              </td><td>asian_pop_perc                  </td></tr>\n",
       "\t<tr><td>16                              </td><td>hisp_pop_perc                   </td></tr>\n",
       "\t<tr><td>17                              </td><td>age_oto4                        </td></tr>\n",
       "\t<tr><td>18                              </td><td>age_5to14_perc                  </td></tr>\n",
       "\t<tr><td>19                              </td><td>age_15to24_perc                 </td></tr>\n",
       "\t<tr><td>20                              </td><td>age_25to34_perc                 </td></tr>\n",
       "\t<tr><td>21                              </td><td>age_35to44_perc                 </td></tr>\n",
       "\t<tr><td>22                              </td><td>age_45to54_perc                 </td></tr>\n",
       "\t<tr><td>23                              </td><td>age_55to64_perc                 </td></tr>\n",
       "\t<tr><td>24                              </td><td>age_65to74_perc                 </td></tr>\n",
       "\t<tr><td>25                              </td><td>age_75to84_perc                 </td></tr>\n",
       "\t<tr><td>26                              </td><td>age_84plus_perc                 </td></tr>\n",
       "\t<tr><td>27                              </td><td>lowrisk_agegroup_perc           </td></tr>\n",
       "\t<tr><td>28                              </td><td>highrisk_agegroup_perc          </td></tr>\n",
       "\t<tr><td>29                              </td><td>land_area                       </td></tr>\n",
       "\t<tr><td>30                              </td><td>population_density              </td></tr>\n",
       "\t<tr><td>31                              </td><td>pop_infection_rate              </td></tr>\n",
       "</tbody>\n",
       "</table>\n"
      ],
      "text/latex": [
       "\\begin{tabular}{r|ll}\n",
       " colindex & colname\\\\\n",
       "\\hline\n",
       "\t  1                               & date                            \\\\\n",
       "\t  2                               & county                          \\\\\n",
       "\t  3                               & state                           \\\\\n",
       "\t  4                                 & jail\\_population                 \\\\\n",
       "\t  5                                 & resident\\_population             \\\\\n",
       "\t  6                               & cases                           \\\\\n",
       "\t  7                               & deaths                          \\\\\n",
       "\t  8                                       & jail\\_incarceration\\_rate\\_per\\_100k\\\\\n",
       "\t  9                               & urbanicity                      \\\\\n",
       "\t 10                                 & tot\\_pop                         \\\\\n",
       "\t 11                                 & male\\_perc                       \\\\\n",
       "\t 12                                 & female\\_perc                     \\\\\n",
       "\t 13                                   & white\\_pop\\_perc                  \\\\\n",
       "\t 14                                   & black\\_pop\\_perc                  \\\\\n",
       "\t 15                                   & asian\\_pop\\_perc                  \\\\\n",
       "\t 16                                   & hisp\\_pop\\_perc                   \\\\\n",
       "\t 17                                 & age\\_oto4                        \\\\\n",
       "\t 18                                   & age\\_5to14\\_perc                  \\\\\n",
       "\t 19                                   & age\\_15to24\\_perc                 \\\\\n",
       "\t 20                                   & age\\_25to34\\_perc                 \\\\\n",
       "\t 21                                   & age\\_35to44\\_perc                 \\\\\n",
       "\t 22                                   & age\\_45to54\\_perc                 \\\\\n",
       "\t 23                                   & age\\_55to64\\_perc                 \\\\\n",
       "\t 24                                   & age\\_65to74\\_perc                 \\\\\n",
       "\t 25                                   & age\\_75to84\\_perc                 \\\\\n",
       "\t 26                                   & age\\_84plus\\_perc                 \\\\\n",
       "\t 27                                   & lowrisk\\_agegroup\\_perc           \\\\\n",
       "\t 28                                   & highrisk\\_agegroup\\_perc          \\\\\n",
       "\t 29                                 & land\\_area                       \\\\\n",
       "\t 30                                 & population\\_density              \\\\\n",
       "\t 31                                   & pop\\_infection\\_rate              \\\\\n",
       "\\end{tabular}\n"
      ],
      "text/markdown": [
       "\n",
       "| colindex | colname |\n",
       "|---|---|\n",
       "|  1                               | date                             |\n",
       "|  2                               | county                           |\n",
       "|  3                               | state                            |\n",
       "|  4                               | jail_population                  |\n",
       "|  5                               | resident_population              |\n",
       "|  6                               | cases                            |\n",
       "|  7                               | deaths                           |\n",
       "|  8                               | jail_incarceration_rate_per_100k |\n",
       "|  9                               | urbanicity                       |\n",
       "| 10                               | tot_pop                          |\n",
       "| 11                               | male_perc                        |\n",
       "| 12                               | female_perc                      |\n",
       "| 13                               | white_pop_perc                   |\n",
       "| 14                               | black_pop_perc                   |\n",
       "| 15                               | asian_pop_perc                   |\n",
       "| 16                               | hisp_pop_perc                    |\n",
       "| 17                               | age_oto4                         |\n",
       "| 18                               | age_5to14_perc                   |\n",
       "| 19                               | age_15to24_perc                  |\n",
       "| 20                               | age_25to34_perc                  |\n",
       "| 21                               | age_35to44_perc                  |\n",
       "| 22                               | age_45to54_perc                  |\n",
       "| 23                               | age_55to64_perc                  |\n",
       "| 24                               | age_65to74_perc                  |\n",
       "| 25                               | age_75to84_perc                  |\n",
       "| 26                               | age_84plus_perc                  |\n",
       "| 27                               | lowrisk_agegroup_perc            |\n",
       "| 28                               | highrisk_agegroup_perc           |\n",
       "| 29                               | land_area                        |\n",
       "| 30                               | population_density               |\n",
       "| 31                               | pop_infection_rate               |\n",
       "\n"
      ],
      "text/plain": [
       "   colindex colname                         \n",
       "1   1       date                            \n",
       "2   2       county                          \n",
       "3   3       state                           \n",
       "4   4       jail_population                 \n",
       "5   5       resident_population             \n",
       "6   6       cases                           \n",
       "7   7       deaths                          \n",
       "8   8       jail_incarceration_rate_per_100k\n",
       "9   9       urbanicity                      \n",
       "10 10       tot_pop                         \n",
       "11 11       male_perc                       \n",
       "12 12       female_perc                     \n",
       "13 13       white_pop_perc                  \n",
       "14 14       black_pop_perc                  \n",
       "15 15       asian_pop_perc                  \n",
       "16 16       hisp_pop_perc                   \n",
       "17 17       age_oto4                        \n",
       "18 18       age_5to14_perc                  \n",
       "19 19       age_15to24_perc                 \n",
       "20 20       age_25to34_perc                 \n",
       "21 21       age_35to44_perc                 \n",
       "22 22       age_45to54_perc                 \n",
       "23 23       age_55to64_perc                 \n",
       "24 24       age_65to74_perc                 \n",
       "25 25       age_75to84_perc                 \n",
       "26 26       age_84plus_perc                 \n",
       "27 27       lowrisk_agegroup_perc           \n",
       "28 28       highrisk_agegroup_perc          \n",
       "29 29       land_area                       \n",
       "30 30       population_density              \n",
       "31 31       pop_infection_rate              "
      ]
     },
     "metadata": {},
     "output_type": "display_data"
    }
   ],
   "source": [
    "# column names\n",
    "#jail_county_demographics_columns <- data.frame( colindex = 1:31, colname = names(jail_county_demographics_df))\n",
    "jail_county_demographics_columns\n",
    "\n",
    "#county_demographics_columns <- data.frame( colindex = 1:23, colname = names(county_demographics_df))\n",
    "#county_demographics_columns"
   ]
  },
  {
   "cell_type": "code",
   "execution_count": 174,
   "metadata": {
    "scrolled": true
   },
   "outputs": [
    {
     "data": {
      "text/html": [
       "<table>\n",
       "<thead><tr><th scope=col>cluster</th><th scope=col>count</th><th scope=col>ave_incarceration_rate</th><th scope=col>ave_jail_pop</th><th scope=col>ave_res_pop</th><th scope=col>ave_highrisk_agegroup_perc</th></tr></thead>\n",
       "<tbody>\n",
       "\t<tr><td>1         </td><td>788       </td><td>232.42284 </td><td> 161.4657 </td><td>  94271.12</td><td>0.1829725 </td></tr>\n",
       "\t<tr><td>2         </td><td> 15       </td><td> 95.06667 </td><td>3024.5333 </td><td>2828677.53</td><td>0.1447733 </td></tr>\n",
       "\t<tr><td>3         </td><td>168       </td><td>280.87440 </td><td> 383.6488 </td><td> 230430.54</td><td>0.1671051 </td></tr>\n",
       "</tbody>\n",
       "</table>\n"
      ],
      "text/latex": [
       "\\begin{tabular}{r|llllll}\n",
       " cluster & count & ave\\_incarceration\\_rate & ave\\_jail\\_pop & ave\\_res\\_pop & ave\\_highrisk\\_agegroup\\_perc\\\\\n",
       "\\hline\n",
       "\t 1          & 788        & 232.42284  &  161.4657  &   94271.12 & 0.1829725 \\\\\n",
       "\t 2          &  15        &  95.06667  & 3024.5333  & 2828677.53 & 0.1447733 \\\\\n",
       "\t 3          & 168        & 280.87440  &  383.6488  &  230430.54 & 0.1671051 \\\\\n",
       "\\end{tabular}\n"
      ],
      "text/markdown": [
       "\n",
       "| cluster | count | ave_incarceration_rate | ave_jail_pop | ave_res_pop | ave_highrisk_agegroup_perc |\n",
       "|---|---|---|---|---|---|\n",
       "| 1          | 788        | 232.42284  |  161.4657  |   94271.12 | 0.1829725  |\n",
       "| 2          |  15        |  95.06667  | 3024.5333  | 2828677.53 | 0.1447733  |\n",
       "| 3          | 168        | 280.87440  |  383.6488  |  230430.54 | 0.1671051  |\n",
       "\n"
      ],
      "text/plain": [
       "  cluster count ave_incarceration_rate ave_jail_pop ave_res_pop\n",
       "1 1       788   232.42284               161.4657      94271.12 \n",
       "2 2        15    95.06667              3024.5333    2828677.53 \n",
       "3 3       168   280.87440               383.6488     230430.54 \n",
       "  ave_highrisk_agegroup_perc\n",
       "1 0.1829725                 \n",
       "2 0.1447733                 \n",
       "3 0.1671051                 "
      ]
     },
     "metadata": {},
     "output_type": "display_data"
    },
    {
     "data": {
      "text/html": [
       "<table>\n",
       "<thead><tr><th scope=col>cluster</th><th scope=col>urbanicity</th><th scope=col>count</th><th scope=col>ave_incarceration_rate</th><th scope=col>ave_res_pop</th><th scope=col>ave_highrisk_agegroup_perc</th></tr></thead>\n",
       "<tbody>\n",
       "\t<tr><td>1         </td><td>rural     </td><td>432       </td><td>259.1706  </td><td>  31973.31</td><td>0.1935420 </td></tr>\n",
       "\t<tr><td>1         </td><td>small/mid </td><td>242       </td><td>205.3281  </td><td> 153191.85</td><td>0.1758847 </td></tr>\n",
       "\t<tr><td>1         </td><td>suburban  </td><td>109       </td><td>191.7917  </td><td> 164340.42</td><td>0.1599914 </td></tr>\n",
       "\t<tr><td>1         </td><td>urban     </td><td>  5       </td><td>118.5600  </td><td>1097528.40</td><td>0.1138086 </td></tr>\n",
       "\t<tr><td>2         </td><td>suburban  </td><td>  5       </td><td> 73.9600  </td><td>1362795.60</td><td>0.1589736 </td></tr>\n",
       "\t<tr><td>2         </td><td>urban     </td><td> 10       </td><td>105.6200  </td><td>3561618.50</td><td>0.1376732 </td></tr>\n",
       "\t<tr><td>3         </td><td>rural     </td><td> 68       </td><td>339.0382  </td><td>  31351.25</td><td>0.1847879 </td></tr>\n",
       "\t<tr><td>3         </td><td>small/mid </td><td> 60       </td><td>292.9233  </td><td> 168234.65</td><td>0.1655664 </td></tr>\n",
       "\t<tr><td>3         </td><td>suburban  </td><td> 27       </td><td>185.2815  </td><td> 355611.15</td><td>0.1383516 </td></tr>\n",
       "\t<tr><td>3         </td><td>urban     </td><td> 13       </td><td>119.5615  </td><td>1298835.85</td><td>0.1414309 </td></tr>\n",
       "</tbody>\n",
       "</table>\n"
      ],
      "text/latex": [
       "\\begin{tabular}{r|llllll}\n",
       " cluster & urbanicity & count & ave\\_incarceration\\_rate & ave\\_res\\_pop & ave\\_highrisk\\_agegroup\\_perc\\\\\n",
       "\\hline\n",
       "\t 1          & rural      & 432        & 259.1706   &   31973.31 & 0.1935420 \\\\\n",
       "\t 1          & small/mid  & 242        & 205.3281   &  153191.85 & 0.1758847 \\\\\n",
       "\t 1          & suburban   & 109        & 191.7917   &  164340.42 & 0.1599914 \\\\\n",
       "\t 1          & urban      &   5        & 118.5600   & 1097528.40 & 0.1138086 \\\\\n",
       "\t 2          & suburban   &   5        &  73.9600   & 1362795.60 & 0.1589736 \\\\\n",
       "\t 2          & urban      &  10        & 105.6200   & 3561618.50 & 0.1376732 \\\\\n",
       "\t 3          & rural      &  68        & 339.0382   &   31351.25 & 0.1847879 \\\\\n",
       "\t 3          & small/mid  &  60        & 292.9233   &  168234.65 & 0.1655664 \\\\\n",
       "\t 3          & suburban   &  27        & 185.2815   &  355611.15 & 0.1383516 \\\\\n",
       "\t 3          & urban      &  13        & 119.5615   & 1298835.85 & 0.1414309 \\\\\n",
       "\\end{tabular}\n"
      ],
      "text/markdown": [
       "\n",
       "| cluster | urbanicity | count | ave_incarceration_rate | ave_res_pop | ave_highrisk_agegroup_perc |\n",
       "|---|---|---|---|---|---|\n",
       "| 1          | rural      | 432        | 259.1706   |   31973.31 | 0.1935420  |\n",
       "| 1          | small/mid  | 242        | 205.3281   |  153191.85 | 0.1758847  |\n",
       "| 1          | suburban   | 109        | 191.7917   |  164340.42 | 0.1599914  |\n",
       "| 1          | urban      |   5        | 118.5600   | 1097528.40 | 0.1138086  |\n",
       "| 2          | suburban   |   5        |  73.9600   | 1362795.60 | 0.1589736  |\n",
       "| 2          | urban      |  10        | 105.6200   | 3561618.50 | 0.1376732  |\n",
       "| 3          | rural      |  68        | 339.0382   |   31351.25 | 0.1847879  |\n",
       "| 3          | small/mid  |  60        | 292.9233   |  168234.65 | 0.1655664  |\n",
       "| 3          | suburban   |  27        | 185.2815   |  355611.15 | 0.1383516  |\n",
       "| 3          | urban      |  13        | 119.5615   | 1298835.85 | 0.1414309  |\n",
       "\n"
      ],
      "text/plain": [
       "   cluster urbanicity count ave_incarceration_rate ave_res_pop\n",
       "1  1       rural      432   259.1706                 31973.31 \n",
       "2  1       small/mid  242   205.3281                153191.85 \n",
       "3  1       suburban   109   191.7917                164340.42 \n",
       "4  1       urban        5   118.5600               1097528.40 \n",
       "5  2       suburban     5    73.9600               1362795.60 \n",
       "6  2       urban       10   105.6200               3561618.50 \n",
       "7  3       rural       68   339.0382                 31351.25 \n",
       "8  3       small/mid   60   292.9233                168234.65 \n",
       "9  3       suburban    27   185.2815                355611.15 \n",
       "10 3       urban       13   119.5615               1298835.85 \n",
       "   ave_highrisk_agegroup_perc\n",
       "1  0.1935420                 \n",
       "2  0.1758847                 \n",
       "3  0.1599914                 \n",
       "4  0.1138086                 \n",
       "5  0.1589736                 \n",
       "6  0.1376732                 \n",
       "7  0.1847879                 \n",
       "8  0.1655664                 \n",
       "9  0.1383516                 \n",
       "10 0.1414309                 "
      ]
     },
     "metadata": {},
     "output_type": "display_data"
    },
    {
     "data": {
      "text/plain": [
       "Importance of components:\n",
       "                         PC1    PC2     PC3     PC4     PC5     PC6     PC7\n",
       "Standard deviation     2.851 2.0795 1.56107 1.45509 1.31873 1.20157 1.16285\n",
       "Proportion of Variance 0.301 0.1602 0.09026 0.07842 0.06441 0.05347 0.05008\n",
       "Cumulative Proportion  0.301 0.4612 0.55140 0.62982 0.69423 0.74770 0.79779\n",
       "                          PC8     PC9    PC10    PC11    PC12    PC13    PC14\n",
       "Standard deviation     1.0495 0.95751 0.85663 0.73750 0.71328 0.60950 0.56516\n",
       "Proportion of Variance 0.0408 0.03396 0.02718 0.02014 0.01884 0.01376 0.01183\n",
       "Cumulative Proportion  0.8386 0.87254 0.89972 0.91986 0.93871 0.95247 0.96430\n",
       "                          PC15    PC16    PC17   PC18   PC19    PC20    PC21\n",
       "Standard deviation     0.55914 0.48379 0.40542 0.2597 0.2548 0.21312 0.19808\n",
       "Proportion of Variance 0.01158 0.00867 0.00609 0.0025 0.0024 0.00168 0.00145\n",
       "Cumulative Proportion  0.97588 0.98454 0.99063 0.9931 0.9955 0.99722 0.99867\n",
       "                          PC22     PC23      PC24      PC25      PC26      PC27\n",
       "Standard deviation     0.18947 0.004864 1.283e-15 1.266e-15 8.145e-16 5.659e-16\n",
       "Proportion of Variance 0.00133 0.000000 0.000e+00 0.000e+00 0.000e+00 0.000e+00\n",
       "Cumulative Proportion  1.00000 1.000000 1.000e+00 1.000e+00 1.000e+00 1.000e+00"
      ]
     },
     "metadata": {},
     "output_type": "display_data"
    },
    {
     "data": {
      "image/png": "iVBORw0KGgoAAAANSUhEUgAAAeAAAAHgCAMAAABKCk6nAAAAQlBMVEUAAAAAujgzMzNNTU1h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\nBxGoiacpW5C+AAAAAElFTkSuQmCC",
      "text/plain": [
       "plot without title"
      ]
     },
     "metadata": {},
     "output_type": "display_data"
    },
    {
     "name": "stderr",
     "output_type": "stream",
     "text": [
      "Saving 6.67 x 6.67 in image\n"
     ]
    },
    {
     "data": {
      "image/png": "iVBORw0KGgoAAAANSUhEUgAAAeAAAAHgCAMAAABKCk6nAAAAllBMVEUAAAAADBQAc8IODg4O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\nAAAAAElFTkSuQmCC",
      "text/plain": [
       "plot without title"
      ]
     },
     "metadata": {},
     "output_type": "display_data"
    }
   ],
   "source": [
    "# k means\n",
    "# k = 3\n",
    "\n",
    "selected_column_indices <- c(4:8,11:16)\n",
    "num_clusters <- 3 #try some number\n",
    "\n",
    "jail_county_demographics_filtered_df_dropna <- drop_na(jail_county_demographics_filtered_df)\n",
    "\n",
    "#opt_k <- fviz_nbclust(jail_county_demographics_filtered_df_dropna[ , selected_column_indices], kmeans, method = \"gap_stat\")\n",
    "\n",
    "set.seed(42)\n",
    "km <- kmeans(scale(jail_county_demographics_filtered_df_dropna[ , selected_column_indices]), num_clusters )\n",
    "jail_county_demographics_filtered_df_dropna$cluster <- as.factor(km$cluster)\n",
    "#write.csv(jail_county_demographics_filtered_df_dropna, 'jail_county_demographics_clustered_4means.csv', row.names=FALSE)\n",
    "\n",
    "\n",
    "# get a sense of the clusters\n",
    "options(repr.plot.width=4)\n",
    "ggplot(jail_county_demographics_filtered_df_dropna, \n",
    "       aes( x = highrisk_agegroup_perc, y = population_density, color = cluster) ) + \n",
    "            geom_point()\n",
    "\n",
    "jail_county_demographics_filtered_df_dropna %>%\n",
    "    group_by( cluster ) %>%\n",
    "    summarize( count = n(),\n",
    "             ave_incarceration_rate = mean(jail_incarceration_rate_per_100k),\n",
    "             ave_jail_pop = mean(jail_population),\n",
    "             ave_res_pop = mean(resident_population),\n",
    "             ave_highrisk_agegroup_perc = mean(highrisk_agegroup_perc))\n",
    "\n",
    "jail_county_demographics_filtered_df_dropna %>%\n",
    "    group_by( cluster, urbanicity ) %>%\n",
    "    summarize( count = n(),\n",
    "             ave_incarceration_rate = mean(jail_incarceration_rate_per_100k),\n",
    "             ave_res_pop = mean(resident_population),\n",
    "             ave_highrisk_agegroup_perc = mean(highrisk_agegroup_perc))\n",
    "\n",
    "# pca to see clusters\n",
    "#pca\n",
    "data <- jail_county_demographics_filtered_df_dropna\n",
    "selected_column_indices <- c(4:8,10:31)\n",
    "\n",
    "pca <- prcomp(data[ , selected_column_indices], center = TRUE, scale = TRUE)\n",
    "summary(pca)\n",
    "\n",
    "# principal components + clusters\n",
    "plot <- fviz_pca_ind(pca, geom.ind = \"point\", pointshape = 21, \n",
    "             pointsize = 2, \n",
    "             fill.ind = data$cluster, \n",
    "             col.ind = \"black\", \n",
    "             palette = \"jco\", \n",
    "             addEllipses = TRUE,\n",
    "             label = \"var\",\n",
    "             col.var = \"black\",\n",
    "             repel = TRUE,\n",
    "             legend.title = \"Cluster\") +\n",
    "  theme(plot.title = element_text(hjust = 0.5))\n",
    "plot \n",
    "#ggsave('3clusterpca.png', plot)"
   ]
  },
  {
   "cell_type": "code",
   "execution_count": 169,
   "metadata": {
    "scrolled": true
   },
   "outputs": [
    {
     "data": {
      "image/png": "iVBORw0KGgoAAAANSUhEUgAAAeAAAAHgCAMAAABKCk6nAAAAM1BMVEUAAABNTU1oaGh8fHyM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\nCgaHgsGhYHAoGBwKBoeCwaFgcCgYnP9X6h5tVbVTnQAAAABJRU5ErkJggg==",
      "text/plain": [
       "Plot with title \"Screeplot of the first 10 PCs\""
      ]
     },
     "metadata": {},
     "output_type": "display_data"
    },
    {
     "data": {
      "image/png": "iVBORw0KGgoAAAANSUhEUgAAAeAAAAHgCAMAAABKCk6nAAAAM1BMVEUAAAAAAP9NTU1oaGh8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\nRU5ErkJggg==",
      "text/plain": [
       "Plot with title \"Cumulative variance plot\""
      ]
     },
     "metadata": {},
     "output_type": "display_data"
    }
   ],
   "source": [
    "# more on pca\n",
    "\n",
    "# initial plots\n",
    "#plot(pca$x[,1],pca$x[,2], xlab=\"PC1 (29.9%)\", ylab = \"PC2 (17.8%)\", main = \"PC1 / PC2 - plot\")\n",
    "\n",
    "#scree plots\n",
    "screeplot(pca, type = \"l\", npcs = 15, main = \"Screeplot of the first 10 PCs\")\n",
    "abline(h = 1, col=\"red\", lty=5)\n",
    "legend(\"topright\", legend=c(\"Eigenvalue = 1\"),\n",
    "       col=c(\"red\"), lty=5, cex=0.6)\n",
    "cumpro <- cumsum(pca$sdev^2 / sum(pca$sdev^2))\n",
    "plot(cumpro[0:15], xlab = \"PC #\", ylab = \"Amount of explained variance\", main = \"Cumulative variance plot\")\n",
    "abline(v = 8, col=\"blue\", lty=5)\n",
    "abline(h = 0.845, col=\"blue\", lty=5)\n",
    "legend(\"topleft\", legend=c(\"Cut-off @ PC8\"),\n",
    "       col=c(\"blue\"), lty=5, cex=0.6)"
   ]
  },
  {
   "cell_type": "code",
   "execution_count": 175,
   "metadata": {
    "scrolled": true
   },
   "outputs": [
    {
     "data": {
      "text/html": [
       "<table>\n",
       "<thead><tr><th scope=col>cluster</th><th scope=col>count</th><th scope=col>ave_incarceration_rate</th><th scope=col>ave_jail_pop</th><th scope=col>ave_res_pop</th><th scope=col>ave_highrisk_agegroup_perc</th></tr></thead>\n",
       "<tbody>\n",
       "\t<tr><td>1         </td><td>140       </td><td>181.59143 </td><td>  82.97857</td><td>  46244.93</td><td>0.2548209 </td></tr>\n",
       "\t<tr><td>2         </td><td>266       </td><td>212.91842 </td><td> 410.70301</td><td> 263109.65</td><td>0.1341650 </td></tr>\n",
       "\t<tr><td>3         </td><td>553       </td><td>268.90235 </td><td> 145.97288</td><td>  78645.64</td><td>0.1831813 </td></tr>\n",
       "\t<tr><td>4         </td><td> 12       </td><td> 83.33333 </td><td>2955.75000</td><td>2956303.75</td><td>0.1471266 </td></tr>\n",
       "</tbody>\n",
       "</table>\n"
      ],
      "text/latex": [
       "\\begin{tabular}{r|llllll}\n",
       " cluster & count & ave\\_incarceration\\_rate & ave\\_jail\\_pop & ave\\_res\\_pop & ave\\_highrisk\\_agegroup\\_perc\\\\\n",
       "\\hline\n",
       "\t 1          & 140        & 181.59143  &   82.97857 &   46244.93 & 0.2548209 \\\\\n",
       "\t 2          & 266        & 212.91842  &  410.70301 &  263109.65 & 0.1341650 \\\\\n",
       "\t 3          & 553        & 268.90235  &  145.97288 &   78645.64 & 0.1831813 \\\\\n",
       "\t 4          &  12        &  83.33333  & 2955.75000 & 2956303.75 & 0.1471266 \\\\\n",
       "\\end{tabular}\n"
      ],
      "text/markdown": [
       "\n",
       "| cluster | count | ave_incarceration_rate | ave_jail_pop | ave_res_pop | ave_highrisk_agegroup_perc |\n",
       "|---|---|---|---|---|---|\n",
       "| 1          | 140        | 181.59143  |   82.97857 |   46244.93 | 0.2548209  |\n",
       "| 2          | 266        | 212.91842  |  410.70301 |  263109.65 | 0.1341650  |\n",
       "| 3          | 553        | 268.90235  |  145.97288 |   78645.64 | 0.1831813  |\n",
       "| 4          |  12        |  83.33333  | 2955.75000 | 2956303.75 | 0.1471266  |\n",
       "\n"
      ],
      "text/plain": [
       "  cluster count ave_incarceration_rate ave_jail_pop ave_res_pop\n",
       "1 1       140   181.59143                82.97857     46244.93 \n",
       "2 2       266   212.91842               410.70301    263109.65 \n",
       "3 3       553   268.90235               145.97288     78645.64 \n",
       "4 4        12    83.33333              2955.75000   2956303.75 \n",
       "  ave_highrisk_agegroup_perc\n",
       "1 0.2548209                 \n",
       "2 0.1341650                 \n",
       "3 0.1831813                 \n",
       "4 0.1471266                 "
      ]
     },
     "metadata": {},
     "output_type": "display_data"
    },
    {
     "data": {
      "text/html": [
       "<table>\n",
       "<thead><tr><th scope=col>cluster</th><th scope=col>urbanicity</th><th scope=col>count</th><th scope=col>ave_incarceration_rate</th><th scope=col>ave_res_pop</th><th scope=col>ave_highrisk_agegroup_perc</th></tr></thead>\n",
       "<tbody>\n",
       "\t<tr><td>1         </td><td>rural     </td><td>109       </td><td>175.86514 </td><td>  29229.49</td><td>0.2510332 </td></tr>\n",
       "\t<tr><td>1         </td><td>small/mid </td><td> 25       </td><td>213.82000 </td><td> 103033.60</td><td>0.2774696 </td></tr>\n",
       "\t<tr><td>1         </td><td>suburban  </td><td>  6       </td><td>151.33333 </td><td> 118739.33</td><td>0.2292599 </td></tr>\n",
       "\t<tr><td>2         </td><td>rural     </td><td> 93       </td><td>246.89355 </td><td>  31421.99</td><td>0.1396095 </td></tr>\n",
       "\t<tr><td>2         </td><td>small/mid </td><td> 99       </td><td>232.82020 </td><td> 232453.48</td><td>0.1337359 </td></tr>\n",
       "\t<tr><td>2         </td><td>suburban  </td><td> 57       </td><td>149.48947 </td><td> 356095.05</td><td>0.1281207 </td></tr>\n",
       "\t<tr><td>2         </td><td>urban     </td><td> 17       </td><td>123.82941 </td><td>1397330.00</td><td>0.1271446 </td></tr>\n",
       "\t<tr><td>3         </td><td>rural     </td><td>298       </td><td>311.69765 </td><td>  33007.04</td><td>0.1873470 </td></tr>\n",
       "\t<tr><td>3         </td><td>small/mid </td><td>178       </td><td>218.37135 </td><td> 121223.43</td><td>0.1815814 </td></tr>\n",
       "\t<tr><td>3         </td><td>suburban  </td><td> 75       </td><td>223.31733 </td><td> 132565.63</td><td>0.1703980 </td></tr>\n",
       "\t<tr><td>3         </td><td>urban     </td><td>  2       </td><td> 99.10000 </td><td>1067373.50</td><td>0.1842663 </td></tr>\n",
       "\t<tr><td>4         </td><td>suburban  </td><td>  3       </td><td> 33.33333 </td><td>1125436.33</td><td>0.1703780 </td></tr>\n",
       "\t<tr><td>4         </td><td>urban     </td><td>  9       </td><td>100.00000 </td><td>3566592.89</td><td>0.1393762 </td></tr>\n",
       "</tbody>\n",
       "</table>\n"
      ],
      "text/latex": [
       "\\begin{tabular}{r|llllll}\n",
       " cluster & urbanicity & count & ave\\_incarceration\\_rate & ave\\_res\\_pop & ave\\_highrisk\\_agegroup\\_perc\\\\\n",
       "\\hline\n",
       "\t 1          & rural      & 109        & 175.86514  &   29229.49 & 0.2510332 \\\\\n",
       "\t 1          & small/mid  &  25        & 213.82000  &  103033.60 & 0.2774696 \\\\\n",
       "\t 1          & suburban   &   6        & 151.33333  &  118739.33 & 0.2292599 \\\\\n",
       "\t 2          & rural      &  93        & 246.89355  &   31421.99 & 0.1396095 \\\\\n",
       "\t 2          & small/mid  &  99        & 232.82020  &  232453.48 & 0.1337359 \\\\\n",
       "\t 2          & suburban   &  57        & 149.48947  &  356095.05 & 0.1281207 \\\\\n",
       "\t 2          & urban      &  17        & 123.82941  & 1397330.00 & 0.1271446 \\\\\n",
       "\t 3          & rural      & 298        & 311.69765  &   33007.04 & 0.1873470 \\\\\n",
       "\t 3          & small/mid  & 178        & 218.37135  &  121223.43 & 0.1815814 \\\\\n",
       "\t 3          & suburban   &  75        & 223.31733  &  132565.63 & 0.1703980 \\\\\n",
       "\t 3          & urban      &   2        &  99.10000  & 1067373.50 & 0.1842663 \\\\\n",
       "\t 4          & suburban   &   3        &  33.33333  & 1125436.33 & 0.1703780 \\\\\n",
       "\t 4          & urban      &   9        & 100.00000  & 3566592.89 & 0.1393762 \\\\\n",
       "\\end{tabular}\n"
      ],
      "text/markdown": [
       "\n",
       "| cluster | urbanicity | count | ave_incarceration_rate | ave_res_pop | ave_highrisk_agegroup_perc |\n",
       "|---|---|---|---|---|---|\n",
       "| 1          | rural      | 109        | 175.86514  |   29229.49 | 0.2510332  |\n",
       "| 1          | small/mid  |  25        | 213.82000  |  103033.60 | 0.2774696  |\n",
       "| 1          | suburban   |   6        | 151.33333  |  118739.33 | 0.2292599  |\n",
       "| 2          | rural      |  93        | 246.89355  |   31421.99 | 0.1396095  |\n",
       "| 2          | small/mid  |  99        | 232.82020  |  232453.48 | 0.1337359  |\n",
       "| 2          | suburban   |  57        | 149.48947  |  356095.05 | 0.1281207  |\n",
       "| 2          | urban      |  17        | 123.82941  | 1397330.00 | 0.1271446  |\n",
       "| 3          | rural      | 298        | 311.69765  |   33007.04 | 0.1873470  |\n",
       "| 3          | small/mid  | 178        | 218.37135  |  121223.43 | 0.1815814  |\n",
       "| 3          | suburban   |  75        | 223.31733  |  132565.63 | 0.1703980  |\n",
       "| 3          | urban      |   2        |  99.10000  | 1067373.50 | 0.1842663  |\n",
       "| 4          | suburban   |   3        |  33.33333  | 1125436.33 | 0.1703780  |\n",
       "| 4          | urban      |   9        | 100.00000  | 3566592.89 | 0.1393762  |\n",
       "\n"
      ],
      "text/plain": [
       "   cluster urbanicity count ave_incarceration_rate ave_res_pop\n",
       "1  1       rural      109   175.86514                29229.49 \n",
       "2  1       small/mid   25   213.82000               103033.60 \n",
       "3  1       suburban     6   151.33333               118739.33 \n",
       "4  2       rural       93   246.89355                31421.99 \n",
       "5  2       small/mid   99   232.82020               232453.48 \n",
       "6  2       suburban    57   149.48947               356095.05 \n",
       "7  2       urban       17   123.82941              1397330.00 \n",
       "8  3       rural      298   311.69765                33007.04 \n",
       "9  3       small/mid  178   218.37135               121223.43 \n",
       "10 3       suburban    75   223.31733               132565.63 \n",
       "11 3       urban        2    99.10000              1067373.50 \n",
       "12 4       suburban     3    33.33333              1125436.33 \n",
       "13 4       urban        9   100.00000              3566592.89 \n",
       "   ave_highrisk_agegroup_perc\n",
       "1  0.2510332                 \n",
       "2  0.2774696                 \n",
       "3  0.2292599                 \n",
       "4  0.1396095                 \n",
       "5  0.1337359                 \n",
       "6  0.1281207                 \n",
       "7  0.1271446                 \n",
       "8  0.1873470                 \n",
       "9  0.1815814                 \n",
       "10 0.1703980                 \n",
       "11 0.1842663                 \n",
       "12 0.1703780                 \n",
       "13 0.1393762                 "
      ]
     },
     "metadata": {},
     "output_type": "display_data"
    },
    {
     "data": {
      "image/png": "iVBORw0KGgoAAAANSUhEUgAAAeAAAAHgCAMAAABKCk6nAAAARVBMVEUAAAAAv8QzMzNNTU1o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\nAAAASUVORK5CYII=",
      "text/plain": [
       "plot without title"
      ]
     },
     "metadata": {},
     "output_type": "display_data"
    },
    {
     "name": "stderr",
     "output_type": "stream",
     "text": [
      "Saving 6.67 x 6.67 in image\n"
     ]
    },
    {
     "data": {
      "image/png": "iVBORw0KGgoAAAANSUhEUgAAAeAAAAHgCAMAAABKCk6nAAAAmVBMVEUAAAAADBQAc8IOGCAO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\nIw8CRx4EjjwIHHkQOPIgcORB4Mjz/9CAsIxNNeBfAAAAAElFTkSuQmCC",
      "text/plain": [
       "plot without title"
      ]
     },
     "metadata": {},
     "output_type": "display_data"
    }
   ],
   "source": [
    "# k = 4\n",
    "\n",
    "selected_column_indices <- c(4:8,10:31)\n",
    "num_clusters <- 4 #try some number\n",
    "\n",
    "jail_county_demographics_filtered_df_dropna <- drop_na(jail_county_demographics_filtered_df)\n",
    "\n",
    "#opt_k <- fviz_nbclust(jail_county_demographics_filtered_df_dropna[ , selected_column_indices], kmeans, method = \"gap_stat\")\n",
    "\n",
    "set.seed(42)\n",
    "km <- kmeans(scale(jail_county_demographics_filtered_df_dropna[ , selected_column_indices]), num_clusters )\n",
    "jail_county_demographics_filtered_df_dropna$cluster <- as.factor(km$cluster)\n",
    "#write.csv(jail_county_demographics_filtered_df_dropna, 'jail_county_demographics_clustered_4means.csv', row.names=FALSE)\n",
    "\n",
    "\n",
    "# get a sense of the clusters\n",
    "options(repr.plot.width=4)\n",
    "ggplot(jail_county_demographics_filtered_df_dropna, \n",
    "       aes( x = highrisk_agegroup_perc, y = population_density, color = cluster) ) + \n",
    "            geom_point()\n",
    "\n",
    "jail_county_demographics_filtered_df_dropna %>%\n",
    "    group_by( cluster ) %>%\n",
    "    summarize( count = n(),\n",
    "             ave_incarceration_rate = mean(jail_incarceration_rate_per_100k),\n",
    "             ave_jail_pop = mean(jail_population),\n",
    "             ave_res_pop = mean(resident_population),\n",
    "             ave_highrisk_agegroup_perc = mean(highrisk_agegroup_perc))\n",
    "\n",
    "jail_county_demographics_filtered_df_dropna %>%\n",
    "    group_by( cluster, urbanicity ) %>%\n",
    "    summarize( count = n(),\n",
    "             ave_incarceration_rate = mean(jail_incarceration_rate_per_100k),\n",
    "             ave_res_pop = mean(resident_population),\n",
    "             ave_highrisk_agegroup_perc = mean(highrisk_agegroup_perc))\n",
    "\n",
    "#pca\n",
    "data <- jail_county_demographics_filtered_df_dropna\n",
    "#pca <- prcomp(data[ , selected_column_indices], center = TRUE, scale = TRUE)\n",
    "#summary(pca)\n",
    "\n",
    "# principal components + clusters\n",
    "plot <- fviz_pca_ind(pca, geom.ind = \"point\", pointshape = 21, \n",
    "             pointsize = 2, \n",
    "             fill.ind = data$cluster, \n",
    "             col.ind = \"black\", \n",
    "             palette = \"jco\", \n",
    "             addEllipses = TRUE,\n",
    "             label = \"var\",\n",
    "             col.var = \"black\",\n",
    "             repel = TRUE,\n",
    "             legend.title = \"Cluster\") +\n",
    "  theme(plot.title = element_text(hjust = 0.5))\n",
    "plot\n",
    "#ggsave('4clusterpca.png', plot)"
   ]
  },
  {
   "cell_type": "code",
   "execution_count": 176,
   "metadata": {
    "scrolled": true
   },
   "outputs": [
    {
     "data": {
      "text/html": [
       "<table>\n",
       "<thead><tr><th scope=col>cluster</th><th scope=col>count</th><th scope=col>ave_incarceration_rate</th><th scope=col>ave_jail_pop</th><th scope=col>ave_res_pop</th><th scope=col>ave_highrisk_agegroup_perc</th></tr></thead>\n",
       "<tbody>\n",
       "\t<tr><td>1        </td><td>120      </td><td>184.5675 </td><td> 86.18333</td><td> 46187.58</td><td>0.2603560</td></tr>\n",
       "\t<tr><td>2        </td><td>184      </td><td>197.1266 </td><td>659.78804</td><td>486663.04</td><td>0.1309805</td></tr>\n",
       "\t<tr><td>3        </td><td>493      </td><td>252.4696 </td><td>134.15822</td><td> 75804.13</td><td>0.1843947</td></tr>\n",
       "\t<tr><td>4        </td><td>129      </td><td>290.5512 </td><td>271.24031</td><td>162970.09</td><td>0.1700520</td></tr>\n",
       "\t<tr><td>5        </td><td> 45      </td><td>253.2022 </td><td> 92.95556</td><td> 43223.38</td><td>0.1386927</td></tr>\n",
       "</tbody>\n",
       "</table>\n"
      ],
      "text/latex": [
       "\\begin{tabular}{r|llllll}\n",
       " cluster & count & ave\\_incarceration\\_rate & ave\\_jail\\_pop & ave\\_res\\_pop & ave\\_highrisk\\_agegroup\\_perc\\\\\n",
       "\\hline\n",
       "\t 1         & 120       & 184.5675  &  86.18333 &  46187.58 & 0.2603560\\\\\n",
       "\t 2         & 184       & 197.1266  & 659.78804 & 486663.04 & 0.1309805\\\\\n",
       "\t 3         & 493       & 252.4696  & 134.15822 &  75804.13 & 0.1843947\\\\\n",
       "\t 4         & 129       & 290.5512  & 271.24031 & 162970.09 & 0.1700520\\\\\n",
       "\t 5         &  45       & 253.2022  &  92.95556 &  43223.38 & 0.1386927\\\\\n",
       "\\end{tabular}\n"
      ],
      "text/markdown": [
       "\n",
       "| cluster | count | ave_incarceration_rate | ave_jail_pop | ave_res_pop | ave_highrisk_agegroup_perc |\n",
       "|---|---|---|---|---|---|\n",
       "| 1         | 120       | 184.5675  |  86.18333 |  46187.58 | 0.2603560 |\n",
       "| 2         | 184       | 197.1266  | 659.78804 | 486663.04 | 0.1309805 |\n",
       "| 3         | 493       | 252.4696  | 134.15822 |  75804.13 | 0.1843947 |\n",
       "| 4         | 129       | 290.5512  | 271.24031 | 162970.09 | 0.1700520 |\n",
       "| 5         |  45       | 253.2022  |  92.95556 |  43223.38 | 0.1386927 |\n",
       "\n"
      ],
      "text/plain": [
       "  cluster count ave_incarceration_rate ave_jail_pop ave_res_pop\n",
       "1 1       120   184.5675                86.18333     46187.58  \n",
       "2 2       184   197.1266               659.78804    486663.04  \n",
       "3 3       493   252.4696               134.15822     75804.13  \n",
       "4 4       129   290.5512               271.24031    162970.09  \n",
       "5 5        45   253.2022                92.95556     43223.38  \n",
       "  ave_highrisk_agegroup_perc\n",
       "1 0.2603560                 \n",
       "2 0.1309805                 \n",
       "3 0.1843947                 \n",
       "4 0.1700520                 \n",
       "5 0.1386927                 "
      ]
     },
     "metadata": {},
     "output_type": "display_data"
    },
    {
     "data": {
      "text/html": [
       "<table>\n",
       "<thead><tr><th scope=col>cluster</th><th scope=col>urbanicity</th><th scope=col>count</th><th scope=col>ave_incarceration_rate</th><th scope=col>ave_res_pop</th><th scope=col>ave_highrisk_agegroup_perc</th></tr></thead>\n",
       "<tbody>\n",
       "\t<tr><td>1         </td><td>rural     </td><td> 95       </td><td>174.1716  </td><td>  30553.86</td><td>0.2552742 </td></tr>\n",
       "\t<tr><td>1         </td><td>small/mid </td><td> 22       </td><td>228.7727  </td><td> 115593.41</td><td>0.2848198 </td></tr>\n",
       "\t<tr><td>1         </td><td>suburban  </td><td>  3       </td><td>189.6000  </td><td>  32279.33</td><td>0.2418810 </td></tr>\n",
       "\t<tr><td>2         </td><td>rural     </td><td> 49       </td><td>279.5510  </td><td>  31113.78</td><td>0.1346878 </td></tr>\n",
       "\t<tr><td>2         </td><td>small/mid </td><td> 65       </td><td>201.3646  </td><td> 268930.57</td><td>0.1317168 </td></tr>\n",
       "\t<tr><td>2         </td><td>suburban  </td><td> 47       </td><td>144.4170  </td><td> 380720.91</td><td>0.1270597 </td></tr>\n",
       "\t<tr><td>2         </td><td>urban     </td><td> 23       </td><td>117.2609  </td><td>2289002.39</td><td>0.1290134 </td></tr>\n",
       "\t<tr><td>3         </td><td>rural     </td><td>268       </td><td>291.0119  </td><td>  33560.56</td><td>0.1888251 </td></tr>\n",
       "\t<tr><td>3         </td><td>small/mid </td><td>154       </td><td>204.3818  </td><td> 122185.14</td><td>0.1821204 </td></tr>\n",
       "\t<tr><td>3         </td><td>suburban  </td><td> 70       </td><td>212.2943  </td><td> 119209.30</td><td>0.1723691 </td></tr>\n",
       "\t<tr><td>3         </td><td>urban     </td><td>  1       </td><td>140.9000  </td><td>1216045.00</td><td>0.1890735 </td></tr>\n",
       "\t<tr><td>4         </td><td>rural     </td><td> 55       </td><td>351.0927  </td><td>  30962.11</td><td>0.1805931 </td></tr>\n",
       "\t<tr><td>4         </td><td>small/mid </td><td> 50       </td><td>281.4560  </td><td> 144254.06</td><td>0.1659890 </td></tr>\n",
       "\t<tr><td>4         </td><td>suburban  </td><td> 20       </td><td>186.6400  </td><td> 399096.45</td><td>0.1538323 </td></tr>\n",
       "\t<tr><td>4         </td><td>urban     </td><td>  4       </td><td> 91.3500  </td><td>1031398.25</td><td>0.1569989 </td></tr>\n",
       "\t<tr><td>5         </td><td>rural     </td><td> 33       </td><td>226.3848  </td><td>  24849.03</td><td>0.1450671 </td></tr>\n",
       "\t<tr><td>5         </td><td>small/mid </td><td> 11       </td><td>326.8636  </td><td> 101250.00</td><td>0.1204053 </td></tr>\n",
       "\t<tr><td>5         </td><td>suburban  </td><td>  1       </td><td>327.9000  </td><td>  11284.00</td><td>0.1294951 </td></tr>\n",
       "</tbody>\n",
       "</table>\n"
      ],
      "text/latex": [
       "\\begin{tabular}{r|llllll}\n",
       " cluster & urbanicity & count & ave\\_incarceration\\_rate & ave\\_res\\_pop & ave\\_highrisk\\_agegroup\\_perc\\\\\n",
       "\\hline\n",
       "\t 1          & rural      &  95        & 174.1716   &   30553.86 & 0.2552742 \\\\\n",
       "\t 1          & small/mid  &  22        & 228.7727   &  115593.41 & 0.2848198 \\\\\n",
       "\t 1          & suburban   &   3        & 189.6000   &   32279.33 & 0.2418810 \\\\\n",
       "\t 2          & rural      &  49        & 279.5510   &   31113.78 & 0.1346878 \\\\\n",
       "\t 2          & small/mid  &  65        & 201.3646   &  268930.57 & 0.1317168 \\\\\n",
       "\t 2          & suburban   &  47        & 144.4170   &  380720.91 & 0.1270597 \\\\\n",
       "\t 2          & urban      &  23        & 117.2609   & 2289002.39 & 0.1290134 \\\\\n",
       "\t 3          & rural      & 268        & 291.0119   &   33560.56 & 0.1888251 \\\\\n",
       "\t 3          & small/mid  & 154        & 204.3818   &  122185.14 & 0.1821204 \\\\\n",
       "\t 3          & suburban   &  70        & 212.2943   &  119209.30 & 0.1723691 \\\\\n",
       "\t 3          & urban      &   1        & 140.9000   & 1216045.00 & 0.1890735 \\\\\n",
       "\t 4          & rural      &  55        & 351.0927   &   30962.11 & 0.1805931 \\\\\n",
       "\t 4          & small/mid  &  50        & 281.4560   &  144254.06 & 0.1659890 \\\\\n",
       "\t 4          & suburban   &  20        & 186.6400   &  399096.45 & 0.1538323 \\\\\n",
       "\t 4          & urban      &   4        &  91.3500   & 1031398.25 & 0.1569989 \\\\\n",
       "\t 5          & rural      &  33        & 226.3848   &   24849.03 & 0.1450671 \\\\\n",
       "\t 5          & small/mid  &  11        & 326.8636   &  101250.00 & 0.1204053 \\\\\n",
       "\t 5          & suburban   &   1        & 327.9000   &   11284.00 & 0.1294951 \\\\\n",
       "\\end{tabular}\n"
      ],
      "text/markdown": [
       "\n",
       "| cluster | urbanicity | count | ave_incarceration_rate | ave_res_pop | ave_highrisk_agegroup_perc |\n",
       "|---|---|---|---|---|---|\n",
       "| 1          | rural      |  95        | 174.1716   |   30553.86 | 0.2552742  |\n",
       "| 1          | small/mid  |  22        | 228.7727   |  115593.41 | 0.2848198  |\n",
       "| 1          | suburban   |   3        | 189.6000   |   32279.33 | 0.2418810  |\n",
       "| 2          | rural      |  49        | 279.5510   |   31113.78 | 0.1346878  |\n",
       "| 2          | small/mid  |  65        | 201.3646   |  268930.57 | 0.1317168  |\n",
       "| 2          | suburban   |  47        | 144.4170   |  380720.91 | 0.1270597  |\n",
       "| 2          | urban      |  23        | 117.2609   | 2289002.39 | 0.1290134  |\n",
       "| 3          | rural      | 268        | 291.0119   |   33560.56 | 0.1888251  |\n",
       "| 3          | small/mid  | 154        | 204.3818   |  122185.14 | 0.1821204  |\n",
       "| 3          | suburban   |  70        | 212.2943   |  119209.30 | 0.1723691  |\n",
       "| 3          | urban      |   1        | 140.9000   | 1216045.00 | 0.1890735  |\n",
       "| 4          | rural      |  55        | 351.0927   |   30962.11 | 0.1805931  |\n",
       "| 4          | small/mid  |  50        | 281.4560   |  144254.06 | 0.1659890  |\n",
       "| 4          | suburban   |  20        | 186.6400   |  399096.45 | 0.1538323  |\n",
       "| 4          | urban      |   4        |  91.3500   | 1031398.25 | 0.1569989  |\n",
       "| 5          | rural      |  33        | 226.3848   |   24849.03 | 0.1450671  |\n",
       "| 5          | small/mid  |  11        | 326.8636   |  101250.00 | 0.1204053  |\n",
       "| 5          | suburban   |   1        | 327.9000   |   11284.00 | 0.1294951  |\n",
       "\n"
      ],
      "text/plain": [
       "   cluster urbanicity count ave_incarceration_rate ave_res_pop\n",
       "1  1       rural       95   174.1716                 30553.86 \n",
       "2  1       small/mid   22   228.7727                115593.41 \n",
       "3  1       suburban     3   189.6000                 32279.33 \n",
       "4  2       rural       49   279.5510                 31113.78 \n",
       "5  2       small/mid   65   201.3646                268930.57 \n",
       "6  2       suburban    47   144.4170                380720.91 \n",
       "7  2       urban       23   117.2609               2289002.39 \n",
       "8  3       rural      268   291.0119                 33560.56 \n",
       "9  3       small/mid  154   204.3818                122185.14 \n",
       "10 3       suburban    70   212.2943                119209.30 \n",
       "11 3       urban        1   140.9000               1216045.00 \n",
       "12 4       rural       55   351.0927                 30962.11 \n",
       "13 4       small/mid   50   281.4560                144254.06 \n",
       "14 4       suburban    20   186.6400                399096.45 \n",
       "15 4       urban        4    91.3500               1031398.25 \n",
       "16 5       rural       33   226.3848                 24849.03 \n",
       "17 5       small/mid   11   326.8636                101250.00 \n",
       "18 5       suburban     1   327.9000                 11284.00 \n",
       "   ave_highrisk_agegroup_perc\n",
       "1  0.2552742                 \n",
       "2  0.2848198                 \n",
       "3  0.2418810                 \n",
       "4  0.1346878                 \n",
       "5  0.1317168                 \n",
       "6  0.1270597                 \n",
       "7  0.1290134                 \n",
       "8  0.1888251                 \n",
       "9  0.1821204                 \n",
       "10 0.1723691                 \n",
       "11 0.1890735                 \n",
       "12 0.1805931                 \n",
       "13 0.1659890                 \n",
       "14 0.1538323                 \n",
       "15 0.1569989                 \n",
       "16 0.1450671                 \n",
       "17 0.1204053                 \n",
       "18 0.1294951                 "
      ]
     },
     "metadata": {},
     "output_type": "display_data"
    },
    {
     "data": {
      "image/png": "iVBORw0KGgoAAAANSUhEUgAAAeAAAAHgCAMAAABKCk6nAAAASFBMVEUAAAAAsPYAv30zMzNN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\nSUVORK5CYII=",
      "text/plain": [
       "plot without title"
      ]
     },
     "metadata": {},
     "output_type": "display_data"
    },
    {
     "name": "stderr",
     "output_type": "stream",
     "text": [
      "Saving 6.67 x 6.67 in image\n"
     ]
    },
    {
     "data": {
      "image/png": "iVBORw0KGgoAAAANSUhEUgAAAeAAAAHgCAMAAABKCk6nAAAA6lBMVEUAAAAADBQAc8IMERYV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\n",
      "text/plain": [
       "plot without title"
      ]
     },
     "metadata": {},
     "output_type": "display_data"
    }
   ],
   "source": [
    "# k = 5\n",
    "\n",
    "selected_column_indices <- c(4:8,10:31)\n",
    "num_clusters <- 5 \n",
    "\n",
    "jail_county_demographics_filtered_df_dropna <- drop_na(jail_county_demographics_filtered_df)\n",
    "\n",
    "set.seed(42)\n",
    "km <- kmeans(scale(jail_county_demographics_filtered_df_dropna[ , selected_column_indices]), num_clusters )\n",
    "jail_county_demographics_filtered_df_dropna$cluster <- as.factor(km$cluster)\n",
    "#write.csv(jail_county_demographics_filtered_df_dropna, 'jail_county_demographics_clustered_4means.csv', row.names=FALSE)\n",
    "\n",
    "\n",
    "# get a sense of the clusters\n",
    "options(repr.plot.width=4)\n",
    "ggplot(jail_county_demographics_filtered_df_dropna, \n",
    "       aes( x = highrisk_agegroup_perc, y = population_density, color = cluster) ) + \n",
    "            geom_point()\n",
    "\n",
    "jail_county_demographics_filtered_df_dropna %>%\n",
    "    group_by( cluster ) %>%\n",
    "    summarize( count = n(),\n",
    "             ave_incarceration_rate = mean(jail_incarceration_rate_per_100k),\n",
    "             ave_jail_pop = mean(jail_population),\n",
    "             ave_res_pop = mean(resident_population),\n",
    "             ave_highrisk_agegroup_perc = mean(highrisk_agegroup_perc))\n",
    "\n",
    "jail_county_demographics_filtered_df_dropna %>%\n",
    "    group_by( cluster, urbanicity ) %>%\n",
    "    summarize( count = n(),\n",
    "             ave_incarceration_rate = mean(jail_incarceration_rate_per_100k),\n",
    "             ave_res_pop = mean(resident_population),\n",
    "             ave_highrisk_agegroup_perc = mean(highrisk_agegroup_perc))\n",
    "\n",
    "#pca\n",
    "data <- jail_county_demographics_filtered_df_dropna\n",
    "#pca <- prcomp(data[ , selected_column_indices], center = TRUE, scale = TRUE)\n",
    "\n",
    "# principal components + clusters\n",
    "plot <- fviz_pca_ind(pca, geom.ind = \"point\", pointshape = 21, \n",
    "             pointsize = 2, \n",
    "             fill.ind = data$cluster, \n",
    "             col.ind = \"black\", \n",
    "             palette = \"jco\", \n",
    "             addEllipses = TRUE,\n",
    "             label = \"var\",\n",
    "             col.var = \"black\",\n",
    "             repel = TRUE,\n",
    "             legend.title = \"Cluster\") +\n",
    "  theme(plot.title = element_text(hjust = 0.5))\n",
    "plot\n",
    "#ggsave('5clusterpca.png', plot)"
   ]
  },
  {
   "cell_type": "code",
   "execution_count": 172,
   "metadata": {},
   "outputs": [],
   "source": [
    "# find optimal number of clusters\n",
    "opt_k <- fviz_nbclust(jail_county_demographics_filtered_df_dropna[ , selected_column_indices], kmeans, method = \"gap_stat\")"
   ]
  },
  {
   "cell_type": "code",
   "execution_count": 173,
   "metadata": {
    "scrolled": true
   },
   "outputs": [
    {
     "data": {
      "image/png": "iVBORw0KGgoAAAANSUhEUgAAAeAAAAHgCAMAAABKCk6nAAAAM1BMVEUAAABGgrRNTU1oaGh8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\nmDkQzJz/trLQv8v7aDkAAAAASUVORK5CYII=",
      "text/plain": [
       "plot without title"
      ]
     },
     "metadata": {},
     "output_type": "display_data"
    }
   ],
   "source": [
    "opt_k"
   ]
  },
  {
   "cell_type": "markdown",
   "metadata": {},
   "source": [
    "GLM on each cluster (k = ?)"
   ]
  },
  {
   "cell_type": "code",
   "execution_count": null,
   "metadata": {},
   "outputs": [],
   "source": [
    "#glm(formula, family = gaussian, data, weights, subse )"
   ]
  }
 ],
 "metadata": {
  "kernelspec": {
   "display_name": "R",
   "language": "R",
   "name": "ir"
  },
  "language_info": {
   "codemirror_mode": "r",
   "file_extension": ".r",
   "mimetype": "text/x-r-source",
   "name": "R",
   "pygments_lexer": "r",
   "version": "3.6.1"
  }
 },
 "nbformat": 4,
 "nbformat_minor": 4
}
