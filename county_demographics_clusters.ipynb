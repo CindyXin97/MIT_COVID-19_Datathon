{
 "cells": [
  {
   "cell_type": "markdown",
   "metadata": {},
   "source": [
    "In this notebook:\n",
    "1. Get county demographic data: \n",
    "    + county_demographics_df.csv\n",
    "    + jail_county_demographics_df.csv (jail_county_df.csv + county_demographics_df.csv)\n",
    "2. county clustering\n",
    "    + simple k-means"
   ]
  },
  {
   "cell_type": "code",
   "execution_count": 1,
   "metadata": {},
   "outputs": [
    {
     "name": "stderr",
     "output_type": "stream",
     "text": [
      "Registered S3 methods overwritten by 'ggplot2':\n",
      "  method         from \n",
      "  [.quosures     rlang\n",
      "  c.quosures     rlang\n",
      "  print.quosures rlang\n",
      "Registered S3 method overwritten by 'rvest':\n",
      "  method            from\n",
      "  read_xml.response xml2\n",
      "-- Attaching packages --------------------------------------- tidyverse 1.2.1 --\n",
      "v ggplot2 3.1.1     v purrr   0.3.2\n",
      "v tibble  3.0.1     v dplyr   0.8.5\n",
      "v tidyr   1.0.3     v stringr 1.4.0\n",
      "v readr   1.3.1     v forcats 0.4.0\n",
      "Warning message:\n",
      "\"package 'tibble' was built under R version 3.6.3\"Warning message:\n",
      "\"package 'tidyr' was built under R version 3.6.3\"Warning message:\n",
      "\"package 'dplyr' was built under R version 3.6.3\"-- Conflicts ------------------------------------------ tidyverse_conflicts() --\n",
      "x dplyr::filter() masks stats::filter()\n",
      "x dplyr::lag()    masks stats::lag()\n",
      "Warning message:\n",
      "\"package 'cluster' was built under R version 3.6.3\"Warning message:\n",
      "\"package 'factoextra' was built under R version 3.6.3\"Welcome! Want to learn more? See two factoextra-related books at https://goo.gl/ve3WBa\n"
     ]
    }
   ],
   "source": [
    "library('tidyverse')\n",
    "library('repr')\n",
    "library('cluster')\n",
    "library('factoextra')"
   ]
  },
  {
   "cell_type": "code",
   "execution_count": 18,
   "metadata": {
    "scrolled": true
   },
   "outputs": [
    {
     "name": "stderr",
     "output_type": "stream",
     "text": [
      "Warning message:\n",
      "\"Column `county` joining character vector and factor, coercing into character vector\"Warning message:\n",
      "\"Column `state` joining character vector and factor, coercing into character vector\""
     ]
    }
   ],
   "source": [
    "# load datasets\n",
    "\n",
    "# --------------\n",
    "# from jessica:\n",
    "# jail_county_df, without the index column X\n",
    "jail_county_df <- read.csv('jail_county_df.csv', stringsAsFactors = FALSE)[ , 2:10]\n",
    "\n",
    "# prison_county_df, without the index column X\n",
    "prison_county_df <- read.csv('prison_county_df.csv', stringsAsFactors = FALSE)[ , 2:7]\n",
    "#  capitalize county name:\n",
    "prison_county_df$county <- str_to_title(prison_county_df$county)\n",
    "\n",
    "# nytimes\n",
    "us_counties <- read.csv('https://raw.githubusercontent.com/nytimes/covid-19-data/master/us-counties.csv')\n",
    "# vera inst\n",
    "#jail_population <- read.csv('https://raw.githubusercontent.com/vera-institute/jail-population-data/master/jail_population.csv')\n",
    "\n",
    "\n",
    "# merge with demographics datasets\n",
    "\n",
    "# --------------\n",
    "# county demographics: \n",
    "#   https://github.com/ringhilterra/enriched-covid19-data\n",
    "county_demographics_df <- read.csv('https://raw.githubusercontent.com/ringhilterra/enriched-covid19-data/master/us_county_demographics.csv', stringsAsFactors = FALSE)\n",
    "\n",
    "#  tidy up column names: convert to lower case\n",
    "names(county_demographics_df) <- str_to_lower(names(county_demographics_df))\n",
    "#  remove word \"county\" from county column\n",
    "county_demographics_df$county <- sub(county_demographics_df$county, pattern = \" [[:alpha:]]*$\", replacement = \"\")\n",
    "\n",
    "# -------------- \n",
    "# clean up county_demographic_df\n",
    "#  note: county populations from this dataset is similar but not the same as nytimes/vera inst.\n",
    "#   We'll use just the other columns (race/ethnicity, age, gender, etc.)\n",
    "county_demographics_df <- county_demographics_df[ , c(4, 3, 5:21)]\n",
    "            \n",
    "# compute age group percentages instead of count, and\n",
    "#  add lowrisk_agegroup_perc and highrisk_agegroup_perc columns:\n",
    "county_demographics_df <- county_demographics_df %>%\n",
    "    mutate(age_oto4_perc = age_oto4/tot_pop,\n",
    "          age_5to14_perc = age_5to14/tot_pop,\n",
    "          age_15to24_perc = age_15to24/tot_pop,\n",
    "          age_25to34_perc = age_25to34/tot_pop,\n",
    "          age_35to44_perc = age_35to44/tot_pop,\n",
    "          age_45to54_perc = age_45to54/tot_pop,\n",
    "          age_55to64_perc = age_55to64/tot_pop,\n",
    "          age_65to74_perc = age_65to74/tot_pop,\n",
    "          age_75to84_perc = age_75to84/tot_pop,\n",
    "          age_84plus_perc = age_84plus/tot_pop,\n",
    "          'lowrisk_agegroup_perc' = rowSums(. [10:16])/tot_pop ,\n",
    "          'highrisk_agegroup_perc' = rowSums(. [17:19])/tot_pop)                            \n",
    "# remove age group count:\n",
    "#  (note: resident_population (from vera inst) and tot_pop columns are close but not equal)\n",
    "county_demographics_df <- county_demographics_df[ , c(1:10, 21:31)]\n",
    "\n",
    "# ---------------\n",
    "# county land area and population data\n",
    "# from https://github.com/ykzeng/covid-19/tree/master/data\n",
    "landarea <- read.csv('https://raw.githubusercontent.com/ykzeng/covid-19/master/data/census-population-landarea.csv')\n",
    "\n",
    "# use nytimes to get fip-county key\n",
    "fips_county <- us_counties %>% \n",
    "    group_by(county, state, fips) %>%\n",
    "    summarize( dummy = 1)\n",
    "fips_county <- fips_county[ , 1:3]\n",
    "\n",
    "# --------------\n",
    "# join landarea and fips_county to get landarea information for each county\n",
    "landarea_county <- left_join( landarea, fips_county, by=\"fips\")\n",
    "\n",
    "#take only column LND110210\n",
    "landarea_county <- landarea_county[, c(8, 9, 6) ]\n",
    "# rename column LND110210 to land_area\n",
    "names(landarea_county)[3] <- 'land_area'\n",
    "\n",
    "# --------------\n",
    "# join demographics + landarea datasets\n",
    "county_demographics_df <- left_join(county_demographics_df, landarea_county, by=c(\"county\", \"state\"))\n",
    "# add a population density column\n",
    "county_demographics_df <- county_demographics_df %>% \n",
    "    mutate(population_density = tot_pop / land_area )\n",
    "\n",
    "# --------------\n",
    "# join jessica's jail dataset + (demographics + landarea) datasets\n",
    "jail_county_demographics_df <- full_join( jail_county_df, county_demographics_df, by = c('county', 'state')) \n",
    "\n",
    "# add infection rate column\n",
    "jail_county_demographics_df <- jail_county_demographics_df %>%\n",
    "    mutate( pop_infection_rate = cases/resident_population )"
   ]
  },
  {
   "cell_type": "code",
   "execution_count": 19,
   "metadata": {
    "scrolled": true
   },
   "outputs": [
    {
     "data": {
      "text/html": [
       "<table>\n",
       "<thead><tr><th scope=col>county</th><th scope=col>state</th><th scope=col>tot_pop</th><th scope=col>male_perc</th><th scope=col>female_perc</th><th scope=col>white_pop_perc</th><th scope=col>black_pop_perc</th><th scope=col>asian_pop_perc</th><th scope=col>hisp_pop_perc</th><th scope=col>age_oto4</th><th scope=col>...</th><th scope=col>age_35to44_perc</th><th scope=col>age_45to54_perc</th><th scope=col>age_55to64_perc</th><th scope=col>age_65to74_perc</th><th scope=col>age_75to84_perc</th><th scope=col>age_84plus_perc</th><th scope=col>lowrisk_agegroup_perc</th><th scope=col>highrisk_agegroup_perc</th><th scope=col>land_area</th><th scope=col>population_density</th></tr></thead>\n",
       "<tbody>\n",
       "\t<tr><td>Autauga    </td><td>Alabama    </td><td> 55601     </td><td>0.4855129  </td><td>0.5144871  </td><td>0.7837989  </td><td>0.20616536 </td><td>0.017301847</td><td>0.02965774 </td><td> 3364      </td><td>...        </td><td>0.1302854  </td><td>0.1398716  </td><td>0.1288466  </td><td>0.08812791 </td><td>0.05183360 </td><td>0.01566519 </td><td>0.8443733  </td><td>0.1556267  </td><td> 594.44    </td><td> 93.53509  </td></tr>\n",
       "\t<tr><td>Baldwin    </td><td>Alabama    </td><td>218022     </td><td>0.4846162  </td><td>0.5153838  </td><td>0.8895983  </td><td>0.09688472 </td><td>0.015613103</td><td>0.04646779 </td><td>11955      </td><td>...        </td><td>0.1194054  </td><td>0.1316519  </td><td>0.1440634  </td><td>0.12263900 </td><td>0.06205337 </td><td>0.01974113 </td><td>0.7955665  </td><td>0.2044335  </td><td>1589.78    </td><td>137.13973  </td></tr>\n",
       "\t<tr><td>Barbour    </td><td>Alabama    </td><td> 24881     </td><td>0.5278325  </td><td>0.4721675  </td><td>0.5003416  </td><td>0.49290623 </td><td>0.006068888</td><td>0.04276355 </td><td> 1284      </td><td>...        </td><td>0.1198103  </td><td>0.1296974  </td><td>0.1290543  </td><td>0.11563040 </td><td>0.05960371 </td><td>0.01897030 </td><td>0.8057956  </td><td>0.1942044  </td><td> 884.88    </td><td> 28.11794  </td></tr>\n",
       "</tbody>\n",
       "</table>\n"
      ],
      "text/latex": [
       "\\begin{tabular}{r|lllllllllllllllllllllll}\n",
       " county & state & tot\\_pop & male\\_perc & female\\_perc & white\\_pop\\_perc & black\\_pop\\_perc & asian\\_pop\\_perc & hisp\\_pop\\_perc & age\\_oto4 & ... & age\\_35to44\\_perc & age\\_45to54\\_perc & age\\_55to64\\_perc & age\\_65to74\\_perc & age\\_75to84\\_perc & age\\_84plus\\_perc & lowrisk\\_agegroup\\_perc & highrisk\\_agegroup\\_perc & land\\_area & population\\_density\\\\\n",
       "\\hline\n",
       "\t Autauga     & Alabama     &  55601      & 0.4855129   & 0.5144871   & 0.7837989   & 0.20616536  & 0.017301847 & 0.02965774  &  3364       & ...         & 0.1302854   & 0.1398716   & 0.1288466   & 0.08812791  & 0.05183360  & 0.01566519  & 0.8443733   & 0.1556267   &  594.44     &  93.53509  \\\\\n",
       "\t Baldwin     & Alabama     & 218022      & 0.4846162   & 0.5153838   & 0.8895983   & 0.09688472  & 0.015613103 & 0.04646779  & 11955       & ...         & 0.1194054   & 0.1316519   & 0.1440634   & 0.12263900  & 0.06205337  & 0.01974113  & 0.7955665   & 0.2044335   & 1589.78     & 137.13973  \\\\\n",
       "\t Barbour     & Alabama     &  24881      & 0.5278325   & 0.4721675   & 0.5003416   & 0.49290623  & 0.006068888 & 0.04276355  &  1284       & ...         & 0.1198103   & 0.1296974   & 0.1290543   & 0.11563040  & 0.05960371  & 0.01897030  & 0.8057956   & 0.1942044   &  884.88     &  28.11794  \\\\\n",
       "\\end{tabular}\n"
      ],
      "text/markdown": [
       "\n",
       "| county | state | tot_pop | male_perc | female_perc | white_pop_perc | black_pop_perc | asian_pop_perc | hisp_pop_perc | age_oto4 | ... | age_35to44_perc | age_45to54_perc | age_55to64_perc | age_65to74_perc | age_75to84_perc | age_84plus_perc | lowrisk_agegroup_perc | highrisk_agegroup_perc | land_area | population_density |\n",
       "|---|---|---|---|---|---|---|---|---|---|---|---|---|---|---|---|---|---|---|---|---|\n",
       "| Autauga     | Alabama     |  55601      | 0.4855129   | 0.5144871   | 0.7837989   | 0.20616536  | 0.017301847 | 0.02965774  |  3364       | ...         | 0.1302854   | 0.1398716   | 0.1288466   | 0.08812791  | 0.05183360  | 0.01566519  | 0.8443733   | 0.1556267   |  594.44     |  93.53509   |\n",
       "| Baldwin     | Alabama     | 218022      | 0.4846162   | 0.5153838   | 0.8895983   | 0.09688472  | 0.015613103 | 0.04646779  | 11955       | ...         | 0.1194054   | 0.1316519   | 0.1440634   | 0.12263900  | 0.06205337  | 0.01974113  | 0.7955665   | 0.2044335   | 1589.78     | 137.13973   |\n",
       "| Barbour     | Alabama     |  24881      | 0.5278325   | 0.4721675   | 0.5003416   | 0.49290623  | 0.006068888 | 0.04276355  |  1284       | ...         | 0.1198103   | 0.1296974   | 0.1290543   | 0.11563040  | 0.05960371  | 0.01897030  | 0.8057956   | 0.1942044   |  884.88     |  28.11794   |\n",
       "\n"
      ],
      "text/plain": [
       "  county  state   tot_pop male_perc female_perc white_pop_perc black_pop_perc\n",
       "1 Autauga Alabama  55601  0.4855129 0.5144871   0.7837989      0.20616536    \n",
       "2 Baldwin Alabama 218022  0.4846162 0.5153838   0.8895983      0.09688472    \n",
       "3 Barbour Alabama  24881  0.5278325 0.4721675   0.5003416      0.49290623    \n",
       "  asian_pop_perc hisp_pop_perc age_oto4 ... age_35to44_perc age_45to54_perc\n",
       "1 0.017301847    0.02965774     3364    ... 0.1302854       0.1398716      \n",
       "2 0.015613103    0.04646779    11955    ... 0.1194054       0.1316519      \n",
       "3 0.006068888    0.04276355     1284    ... 0.1198103       0.1296974      \n",
       "  age_55to64_perc age_65to74_perc age_75to84_perc age_84plus_perc\n",
       "1 0.1288466       0.08812791      0.05183360      0.01566519     \n",
       "2 0.1440634       0.12263900      0.06205337      0.01974113     \n",
       "3 0.1290543       0.11563040      0.05960371      0.01897030     \n",
       "  lowrisk_agegroup_perc highrisk_agegroup_perc land_area population_density\n",
       "1 0.8443733             0.1556267               594.44    93.53509         \n",
       "2 0.7955665             0.2044335              1589.78   137.13973         \n",
       "3 0.8057956             0.1942044               884.88    28.11794         "
      ]
     },
     "metadata": {},
     "output_type": "display_data"
    }
   ],
   "source": [
    "head(county_demographics_df, 3)\n",
    "#write.csv(county_demographics_df, 'county_demographics_df.csv')"
   ]
  },
  {
   "cell_type": "code",
   "execution_count": 20,
   "metadata": {},
   "outputs": [
    {
     "data": {
      "text/html": [
       "<table>\n",
       "<thead><tr><th scope=col>date</th><th scope=col>county</th><th scope=col>state</th><th scope=col>jail_population</th><th scope=col>resident_population</th><th scope=col>cases</th><th scope=col>deaths</th><th scope=col>jail_incarceration_rate_per_100k</th><th scope=col>urbanicity</th><th scope=col>tot_pop</th><th scope=col>...</th><th scope=col>age_45to54_perc</th><th scope=col>age_55to64_perc</th><th scope=col>age_65to74_perc</th><th scope=col>age_75to84_perc</th><th scope=col>age_84plus_perc</th><th scope=col>lowrisk_agegroup_perc</th><th scope=col>highrisk_agegroup_perc</th><th scope=col>land_area</th><th scope=col>population_density</th><th scope=col>pop_infection_rate</th></tr></thead>\n",
       "<tbody>\n",
       "\t<tr><td>2020-01-21  </td><td>Snohomish   </td><td>Washington  </td><td>858         </td><td>822083      </td><td>1           </td><td>0           </td><td>104.4       </td><td>suburban    </td><td>814901      </td><td>...         </td><td>0.1358423   </td><td>0.1341095   </td><td>0.08393289  </td><td>0.03600683  </td><td>0.0147613   </td><td>0.865299    </td><td>0.134701    </td><td>2087.27     </td><td>390.4148    </td><td>1.216422e-06</td></tr>\n",
       "\t<tr><td>2020-01-22  </td><td>Snohomish   </td><td>Washington  </td><td>819         </td><td>822083      </td><td>1           </td><td>0           </td><td> 99.6       </td><td>suburban    </td><td>814901      </td><td>...         </td><td>0.1358423   </td><td>0.1341095   </td><td>0.08393289  </td><td>0.03600683  </td><td>0.0147613   </td><td>0.865299    </td><td>0.134701    </td><td>2087.27     </td><td>390.4148    </td><td>1.216422e-06</td></tr>\n",
       "\t<tr><td>2020-01-23  </td><td>Snohomish   </td><td>Washington  </td><td>825         </td><td>822083      </td><td>1           </td><td>0           </td><td>100.4       </td><td>suburban    </td><td>814901      </td><td>...         </td><td>0.1358423   </td><td>0.1341095   </td><td>0.08393289  </td><td>0.03600683  </td><td>0.0147613   </td><td>0.865299    </td><td>0.134701    </td><td>2087.27     </td><td>390.4148    </td><td>1.216422e-06</td></tr>\n",
       "</tbody>\n",
       "</table>\n"
      ],
      "text/latex": [
       "\\begin{tabular}{r|lllllllllllllllllllllllllllllll}\n",
       " date & county & state & jail\\_population & resident\\_population & cases & deaths & jail\\_incarceration\\_rate\\_per\\_100k & urbanicity & tot\\_pop & ... & age\\_45to54\\_perc & age\\_55to64\\_perc & age\\_65to74\\_perc & age\\_75to84\\_perc & age\\_84plus\\_perc & lowrisk\\_agegroup\\_perc & highrisk\\_agegroup\\_perc & land\\_area & population\\_density & pop\\_infection\\_rate\\\\\n",
       "\\hline\n",
       "\t 2020-01-21   & Snohomish    & Washington   & 858          & 822083       & 1            & 0            & 104.4        & suburban     & 814901       & ...          & 0.1358423    & 0.1341095    & 0.08393289   & 0.03600683   & 0.0147613    & 0.865299     & 0.134701     & 2087.27      & 390.4148     & 1.216422e-06\\\\\n",
       "\t 2020-01-22   & Snohomish    & Washington   & 819          & 822083       & 1            & 0            &  99.6        & suburban     & 814901       & ...          & 0.1358423    & 0.1341095    & 0.08393289   & 0.03600683   & 0.0147613    & 0.865299     & 0.134701     & 2087.27      & 390.4148     & 1.216422e-06\\\\\n",
       "\t 2020-01-23   & Snohomish    & Washington   & 825          & 822083       & 1            & 0            & 100.4        & suburban     & 814901       & ...          & 0.1358423    & 0.1341095    & 0.08393289   & 0.03600683   & 0.0147613    & 0.865299     & 0.134701     & 2087.27      & 390.4148     & 1.216422e-06\\\\\n",
       "\\end{tabular}\n"
      ],
      "text/markdown": [
       "\n",
       "| date | county | state | jail_population | resident_population | cases | deaths | jail_incarceration_rate_per_100k | urbanicity | tot_pop | ... | age_45to54_perc | age_55to64_perc | age_65to74_perc | age_75to84_perc | age_84plus_perc | lowrisk_agegroup_perc | highrisk_agegroup_perc | land_area | population_density | pop_infection_rate |\n",
       "|---|---|---|---|---|---|---|---|---|---|---|---|---|---|---|---|---|---|---|---|---|\n",
       "| 2020-01-21   | Snohomish    | Washington   | 858          | 822083       | 1            | 0            | 104.4        | suburban     | 814901       | ...          | 0.1358423    | 0.1341095    | 0.08393289   | 0.03600683   | 0.0147613    | 0.865299     | 0.134701     | 2087.27      | 390.4148     | 1.216422e-06 |\n",
       "| 2020-01-22   | Snohomish    | Washington   | 819          | 822083       | 1            | 0            |  99.6        | suburban     | 814901       | ...          | 0.1358423    | 0.1341095    | 0.08393289   | 0.03600683   | 0.0147613    | 0.865299     | 0.134701     | 2087.27      | 390.4148     | 1.216422e-06 |\n",
       "| 2020-01-23   | Snohomish    | Washington   | 825          | 822083       | 1            | 0            | 100.4        | suburban     | 814901       | ...          | 0.1358423    | 0.1341095    | 0.08393289   | 0.03600683   | 0.0147613    | 0.865299     | 0.134701     | 2087.27      | 390.4148     | 1.216422e-06 |\n",
       "\n"
      ],
      "text/plain": [
       "  date       county    state      jail_population resident_population cases\n",
       "1 2020-01-21 Snohomish Washington 858             822083              1    \n",
       "2 2020-01-22 Snohomish Washington 819             822083              1    \n",
       "3 2020-01-23 Snohomish Washington 825             822083              1    \n",
       "  deaths jail_incarceration_rate_per_100k urbanicity tot_pop ...\n",
       "1 0      104.4                            suburban   814901  ...\n",
       "2 0       99.6                            suburban   814901  ...\n",
       "3 0      100.4                            suburban   814901  ...\n",
       "  age_45to54_perc age_55to64_perc age_65to74_perc age_75to84_perc\n",
       "1 0.1358423       0.1341095       0.08393289      0.03600683     \n",
       "2 0.1358423       0.1341095       0.08393289      0.03600683     \n",
       "3 0.1358423       0.1341095       0.08393289      0.03600683     \n",
       "  age_84plus_perc lowrisk_agegroup_perc highrisk_agegroup_perc land_area\n",
       "1 0.0147613       0.865299              0.134701               2087.27  \n",
       "2 0.0147613       0.865299              0.134701               2087.27  \n",
       "3 0.0147613       0.865299              0.134701               2087.27  \n",
       "  population_density pop_infection_rate\n",
       "1 390.4148           1.216422e-06      \n",
       "2 390.4148           1.216422e-06      \n",
       "3 390.4148           1.216422e-06      "
      ]
     },
     "metadata": {},
     "output_type": "display_data"
    }
   ],
   "source": [
    "head(jail_county_demographics_df, 3)"
   ]
  },
  {
   "cell_type": "markdown",
   "metadata": {},
   "source": [
    "### Filter by state, date"
   ]
  },
  {
   "cell_type": "code",
   "execution_count": 46,
   "metadata": {
    "scrolled": true
   },
   "outputs": [],
   "source": [
    "# filter jail_county_demographics_df \n",
    "\n",
    "#  consider only some states\n",
    "selected_states <- 'California|Texas|Ohio|Oregon'\n",
    "jail_county_demographics_filtered_df <- jail_county_demographics_df %>%\n",
    "    filter( #grepl( selected_states, state) ,   # use all states\n",
    "          jail_incarceration_rate_per_100k < 2000 ) # remove outlier counties\n",
    "\n",
    "\n",
    "\n",
    "#  keep most recent data\n",
    "jail_county_demographics_filtered_df$date <- as.Date(jail_county_demographics_filtered_df$date)\n",
    "\n",
    "jail_county_demographics_filtered_df <- jail_county_demographics_filtered_df %>%\n",
    "    group_by(county) %>% \n",
    "    filter(date == max(date))"
   ]
  },
  {
   "cell_type": "code",
   "execution_count": 47,
   "metadata": {
    "scrolled": true
   },
   "outputs": [
    {
     "name": "stderr",
     "output_type": "stream",
     "text": [
      "Warning message:\n",
      "\"Removed 8 rows containing missing values (geom_point).\""
     ]
    },
    {
     "data": {
      "image/png": "[encoded data removed]",
      "text/plain": [
       "plot without title"
      ]
     },
     "metadata": {},
     "output_type": "display_data"
    }
   ],
   "source": [
    "# try some plots\n",
    "options(repr.plot.width=4, repr.plot.height=4)\n",
    "ggplot(jail_county_demographics_filtered_df, \n",
    "       aes( x = highrisk_agegroup_perc, y = jail_incarceration_rate_per_100k, color = urbanicity) ) + \n",
    "            geom_point()"
   ]
  },
  {
   "cell_type": "markdown",
   "metadata": {},
   "source": [
    "## initial clustering"
   ]
  },
  {
   "cell_type": "code",
   "execution_count": 26,
   "metadata": {},
   "outputs": [],
   "source": [
    "# column names\n",
    "#jail_county_demographics_columns <- data.frame( colindex = 1:31, colname = names(jail_county_demographics_df))\n",
    "#jail_county_demographics_columns\n",
    "\n",
    "#county_demographics_columns <- data.frame( colindex = 1:23, colname = names(county_demographics_df))\n",
    "#county_demographics_columns"
   ]
  },
  {
   "cell_type": "code",
   "execution_count": 59,
   "metadata": {},
   "outputs": [
    {
     "data": {
      "text/html": [
       "<ol class=list-inline>\n",
       "\t<li>971</li>\n",
       "\t<li>32</li>\n",
       "</ol>\n"
      ],
      "text/latex": [
       "\\begin{enumerate*}\n",
       "\\item 971\n",
       "\\item 32\n",
       "\\end{enumerate*}\n"
      ],
      "text/markdown": [
       "1. 971\n",
       "2. 32\n",
       "\n",
       "\n"
      ],
      "text/plain": [
       "[1] 971  32"
      ]
     },
     "metadata": {},
     "output_type": "display_data"
    },
    {
     "data": {
      "text/html": [
       "<table>\n",
       "<thead><tr><th scope=col>date</th><th scope=col>county</th><th scope=col>state</th><th scope=col>jail_population</th><th scope=col>resident_population</th><th scope=col>cases</th><th scope=col>deaths</th><th scope=col>jail_incarceration_rate_per_100k</th><th scope=col>urbanicity</th><th scope=col>tot_pop</th><th scope=col>...</th><th scope=col>age_55to64_perc</th><th scope=col>age_65to74_perc</th><th scope=col>age_75to84_perc</th><th scope=col>age_84plus_perc</th><th scope=col>lowrisk_agegroup_perc</th><th scope=col>highrisk_agegroup_perc</th><th scope=col>land_area</th><th scope=col>population_density</th><th scope=col>pop_infection_rate</th><th scope=col>cluster</th></tr></thead>\n",
       "<tbody>\n",
       "\t<tr><td>2020-03-20  </td><td>Ramsey      </td><td>North Dakota</td><td> 54         </td><td> 11519      </td><td> 1          </td><td>0           </td><td>468.8       </td><td>rural       </td><td> 11481      </td><td>...         </td><td>0.1479836   </td><td>0.10582702  </td><td>0.06018639  </td><td>0.03274976  </td><td>0.8012368   </td><td>0.1987632   </td><td>1186.85     </td><td>  9.673505  </td><td>8.681309e-05</td><td>4           </td></tr>\n",
       "\t<tr><td>2020-03-31  </td><td>Bledsoe     </td><td>Tennessee   </td><td>118         </td><td> 15064      </td><td> 2          </td><td>0           </td><td>783.3       </td><td>rural       </td><td> 14755      </td><td>...         </td><td>0.1543883   </td><td>0.11108099  </td><td>0.05598102  </td><td>0.01748560  </td><td>0.8154524   </td><td>0.1845476   </td><td> 406.43     </td><td> 36.303915  </td><td>1.327669e-04</td><td>4           </td></tr>\n",
       "\t<tr><td>2020-03-31  </td><td>Bradley     </td><td>Tennessee   </td><td>341         </td><td>108110      </td><td>10          </td><td>0           </td><td>315.4       </td><td>small/mid   </td><td>106727      </td><td>...         </td><td>0.1291707   </td><td>0.09916891  </td><td>0.05375397  </td><td>0.01830839  </td><td>0.8287687   </td><td>0.1712313   </td><td> 328.76     </td><td>324.634992  </td><td>9.249838e-05</td><td>4           </td></tr>\n",
       "</tbody>\n",
       "</table>\n"
      ],
      "text/latex": [
       "\\begin{tabular}{r|llllllllllllllllllllllllllllllll}\n",
       " date & county & state & jail\\_population & resident\\_population & cases & deaths & jail\\_incarceration\\_rate\\_per\\_100k & urbanicity & tot\\_pop & ... & age\\_55to64\\_perc & age\\_65to74\\_perc & age\\_75to84\\_perc & age\\_84plus\\_perc & lowrisk\\_agegroup\\_perc & highrisk\\_agegroup\\_perc & land\\_area & population\\_density & pop\\_infection\\_rate & cluster\\\\\n",
       "\\hline\n",
       "\t 2020-03-20   & Ramsey       & North Dakota &  54          &  11519       &  1           & 0            & 468.8        & rural        &  11481       & ...          & 0.1479836    & 0.10582702   & 0.06018639   & 0.03274976   & 0.8012368    & 0.1987632    & 1186.85      &   9.673505   & 8.681309e-05 & 4           \\\\\n",
       "\t 2020-03-31   & Bledsoe      & Tennessee    & 118          &  15064       &  2           & 0            & 783.3        & rural        &  14755       & ...          & 0.1543883    & 0.11108099   & 0.05598102   & 0.01748560   & 0.8154524    & 0.1845476    &  406.43      &  36.303915   & 1.327669e-04 & 4           \\\\\n",
       "\t 2020-03-31   & Bradley      & Tennessee    & 341          & 108110       & 10           & 0            & 315.4        & small/mid    & 106727       & ...          & 0.1291707    & 0.09916891   & 0.05375397   & 0.01830839   & 0.8287687    & 0.1712313    &  328.76      & 324.634992   & 9.249838e-05 & 4           \\\\\n",
       "\\end{tabular}\n"
      ],
      "text/markdown": [
       "\n",
       "| date | county | state | jail_population | resident_population | cases | deaths | jail_incarceration_rate_per_100k | urbanicity | tot_pop | ... | age_55to64_perc | age_65to74_perc | age_75to84_perc | age_84plus_perc | lowrisk_agegroup_perc | highrisk_agegroup_perc | land_area | population_density | pop_infection_rate | cluster |\n",
       "|---|---|---|---|---|---|---|---|---|---|---|---|---|---|---|---|---|---|---|---|---|\n",
       "| 2020-03-20   | Ramsey       | North Dakota |  54          |  11519       |  1           | 0            | 468.8        | rural        |  11481       | ...          | 0.1479836    | 0.10582702   | 0.06018639   | 0.03274976   | 0.8012368    | 0.1987632    | 1186.85      |   9.673505   | 8.681309e-05 | 4            |\n",
       "| 2020-03-31   | Bledsoe      | Tennessee    | 118          |  15064       |  2           | 0            | 783.3        | rural        |  14755       | ...          | 0.1543883    | 0.11108099   | 0.05598102   | 0.01748560   | 0.8154524    | 0.1845476    |  406.43      |  36.303915   | 1.327669e-04 | 4            |\n",
       "| 2020-03-31   | Bradley      | Tennessee    | 341          | 108110       | 10           | 0            | 315.4        | small/mid    | 106727       | ...          | 0.1291707    | 0.09916891   | 0.05375397   | 0.01830839   | 0.8287687    | 0.1712313    |  328.76      | 324.634992   | 9.249838e-05 | 4            |\n",
       "\n"
      ],
      "text/plain": [
       "  date       county  state        jail_population resident_population cases\n",
       "1 2020-03-20 Ramsey  North Dakota  54              11519               1   \n",
       "2 2020-03-31 Bledsoe Tennessee    118              15064               2   \n",
       "3 2020-03-31 Bradley Tennessee    341             108110              10   \n",
       "  deaths jail_incarceration_rate_per_100k urbanicity tot_pop ...\n",
       "1 0      468.8                            rural       11481  ...\n",
       "2 0      783.3                            rural       14755  ...\n",
       "3 0      315.4                            small/mid  106727  ...\n",
       "  age_55to64_perc age_65to74_perc age_75to84_perc age_84plus_perc\n",
       "1 0.1479836       0.10582702      0.06018639      0.03274976     \n",
       "2 0.1543883       0.11108099      0.05598102      0.01748560     \n",
       "3 0.1291707       0.09916891      0.05375397      0.01830839     \n",
       "  lowrisk_agegroup_perc highrisk_agegroup_perc land_area population_density\n",
       "1 0.8012368             0.1987632              1186.85     9.673505        \n",
       "2 0.8154524             0.1845476               406.43    36.303915        \n",
       "3 0.8287687             0.1712313               328.76   324.634992        \n",
       "  pop_infection_rate cluster\n",
       "1 8.681309e-05       4      \n",
       "2 1.327669e-04       4      \n",
       "3 9.249838e-05       4      "
      ]
     },
     "metadata": {},
     "output_type": "display_data"
    },
    {
     "data": {
      "image/png": "[encoded data removed]",
      "text/plain": [
       "plot without title"
      ]
     },
     "metadata": {},
     "output_type": "display_data"
    }
   ],
   "source": [
    "# k means\n",
    "\n",
    "selected_column_indices <- c(4:8,10:31)\n",
    "num_clusters <- 5 #try some number\n",
    "\n",
    "\n",
    "jail_county_demographics_filtered_df_dropna <- drop_na(jail_county_demographics_filtered_df)\n",
    "\n",
    "\n",
    "#opt_k <- fviz_nbclust(jail_county_demographics_filtered_df_dropna[ , selected_column_indices], kmeans, method = \"gap_stat\")\n",
    "\n",
    "km <- kmeans(scale(jail_county_demographics_filtered_df_dropna[ , selected_column_indices]), num_clusters )\n",
    "jail_county_demographics_filtered_df_dropna$cluster <- as.factor(km$cluster)\n",
    "#write.csv(jail_county_demographics_filtered_df_dropna, 'jail_county_demographics_clustered_5means.csv')\n",
    "\n",
    "dim(jail_county_demographics_filtered_df_dropna)\n",
    "\n",
    "head(jail_county_demographics_filtered_df_dropna, 3)\n",
    "\n",
    "options(repr.plot.width=4)\n",
    "ggplot(jail_county_demographics_filtered_df_dropna, \n",
    "       aes( x = highrisk_agegroup_perc, y = population_density, color = cluster) ) + \n",
    "            geom_point()\n"
   ]
  },
  {
   "cell_type": "code",
   "execution_count": 60,
   "metadata": {},
   "outputs": [
    {
     "data": {
      "text/html": [
       "<table>\n",
       "<thead><tr><th scope=col>cluster</th><th scope=col>count</th><th scope=col>ave_incarceration_rate</th><th scope=col>ave_jail_pop</th><th scope=col>ave_res_pop</th><th scope=col>ave_highrisk_agegroup_perc</th></tr></thead>\n",
       "<tbody>\n",
       "\t<tr><td>1         </td><td>159       </td><td>236.8698  </td><td> 232.1384 </td><td> 116085.06</td><td>0.1355192 </td></tr>\n",
       "\t<tr><td>2         </td><td> 19       </td><td>106.0000  </td><td>3019.1053 </td><td>2660445.58</td><td>0.1418238 </td></tr>\n",
       "\t<tr><td>3         </td><td>195       </td><td>239.1179  </td><td> 372.9026 </td><td> 249347.06</td><td>0.1504329 </td></tr>\n",
       "\t<tr><td>4         </td><td>477       </td><td>257.4807  </td><td> 125.3648 </td><td>  66896.79</td><td>0.1872649 </td></tr>\n",
       "\t<tr><td>5         </td><td>121       </td><td>187.1033  </td><td>  84.8595 </td><td>  48675.22</td><td>0.2605421 </td></tr>\n",
       "</tbody>\n",
       "</table>\n"
      ],
      "text/latex": [
       "\\begin{tabular}{r|llllll}\n",
       " cluster & count & ave\\_incarceration\\_rate & ave\\_jail\\_pop & ave\\_res\\_pop & ave\\_highrisk\\_agegroup\\_perc\\\\\n",
       "\\hline\n",
       "\t 1          & 159        & 236.8698   &  232.1384  &  116085.06 & 0.1355192 \\\\\n",
       "\t 2          &  19        & 106.0000   & 3019.1053  & 2660445.58 & 0.1418238 \\\\\n",
       "\t 3          & 195        & 239.1179   &  372.9026  &  249347.06 & 0.1504329 \\\\\n",
       "\t 4          & 477        & 257.4807   &  125.3648  &   66896.79 & 0.1872649 \\\\\n",
       "\t 5          & 121        & 187.1033   &   84.8595  &   48675.22 & 0.2605421 \\\\\n",
       "\\end{tabular}\n"
      ],
      "text/markdown": [
       "\n",
       "| cluster | count | ave_incarceration_rate | ave_jail_pop | ave_res_pop | ave_highrisk_agegroup_perc |\n",
       "|---|---|---|---|---|---|\n",
       "| 1          | 159        | 236.8698   |  232.1384  |  116085.06 | 0.1355192  |\n",
       "| 2          |  19        | 106.0000   | 3019.1053  | 2660445.58 | 0.1418238  |\n",
       "| 3          | 195        | 239.1179   |  372.9026  |  249347.06 | 0.1504329  |\n",
       "| 4          | 477        | 257.4807   |  125.3648  |   66896.79 | 0.1872649  |\n",
       "| 5          | 121        | 187.1033   |   84.8595  |   48675.22 | 0.2605421  |\n",
       "\n"
      ],
      "text/plain": [
       "  cluster count ave_incarceration_rate ave_jail_pop ave_res_pop\n",
       "1 1       159   236.8698                232.1384     116085.06 \n",
       "2 2        19   106.0000               3019.1053    2660445.58 \n",
       "3 3       195   239.1179                372.9026     249347.06 \n",
       "4 4       477   257.4807                125.3648      66896.79 \n",
       "5 5       121   187.1033                 84.8595      48675.22 \n",
       "  ave_highrisk_agegroup_perc\n",
       "1 0.1355192                 \n",
       "2 0.1418238                 \n",
       "3 0.1504329                 \n",
       "4 0.1872649                 \n",
       "5 0.2605421                 "
      ]
     },
     "metadata": {},
     "output_type": "display_data"
    }
   ],
   "source": [
    "jail_county_demographics_filtered_df_dropna %>%\n",
    "    group_by( cluster ) %>%\n",
    "    summarize( count = n(),\n",
    "             ave_incarceration_rate = mean(jail_incarceration_rate_per_100k),\n",
    "             ave_jail_pop = mean(jail_population),\n",
    "             ave_res_pop = mean(resident_population),\n",
    "             ave_highrisk_agegroup_perc = mean(highrisk_agegroup_perc))"
   ]
  },
  {
   "cell_type": "code",
   "execution_count": 61,
   "metadata": {},
   "outputs": [
    {
     "data": {
      "text/html": [
       "<table>\n",
       "<thead><tr><th scope=col>cluster</th><th scope=col>urbanicity</th><th scope=col>count</th><th scope=col>ave_incarceration_rate</th><th scope=col>ave_res_pop</th><th scope=col>ave_highrisk_agegroup_perc</th></tr></thead>\n",
       "<tbody>\n",
       "\t<tr><td>1         </td><td>rural     </td><td> 90       </td><td>257.8967  </td><td>  28487.97</td><td>0.1403269 </td></tr>\n",
       "\t<tr><td>1         </td><td>small/mid </td><td> 58       </td><td>212.6690  </td><td> 238862.24</td><td>0.1305172 </td></tr>\n",
       "\t<tr><td>1         </td><td>suburban  </td><td> 10       </td><td>200.7500  </td><td>  87916.10</td><td>0.1239553 </td></tr>\n",
       "\t<tr><td>1         </td><td>urban     </td><td>  1       </td><td>109.3000  </td><td>1160437.00</td><td>0.1085836 </td></tr>\n",
       "\t<tr><td>2         </td><td>suburban  </td><td>  4       </td><td> 78.3000  </td><td>1389098.50</td><td>0.1567208 </td></tr>\n",
       "\t<tr><td>2         </td><td>urban     </td><td> 15       </td><td>113.3867  </td><td>2999471.47</td><td>0.1378513 </td></tr>\n",
       "\t<tr><td>3         </td><td>rural     </td><td> 50       </td><td>321.5900  </td><td>  34884.72</td><td>0.1706466 </td></tr>\n",
       "\t<tr><td>3         </td><td>small/mid </td><td> 73       </td><td>257.1589  </td><td> 204612.45</td><td>0.1515488 </td></tr>\n",
       "\t<tr><td>3         </td><td>suburban  </td><td> 60       </td><td>173.0450  </td><td> 335092.45</td><td>0.1355166 </td></tr>\n",
       "\t<tr><td>3         </td><td>urban     </td><td> 12       </td><td>116.1000  </td><td> 986348.67</td><td>0.1340020 </td></tr>\n",
       "\t<tr><td>4         </td><td>rural     </td><td>264       </td><td>298.2920  </td><td>  33531.18</td><td>0.1913350 </td></tr>\n",
       "\t<tr><td>4         </td><td>small/mid </td><td>149       </td><td>208.1926  </td><td> 107127.50</td><td>0.1851128 </td></tr>\n",
       "\t<tr><td>4         </td><td>suburban  </td><td> 64       </td><td>203.8828  </td><td> 110867.84</td><td>0.1754864 </td></tr>\n",
       "\t<tr><td>5         </td><td>rural     </td><td> 96       </td><td>176.8438  </td><td>  28999.70</td><td>0.2552242 </td></tr>\n",
       "\t<tr><td>5         </td><td>small/mid </td><td> 22       </td><td>233.4864  </td><td> 109717.73</td><td>0.2856005 </td></tr>\n",
       "\t<tr><td>5         </td><td>suburban  </td><td>  3       </td><td>175.2667  </td><td> 230647.00</td><td>0.2469537 </td></tr>\n",
       "</tbody>\n",
       "</table>\n"
      ],
      "text/latex": [
       "\\begin{tabular}{r|llllll}\n",
       " cluster & urbanicity & count & ave\\_incarceration\\_rate & ave\\_res\\_pop & ave\\_highrisk\\_agegroup\\_perc\\\\\n",
       "\\hline\n",
       "\t 1          & rural      &  90        & 257.8967   &   28487.97 & 0.1403269 \\\\\n",
       "\t 1          & small/mid  &  58        & 212.6690   &  238862.24 & 0.1305172 \\\\\n",
       "\t 1          & suburban   &  10        & 200.7500   &   87916.10 & 0.1239553 \\\\\n",
       "\t 1          & urban      &   1        & 109.3000   & 1160437.00 & 0.1085836 \\\\\n",
       "\t 2          & suburban   &   4        &  78.3000   & 1389098.50 & 0.1567208 \\\\\n",
       "\t 2          & urban      &  15        & 113.3867   & 2999471.47 & 0.1378513 \\\\\n",
       "\t 3          & rural      &  50        & 321.5900   &   34884.72 & 0.1706466 \\\\\n",
       "\t 3          & small/mid  &  73        & 257.1589   &  204612.45 & 0.1515488 \\\\\n",
       "\t 3          & suburban   &  60        & 173.0450   &  335092.45 & 0.1355166 \\\\\n",
       "\t 3          & urban      &  12        & 116.1000   &  986348.67 & 0.1340020 \\\\\n",
       "\t 4          & rural      & 264        & 298.2920   &   33531.18 & 0.1913350 \\\\\n",
       "\t 4          & small/mid  & 149        & 208.1926   &  107127.50 & 0.1851128 \\\\\n",
       "\t 4          & suburban   &  64        & 203.8828   &  110867.84 & 0.1754864 \\\\\n",
       "\t 5          & rural      &  96        & 176.8438   &   28999.70 & 0.2552242 \\\\\n",
       "\t 5          & small/mid  &  22        & 233.4864   &  109717.73 & 0.2856005 \\\\\n",
       "\t 5          & suburban   &   3        & 175.2667   &  230647.00 & 0.2469537 \\\\\n",
       "\\end{tabular}\n"
      ],
      "text/markdown": [
       "\n",
       "| cluster | urbanicity | count | ave_incarceration_rate | ave_res_pop | ave_highrisk_agegroup_perc |\n",
       "|---|---|---|---|---|---|\n",
       "| 1          | rural      |  90        | 257.8967   |   28487.97 | 0.1403269  |\n",
       "| 1          | small/mid  |  58        | 212.6690   |  238862.24 | 0.1305172  |\n",
       "| 1          | suburban   |  10        | 200.7500   |   87916.10 | 0.1239553  |\n",
       "| 1          | urban      |   1        | 109.3000   | 1160437.00 | 0.1085836  |\n",
       "| 2          | suburban   |   4        |  78.3000   | 1389098.50 | 0.1567208  |\n",
       "| 2          | urban      |  15        | 113.3867   | 2999471.47 | 0.1378513  |\n",
       "| 3          | rural      |  50        | 321.5900   |   34884.72 | 0.1706466  |\n",
       "| 3          | small/mid  |  73        | 257.1589   |  204612.45 | 0.1515488  |\n",
       "| 3          | suburban   |  60        | 173.0450   |  335092.45 | 0.1355166  |\n",
       "| 3          | urban      |  12        | 116.1000   |  986348.67 | 0.1340020  |\n",
       "| 4          | rural      | 264        | 298.2920   |   33531.18 | 0.1913350  |\n",
       "| 4          | small/mid  | 149        | 208.1926   |  107127.50 | 0.1851128  |\n",
       "| 4          | suburban   |  64        | 203.8828   |  110867.84 | 0.1754864  |\n",
       "| 5          | rural      |  96        | 176.8438   |   28999.70 | 0.2552242  |\n",
       "| 5          | small/mid  |  22        | 233.4864   |  109717.73 | 0.2856005  |\n",
       "| 5          | suburban   |   3        | 175.2667   |  230647.00 | 0.2469537  |\n",
       "\n"
      ],
      "text/plain": [
       "   cluster urbanicity count ave_incarceration_rate ave_res_pop\n",
       "1  1       rural       90   257.8967                 28487.97 \n",
       "2  1       small/mid   58   212.6690                238862.24 \n",
       "3  1       suburban    10   200.7500                 87916.10 \n",
       "4  1       urban        1   109.3000               1160437.00 \n",
       "5  2       suburban     4    78.3000               1389098.50 \n",
       "6  2       urban       15   113.3867               2999471.47 \n",
       "7  3       rural       50   321.5900                 34884.72 \n",
       "8  3       small/mid   73   257.1589                204612.45 \n",
       "9  3       suburban    60   173.0450                335092.45 \n",
       "10 3       urban       12   116.1000                986348.67 \n",
       "11 4       rural      264   298.2920                 33531.18 \n",
       "12 4       small/mid  149   208.1926                107127.50 \n",
       "13 4       suburban    64   203.8828                110867.84 \n",
       "14 5       rural       96   176.8438                 28999.70 \n",
       "15 5       small/mid   22   233.4864                109717.73 \n",
       "16 5       suburban     3   175.2667                230647.00 \n",
       "   ave_highrisk_agegroup_perc\n",
       "1  0.1403269                 \n",
       "2  0.1305172                 \n",
       "3  0.1239553                 \n",
       "4  0.1085836                 \n",
       "5  0.1567208                 \n",
       "6  0.1378513                 \n",
       "7  0.1706466                 \n",
       "8  0.1515488                 \n",
       "9  0.1355166                 \n",
       "10 0.1340020                 \n",
       "11 0.1913350                 \n",
       "12 0.1851128                 \n",
       "13 0.1754864                 \n",
       "14 0.2552242                 \n",
       "15 0.2856005                 \n",
       "16 0.2469537                 "
      ]
     },
     "metadata": {},
     "output_type": "display_data"
    }
   ],
   "source": [
    "jail_county_demographics_filtered_df_dropna %>%\n",
    "    group_by( cluster, urbanicity ) %>%\n",
    "    summarize( count = n(),\n",
    "             ave_incarceration_rate = mean(jail_incarceration_rate_per_100k),\n",
    "             ave_res_pop = mean(resident_population),\n",
    "             ave_highrisk_agegroup_perc = mean(highrisk_agegroup_perc))"
   ]
  },
  {
   "cell_type": "code",
   "execution_count": null,
   "metadata": {},
   "outputs": [],
   "source": []
  },
  {
   "cell_type": "code",
   "execution_count": null,
   "metadata": {},
   "outputs": [],
   "source": []
  }
 ],
 "metadata": {
  "kernelspec": {
   "display_name": "R",
   "language": "R",
   "name": "ir"
  },
  "language_info": {
   "codemirror_mode": "r",
   "file_extension": ".r",
   "mimetype": "text/x-r-source",
   "name": "R",
   "pygments_lexer": "r",
   "version": "3.6.1"
  }
 },
 "nbformat": 4,
 "nbformat_minor": 4
}
