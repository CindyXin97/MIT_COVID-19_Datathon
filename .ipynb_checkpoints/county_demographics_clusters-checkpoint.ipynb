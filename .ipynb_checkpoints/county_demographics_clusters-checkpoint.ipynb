{
 "cells": [
  {
   "cell_type": "markdown",
   "metadata": {},
   "source": [
    "In this notebook:\n",
    "1. Get county demographic data: \n",
    "    + county_demographics_df.csv\n",
    "    + jail_county_demographics_df.csv (jail_county_df.csv + county_demographics_df.csv)\n",
    "2. county clustering\n",
    "    + simple k-means"
   ]
  },
  {
   "cell_type": "code",
   "execution_count": 133,
   "metadata": {
    "scrolled": true
   },
   "outputs": [],
   "source": [
    "library('tidyverse')\n",
    "library('repr')\n",
    "library('factoextra')"
   ]
  },
  {
   "cell_type": "code",
   "execution_count": 18,
   "metadata": {
    "scrolled": true
   },
   "outputs": [
    {
     "name": "stderr",
     "output_type": "stream",
     "text": [
      "Warning message:\n",
      "\"Column `county` joining character vector and factor, coercing into character vector\"Warning message:\n",
      "\"Column `state` joining character vector and factor, coercing into character vector\""
     ]
    }
   ],
   "source": [
    "# load datasets\n",
    "\n",
    "# --------------\n",
    "# from jessica:\n",
    "# jail_county_df, without the index column X\n",
    "jail_county_df <- read.csv('jail_county_df.csv', stringsAsFactors = FALSE)[ , 2:10]\n",
    "\n",
    "# prison_county_df, without the index column X\n",
    "prison_county_df <- read.csv('prison_county_df.csv', stringsAsFactors = FALSE)[ , 2:7]\n",
    "#  capitalize county name:\n",
    "prison_county_df$county <- str_to_title(prison_county_df$county)\n",
    "\n",
    "# nytimes\n",
    "us_counties <- read.csv('https://raw.githubusercontent.com/nytimes/covid-19-data/master/us-counties.csv')\n",
    "# vera inst\n",
    "#jail_population <- read.csv('https://raw.githubusercontent.com/vera-institute/jail-population-data/master/jail_population.csv')\n",
    "\n",
    "\n",
    "# merge with demographics datasets\n",
    "\n",
    "# --------------\n",
    "# county demographics: \n",
    "#   https://github.com/ringhilterra/enriched-covid19-data\n",
    "county_demographics_df <- read.csv('https://raw.githubusercontent.com/ringhilterra/enriched-covid19-data/master/us_county_demographics.csv', stringsAsFactors = FALSE)\n",
    "\n",
    "#  tidy up column names: convert to lower case\n",
    "names(county_demographics_df) <- str_to_lower(names(county_demographics_df))\n",
    "#  remove word \"county\" from county column\n",
    "county_demographics_df$county <- sub(county_demographics_df$county, pattern = \" [[:alpha:]]*$\", replacement = \"\")\n",
    "\n",
    "# -------------- \n",
    "# clean up county_demographic_df\n",
    "#  note: county populations from this dataset is similar but not the same as nytimes/vera inst.\n",
    "#   We'll use just the other columns (race/ethnicity, age, gender, etc.)\n",
    "county_demographics_df <- county_demographics_df[ , c(4, 3, 5:21)]\n",
    "            \n",
    "# compute age group percentages instead of count, and\n",
    "#  add lowrisk_agegroup_perc and highrisk_agegroup_perc columns:\n",
    "county_demographics_df <- county_demographics_df %>%\n",
    "    mutate(age_oto4_perc = age_oto4/tot_pop,\n",
    "          age_5to14_perc = age_5to14/tot_pop,\n",
    "          age_15to24_perc = age_15to24/tot_pop,\n",
    "          age_25to34_perc = age_25to34/tot_pop,\n",
    "          age_35to44_perc = age_35to44/tot_pop,\n",
    "          age_45to54_perc = age_45to54/tot_pop,\n",
    "          age_55to64_perc = age_55to64/tot_pop,\n",
    "          age_65to74_perc = age_65to74/tot_pop,\n",
    "          age_75to84_perc = age_75to84/tot_pop,\n",
    "          age_84plus_perc = age_84plus/tot_pop,\n",
    "          'lowrisk_agegroup_perc' = rowSums(. [10:16])/tot_pop ,\n",
    "          'highrisk_agegroup_perc' = rowSums(. [17:19])/tot_pop)                            \n",
    "# remove age group count:\n",
    "#  (note: resident_population (from vera inst) and tot_pop columns are close but not equal)\n",
    "county_demographics_df <- county_demographics_df[ , c(1:10, 21:31)]\n",
    "\n",
    "# ---------------\n",
    "# county land area and population data\n",
    "# from https://github.com/ykzeng/covid-19/tree/master/data\n",
    "landarea <- read.csv('https://raw.githubusercontent.com/ykzeng/covid-19/master/data/census-population-landarea.csv')\n",
    "\n",
    "# use nytimes to get fip-county key\n",
    "fips_county <- us_counties %>% \n",
    "    group_by(county, state, fips) %>%\n",
    "    summarize( dummy = 1)\n",
    "fips_county <- fips_county[ , 1:3]\n",
    "\n",
    "# --------------\n",
    "# join landarea and fips_county to get landarea information for each county\n",
    "landarea_county <- left_join( landarea, fips_county, by=\"fips\")\n",
    "\n",
    "#take only column LND110210\n",
    "landarea_county <- landarea_county[, c(8, 9, 6) ]\n",
    "# rename column LND110210 to land_area\n",
    "names(landarea_county)[3] <- 'land_area'\n",
    "\n",
    "# --------------\n",
    "# join demographics + landarea datasets\n",
    "county_demographics_df <- left_join(county_demographics_df, landarea_county, by=c(\"county\", \"state\"))\n",
    "# add a population density column\n",
    "county_demographics_df <- county_demographics_df %>% \n",
    "    mutate(population_density = tot_pop / land_area )\n",
    "\n",
    "# --------------\n",
    "# join jessica's jail dataset + (demographics + landarea) datasets\n",
    "jail_county_demographics_df <- full_join( jail_county_df, county_demographics_df, by = c('county', 'state')) \n",
    "\n",
    "# add infection rate column\n",
    "jail_county_demographics_df <- jail_county_demographics_df %>%\n",
    "    mutate( pop_infection_rate = cases/resident_population )"
   ]
  },
  {
   "cell_type": "code",
   "execution_count": 19,
   "metadata": {
    "scrolled": true
   },
   "outputs": [
    {
     "data": {
      "text/html": [
       "<table>\n",
       "<thead><tr><th scope=col>county</th><th scope=col>state</th><th scope=col>tot_pop</th><th scope=col>male_perc</th><th scope=col>female_perc</th><th scope=col>white_pop_perc</th><th scope=col>black_pop_perc</th><th scope=col>asian_pop_perc</th><th scope=col>hisp_pop_perc</th><th scope=col>age_oto4</th><th scope=col>...</th><th scope=col>age_35to44_perc</th><th scope=col>age_45to54_perc</th><th scope=col>age_55to64_perc</th><th scope=col>age_65to74_perc</th><th scope=col>age_75to84_perc</th><th scope=col>age_84plus_perc</th><th scope=col>lowrisk_agegroup_perc</th><th scope=col>highrisk_agegroup_perc</th><th scope=col>land_area</th><th scope=col>population_density</th></tr></thead>\n",
       "<tbody>\n",
       "\t<tr><td>Autauga    </td><td>Alabama    </td><td> 55601     </td><td>0.4855129  </td><td>0.5144871  </td><td>0.7837989  </td><td>0.20616536 </td><td>0.017301847</td><td>0.02965774 </td><td> 3364      </td><td>...        </td><td>0.1302854  </td><td>0.1398716  </td><td>0.1288466  </td><td>0.08812791 </td><td>0.05183360 </td><td>0.01566519 </td><td>0.8443733  </td><td>0.1556267  </td><td> 594.44    </td><td> 93.53509  </td></tr>\n",
       "\t<tr><td>Baldwin    </td><td>Alabama    </td><td>218022     </td><td>0.4846162  </td><td>0.5153838  </td><td>0.8895983  </td><td>0.09688472 </td><td>0.015613103</td><td>0.04646779 </td><td>11955      </td><td>...        </td><td>0.1194054  </td><td>0.1316519  </td><td>0.1440634  </td><td>0.12263900 </td><td>0.06205337 </td><td>0.01974113 </td><td>0.7955665  </td><td>0.2044335  </td><td>1589.78    </td><td>137.13973  </td></tr>\n",
       "\t<tr><td>Barbour    </td><td>Alabama    </td><td> 24881     </td><td>0.5278325  </td><td>0.4721675  </td><td>0.5003416  </td><td>0.49290623 </td><td>0.006068888</td><td>0.04276355 </td><td> 1284      </td><td>...        </td><td>0.1198103  </td><td>0.1296974  </td><td>0.1290543  </td><td>0.11563040 </td><td>0.05960371 </td><td>0.01897030 </td><td>0.8057956  </td><td>0.1942044  </td><td> 884.88    </td><td> 28.11794  </td></tr>\n",
       "</tbody>\n",
       "</table>\n"
      ],
      "text/latex": [
       "\\begin{tabular}{r|lllllllllllllllllllllll}\n",
       " county & state & tot\\_pop & male\\_perc & female\\_perc & white\\_pop\\_perc & black\\_pop\\_perc & asian\\_pop\\_perc & hisp\\_pop\\_perc & age\\_oto4 & ... & age\\_35to44\\_perc & age\\_45to54\\_perc & age\\_55to64\\_perc & age\\_65to74\\_perc & age\\_75to84\\_perc & age\\_84plus\\_perc & lowrisk\\_agegroup\\_perc & highrisk\\_agegroup\\_perc & land\\_area & population\\_density\\\\\n",
       "\\hline\n",
       "\t Autauga     & Alabama     &  55601      & 0.4855129   & 0.5144871   & 0.7837989   & 0.20616536  & 0.017301847 & 0.02965774  &  3364       & ...         & 0.1302854   & 0.1398716   & 0.1288466   & 0.08812791  & 0.05183360  & 0.01566519  & 0.8443733   & 0.1556267   &  594.44     &  93.53509  \\\\\n",
       "\t Baldwin     & Alabama     & 218022      & 0.4846162   & 0.5153838   & 0.8895983   & 0.09688472  & 0.015613103 & 0.04646779  & 11955       & ...         & 0.1194054   & 0.1316519   & 0.1440634   & 0.12263900  & 0.06205337  & 0.01974113  & 0.7955665   & 0.2044335   & 1589.78     & 137.13973  \\\\\n",
       "\t Barbour     & Alabama     &  24881      & 0.5278325   & 0.4721675   & 0.5003416   & 0.49290623  & 0.006068888 & 0.04276355  &  1284       & ...         & 0.1198103   & 0.1296974   & 0.1290543   & 0.11563040  & 0.05960371  & 0.01897030  & 0.8057956   & 0.1942044   &  884.88     &  28.11794  \\\\\n",
       "\\end{tabular}\n"
      ],
      "text/markdown": [
       "\n",
       "| county | state | tot_pop | male_perc | female_perc | white_pop_perc | black_pop_perc | asian_pop_perc | hisp_pop_perc | age_oto4 | ... | age_35to44_perc | age_45to54_perc | age_55to64_perc | age_65to74_perc | age_75to84_perc | age_84plus_perc | lowrisk_agegroup_perc | highrisk_agegroup_perc | land_area | population_density |\n",
       "|---|---|---|---|---|---|---|---|---|---|---|---|---|---|---|---|---|---|---|---|---|\n",
       "| Autauga     | Alabama     |  55601      | 0.4855129   | 0.5144871   | 0.7837989   | 0.20616536  | 0.017301847 | 0.02965774  |  3364       | ...         | 0.1302854   | 0.1398716   | 0.1288466   | 0.08812791  | 0.05183360  | 0.01566519  | 0.8443733   | 0.1556267   |  594.44     |  93.53509   |\n",
       "| Baldwin     | Alabama     | 218022      | 0.4846162   | 0.5153838   | 0.8895983   | 0.09688472  | 0.015613103 | 0.04646779  | 11955       | ...         | 0.1194054   | 0.1316519   | 0.1440634   | 0.12263900  | 0.06205337  | 0.01974113  | 0.7955665   | 0.2044335   | 1589.78     | 137.13973   |\n",
       "| Barbour     | Alabama     |  24881      | 0.5278325   | 0.4721675   | 0.5003416   | 0.49290623  | 0.006068888 | 0.04276355  |  1284       | ...         | 0.1198103   | 0.1296974   | 0.1290543   | 0.11563040  | 0.05960371  | 0.01897030  | 0.8057956   | 0.1942044   |  884.88     |  28.11794   |\n",
       "\n"
      ],
      "text/plain": [
       "  county  state   tot_pop male_perc female_perc white_pop_perc black_pop_perc\n",
       "1 Autauga Alabama  55601  0.4855129 0.5144871   0.7837989      0.20616536    \n",
       "2 Baldwin Alabama 218022  0.4846162 0.5153838   0.8895983      0.09688472    \n",
       "3 Barbour Alabama  24881  0.5278325 0.4721675   0.5003416      0.49290623    \n",
       "  asian_pop_perc hisp_pop_perc age_oto4 ... age_35to44_perc age_45to54_perc\n",
       "1 0.017301847    0.02965774     3364    ... 0.1302854       0.1398716      \n",
       "2 0.015613103    0.04646779    11955    ... 0.1194054       0.1316519      \n",
       "3 0.006068888    0.04276355     1284    ... 0.1198103       0.1296974      \n",
       "  age_55to64_perc age_65to74_perc age_75to84_perc age_84plus_perc\n",
       "1 0.1288466       0.08812791      0.05183360      0.01566519     \n",
       "2 0.1440634       0.12263900      0.06205337      0.01974113     \n",
       "3 0.1290543       0.11563040      0.05960371      0.01897030     \n",
       "  lowrisk_agegroup_perc highrisk_agegroup_perc land_area population_density\n",
       "1 0.8443733             0.1556267               594.44    93.53509         \n",
       "2 0.7955665             0.2044335              1589.78   137.13973         \n",
       "3 0.8057956             0.1942044               884.88    28.11794         "
      ]
     },
     "metadata": {},
     "output_type": "display_data"
    }
   ],
   "source": [
    "head(county_demographics_df, 3)\n",
    "#write.csv(county_demographics_df, 'county_demographics_df.csv')"
   ]
  },
  {
   "cell_type": "code",
   "execution_count": 20,
   "metadata": {},
   "outputs": [
    {
     "data": {
      "text/html": [
       "<table>\n",
       "<thead><tr><th scope=col>date</th><th scope=col>county</th><th scope=col>state</th><th scope=col>jail_population</th><th scope=col>resident_population</th><th scope=col>cases</th><th scope=col>deaths</th><th scope=col>jail_incarceration_rate_per_100k</th><th scope=col>urbanicity</th><th scope=col>tot_pop</th><th scope=col>...</th><th scope=col>age_45to54_perc</th><th scope=col>age_55to64_perc</th><th scope=col>age_65to74_perc</th><th scope=col>age_75to84_perc</th><th scope=col>age_84plus_perc</th><th scope=col>lowrisk_agegroup_perc</th><th scope=col>highrisk_agegroup_perc</th><th scope=col>land_area</th><th scope=col>population_density</th><th scope=col>pop_infection_rate</th></tr></thead>\n",
       "<tbody>\n",
       "\t<tr><td>2020-01-21  </td><td>Snohomish   </td><td>Washington  </td><td>858         </td><td>822083      </td><td>1           </td><td>0           </td><td>104.4       </td><td>suburban    </td><td>814901      </td><td>...         </td><td>0.1358423   </td><td>0.1341095   </td><td>0.08393289  </td><td>0.03600683  </td><td>0.0147613   </td><td>0.865299    </td><td>0.134701    </td><td>2087.27     </td><td>390.4148    </td><td>1.216422e-06</td></tr>\n",
       "\t<tr><td>2020-01-22  </td><td>Snohomish   </td><td>Washington  </td><td>819         </td><td>822083      </td><td>1           </td><td>0           </td><td> 99.6       </td><td>suburban    </td><td>814901      </td><td>...         </td><td>0.1358423   </td><td>0.1341095   </td><td>0.08393289  </td><td>0.03600683  </td><td>0.0147613   </td><td>0.865299    </td><td>0.134701    </td><td>2087.27     </td><td>390.4148    </td><td>1.216422e-06</td></tr>\n",
       "\t<tr><td>2020-01-23  </td><td>Snohomish   </td><td>Washington  </td><td>825         </td><td>822083      </td><td>1           </td><td>0           </td><td>100.4       </td><td>suburban    </td><td>814901      </td><td>...         </td><td>0.1358423   </td><td>0.1341095   </td><td>0.08393289  </td><td>0.03600683  </td><td>0.0147613   </td><td>0.865299    </td><td>0.134701    </td><td>2087.27     </td><td>390.4148    </td><td>1.216422e-06</td></tr>\n",
       "</tbody>\n",
       "</table>\n"
      ],
      "text/latex": [
       "\\begin{tabular}{r|lllllllllllllllllllllllllllllll}\n",
       " date & county & state & jail\\_population & resident\\_population & cases & deaths & jail\\_incarceration\\_rate\\_per\\_100k & urbanicity & tot\\_pop & ... & age\\_45to54\\_perc & age\\_55to64\\_perc & age\\_65to74\\_perc & age\\_75to84\\_perc & age\\_84plus\\_perc & lowrisk\\_agegroup\\_perc & highrisk\\_agegroup\\_perc & land\\_area & population\\_density & pop\\_infection\\_rate\\\\\n",
       "\\hline\n",
       "\t 2020-01-21   & Snohomish    & Washington   & 858          & 822083       & 1            & 0            & 104.4        & suburban     & 814901       & ...          & 0.1358423    & 0.1341095    & 0.08393289   & 0.03600683   & 0.0147613    & 0.865299     & 0.134701     & 2087.27      & 390.4148     & 1.216422e-06\\\\\n",
       "\t 2020-01-22   & Snohomish    & Washington   & 819          & 822083       & 1            & 0            &  99.6        & suburban     & 814901       & ...          & 0.1358423    & 0.1341095    & 0.08393289   & 0.03600683   & 0.0147613    & 0.865299     & 0.134701     & 2087.27      & 390.4148     & 1.216422e-06\\\\\n",
       "\t 2020-01-23   & Snohomish    & Washington   & 825          & 822083       & 1            & 0            & 100.4        & suburban     & 814901       & ...          & 0.1358423    & 0.1341095    & 0.08393289   & 0.03600683   & 0.0147613    & 0.865299     & 0.134701     & 2087.27      & 390.4148     & 1.216422e-06\\\\\n",
       "\\end{tabular}\n"
      ],
      "text/markdown": [
       "\n",
       "| date | county | state | jail_population | resident_population | cases | deaths | jail_incarceration_rate_per_100k | urbanicity | tot_pop | ... | age_45to54_perc | age_55to64_perc | age_65to74_perc | age_75to84_perc | age_84plus_perc | lowrisk_agegroup_perc | highrisk_agegroup_perc | land_area | population_density | pop_infection_rate |\n",
       "|---|---|---|---|---|---|---|---|---|---|---|---|---|---|---|---|---|---|---|---|---|\n",
       "| 2020-01-21   | Snohomish    | Washington   | 858          | 822083       | 1            | 0            | 104.4        | suburban     | 814901       | ...          | 0.1358423    | 0.1341095    | 0.08393289   | 0.03600683   | 0.0147613    | 0.865299     | 0.134701     | 2087.27      | 390.4148     | 1.216422e-06 |\n",
       "| 2020-01-22   | Snohomish    | Washington   | 819          | 822083       | 1            | 0            |  99.6        | suburban     | 814901       | ...          | 0.1358423    | 0.1341095    | 0.08393289   | 0.03600683   | 0.0147613    | 0.865299     | 0.134701     | 2087.27      | 390.4148     | 1.216422e-06 |\n",
       "| 2020-01-23   | Snohomish    | Washington   | 825          | 822083       | 1            | 0            | 100.4        | suburban     | 814901       | ...          | 0.1358423    | 0.1341095    | 0.08393289   | 0.03600683   | 0.0147613    | 0.865299     | 0.134701     | 2087.27      | 390.4148     | 1.216422e-06 |\n",
       "\n"
      ],
      "text/plain": [
       "  date       county    state      jail_population resident_population cases\n",
       "1 2020-01-21 Snohomish Washington 858             822083              1    \n",
       "2 2020-01-22 Snohomish Washington 819             822083              1    \n",
       "3 2020-01-23 Snohomish Washington 825             822083              1    \n",
       "  deaths jail_incarceration_rate_per_100k urbanicity tot_pop ...\n",
       "1 0      104.4                            suburban   814901  ...\n",
       "2 0       99.6                            suburban   814901  ...\n",
       "3 0      100.4                            suburban   814901  ...\n",
       "  age_45to54_perc age_55to64_perc age_65to74_perc age_75to84_perc\n",
       "1 0.1358423       0.1341095       0.08393289      0.03600683     \n",
       "2 0.1358423       0.1341095       0.08393289      0.03600683     \n",
       "3 0.1358423       0.1341095       0.08393289      0.03600683     \n",
       "  age_84plus_perc lowrisk_agegroup_perc highrisk_agegroup_perc land_area\n",
       "1 0.0147613       0.865299              0.134701               2087.27  \n",
       "2 0.0147613       0.865299              0.134701               2087.27  \n",
       "3 0.0147613       0.865299              0.134701               2087.27  \n",
       "  population_density pop_infection_rate\n",
       "1 390.4148           1.216422e-06      \n",
       "2 390.4148           1.216422e-06      \n",
       "3 390.4148           1.216422e-06      "
      ]
     },
     "metadata": {},
     "output_type": "display_data"
    }
   ],
   "source": [
    "head(jail_county_demographics_df, 3)"
   ]
  },
  {
   "cell_type": "markdown",
   "metadata": {},
   "source": [
    "### Filter by state, date"
   ]
  },
  {
   "cell_type": "code",
   "execution_count": 46,
   "metadata": {
    "scrolled": true
   },
   "outputs": [],
   "source": [
    "# filter jail_county_demographics_df \n",
    "\n",
    "#  consider only some states\n",
    "selected_states <- 'California|Texas|Ohio|Oregon'\n",
    "jail_county_demographics_filtered_df <- jail_county_demographics_df %>%\n",
    "    filter( #grepl( selected_states, state) ,   # use all states\n",
    "          jail_incarceration_rate_per_100k < 2000 ) # remove outlier counties\n",
    "\n",
    "\n",
    "\n",
    "#  keep most recent data\n",
    "jail_county_demographics_filtered_df$date <- as.Date(jail_county_demographics_filtered_df$date)\n",
    "\n",
    "jail_county_demographics_filtered_df <- jail_county_demographics_filtered_df %>%\n",
    "    group_by(county) %>% \n",
    "    filter(date == max(date))"
   ]
  },
  {
   "cell_type": "code",
   "execution_count": 47,
   "metadata": {
    "scrolled": true
   },
   "outputs": [
    {
     "name": "stderr",
     "output_type": "stream",
     "text": [
      "Warning message:\n",
      "\"Removed 8 rows containing missing values (geom_point).\""
     ]
    },
    {
     "data": {
      "image/png": "[encoded data removed]",
      "text/plain": [
       "plot without title"
      ]
     },
     "metadata": {},
     "output_type": "display_data"
    }
   ],
   "source": [
    "# try some plots\n",
    "options(repr.plot.width=4, repr.plot.height=4)\n",
    "ggplot(jail_county_demographics_filtered_df, \n",
    "       aes( x = highrisk_agegroup_perc, y = jail_incarceration_rate_per_100k, color = urbanicity) ) + \n",
    "            geom_point()"
   ]
  },
  {
   "cell_type": "markdown",
   "metadata": {},
   "source": [
    "## k-means clustering + project to 2 principal components to visualize"
   ]
  },
  {
   "cell_type": "code",
   "execution_count": 26,
   "metadata": {},
   "outputs": [],
   "source": [
    "# column names\n",
    "#jail_county_demographics_columns <- data.frame( colindex = 1:31, colname = names(jail_county_demographics_df))\n",
    "#jail_county_demographics_columns\n",
    "\n",
    "#county_demographics_columns <- data.frame( colindex = 1:23, colname = names(county_demographics_df))\n",
    "#county_demographics_columns"
   ]
  },
  {
   "cell_type": "code",
   "execution_count": 131,
   "metadata": {},
   "outputs": [
    {
     "data": {
      "text/html": [
       "<table>\n",
       "<thead><tr><th scope=col>cluster</th><th scope=col>count</th><th scope=col>ave_incarceration_rate</th><th scope=col>ave_jail_pop</th><th scope=col>ave_res_pop</th><th scope=col>ave_highrisk_agegroup_perc</th></tr></thead>\n",
       "<tbody>\n",
       "\t<tr><td>1        </td><td>180      </td><td>171.9567 </td><td> 77.61111</td><td> 46841.93</td><td>0.2451044</td></tr>\n",
       "\t<tr><td>2        </td><td>235      </td><td>202.7660 </td><td>584.32340</td><td>440190.58</td><td>0.1317093</td></tr>\n",
       "\t<tr><td>3        </td><td>556      </td><td>275.4674 </td><td>154.26259</td><td> 78330.59</td><td>0.1786999</td></tr>\n",
       "</tbody>\n",
       "</table>\n"
      ],
      "text/latex": [
       "\\begin{tabular}{r|llllll}\n",
       " cluster & count & ave\\_incarceration\\_rate & ave\\_jail\\_pop & ave\\_res\\_pop & ave\\_highrisk\\_agegroup\\_perc\\\\\n",
       "\\hline\n",
       "\t 1         & 180       & 171.9567  &  77.61111 &  46841.93 & 0.2451044\\\\\n",
       "\t 2         & 235       & 202.7660  & 584.32340 & 440190.58 & 0.1317093\\\\\n",
       "\t 3         & 556       & 275.4674  & 154.26259 &  78330.59 & 0.1786999\\\\\n",
       "\\end{tabular}\n"
      ],
      "text/markdown": [
       "\n",
       "| cluster | count | ave_incarceration_rate | ave_jail_pop | ave_res_pop | ave_highrisk_agegroup_perc |\n",
       "|---|---|---|---|---|---|\n",
       "| 1         | 180       | 171.9567  |  77.61111 |  46841.93 | 0.2451044 |\n",
       "| 2         | 235       | 202.7660  | 584.32340 | 440190.58 | 0.1317093 |\n",
       "| 3         | 556       | 275.4674  | 154.26259 |  78330.59 | 0.1786999 |\n",
       "\n"
      ],
      "text/plain": [
       "  cluster count ave_incarceration_rate ave_jail_pop ave_res_pop\n",
       "1 1       180   171.9567                77.61111     46841.93  \n",
       "2 2       235   202.7660               584.32340    440190.58  \n",
       "3 3       556   275.4674               154.26259     78330.59  \n",
       "  ave_highrisk_agegroup_perc\n",
       "1 0.2451044                 \n",
       "2 0.1317093                 \n",
       "3 0.1786999                 "
      ]
     },
     "metadata": {},
     "output_type": "display_data"
    },
    {
     "data": {
      "text/html": [
       "<table>\n",
       "<thead><tr><th scope=col>cluster</th><th scope=col>urbanicity</th><th scope=col>count</th><th scope=col>ave_incarceration_rate</th><th scope=col>ave_res_pop</th><th scope=col>ave_highrisk_agegroup_perc</th></tr></thead>\n",
       "<tbody>\n",
       "\t<tr><td>1         </td><td>rural     </td><td>139       </td><td>169.6842  </td><td>  30158.01</td><td>0.2424260 </td></tr>\n",
       "\t<tr><td>1         </td><td>small/mid </td><td> 32       </td><td>191.3219  </td><td>  87700.75</td><td>0.2622028 </td></tr>\n",
       "\t<tr><td>1         </td><td>suburban  </td><td>  9       </td><td>138.2000  </td><td> 159240.00</td><td>0.2256758 </td></tr>\n",
       "\t<tr><td>2         </td><td>rural     </td><td> 72       </td><td>250.9347  </td><td>  31549.46</td><td>0.1340580 </td></tr>\n",
       "\t<tr><td>2         </td><td>small/mid </td><td> 86       </td><td>222.6535  </td><td> 256285.28</td><td>0.1310535 </td></tr>\n",
       "\t<tr><td>2         </td><td>suburban  </td><td> 51       </td><td>145.6745  </td><td> 456445.98</td><td>0.1296679 </td></tr>\n",
       "\t<tr><td>2         </td><td>urban     </td><td> 26       </td><td>115.5808  </td><td>2148228.69</td><td>0.1313786 </td></tr>\n",
       "\t<tr><td>3         </td><td>rural     </td><td>289       </td><td>323.0550  </td><td>  32805.65</td><td>0.1827901 </td></tr>\n",
       "\t<tr><td>3         </td><td>small/mid </td><td>184       </td><td>228.2299  </td><td> 121301.89</td><td>0.1784619 </td></tr>\n",
       "\t<tr><td>3         </td><td>suburban  </td><td> 81       </td><td>217.3395  </td><td> 118724.44</td><td>0.1645096 </td></tr>\n",
       "\t<tr><td>3         </td><td>urban     </td><td>  2       </td><td> 99.1000  </td><td>1067373.50</td><td>0.1842663 </td></tr>\n",
       "</tbody>\n",
       "</table>\n"
      ],
      "text/latex": [
       "\\begin{tabular}{r|llllll}\n",
       " cluster & urbanicity & count & ave\\_incarceration\\_rate & ave\\_res\\_pop & ave\\_highrisk\\_agegroup\\_perc\\\\\n",
       "\\hline\n",
       "\t 1          & rural      & 139        & 169.6842   &   30158.01 & 0.2424260 \\\\\n",
       "\t 1          & small/mid  &  32        & 191.3219   &   87700.75 & 0.2622028 \\\\\n",
       "\t 1          & suburban   &   9        & 138.2000   &  159240.00 & 0.2256758 \\\\\n",
       "\t 2          & rural      &  72        & 250.9347   &   31549.46 & 0.1340580 \\\\\n",
       "\t 2          & small/mid  &  86        & 222.6535   &  256285.28 & 0.1310535 \\\\\n",
       "\t 2          & suburban   &  51        & 145.6745   &  456445.98 & 0.1296679 \\\\\n",
       "\t 2          & urban      &  26        & 115.5808   & 2148228.69 & 0.1313786 \\\\\n",
       "\t 3          & rural      & 289        & 323.0550   &   32805.65 & 0.1827901 \\\\\n",
       "\t 3          & small/mid  & 184        & 228.2299   &  121301.89 & 0.1784619 \\\\\n",
       "\t 3          & suburban   &  81        & 217.3395   &  118724.44 & 0.1645096 \\\\\n",
       "\t 3          & urban      &   2        &  99.1000   & 1067373.50 & 0.1842663 \\\\\n",
       "\\end{tabular}\n"
      ],
      "text/markdown": [
       "\n",
       "| cluster | urbanicity | count | ave_incarceration_rate | ave_res_pop | ave_highrisk_agegroup_perc |\n",
       "|---|---|---|---|---|---|\n",
       "| 1          | rural      | 139        | 169.6842   |   30158.01 | 0.2424260  |\n",
       "| 1          | small/mid  |  32        | 191.3219   |   87700.75 | 0.2622028  |\n",
       "| 1          | suburban   |   9        | 138.2000   |  159240.00 | 0.2256758  |\n",
       "| 2          | rural      |  72        | 250.9347   |   31549.46 | 0.1340580  |\n",
       "| 2          | small/mid  |  86        | 222.6535   |  256285.28 | 0.1310535  |\n",
       "| 2          | suburban   |  51        | 145.6745   |  456445.98 | 0.1296679  |\n",
       "| 2          | urban      |  26        | 115.5808   | 2148228.69 | 0.1313786  |\n",
       "| 3          | rural      | 289        | 323.0550   |   32805.65 | 0.1827901  |\n",
       "| 3          | small/mid  | 184        | 228.2299   |  121301.89 | 0.1784619  |\n",
       "| 3          | suburban   |  81        | 217.3395   |  118724.44 | 0.1645096  |\n",
       "| 3          | urban      |   2        |  99.1000   | 1067373.50 | 0.1842663  |\n",
       "\n"
      ],
      "text/plain": [
       "   cluster urbanicity count ave_incarceration_rate ave_res_pop\n",
       "1  1       rural      139   169.6842                 30158.01 \n",
       "2  1       small/mid   32   191.3219                 87700.75 \n",
       "3  1       suburban     9   138.2000                159240.00 \n",
       "4  2       rural       72   250.9347                 31549.46 \n",
       "5  2       small/mid   86   222.6535                256285.28 \n",
       "6  2       suburban    51   145.6745                456445.98 \n",
       "7  2       urban       26   115.5808               2148228.69 \n",
       "8  3       rural      289   323.0550                 32805.65 \n",
       "9  3       small/mid  184   228.2299                121301.89 \n",
       "10 3       suburban    81   217.3395                118724.44 \n",
       "11 3       urban        2    99.1000               1067373.50 \n",
       "   ave_highrisk_agegroup_perc\n",
       "1  0.2424260                 \n",
       "2  0.2622028                 \n",
       "3  0.2256758                 \n",
       "4  0.1340580                 \n",
       "5  0.1310535                 \n",
       "6  0.1296679                 \n",
       "7  0.1313786                 \n",
       "8  0.1827901                 \n",
       "9  0.1784619                 \n",
       "10 0.1645096                 \n",
       "11 0.1842663                 "
      ]
     },
     "metadata": {},
     "output_type": "display_data"
    },
    {
     "data": {
      "image/png": "[encoded data removed]",
      "text/plain": [
       "plot without title"
      ]
     },
     "metadata": {},
     "output_type": "display_data"
    }
   ],
   "source": [
    "# k means\n",
    "# k = 3\n",
    "\n",
    "selected_column_indices <- c(4:8,10:31)\n",
    "num_clusters <- 3 #try some number\n",
    "\n",
    "jail_county_demographics_filtered_df_dropna <- drop_na(jail_county_demographics_filtered_df)\n",
    "\n",
    "#opt_k <- fviz_nbclust(jail_county_demographics_filtered_df_dropna[ , selected_column_indices], kmeans, method = \"gap_stat\")\n",
    "\n",
    "set.seed(42)\n",
    "km <- kmeans(scale(jail_county_demographics_filtered_df_dropna[ , selected_column_indices]), num_clusters )\n",
    "jail_county_demographics_filtered_df_dropna$cluster <- as.factor(km$cluster)\n",
    "#write.csv(jail_county_demographics_filtered_df_dropna, 'jail_county_demographics_clustered_4means.csv', row.names=FALSE)\n",
    "\n",
    "\n",
    "# get a sense of the clusters\n",
    "options(repr.plot.width=4)\n",
    "ggplot(jail_county_demographics_filtered_df_dropna, \n",
    "       aes( x = highrisk_agegroup_perc, y = population_density, color = cluster) ) + \n",
    "            geom_point()\n",
    "\n",
    "jail_county_demographics_filtered_df_dropna %>%\n",
    "    group_by( cluster ) %>%\n",
    "    summarize( count = n(),\n",
    "             ave_incarceration_rate = mean(jail_incarceration_rate_per_100k),\n",
    "             ave_jail_pop = mean(jail_population),\n",
    "             ave_res_pop = mean(resident_population),\n",
    "             ave_highrisk_agegroup_perc = mean(highrisk_agegroup_perc))\n",
    "\n",
    "jail_county_demographics_filtered_df_dropna %>%\n",
    "    group_by( cluster, urbanicity ) %>%\n",
    "    summarize( count = n(),\n",
    "             ave_incarceration_rate = mean(jail_incarceration_rate_per_100k),\n",
    "             ave_res_pop = mean(resident_population),\n",
    "             ave_highrisk_agegroup_perc = mean(highrisk_agegroup_perc))"
   ]
  },
  {
   "cell_type": "markdown",
   "metadata": {},
   "source": [
    "Try PCA to see the clusters"
   ]
  },
  {
   "cell_type": "code",
   "execution_count": 134,
   "metadata": {},
   "outputs": [
    {
     "data": {
      "text/plain": [
       "Importance of components:\n",
       "                          PC1    PC2     PC3     PC4     PC5     PC6     PC7\n",
       "Standard deviation     2.8416 2.1906 1.56942 1.38672 1.31725 1.19645 1.13852\n",
       "Proportion of Variance 0.2991 0.1777 0.09122 0.07122 0.06427 0.05302 0.04801\n",
       "Cumulative Proportion  0.2991 0.4768 0.56802 0.63924 0.70351 0.75653 0.80453\n",
       "                          PC8     PC9    PC10    PC11    PC12    PC13    PC14\n",
       "Standard deviation     1.0456 0.94456 0.85149 0.73742 0.68573 0.60957 0.56358\n",
       "Proportion of Variance 0.0405 0.03304 0.02685 0.02014 0.01742 0.01376 0.01176\n",
       "Cumulative Proportion  0.8450 0.87807 0.90493 0.92507 0.94248 0.95625 0.96801\n",
       "                          PC15   PC16    PC17    PC18    PC19    PC20    PC21\n",
       "Standard deviation     0.53632 0.4705 0.39483 0.25640 0.21628 0.19866 0.19519\n",
       "Proportion of Variance 0.01065 0.0082 0.00577 0.00243 0.00173 0.00146 0.00141\n",
       "Cumulative Proportion  0.97866 0.9869 0.99264 0.99507 0.99680 0.99826 0.99968\n",
       "                          PC22    PC23     PC24     PC25      PC26      PC27\n",
       "Standard deviation     0.07066 0.06126 0.004384 1.24e-15 7.789e-16 4.645e-16\n",
       "Proportion of Variance 0.00018 0.00014 0.000000 0.00e+00 0.000e+00 0.000e+00\n",
       "Cumulative Proportion  0.99986 1.00000 1.000000 1.00e+00 1.000e+00 1.000e+00"
      ]
     },
     "metadata": {},
     "output_type": "display_data"
    },
    {
     "data": {
      "image/png": "[encoded data removed]",
      "text/plain": [
       "plot without title"
      ]
     },
     "metadata": {},
     "output_type": "display_data"
    }
   ],
   "source": [
    "#pca\n",
    "data <- jail_county_demographics_filtered_df_dropna\n",
    "selected_column_indices <- c(4:8,10:31)\n",
    "\n",
    "pca <- prcomp(data[ , selected_column_indices], center = TRUE, scale = TRUE)\n",
    "summary(pca)\n",
    "\n",
    "# initial plots\n",
    "#plot(pca$x[,1],pca$x[,2], xlab=\"PC1 (29.9%)\", ylab = \"PC2 (17.8%)\", main = \"PC1 / PC2 - plot\")\n",
    "\n",
    "# scree plots\n",
    "# screeplot(pca, type = \"l\", npcs = 15, main = \"Screeplot of the first 10 PCs\")\n",
    "# abline(h = 1, col=\"red\", lty=5)\n",
    "# legend(\"topright\", legend=c(\"Eigenvalue = 1\"),\n",
    "#        col=c(\"red\"), lty=5, cex=0.6)\n",
    "# cumpro <- cumsum(pca$sdev^2 / sum(pca$sdev^2))\n",
    "# plot(cumpro[0:15], xlab = \"PC #\", ylab = \"Amount of explained variance\", main = \"Cumulative variance plot\")\n",
    "# abline(v = 8, col=\"blue\", lty=5)\n",
    "# abline(h = 0.845, col=\"blue\", lty=5)\n",
    "# legend(\"topleft\", legend=c(\"Cut-off @ PC8\"),\n",
    "#        col=c(\"blue\"), lty=5, cex=0.6)\n",
    "\n",
    "\n",
    "# principal components + clusters\n",
    "fviz_pca_ind(pca, geom.ind = \"point\", pointshape = 21, \n",
    "             pointsize = 2, \n",
    "             fill.ind = data$cluster, \n",
    "             col.ind = \"black\", \n",
    "             palette = \"jco\", \n",
    "             addEllipses = TRUE,\n",
    "             label = \"var\",\n",
    "             col.var = \"black\",\n",
    "             repel = TRUE,\n",
    "             legend.title = \"Cluster\") +\n",
    "  theme(plot.title = element_text(hjust = 0.5))"
   ]
  },
  {
   "cell_type": "code",
   "execution_count": 136,
   "metadata": {},
   "outputs": [
    {
     "data": {
      "text/html": [
       "<table>\n",
       "<thead><tr><th scope=col>cluster</th><th scope=col>count</th><th scope=col>ave_incarceration_rate</th><th scope=col>ave_jail_pop</th><th scope=col>ave_res_pop</th><th scope=col>ave_highrisk_agegroup_perc</th></tr></thead>\n",
       "<tbody>\n",
       "\t<tr><td>1        </td><td>151      </td><td>177.0053 </td><td> 80.51656</td><td> 48274.70</td><td>0.2511386</td></tr>\n",
       "\t<tr><td>2        </td><td>211      </td><td>195.3754 </td><td>598.74882</td><td>464472.19</td><td>0.1317176</td></tr>\n",
       "\t<tr><td>3        </td><td>490      </td><td>255.7998 </td><td>140.85306</td><td> 79310.67</td><td>0.1807153</td></tr>\n",
       "\t<tr><td>4        </td><td>119      </td><td>323.2622 </td><td>248.26891</td><td> 94729.42</td><td>0.1694350</td></tr>\n",
       "</tbody>\n",
       "</table>\n"
      ],
      "text/latex": [
       "\\begin{tabular}{r|llllll}\n",
       " cluster & count & ave\\_incarceration\\_rate & ave\\_jail\\_pop & ave\\_res\\_pop & ave\\_highrisk\\_agegroup\\_perc\\\\\n",
       "\\hline\n",
       "\t 1         & 151       & 177.0053  &  80.51656 &  48274.70 & 0.2511386\\\\\n",
       "\t 2         & 211       & 195.3754  & 598.74882 & 464472.19 & 0.1317176\\\\\n",
       "\t 3         & 490       & 255.7998  & 140.85306 &  79310.67 & 0.1807153\\\\\n",
       "\t 4         & 119       & 323.2622  & 248.26891 &  94729.42 & 0.1694350\\\\\n",
       "\\end{tabular}\n"
      ],
      "text/markdown": [
       "\n",
       "| cluster | count | ave_incarceration_rate | ave_jail_pop | ave_res_pop | ave_highrisk_agegroup_perc |\n",
       "|---|---|---|---|---|---|\n",
       "| 1         | 151       | 177.0053  |  80.51656 |  48274.70 | 0.2511386 |\n",
       "| 2         | 211       | 195.3754  | 598.74882 | 464472.19 | 0.1317176 |\n",
       "| 3         | 490       | 255.7998  | 140.85306 |  79310.67 | 0.1807153 |\n",
       "| 4         | 119       | 323.2622  | 248.26891 |  94729.42 | 0.1694350 |\n",
       "\n"
      ],
      "text/plain": [
       "  cluster count ave_incarceration_rate ave_jail_pop ave_res_pop\n",
       "1 1       151   177.0053                80.51656     48274.70  \n",
       "2 2       211   195.3754               598.74882    464472.19  \n",
       "3 3       490   255.7998               140.85306     79310.67  \n",
       "4 4       119   323.2622               248.26891     94729.42  \n",
       "  ave_highrisk_agegroup_perc\n",
       "1 0.2511386                 \n",
       "2 0.1317176                 \n",
       "3 0.1807153                 \n",
       "4 0.1694350                 "
      ]
     },
     "metadata": {},
     "output_type": "display_data"
    },
    {
     "data": {
      "text/html": [
       "<table>\n",
       "<thead><tr><th scope=col>cluster</th><th scope=col>urbanicity</th><th scope=col>count</th><th scope=col>ave_incarceration_rate</th><th scope=col>ave_res_pop</th><th scope=col>ave_highrisk_agegroup_perc</th></tr></thead>\n",
       "<tbody>\n",
       "\t<tr><td>1         </td><td>rural     </td><td>119       </td><td>173.6504  </td><td>  29695.87</td><td>0.2472310 </td></tr>\n",
       "\t<tr><td>1         </td><td>small/mid </td><td> 25       </td><td>206.5080  </td><td> 104159.16</td><td>0.2761612 </td></tr>\n",
       "\t<tr><td>1         </td><td>suburban  </td><td>  7       </td><td>128.6714  </td><td> 164527.43</td><td>0.2282017 </td></tr>\n",
       "\t<tr><td>2         </td><td>rural     </td><td> 69       </td><td>264.7565  </td><td>  30149.64</td><td>0.1352368 </td></tr>\n",
       "\t<tr><td>2         </td><td>small/mid </td><td> 72       </td><td>189.5292  </td><td> 268368.21</td><td>0.1296969 </td></tr>\n",
       "\t<tr><td>2         </td><td>suburban  </td><td> 45       </td><td>142.8600  </td><td> 475676.09</td><td>0.1303475 </td></tr>\n",
       "\t<tr><td>2         </td><td>urban     </td><td> 25       </td><td>115.2480  </td><td>2207814.92</td><td>0.1302908 </td></tr>\n",
       "\t<tr><td>3         </td><td>rural     </td><td>255       </td><td>299.8961  </td><td>  33501.02</td><td>0.1854125 </td></tr>\n",
       "\t<tr><td>3         </td><td>small/mid </td><td>157       </td><td>210.4783  </td><td> 119526.23</td><td>0.1802937 </td></tr>\n",
       "\t<tr><td>3         </td><td>suburban  </td><td> 76       </td><td>205.5934  </td><td> 123935.53</td><td>0.1657322 </td></tr>\n",
       "\t<tr><td>3         </td><td>urban     </td><td>  2       </td><td> 99.1000  </td><td>1067373.50</td><td>0.1842663 </td></tr>\n",
       "\t<tr><td>4         </td><td>rural     </td><td> 57       </td><td>344.0386  </td><td>  31358.96</td><td>0.1779597 </td></tr>\n",
       "\t<tr><td>4         </td><td>small/mid </td><td> 48       </td><td>321.0604  </td><td> 134883.29</td><td>0.1656200 </td></tr>\n",
       "\t<tr><td>4         </td><td>suburban  </td><td> 13       </td><td>255.6308  </td><td> 180951.46</td><td>0.1469789 </td></tr>\n",
       "\t<tr><td>4         </td><td>urban     </td><td>  1       </td><td>123.9000  </td><td> 658573.00</td><td>0.1585727 </td></tr>\n",
       "</tbody>\n",
       "</table>\n"
      ],
      "text/latex": [
       "\\begin{tabular}{r|llllll}\n",
       " cluster & urbanicity & count & ave\\_incarceration\\_rate & ave\\_res\\_pop & ave\\_highrisk\\_agegroup\\_perc\\\\\n",
       "\\hline\n",
       "\t 1          & rural      & 119        & 173.6504   &   29695.87 & 0.2472310 \\\\\n",
       "\t 1          & small/mid  &  25        & 206.5080   &  104159.16 & 0.2761612 \\\\\n",
       "\t 1          & suburban   &   7        & 128.6714   &  164527.43 & 0.2282017 \\\\\n",
       "\t 2          & rural      &  69        & 264.7565   &   30149.64 & 0.1352368 \\\\\n",
       "\t 2          & small/mid  &  72        & 189.5292   &  268368.21 & 0.1296969 \\\\\n",
       "\t 2          & suburban   &  45        & 142.8600   &  475676.09 & 0.1303475 \\\\\n",
       "\t 2          & urban      &  25        & 115.2480   & 2207814.92 & 0.1302908 \\\\\n",
       "\t 3          & rural      & 255        & 299.8961   &   33501.02 & 0.1854125 \\\\\n",
       "\t 3          & small/mid  & 157        & 210.4783   &  119526.23 & 0.1802937 \\\\\n",
       "\t 3          & suburban   &  76        & 205.5934   &  123935.53 & 0.1657322 \\\\\n",
       "\t 3          & urban      &   2        &  99.1000   & 1067373.50 & 0.1842663 \\\\\n",
       "\t 4          & rural      &  57        & 344.0386   &   31358.96 & 0.1779597 \\\\\n",
       "\t 4          & small/mid  &  48        & 321.0604   &  134883.29 & 0.1656200 \\\\\n",
       "\t 4          & suburban   &  13        & 255.6308   &  180951.46 & 0.1469789 \\\\\n",
       "\t 4          & urban      &   1        & 123.9000   &  658573.00 & 0.1585727 \\\\\n",
       "\\end{tabular}\n"
      ],
      "text/markdown": [
       "\n",
       "| cluster | urbanicity | count | ave_incarceration_rate | ave_res_pop | ave_highrisk_agegroup_perc |\n",
       "|---|---|---|---|---|---|\n",
       "| 1          | rural      | 119        | 173.6504   |   29695.87 | 0.2472310  |\n",
       "| 1          | small/mid  |  25        | 206.5080   |  104159.16 | 0.2761612  |\n",
       "| 1          | suburban   |   7        | 128.6714   |  164527.43 | 0.2282017  |\n",
       "| 2          | rural      |  69        | 264.7565   |   30149.64 | 0.1352368  |\n",
       "| 2          | small/mid  |  72        | 189.5292   |  268368.21 | 0.1296969  |\n",
       "| 2          | suburban   |  45        | 142.8600   |  475676.09 | 0.1303475  |\n",
       "| 2          | urban      |  25        | 115.2480   | 2207814.92 | 0.1302908  |\n",
       "| 3          | rural      | 255        | 299.8961   |   33501.02 | 0.1854125  |\n",
       "| 3          | small/mid  | 157        | 210.4783   |  119526.23 | 0.1802937  |\n",
       "| 3          | suburban   |  76        | 205.5934   |  123935.53 | 0.1657322  |\n",
       "| 3          | urban      |   2        |  99.1000   | 1067373.50 | 0.1842663  |\n",
       "| 4          | rural      |  57        | 344.0386   |   31358.96 | 0.1779597  |\n",
       "| 4          | small/mid  |  48        | 321.0604   |  134883.29 | 0.1656200  |\n",
       "| 4          | suburban   |  13        | 255.6308   |  180951.46 | 0.1469789  |\n",
       "| 4          | urban      |   1        | 123.9000   |  658573.00 | 0.1585727  |\n",
       "\n"
      ],
      "text/plain": [
       "   cluster urbanicity count ave_incarceration_rate ave_res_pop\n",
       "1  1       rural      119   173.6504                 29695.87 \n",
       "2  1       small/mid   25   206.5080                104159.16 \n",
       "3  1       suburban     7   128.6714                164527.43 \n",
       "4  2       rural       69   264.7565                 30149.64 \n",
       "5  2       small/mid   72   189.5292                268368.21 \n",
       "6  2       suburban    45   142.8600                475676.09 \n",
       "7  2       urban       25   115.2480               2207814.92 \n",
       "8  3       rural      255   299.8961                 33501.02 \n",
       "9  3       small/mid  157   210.4783                119526.23 \n",
       "10 3       suburban    76   205.5934                123935.53 \n",
       "11 3       urban        2    99.1000               1067373.50 \n",
       "12 4       rural       57   344.0386                 31358.96 \n",
       "13 4       small/mid   48   321.0604                134883.29 \n",
       "14 4       suburban    13   255.6308                180951.46 \n",
       "15 4       urban        1   123.9000                658573.00 \n",
       "   ave_highrisk_agegroup_perc\n",
       "1  0.2472310                 \n",
       "2  0.2761612                 \n",
       "3  0.2282017                 \n",
       "4  0.1352368                 \n",
       "5  0.1296969                 \n",
       "6  0.1303475                 \n",
       "7  0.1302908                 \n",
       "8  0.1854125                 \n",
       "9  0.1802937                 \n",
       "10 0.1657322                 \n",
       "11 0.1842663                 \n",
       "12 0.1779597                 \n",
       "13 0.1656200                 \n",
       "14 0.1469789                 \n",
       "15 0.1585727                 "
      ]
     },
     "metadata": {},
     "output_type": "display_data"
    },
    {
     "data": {
      "text/plain": [
       "Importance of components:\n",
       "                          PC1    PC2     PC3     PC4     PC5     PC6     PC7\n",
       "Standard deviation     2.8416 2.1906 1.56942 1.38672 1.31725 1.19645 1.13852\n",
       "Proportion of Variance 0.2991 0.1777 0.09122 0.07122 0.06427 0.05302 0.04801\n",
       "Cumulative Proportion  0.2991 0.4768 0.56802 0.63924 0.70351 0.75653 0.80453\n",
       "                          PC8     PC9    PC10    PC11    PC12    PC13    PC14\n",
       "Standard deviation     1.0456 0.94456 0.85149 0.73742 0.68573 0.60957 0.56358\n",
       "Proportion of Variance 0.0405 0.03304 0.02685 0.02014 0.01742 0.01376 0.01176\n",
       "Cumulative Proportion  0.8450 0.87807 0.90493 0.92507 0.94248 0.95625 0.96801\n",
       "                          PC15   PC16    PC17    PC18    PC19    PC20    PC21\n",
       "Standard deviation     0.53632 0.4705 0.39483 0.25640 0.21628 0.19866 0.19519\n",
       "Proportion of Variance 0.01065 0.0082 0.00577 0.00243 0.00173 0.00146 0.00141\n",
       "Cumulative Proportion  0.97866 0.9869 0.99264 0.99507 0.99680 0.99826 0.99968\n",
       "                          PC22    PC23     PC24      PC25      PC26      PC27\n",
       "Standard deviation     0.07066 0.06126 0.004384 1.176e-15 7.721e-16 4.709e-16\n",
       "Proportion of Variance 0.00018 0.00014 0.000000 0.000e+00 0.000e+00 0.000e+00\n",
       "Cumulative Proportion  0.99986 1.00000 1.000000 1.000e+00 1.000e+00 1.000e+00"
      ]
     },
     "metadata": {},
     "output_type": "display_data"
    },
    {
     "data": {
      "image/png": "[encoded data removed]",
      "text/plain": [
       "plot without title"
      ]
     },
     "metadata": {},
     "output_type": "display_data"
    },
    {
     "data": {
      "image/png": "[encoded data removed]",
      "text/plain": [
       "plot without title"
      ]
     },
     "metadata": {},
     "output_type": "display_data"
    }
   ],
   "source": [
    "# k = 4\n",
    "\n",
    "selected_column_indices <- c(4:8,10:31)\n",
    "num_clusters <- 4 #try some number\n",
    "\n",
    "jail_county_demographics_filtered_df_dropna <- drop_na(jail_county_demographics_filtered_df)\n",
    "\n",
    "#opt_k <- fviz_nbclust(jail_county_demographics_filtered_df_dropna[ , selected_column_indices], kmeans, method = \"gap_stat\")\n",
    "\n",
    "set.seed(42)\n",
    "km <- kmeans(scale(jail_county_demographics_filtered_df_dropna[ , selected_column_indices]), num_clusters )\n",
    "jail_county_demographics_filtered_df_dropna$cluster <- as.factor(km$cluster)\n",
    "#write.csv(jail_county_demographics_filtered_df_dropna, 'jail_county_demographics_clustered_4means.csv', row.names=FALSE)\n",
    "\n",
    "\n",
    "# get a sense of the clusters\n",
    "options(repr.plot.width=4)\n",
    "ggplot(jail_county_demographics_filtered_df_dropna, \n",
    "       aes( x = highrisk_agegroup_perc, y = population_density, color = cluster) ) + \n",
    "            geom_point()\n",
    "\n",
    "jail_county_demographics_filtered_df_dropna %>%\n",
    "    group_by( cluster ) %>%\n",
    "    summarize( count = n(),\n",
    "             ave_incarceration_rate = mean(jail_incarceration_rate_per_100k),\n",
    "             ave_jail_pop = mean(jail_population),\n",
    "             ave_res_pop = mean(resident_population),\n",
    "             ave_highrisk_agegroup_perc = mean(highrisk_agegroup_perc))\n",
    "\n",
    "jail_county_demographics_filtered_df_dropna %>%\n",
    "    group_by( cluster, urbanicity ) %>%\n",
    "    summarize( count = n(),\n",
    "             ave_incarceration_rate = mean(jail_incarceration_rate_per_100k),\n",
    "             ave_res_pop = mean(resident_population),\n",
    "             ave_highrisk_agegroup_perc = mean(highrisk_agegroup_perc))\n",
    "\n",
    "#pca\n",
    "data <- jail_county_demographics_filtered_df_dropna\n",
    "selected_column_indices <- c(4:8,10:31)\n",
    "\n",
    "pca <- prcomp(data[ , selected_column_indices], center = TRUE, scale = TRUE)\n",
    "summary(pca)\n",
    "\n",
    "# principal components + clusters\n",
    "fviz_pca_ind(pca, geom.ind = \"point\", pointshape = 21, \n",
    "             pointsize = 2, \n",
    "             fill.ind = data$cluster, \n",
    "             col.ind = \"black\", \n",
    "             palette = \"jco\", \n",
    "             addEllipses = TRUE,\n",
    "             label = \"var\",\n",
    "             col.var = \"black\",\n",
    "             repel = TRUE,\n",
    "             legend.title = \"Cluster\") +\n",
    "  theme(plot.title = element_text(hjust = 0.5))"
   ]
  },
  {
   "cell_type": "code",
   "execution_count": 137,
   "metadata": {},
   "outputs": [
    {
     "data": {
      "text/html": [
       "<table>\n",
       "<thead><tr><th scope=col>cluster</th><th scope=col>count</th><th scope=col>ave_incarceration_rate</th><th scope=col>ave_jail_pop</th><th scope=col>ave_res_pop</th><th scope=col>ave_highrisk_agegroup_perc</th></tr></thead>\n",
       "<tbody>\n",
       "\t<tr><td>1         </td><td>145       </td><td>183.4717  </td><td>  80.37241</td><td>  46609.77</td><td>0.2535213 </td></tr>\n",
       "\t<tr><td>2         </td><td> 21       </td><td>105.9619  </td><td>2879.71429</td><td>2540862.29</td><td>0.1430403 </td></tr>\n",
       "\t<tr><td>3         </td><td>460       </td><td>255.4730  </td><td> 133.37391</td><td>  75860.75</td><td>0.1836879 </td></tr>\n",
       "\t<tr><td>4         </td><td>141       </td><td>292.2057  </td><td> 335.53901</td><td> 187130.88</td><td>0.1622239 </td></tr>\n",
       "\t<tr><td>5         </td><td>204       </td><td>216.7397  </td><td> 275.80882</td><td> 166814.79</td><td>0.1337900 </td></tr>\n",
       "</tbody>\n",
       "</table>\n"
      ],
      "text/latex": [
       "\\begin{tabular}{r|llllll}\n",
       " cluster & count & ave\\_incarceration\\_rate & ave\\_jail\\_pop & ave\\_res\\_pop & ave\\_highrisk\\_agegroup\\_perc\\\\\n",
       "\\hline\n",
       "\t 1          & 145        & 183.4717   &   80.37241 &   46609.77 & 0.2535213 \\\\\n",
       "\t 2          &  21        & 105.9619   & 2879.71429 & 2540862.29 & 0.1430403 \\\\\n",
       "\t 3          & 460        & 255.4730   &  133.37391 &   75860.75 & 0.1836879 \\\\\n",
       "\t 4          & 141        & 292.2057   &  335.53901 &  187130.88 & 0.1622239 \\\\\n",
       "\t 5          & 204        & 216.7397   &  275.80882 &  166814.79 & 0.1337900 \\\\\n",
       "\\end{tabular}\n"
      ],
      "text/markdown": [
       "\n",
       "| cluster | count | ave_incarceration_rate | ave_jail_pop | ave_res_pop | ave_highrisk_agegroup_perc |\n",
       "|---|---|---|---|---|---|\n",
       "| 1          | 145        | 183.4717   |   80.37241 |   46609.77 | 0.2535213  |\n",
       "| 2          |  21        | 105.9619   | 2879.71429 | 2540862.29 | 0.1430403  |\n",
       "| 3          | 460        | 255.4730   |  133.37391 |   75860.75 | 0.1836879  |\n",
       "| 4          | 141        | 292.2057   |  335.53901 |  187130.88 | 0.1622239  |\n",
       "| 5          | 204        | 216.7397   |  275.80882 |  166814.79 | 0.1337900  |\n",
       "\n"
      ],
      "text/plain": [
       "  cluster count ave_incarceration_rate ave_jail_pop ave_res_pop\n",
       "1 1       145   183.4717                 80.37241     46609.77 \n",
       "2 2        21   105.9619               2879.71429   2540862.29 \n",
       "3 3       460   255.4730                133.37391     75860.75 \n",
       "4 4       141   292.2057                335.53901    187130.88 \n",
       "5 5       204   216.7397                275.80882    166814.79 \n",
       "  ave_highrisk_agegroup_perc\n",
       "1 0.2535213                 \n",
       "2 0.1430403                 \n",
       "3 0.1836879                 \n",
       "4 0.1622239                 \n",
       "5 0.1337900                 "
      ]
     },
     "metadata": {},
     "output_type": "display_data"
    },
    {
     "data": {
      "text/html": [
       "<table>\n",
       "<thead><tr><th scope=col>cluster</th><th scope=col>urbanicity</th><th scope=col>count</th><th scope=col>ave_incarceration_rate</th><th scope=col>ave_res_pop</th><th scope=col>ave_highrisk_agegroup_perc</th></tr></thead>\n",
       "<tbody>\n",
       "\t<tr><td>1         </td><td>rural     </td><td>116       </td><td>177.6526  </td><td>  28678.50</td><td>0.2488623 </td></tr>\n",
       "\t<tr><td>1         </td><td>small/mid </td><td> 25       </td><td>213.8200  </td><td> 103033.60</td><td>0.2774696 </td></tr>\n",
       "\t<tr><td>1         </td><td>suburban  </td><td>  4       </td><td>162.5500  </td><td> 213967.50</td><td>0.2389538 </td></tr>\n",
       "\t<tr><td>2         </td><td>suburban  </td><td>  5       </td><td> 73.9600  </td><td>1362795.60</td><td>0.1589736 </td></tr>\n",
       "\t<tr><td>2         </td><td>urban     </td><td> 16       </td><td>115.9625  </td><td>2909008.12</td><td>0.1380612 </td></tr>\n",
       "\t<tr><td>3         </td><td>rural     </td><td>240       </td><td>303.7392  </td><td>  34436.68</td><td>0.1886875 </td></tr>\n",
       "\t<tr><td>3         </td><td>small/mid </td><td>146       </td><td>204.1911  </td><td> 120835.86</td><td>0.1828829 </td></tr>\n",
       "\t<tr><td>3         </td><td>suburban  </td><td> 74       </td><td>200.1122  </td><td> 121474.43</td><td>0.1690613 </td></tr>\n",
       "\t<tr><td>4         </td><td>rural     </td><td> 53       </td><td>345.9113  </td><td>  31051.96</td><td>0.1751903 </td></tr>\n",
       "\t<tr><td>4         </td><td>small/mid </td><td> 54       </td><td>311.6463  </td><td> 153753.00</td><td>0.1617595 </td></tr>\n",
       "\t<tr><td>4         </td><td>suburban  </td><td> 27       </td><td>192.8481  </td><td> 352270.11</td><td>0.1420758 </td></tr>\n",
       "\t<tr><td>4         </td><td>urban     </td><td>  7       </td><td>118.8429  </td><td> 989392.14</td><td>0.1453459 </td></tr>\n",
       "\t<tr><td>5         </td><td>rural     </td><td> 91       </td><td>254.7022  </td><td>  29748.29</td><td>0.1399736 </td></tr>\n",
       "\t<tr><td>5         </td><td>small/mid </td><td> 77       </td><td>198.4221  </td><td> 242155.44</td><td>0.1314991 </td></tr>\n",
       "\t<tr><td>5         </td><td>suburban  </td><td> 31       </td><td>169.1129  </td><td> 263172.13</td><td>0.1249081 </td></tr>\n",
       "\t<tr><td>5         </td><td>urban     </td><td>  5       </td><td>103.2000  </td><td> 903763.60</td><td>0.1115952 </td></tr>\n",
       "</tbody>\n",
       "</table>\n"
      ],
      "text/latex": [
       "\\begin{tabular}{r|llllll}\n",
       " cluster & urbanicity & count & ave\\_incarceration\\_rate & ave\\_res\\_pop & ave\\_highrisk\\_agegroup\\_perc\\\\\n",
       "\\hline\n",
       "\t 1          & rural      & 116        & 177.6526   &   28678.50 & 0.2488623 \\\\\n",
       "\t 1          & small/mid  &  25        & 213.8200   &  103033.60 & 0.2774696 \\\\\n",
       "\t 1          & suburban   &   4        & 162.5500   &  213967.50 & 0.2389538 \\\\\n",
       "\t 2          & suburban   &   5        &  73.9600   & 1362795.60 & 0.1589736 \\\\\n",
       "\t 2          & urban      &  16        & 115.9625   & 2909008.12 & 0.1380612 \\\\\n",
       "\t 3          & rural      & 240        & 303.7392   &   34436.68 & 0.1886875 \\\\\n",
       "\t 3          & small/mid  & 146        & 204.1911   &  120835.86 & 0.1828829 \\\\\n",
       "\t 3          & suburban   &  74        & 200.1122   &  121474.43 & 0.1690613 \\\\\n",
       "\t 4          & rural      &  53        & 345.9113   &   31051.96 & 0.1751903 \\\\\n",
       "\t 4          & small/mid  &  54        & 311.6463   &  153753.00 & 0.1617595 \\\\\n",
       "\t 4          & suburban   &  27        & 192.8481   &  352270.11 & 0.1420758 \\\\\n",
       "\t 4          & urban      &   7        & 118.8429   &  989392.14 & 0.1453459 \\\\\n",
       "\t 5          & rural      &  91        & 254.7022   &   29748.29 & 0.1399736 \\\\\n",
       "\t 5          & small/mid  &  77        & 198.4221   &  242155.44 & 0.1314991 \\\\\n",
       "\t 5          & suburban   &  31        & 169.1129   &  263172.13 & 0.1249081 \\\\\n",
       "\t 5          & urban      &   5        & 103.2000   &  903763.60 & 0.1115952 \\\\\n",
       "\\end{tabular}\n"
      ],
      "text/markdown": [
       "\n",
       "| cluster | urbanicity | count | ave_incarceration_rate | ave_res_pop | ave_highrisk_agegroup_perc |\n",
       "|---|---|---|---|---|---|\n",
       "| 1          | rural      | 116        | 177.6526   |   28678.50 | 0.2488623  |\n",
       "| 1          | small/mid  |  25        | 213.8200   |  103033.60 | 0.2774696  |\n",
       "| 1          | suburban   |   4        | 162.5500   |  213967.50 | 0.2389538  |\n",
       "| 2          | suburban   |   5        |  73.9600   | 1362795.60 | 0.1589736  |\n",
       "| 2          | urban      |  16        | 115.9625   | 2909008.12 | 0.1380612  |\n",
       "| 3          | rural      | 240        | 303.7392   |   34436.68 | 0.1886875  |\n",
       "| 3          | small/mid  | 146        | 204.1911   |  120835.86 | 0.1828829  |\n",
       "| 3          | suburban   |  74        | 200.1122   |  121474.43 | 0.1690613  |\n",
       "| 4          | rural      |  53        | 345.9113   |   31051.96 | 0.1751903  |\n",
       "| 4          | small/mid  |  54        | 311.6463   |  153753.00 | 0.1617595  |\n",
       "| 4          | suburban   |  27        | 192.8481   |  352270.11 | 0.1420758  |\n",
       "| 4          | urban      |   7        | 118.8429   |  989392.14 | 0.1453459  |\n",
       "| 5          | rural      |  91        | 254.7022   |   29748.29 | 0.1399736  |\n",
       "| 5          | small/mid  |  77        | 198.4221   |  242155.44 | 0.1314991  |\n",
       "| 5          | suburban   |  31        | 169.1129   |  263172.13 | 0.1249081  |\n",
       "| 5          | urban      |   5        | 103.2000   |  903763.60 | 0.1115952  |\n",
       "\n"
      ],
      "text/plain": [
       "   cluster urbanicity count ave_incarceration_rate ave_res_pop\n",
       "1  1       rural      116   177.6526                 28678.50 \n",
       "2  1       small/mid   25   213.8200                103033.60 \n",
       "3  1       suburban     4   162.5500                213967.50 \n",
       "4  2       suburban     5    73.9600               1362795.60 \n",
       "5  2       urban       16   115.9625               2909008.12 \n",
       "6  3       rural      240   303.7392                 34436.68 \n",
       "7  3       small/mid  146   204.1911                120835.86 \n",
       "8  3       suburban    74   200.1122                121474.43 \n",
       "9  4       rural       53   345.9113                 31051.96 \n",
       "10 4       small/mid   54   311.6463                153753.00 \n",
       "11 4       suburban    27   192.8481                352270.11 \n",
       "12 4       urban        7   118.8429                989392.14 \n",
       "13 5       rural       91   254.7022                 29748.29 \n",
       "14 5       small/mid   77   198.4221                242155.44 \n",
       "15 5       suburban    31   169.1129                263172.13 \n",
       "16 5       urban        5   103.2000                903763.60 \n",
       "   ave_highrisk_agegroup_perc\n",
       "1  0.2488623                 \n",
       "2  0.2774696                 \n",
       "3  0.2389538                 \n",
       "4  0.1589736                 \n",
       "5  0.1380612                 \n",
       "6  0.1886875                 \n",
       "7  0.1828829                 \n",
       "8  0.1690613                 \n",
       "9  0.1751903                 \n",
       "10 0.1617595                 \n",
       "11 0.1420758                 \n",
       "12 0.1453459                 \n",
       "13 0.1399736                 \n",
       "14 0.1314991                 \n",
       "15 0.1249081                 \n",
       "16 0.1115952                 "
      ]
     },
     "metadata": {},
     "output_type": "display_data"
    },
    {
     "data": {
      "text/plain": [
       "Importance of components:\n",
       "                          PC1    PC2     PC3     PC4     PC5     PC6     PC7\n",
       "Standard deviation     2.8416 2.1906 1.56942 1.38672 1.31725 1.19645 1.13852\n",
       "Proportion of Variance 0.2991 0.1777 0.09122 0.07122 0.06427 0.05302 0.04801\n",
       "Cumulative Proportion  0.2991 0.4768 0.56802 0.63924 0.70351 0.75653 0.80453\n",
       "                          PC8     PC9    PC10    PC11    PC12    PC13    PC14\n",
       "Standard deviation     1.0456 0.94456 0.85149 0.73742 0.68573 0.60957 0.56358\n",
       "Proportion of Variance 0.0405 0.03304 0.02685 0.02014 0.01742 0.01376 0.01176\n",
       "Cumulative Proportion  0.8450 0.87807 0.90493 0.92507 0.94248 0.95625 0.96801\n",
       "                          PC15   PC16    PC17    PC18    PC19    PC20    PC21\n",
       "Standard deviation     0.53632 0.4705 0.39483 0.25640 0.21628 0.19866 0.19519\n",
       "Proportion of Variance 0.01065 0.0082 0.00577 0.00243 0.00173 0.00146 0.00141\n",
       "Cumulative Proportion  0.97866 0.9869 0.99264 0.99507 0.99680 0.99826 0.99968\n",
       "                          PC22    PC23     PC24      PC25      PC26      PC27\n",
       "Standard deviation     0.07066 0.06126 0.004384 1.176e-15 7.721e-16 4.709e-16\n",
       "Proportion of Variance 0.00018 0.00014 0.000000 0.000e+00 0.000e+00 0.000e+00\n",
       "Cumulative Proportion  0.99986 1.00000 1.000000 1.000e+00 1.000e+00 1.000e+00"
      ]
     },
     "metadata": {},
     "output_type": "display_data"
    },
    {
     "data": {
      "image/png": "[encoded data removed]",
      "text/plain": [
       "plot without title"
      ]
     },
     "metadata": {},
     "output_type": "display_data"
    },
    {
     "data": {
      "image/png": "[encoded data removed]",
      "text/plain": [
       "plot without title"
      ]
     },
     "metadata": {},
     "output_type": "display_data"
    }
   ],
   "source": [
    "# k = 5\n",
    "\n",
    "selected_column_indices <- c(4:8,10:31)\n",
    "num_clusters <- 5 \n",
    "\n",
    "jail_county_demographics_filtered_df_dropna <- drop_na(jail_county_demographics_filtered_df)\n",
    "\n",
    "#opt_k <- fviz_nbclust(jail_county_demographics_filtered_df_dropna[ , selected_column_indices], kmeans, method = \"gap_stat\")\n",
    "\n",
    "set.seed(42)\n",
    "km <- kmeans(scale(jail_county_demographics_filtered_df_dropna[ , selected_column_indices]), num_clusters )\n",
    "jail_county_demographics_filtered_df_dropna$cluster <- as.factor(km$cluster)\n",
    "#write.csv(jail_county_demographics_filtered_df_dropna, 'jail_county_demographics_clustered_4means.csv', row.names=FALSE)\n",
    "\n",
    "\n",
    "# get a sense of the clusters\n",
    "options(repr.plot.width=4)\n",
    "ggplot(jail_county_demographics_filtered_df_dropna, \n",
    "       aes( x = highrisk_agegroup_perc, y = population_density, color = cluster) ) + \n",
    "            geom_point()\n",
    "\n",
    "jail_county_demographics_filtered_df_dropna %>%\n",
    "    group_by( cluster ) %>%\n",
    "    summarize( count = n(),\n",
    "             ave_incarceration_rate = mean(jail_incarceration_rate_per_100k),\n",
    "             ave_jail_pop = mean(jail_population),\n",
    "             ave_res_pop = mean(resident_population),\n",
    "             ave_highrisk_agegroup_perc = mean(highrisk_agegroup_perc))\n",
    "\n",
    "jail_county_demographics_filtered_df_dropna %>%\n",
    "    group_by( cluster, urbanicity ) %>%\n",
    "    summarize( count = n(),\n",
    "             ave_incarceration_rate = mean(jail_incarceration_rate_per_100k),\n",
    "             ave_res_pop = mean(resident_population),\n",
    "             ave_highrisk_agegroup_perc = mean(highrisk_agegroup_perc))\n",
    "\n",
    "#pca\n",
    "data <- jail_county_demographics_filtered_df_dropna\n",
    "selected_column_indices <- c(4:8,10:31)\n",
    "\n",
    "pca <- prcomp(data[ , selected_column_indices], center = TRUE, scale = TRUE)\n",
    "summary(pca)\n",
    "\n",
    "# principal components + clusters\n",
    "fviz_pca_ind(pca, geom.ind = \"point\", pointshape = 21, \n",
    "             pointsize = 2, \n",
    "             fill.ind = data$cluster, \n",
    "             col.ind = \"black\", \n",
    "             palette = \"jco\", \n",
    "             addEllipses = TRUE,\n",
    "             label = \"var\",\n",
    "             col.var = \"black\",\n",
    "             repel = TRUE,\n",
    "             legend.title = \"Cluster\") +\n",
    "  theme(plot.title = element_text(hjust = 0.5))"
   ]
  },
  {
   "cell_type": "code",
   "execution_count": null,
   "metadata": {},
   "outputs": [],
   "source": []
  }
 ],
 "metadata": {
  "kernelspec": {
   "display_name": "R",
   "language": "R",
   "name": "ir"
  },
  "language_info": {
   "codemirror_mode": "r",
   "file_extension": ".r",
   "mimetype": "text/x-r-source",
   "name": "R",
   "pygments_lexer": "r",
   "version": "3.6.1"
  }
 },
 "nbformat": 4,
 "nbformat_minor": 4
}
