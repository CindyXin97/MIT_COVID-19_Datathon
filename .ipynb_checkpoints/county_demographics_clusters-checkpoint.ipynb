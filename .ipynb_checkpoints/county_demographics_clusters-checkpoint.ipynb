{
 "cells": [
  {
   "cell_type": "markdown",
   "metadata": {},
   "source": [
    "In this notebook:\n",
    "1. Get county demographic data: \n",
    "    + county_demographics_df.csv\n",
    "    + jail_county_demographics_df.csv (jail_county_df.csv + county_demographics_df.csv)\n",
    "2. county clustering\n",
    "    + simple k-means"
   ]
  },
  {
   "cell_type": "code",
   "execution_count": 1,
   "metadata": {
    "scrolled": true
   },
   "outputs": [
    {
     "name": "stderr",
     "output_type": "stream",
     "text": [
      "Registered S3 methods overwritten by 'ggplot2':\n",
      "  method         from \n",
      "  [.quosures     rlang\n",
      "  c.quosures     rlang\n",
      "  print.quosures rlang\n",
      "Registered S3 method overwritten by 'rvest':\n",
      "  method            from\n",
      "  read_xml.response xml2\n",
      "-- Attaching packages --------------------------------------- tidyverse 1.2.1 --\n",
      "v ggplot2 3.1.1     v purrr   0.3.2\n",
      "v tibble  3.0.1     v dplyr   0.8.5\n",
      "v tidyr   1.0.3     v stringr 1.4.0\n",
      "v readr   1.3.1     v forcats 0.4.0\n",
      "Warning message:\n",
      "\"package 'tibble' was built under R version 3.6.3\"Warning message:\n",
      "\"package 'tidyr' was built under R version 3.6.3\"Warning message:\n",
      "\"package 'dplyr' was built under R version 3.6.3\"-- Conflicts ------------------------------------------ tidyverse_conflicts() --\n",
      "x dplyr::filter() masks stats::filter()\n",
      "x dplyr::lag()    masks stats::lag()\n",
      "Warning message:\n",
      "\"package 'factoextra' was built under R version 3.6.3\"Welcome! Want to learn more? See two factoextra-related books at https://goo.gl/ve3WBa\n"
     ]
    }
   ],
   "source": [
    "library('tidyverse')\n",
    "library('repr')\n",
    "library('factoextra')"
   ]
  },
  {
   "cell_type": "code",
   "execution_count": 54,
   "metadata": {
    "scrolled": false
   },
   "outputs": [
    {
     "data": {
      "text/html": [
       "<table>\n",
       "<thead><tr><th scope=col>fips</th><th scope=col>land_area</th></tr></thead>\n",
       "<tbody>\n",
       "\t<tr><td>00000     </td><td>3531905.43</td></tr>\n",
       "\t<tr><td>01000     </td><td>  50645.33</td></tr>\n",
       "\t<tr><td>01001     </td><td>    594.44</td></tr>\n",
       "\t<tr><td>01003     </td><td>   1589.78</td></tr>\n",
       "\t<tr><td>01005     </td><td>    884.88</td></tr>\n",
       "\t<tr><td>01007     </td><td>    622.58</td></tr>\n",
       "</tbody>\n",
       "</table>\n"
      ],
      "text/latex": [
       "\\begin{tabular}{r|ll}\n",
       " fips & land\\_area\\\\\n",
       "\\hline\n",
       "\t 00000      & 3531905.43\\\\\n",
       "\t 01000      &   50645.33\\\\\n",
       "\t 01001      &     594.44\\\\\n",
       "\t 01003      &    1589.78\\\\\n",
       "\t 01005      &     884.88\\\\\n",
       "\t 01007      &     622.58\\\\\n",
       "\\end{tabular}\n"
      ],
      "text/markdown": [
       "\n",
       "| fips | land_area |\n",
       "|---|---|\n",
       "| 00000      | 3531905.43 |\n",
       "| 01000      |   50645.33 |\n",
       "| 01001      |     594.44 |\n",
       "| 01003      |    1589.78 |\n",
       "| 01005      |     884.88 |\n",
       "| 01007      |     622.58 |\n",
       "\n"
      ],
      "text/plain": [
       "  fips  land_area \n",
       "1 00000 3531905.43\n",
       "2 01000   50645.33\n",
       "3 01001     594.44\n",
       "4 01003    1589.78\n",
       "5 01005     884.88\n",
       "6 01007     622.58"
      ]
     },
     "metadata": {},
     "output_type": "display_data"
    }
   ],
   "source": [
    "# load datasets\n",
    "\n",
    "# --------------\n",
    "# from jessica:\n",
    "# jail_county_df, without the index column X\n",
    "jail_county_df <- read.csv('jail_county_df.csv', stringsAsFactors = FALSE)[ , 2:10]\n",
    "\n",
    "# prison_county_df, without the index column X\n",
    "prison_county_df <- read.csv('prison_county_df.csv', stringsAsFactors = FALSE)[ , 2:7]\n",
    "#  capitalize county name:\n",
    "prison_county_df$county <- str_to_title(prison_county_df$county)\n",
    "\n",
    "# nytimes\n",
    "us_counties <- read.csv('https://raw.githubusercontent.com/nytimes/covid-19-data/master/us-counties.csv', \n",
    "                        colClasses = c('Date', 'factor', 'factor', 'factor', NA, NA))\n",
    "\n",
    "# vera inst\n",
    "#jail_population <- read.csv('https://raw.githubusercontent.com/vera-institute/jail-population-data/master/jail_population.csv')\n",
    "\n",
    "\n",
    "# merge with demographics datasets\n",
    "\n",
    "# --------------\n",
    "# county demographics: \n",
    "#   https://github.com/ringhilterra/enriched-covid19-data\n",
    "county_demographics_df <- read.csv('https://raw.githubusercontent.com/ringhilterra/enriched-covid19-data/master/us_county_demographics.csv', \n",
    "                                   colClasses = c('factor', 'factor', rep(NA, 19) ),\n",
    "                                   stringsAsFactors = FALSE)\n",
    "# combine state and county fips into one fips column\n",
    "county_demographics_df$state_fips <- str_pad(county_demographics_df$state_fips, 2, pad=\"0\")\n",
    "county_demographics_df$county_fips <- str_pad(county_demographics_df$county_fips, 3, pad=\"0\")\n",
    "county_demographics_df$fips <- paste(county_demographics_df$state_fips, county_demographics_df$county_fips, sep=\"\")\n",
    "\n",
    "#  tidy up column names: convert to lower case\n",
    "names(county_demographics_df) <- str_to_lower(names(county_demographics_df))\n",
    "#  remove word \"county\" from county column\n",
    "county_demographics_df$county <- sub(county_demographics_df$county, pattern = \" [[:alpha:]]*$\", replacement = \"\")\n",
    "\n",
    "# -------------- \n",
    "# clean up county_demographic_df\n",
    "#  note: county populations from this dataset is similar but not the same as nytimes/vera inst.\n",
    "#   We'll use just the other columns (race/ethnicity, age, gender, etc.)\n",
    "county_demographics_df <- county_demographics_df[ , c(4, 3, 22, 5:21)]\n",
    "\n",
    "            \n",
    "# compute age group percentages instead of count, and\n",
    "#  add lowrisk_agegroup_perc and highrisk_agegroup_perc columns:\n",
    "county_demographics_df <- county_demographics_df %>%\n",
    "    mutate(age_oto4_perc = age_oto4/tot_pop,\n",
    "          age_5to14_perc = age_5to14/tot_pop,\n",
    "          age_15to24_perc = age_15to24/tot_pop,\n",
    "          age_25to34_perc = age_25to34/tot_pop,\n",
    "          age_35to44_perc = age_35to44/tot_pop,\n",
    "          age_45to54_perc = age_45to54/tot_pop,\n",
    "          age_55to64_perc = age_55to64/tot_pop,\n",
    "          age_65to74_perc = age_65to74/tot_pop,\n",
    "          age_75to84_perc = age_75to84/tot_pop,\n",
    "          age_84plus_perc = age_84plus/tot_pop,\n",
    "          'lowrisk_agegroup_perc' = rowSums(. [11:17])/tot_pop ,\n",
    "          'highrisk_agegroup_perc' = rowSums(. [18:20])/tot_pop) \n",
    "\n",
    "# remove age group count:\n",
    "#  (note: resident_population (from vera inst) and tot_pop columns are close but not equal)\n",
    "county_demographics_df <- county_demographics_df[ , c(1:10, 21:31)]\n",
    "\n",
    "# ---------------\n",
    "# county land area and population data\n",
    "# from https://github.com/ykzeng/covid-19/tree/master/data\n",
    "landarea <- read.csv('https://raw.githubusercontent.com/ykzeng/covid-19/master/data/census-population-landarea.csv',\n",
    "                    colClasses = c('factor', rep(NA, 6)) )\n",
    "landarea$fips <- str_pad(landarea$fips, 5, pad = \"0\")\n",
    "\n",
    "# fip-county key\n",
    "fips_key <- read.csv('https://raw.githubusercontent.com/kjhealy/fips-codes/master/state_and_county_fips_master.csv',\n",
    "                    colClasses = c('factor', rep(NA, 2)))\n",
    "fips_key$fips <- str_pad(fips_key$fips, 5, pad = \"0\")\n",
    "\n",
    "\n",
    "# --------------\n",
    "# join landarea and fips_county to get landarea information for each county\n",
    "#landarea_county <- left_join( landarea, fips_key, by=\"fips\")\n",
    "\n",
    "\n",
    "#take only columns fips, county, state, LND110210, \n",
    "#landarea_county <- landarea_county[, c(1, 8, 9, 6) ]\n",
    "# rename column LND110210 to land_area\n",
    "#names(landarea_county)[4] <- 'land_area'\n",
    "\n",
    "landarea <- landarea[ , c(1, 6)]\n",
    "names(landarea)[2] <- 'land_area'\n",
    "head(landarea)\n",
    "\n",
    "# --------------\n",
    "# join demographics + landarea datasets\n",
    "county_demographics_df <- left_join(county_demographics_df, landarea, by=c(\"fips\") )\n",
    "# add a population density column\n",
    "county_demographics_df <- county_demographics_df %>% \n",
    "    mutate(population_density = tot_pop / land_area )\n",
    "\n",
    "# --------------\n",
    "# join jessica's jail dataset + (demographics + landarea) datasets\n",
    "#jail_county_demographics_df <- full_join( jail_county_df, county_demographics_df, by = c('county', 'state')) \n",
    "\n",
    "# add infection rate column\n",
    "#jail_county_demographics_df <- jail_county_demographics_df %>%\n",
    "#    mutate( pop_infection_rate = cases/resident_population )"
   ]
  },
  {
   "cell_type": "code",
   "execution_count": 55,
   "metadata": {},
   "outputs": [
    {
     "data": {
      "text/html": [
       "<table>\n",
       "<thead><tr><th scope=col>county</th><th scope=col>state</th><th scope=col>fips</th><th scope=col>tot_pop</th><th scope=col>male_perc</th><th scope=col>female_perc</th><th scope=col>white_pop_perc</th><th scope=col>black_pop_perc</th><th scope=col>asian_pop_perc</th><th scope=col>hisp_pop_perc</th><th scope=col>...</th><th scope=col>age_25to34_perc</th><th scope=col>age_35to44_perc</th><th scope=col>age_45to54_perc</th><th scope=col>age_55to64_perc</th><th scope=col>age_65to74_perc</th><th scope=col>age_75to84_perc</th><th scope=col>age_84plus_perc</th><th scope=col>lowrisk_agegroup_perc</th><th scope=col>land_area</th><th scope=col>population_density</th></tr></thead>\n",
       "<tbody>\n",
       "\t<tr><td>Autauga    </td><td>Alabama    </td><td>01001      </td><td> 55601     </td><td>0.4855129  </td><td>0.5144871  </td><td>0.7837989  </td><td>0.20616536 </td><td>0.017301847</td><td>0.02965774 </td><td>...        </td><td>0.1288826  </td><td>0.1302854  </td><td>0.1398716  </td><td>0.1288466  </td><td>0.08812791 </td><td>0.05183360 </td><td>0.01566519 </td><td>0.8443733  </td><td> 594.44    </td><td> 93.53509  </td></tr>\n",
       "\t<tr><td>Baldwin    </td><td>Alabama    </td><td>01003      </td><td>218022     </td><td>0.4846162  </td><td>0.5153838  </td><td>0.8895983  </td><td>0.09688472 </td><td>0.015613103</td><td>0.04646779 </td><td>...        </td><td>0.1125024  </td><td>0.1194054  </td><td>0.1316519  </td><td>0.1440634  </td><td>0.12263900 </td><td>0.06205337 </td><td>0.01974113 </td><td>0.7955665  </td><td>1589.78    </td><td>137.13973  </td></tr>\n",
       "\t<tr><td>Barbour    </td><td>Alabama    </td><td>01005      </td><td> 24881     </td><td>0.5278325  </td><td>0.4721675  </td><td>0.5003416  </td><td>0.49290623 </td><td>0.006068888</td><td>0.04276355 </td><td>...        </td><td>0.1393031  </td><td>0.1198103  </td><td>0.1296974  </td><td>0.1290543  </td><td>0.11563040 </td><td>0.05960371 </td><td>0.01897030 </td><td>0.8057956  </td><td> 884.88    </td><td> 28.11794  </td></tr>\n",
       "\t<tr><td>Bibb       </td><td>Alabama    </td><td>01007      </td><td> 22400     </td><td>0.5321875  </td><td>0.4678125  </td><td>0.7781250  </td><td>0.21901786 </td><td>0.003794643</td><td>0.02625000 </td><td>...        </td><td>0.1485268  </td><td>0.1317857  </td><td>0.1419196  </td><td>0.1293304  </td><td>0.09705357 </td><td>0.05147321 </td><td>0.01620536 </td><td>0.8352679  </td><td> 622.58    </td><td> 35.97931  </td></tr>\n",
       "\t<tr><td>Blount     </td><td>Alabama    </td><td>01009      </td><td> 57840     </td><td>0.4927386  </td><td>0.5072614  </td><td>0.9718361  </td><td>0.02162863 </td><td>0.005411480</td><td>0.09571231 </td><td>...        </td><td>0.1198824  </td><td>0.1221819  </td><td>0.1351660  </td><td>0.1319156  </td><td>0.10793568 </td><td>0.05658714 </td><td>0.01784232 </td><td>0.8176349  </td><td> 644.78    </td><td> 89.70502  </td></tr>\n",
       "\t<tr><td>Bullock    </td><td>Alabama    </td><td>01011      </td><td> 10138     </td><td>0.5451766  </td><td>0.4548234  </td><td>0.2735254  </td><td>0.71404616 </td><td>0.004044190</td><td>0.07960150 </td><td>...        </td><td>0.1505228  </td><td>0.1291182  </td><td>0.1240876  </td><td>0.1410535  </td><td>0.09350957 </td><td>0.05217992 </td><td>0.01814954 </td><td>0.8361610  </td><td> 622.81    </td><td> 16.27784  </td></tr>\n",
       "</tbody>\n",
       "</table>\n"
      ],
      "text/latex": [
       "\\begin{tabular}{r|lllllllllllllllllllllll}\n",
       " county & state & fips & tot\\_pop & male\\_perc & female\\_perc & white\\_pop\\_perc & black\\_pop\\_perc & asian\\_pop\\_perc & hisp\\_pop\\_perc & ... & age\\_25to34\\_perc & age\\_35to44\\_perc & age\\_45to54\\_perc & age\\_55to64\\_perc & age\\_65to74\\_perc & age\\_75to84\\_perc & age\\_84plus\\_perc & lowrisk\\_agegroup\\_perc & land\\_area & population\\_density\\\\\n",
       "\\hline\n",
       "\t Autauga     & Alabama     & 01001       &  55601      & 0.4855129   & 0.5144871   & 0.7837989   & 0.20616536  & 0.017301847 & 0.02965774  & ...         & 0.1288826   & 0.1302854   & 0.1398716   & 0.1288466   & 0.08812791  & 0.05183360  & 0.01566519  & 0.8443733   &  594.44     &  93.53509  \\\\\n",
       "\t Baldwin     & Alabama     & 01003       & 218022      & 0.4846162   & 0.5153838   & 0.8895983   & 0.09688472  & 0.015613103 & 0.04646779  & ...         & 0.1125024   & 0.1194054   & 0.1316519   & 0.1440634   & 0.12263900  & 0.06205337  & 0.01974113  & 0.7955665   & 1589.78     & 137.13973  \\\\\n",
       "\t Barbour     & Alabama     & 01005       &  24881      & 0.5278325   & 0.4721675   & 0.5003416   & 0.49290623  & 0.006068888 & 0.04276355  & ...         & 0.1393031   & 0.1198103   & 0.1296974   & 0.1290543   & 0.11563040  & 0.05960371  & 0.01897030  & 0.8057956   &  884.88     &  28.11794  \\\\\n",
       "\t Bibb        & Alabama     & 01007       &  22400      & 0.5321875   & 0.4678125   & 0.7781250   & 0.21901786  & 0.003794643 & 0.02625000  & ...         & 0.1485268   & 0.1317857   & 0.1419196   & 0.1293304   & 0.09705357  & 0.05147321  & 0.01620536  & 0.8352679   &  622.58     &  35.97931  \\\\\n",
       "\t Blount      & Alabama     & 01009       &  57840      & 0.4927386   & 0.5072614   & 0.9718361   & 0.02162863  & 0.005411480 & 0.09571231  & ...         & 0.1198824   & 0.1221819   & 0.1351660   & 0.1319156   & 0.10793568  & 0.05658714  & 0.01784232  & 0.8176349   &  644.78     &  89.70502  \\\\\n",
       "\t Bullock     & Alabama     & 01011       &  10138      & 0.5451766   & 0.4548234   & 0.2735254   & 0.71404616  & 0.004044190 & 0.07960150  & ...         & 0.1505228   & 0.1291182   & 0.1240876   & 0.1410535   & 0.09350957  & 0.05217992  & 0.01814954  & 0.8361610   &  622.81     &  16.27784  \\\\\n",
       "\\end{tabular}\n"
      ],
      "text/markdown": [
       "\n",
       "| county | state | fips | tot_pop | male_perc | female_perc | white_pop_perc | black_pop_perc | asian_pop_perc | hisp_pop_perc | ... | age_25to34_perc | age_35to44_perc | age_45to54_perc | age_55to64_perc | age_65to74_perc | age_75to84_perc | age_84plus_perc | lowrisk_agegroup_perc | land_area | population_density |\n",
       "|---|---|---|---|---|---|---|---|---|---|---|---|---|---|---|---|---|---|---|---|---|\n",
       "| Autauga     | Alabama     | 01001       |  55601      | 0.4855129   | 0.5144871   | 0.7837989   | 0.20616536  | 0.017301847 | 0.02965774  | ...         | 0.1288826   | 0.1302854   | 0.1398716   | 0.1288466   | 0.08812791  | 0.05183360  | 0.01566519  | 0.8443733   |  594.44     |  93.53509   |\n",
       "| Baldwin     | Alabama     | 01003       | 218022      | 0.4846162   | 0.5153838   | 0.8895983   | 0.09688472  | 0.015613103 | 0.04646779  | ...         | 0.1125024   | 0.1194054   | 0.1316519   | 0.1440634   | 0.12263900  | 0.06205337  | 0.01974113  | 0.7955665   | 1589.78     | 137.13973   |\n",
       "| Barbour     | Alabama     | 01005       |  24881      | 0.5278325   | 0.4721675   | 0.5003416   | 0.49290623  | 0.006068888 | 0.04276355  | ...         | 0.1393031   | 0.1198103   | 0.1296974   | 0.1290543   | 0.11563040  | 0.05960371  | 0.01897030  | 0.8057956   |  884.88     |  28.11794   |\n",
       "| Bibb        | Alabama     | 01007       |  22400      | 0.5321875   | 0.4678125   | 0.7781250   | 0.21901786  | 0.003794643 | 0.02625000  | ...         | 0.1485268   | 0.1317857   | 0.1419196   | 0.1293304   | 0.09705357  | 0.05147321  | 0.01620536  | 0.8352679   |  622.58     |  35.97931   |\n",
       "| Blount      | Alabama     | 01009       |  57840      | 0.4927386   | 0.5072614   | 0.9718361   | 0.02162863  | 0.005411480 | 0.09571231  | ...         | 0.1198824   | 0.1221819   | 0.1351660   | 0.1319156   | 0.10793568  | 0.05658714  | 0.01784232  | 0.8176349   |  644.78     |  89.70502   |\n",
       "| Bullock     | Alabama     | 01011       |  10138      | 0.5451766   | 0.4548234   | 0.2735254   | 0.71404616  | 0.004044190 | 0.07960150  | ...         | 0.1505228   | 0.1291182   | 0.1240876   | 0.1410535   | 0.09350957  | 0.05217992  | 0.01814954  | 0.8361610   |  622.81     |  16.27784   |\n",
       "\n"
      ],
      "text/plain": [
       "  county  state   fips  tot_pop male_perc female_perc white_pop_perc\n",
       "1 Autauga Alabama 01001  55601  0.4855129 0.5144871   0.7837989     \n",
       "2 Baldwin Alabama 01003 218022  0.4846162 0.5153838   0.8895983     \n",
       "3 Barbour Alabama 01005  24881  0.5278325 0.4721675   0.5003416     \n",
       "4 Bibb    Alabama 01007  22400  0.5321875 0.4678125   0.7781250     \n",
       "5 Blount  Alabama 01009  57840  0.4927386 0.5072614   0.9718361     \n",
       "6 Bullock Alabama 01011  10138  0.5451766 0.4548234   0.2735254     \n",
       "  black_pop_perc asian_pop_perc hisp_pop_perc ... age_25to34_perc\n",
       "1 0.20616536     0.017301847    0.02965774    ... 0.1288826      \n",
       "2 0.09688472     0.015613103    0.04646779    ... 0.1125024      \n",
       "3 0.49290623     0.006068888    0.04276355    ... 0.1393031      \n",
       "4 0.21901786     0.003794643    0.02625000    ... 0.1485268      \n",
       "5 0.02162863     0.005411480    0.09571231    ... 0.1198824      \n",
       "6 0.71404616     0.004044190    0.07960150    ... 0.1505228      \n",
       "  age_35to44_perc age_45to54_perc age_55to64_perc age_65to74_perc\n",
       "1 0.1302854       0.1398716       0.1288466       0.08812791     \n",
       "2 0.1194054       0.1316519       0.1440634       0.12263900     \n",
       "3 0.1198103       0.1296974       0.1290543       0.11563040     \n",
       "4 0.1317857       0.1419196       0.1293304       0.09705357     \n",
       "5 0.1221819       0.1351660       0.1319156       0.10793568     \n",
       "6 0.1291182       0.1240876       0.1410535       0.09350957     \n",
       "  age_75to84_perc age_84plus_perc lowrisk_agegroup_perc land_area\n",
       "1 0.05183360      0.01566519      0.8443733              594.44  \n",
       "2 0.06205337      0.01974113      0.7955665             1589.78  \n",
       "3 0.05960371      0.01897030      0.8057956              884.88  \n",
       "4 0.05147321      0.01620536      0.8352679              622.58  \n",
       "5 0.05658714      0.01784232      0.8176349              644.78  \n",
       "6 0.05217992      0.01814954      0.8361610              622.81  \n",
       "  population_density\n",
       "1  93.53509         \n",
       "2 137.13973         \n",
       "3  28.11794         \n",
       "4  35.97931         \n",
       "5  89.70502         \n",
       "6  16.27784         "
      ]
     },
     "metadata": {},
     "output_type": "display_data"
    },
    {
     "data": {
      "text/html": [
       "<ol class=list-inline>\n",
       "\t<li>'county'</li>\n",
       "\t<li>'state'</li>\n",
       "\t<li>'fips'</li>\n",
       "\t<li>'tot_pop'</li>\n",
       "\t<li>'male_perc'</li>\n",
       "\t<li>'female_perc'</li>\n",
       "\t<li>'white_pop_perc'</li>\n",
       "\t<li>'black_pop_perc'</li>\n",
       "\t<li>'asian_pop_perc'</li>\n",
       "\t<li>'hisp_pop_perc'</li>\n",
       "\t<li>'age_oto4_perc'</li>\n",
       "\t<li>'age_5to14_perc'</li>\n",
       "\t<li>'age_15to24_perc'</li>\n",
       "\t<li>'age_25to34_perc'</li>\n",
       "\t<li>'age_35to44_perc'</li>\n",
       "\t<li>'age_45to54_perc'</li>\n",
       "\t<li>'age_55to64_perc'</li>\n",
       "\t<li>'age_65to74_perc'</li>\n",
       "\t<li>'age_75to84_perc'</li>\n",
       "\t<li>'age_84plus_perc'</li>\n",
       "\t<li>'lowrisk_agegroup_perc'</li>\n",
       "\t<li>'land_area'</li>\n",
       "\t<li>'population_density'</li>\n",
       "</ol>\n"
      ],
      "text/latex": [
       "\\begin{enumerate*}\n",
       "\\item 'county'\n",
       "\\item 'state'\n",
       "\\item 'fips'\n",
       "\\item 'tot\\_pop'\n",
       "\\item 'male\\_perc'\n",
       "\\item 'female\\_perc'\n",
       "\\item 'white\\_pop\\_perc'\n",
       "\\item 'black\\_pop\\_perc'\n",
       "\\item 'asian\\_pop\\_perc'\n",
       "\\item 'hisp\\_pop\\_perc'\n",
       "\\item 'age\\_oto4\\_perc'\n",
       "\\item 'age\\_5to14\\_perc'\n",
       "\\item 'age\\_15to24\\_perc'\n",
       "\\item 'age\\_25to34\\_perc'\n",
       "\\item 'age\\_35to44\\_perc'\n",
       "\\item 'age\\_45to54\\_perc'\n",
       "\\item 'age\\_55to64\\_perc'\n",
       "\\item 'age\\_65to74\\_perc'\n",
       "\\item 'age\\_75to84\\_perc'\n",
       "\\item 'age\\_84plus\\_perc'\n",
       "\\item 'lowrisk\\_agegroup\\_perc'\n",
       "\\item 'land\\_area'\n",
       "\\item 'population\\_density'\n",
       "\\end{enumerate*}\n"
      ],
      "text/markdown": [
       "1. 'county'\n",
       "2. 'state'\n",
       "3. 'fips'\n",
       "4. 'tot_pop'\n",
       "5. 'male_perc'\n",
       "6. 'female_perc'\n",
       "7. 'white_pop_perc'\n",
       "8. 'black_pop_perc'\n",
       "9. 'asian_pop_perc'\n",
       "10. 'hisp_pop_perc'\n",
       "11. 'age_oto4_perc'\n",
       "12. 'age_5to14_perc'\n",
       "13. 'age_15to24_perc'\n",
       "14. 'age_25to34_perc'\n",
       "15. 'age_35to44_perc'\n",
       "16. 'age_45to54_perc'\n",
       "17. 'age_55to64_perc'\n",
       "18. 'age_65to74_perc'\n",
       "19. 'age_75to84_perc'\n",
       "20. 'age_84plus_perc'\n",
       "21. 'lowrisk_agegroup_perc'\n",
       "22. 'land_area'\n",
       "23. 'population_density'\n",
       "\n",
       "\n"
      ],
      "text/plain": [
       " [1] \"county\"                \"state\"                 \"fips\"                 \n",
       " [4] \"tot_pop\"               \"male_perc\"             \"female_perc\"          \n",
       " [7] \"white_pop_perc\"        \"black_pop_perc\"        \"asian_pop_perc\"       \n",
       "[10] \"hisp_pop_perc\"         \"age_oto4_perc\"         \"age_5to14_perc\"       \n",
       "[13] \"age_15to24_perc\"       \"age_25to34_perc\"       \"age_35to44_perc\"      \n",
       "[16] \"age_45to54_perc\"       \"age_55to64_perc\"       \"age_65to74_perc\"      \n",
       "[19] \"age_75to84_perc\"       \"age_84plus_perc\"       \"lowrisk_agegroup_perc\"\n",
       "[22] \"land_area\"             \"population_density\"   "
      ]
     },
     "metadata": {},
     "output_type": "display_data"
    }
   ],
   "source": [
    "# intermediate check\n",
    "head(county_demographics_df)\n",
    "names(county_demographics_df)"
   ]
  },
  {
   "cell_type": "code",
   "execution_count": 56,
   "metadata": {},
   "outputs": [
    {
     "data": {
      "text/html": [
       "<table>\n",
       "<thead><tr><th scope=col>fips</th><th scope=col>PST045212</th><th scope=col>PST040210</th><th scope=col>PST120212</th><th scope=col>POP010210</th><th scope=col>LND110210</th><th scope=col>POP060210</th></tr></thead>\n",
       "<tbody>\n",
       "\t<tr><td>00000     </td><td>313914040 </td><td>308747508 </td><td> 1.7      </td><td>308745538 </td><td>3531905.43</td><td> 87.4     </td></tr>\n",
       "\t<tr><td>01000     </td><td>  4822023 </td><td>  4779745 </td><td> 0.9      </td><td>  4779736 </td><td>  50645.33</td><td> 94.4     </td></tr>\n",
       "\t<tr><td>01001     </td><td>    55514 </td><td>    54571 </td><td> 1.7      </td><td>    54571 </td><td>    594.44</td><td> 91.8     </td></tr>\n",
       "\t<tr><td>01003     </td><td>   190790 </td><td>   182265 </td><td> 4.7      </td><td>   182265 </td><td>   1589.78</td><td>114.6     </td></tr>\n",
       "\t<tr><td>01005     </td><td>    27201 </td><td>    27457 </td><td>-0.9      </td><td>    27457 </td><td>    884.88</td><td> 31.0     </td></tr>\n",
       "\t<tr><td>01007     </td><td>    22597 </td><td>    22919 </td><td>-1.4      </td><td>    22915 </td><td>    622.58</td><td> 36.8     </td></tr>\n",
       "</tbody>\n",
       "</table>\n"
      ],
      "text/latex": [
       "\\begin{tabular}{r|lllllll}\n",
       " fips & PST045212 & PST040210 & PST120212 & POP010210 & LND110210 & POP060210\\\\\n",
       "\\hline\n",
       "\t 00000      & 313914040  & 308747508  &  1.7       & 308745538  & 3531905.43 &  87.4     \\\\\n",
       "\t 01000      &   4822023  &   4779745  &  0.9       &   4779736  &   50645.33 &  94.4     \\\\\n",
       "\t 01001      &     55514  &     54571  &  1.7       &     54571  &     594.44 &  91.8     \\\\\n",
       "\t 01003      &    190790  &    182265  &  4.7       &    182265  &    1589.78 & 114.6     \\\\\n",
       "\t 01005      &     27201  &     27457  & -0.9       &     27457  &     884.88 &  31.0     \\\\\n",
       "\t 01007      &     22597  &     22919  & -1.4       &     22915  &     622.58 &  36.8     \\\\\n",
       "\\end{tabular}\n"
      ],
      "text/markdown": [
       "\n",
       "| fips | PST045212 | PST040210 | PST120212 | POP010210 | LND110210 | POP060210 |\n",
       "|---|---|---|---|---|---|---|\n",
       "| 00000      | 313914040  | 308747508  |  1.7       | 308745538  | 3531905.43 |  87.4      |\n",
       "| 01000      |   4822023  |   4779745  |  0.9       |   4779736  |   50645.33 |  94.4      |\n",
       "| 01001      |     55514  |     54571  |  1.7       |     54571  |     594.44 |  91.8      |\n",
       "| 01003      |    190790  |    182265  |  4.7       |    182265  |    1589.78 | 114.6      |\n",
       "| 01005      |     27201  |     27457  | -0.9       |     27457  |     884.88 |  31.0      |\n",
       "| 01007      |     22597  |     22919  | -1.4       |     22915  |     622.58 |  36.8      |\n",
       "\n"
      ],
      "text/plain": [
       "  fips  PST045212 PST040210 PST120212 POP010210 LND110210  POP060210\n",
       "1 00000 313914040 308747508  1.7      308745538 3531905.43  87.4    \n",
       "2 01000   4822023   4779745  0.9        4779736   50645.33  94.4    \n",
       "3 01001     55514     54571  1.7          54571     594.44  91.8    \n",
       "4 01003    190790    182265  4.7         182265    1589.78 114.6    \n",
       "5 01005     27201     27457 -0.9          27457     884.88  31.0    \n",
       "6 01007     22597     22919 -1.4          22915     622.58  36.8    "
      ]
     },
     "metadata": {},
     "output_type": "display_data"
    }
   ],
   "source": [
    "# intermediate check\n",
    "landarea <- read.csv('https://raw.githubusercontent.com/ykzeng/covid-19/master/data/census-population-landarea.csv',\n",
    "                    colClasses = c('factor', rep(NA, 6)) )\n",
    "landarea$fips <- str_pad(landarea$fips, 5, pad = \"0\")\n",
    "head(landarea)"
   ]
  },
  {
   "cell_type": "code",
   "execution_count": 58,
   "metadata": {},
   "outputs": [
    {
     "data": {
      "text/html": [
       "<table>\n",
       "<thead><tr><th scope=col>county</th><th scope=col>state</th><th scope=col>fips</th><th scope=col>tot_pop</th><th scope=col>male_perc</th><th scope=col>female_perc</th><th scope=col>white_pop_perc</th><th scope=col>black_pop_perc</th><th scope=col>asian_pop_perc</th><th scope=col>hisp_pop_perc</th><th scope=col>...</th><th scope=col>age_25to34_perc</th><th scope=col>age_35to44_perc</th><th scope=col>age_45to54_perc</th><th scope=col>age_55to64_perc</th><th scope=col>age_65to74_perc</th><th scope=col>age_75to84_perc</th><th scope=col>age_84plus_perc</th><th scope=col>lowrisk_agegroup_perc</th><th scope=col>land_area</th><th scope=col>population_density</th></tr></thead>\n",
       "<tbody>\n",
       "\t<tr><td>Autauga    </td><td>Alabama    </td><td>01001      </td><td> 55601     </td><td>0.4855129  </td><td>0.5144871  </td><td>0.7837989  </td><td>0.20616536 </td><td>0.017301847</td><td>0.02965774 </td><td>...        </td><td>0.1288826  </td><td>0.1302854  </td><td>0.1398716  </td><td>0.1288466  </td><td>0.08812791 </td><td>0.05183360 </td><td>0.01566519 </td><td>0.8443733  </td><td> 594.44    </td><td> 93.53509  </td></tr>\n",
       "\t<tr><td>Baldwin    </td><td>Alabama    </td><td>01003      </td><td>218022     </td><td>0.4846162  </td><td>0.5153838  </td><td>0.8895983  </td><td>0.09688472 </td><td>0.015613103</td><td>0.04646779 </td><td>...        </td><td>0.1125024  </td><td>0.1194054  </td><td>0.1316519  </td><td>0.1440634  </td><td>0.12263900 </td><td>0.06205337 </td><td>0.01974113 </td><td>0.7955665  </td><td>1589.78    </td><td>137.13973  </td></tr>\n",
       "\t<tr><td>Barbour    </td><td>Alabama    </td><td>01005      </td><td> 24881     </td><td>0.5278325  </td><td>0.4721675  </td><td>0.5003416  </td><td>0.49290623 </td><td>0.006068888</td><td>0.04276355 </td><td>...        </td><td>0.1393031  </td><td>0.1198103  </td><td>0.1296974  </td><td>0.1290543  </td><td>0.11563040 </td><td>0.05960371 </td><td>0.01897030 </td><td>0.8057956  </td><td> 884.88    </td><td> 28.11794  </td></tr>\n",
       "\t<tr><td>Bibb       </td><td>Alabama    </td><td>01007      </td><td> 22400     </td><td>0.5321875  </td><td>0.4678125  </td><td>0.7781250  </td><td>0.21901786 </td><td>0.003794643</td><td>0.02625000 </td><td>...        </td><td>0.1485268  </td><td>0.1317857  </td><td>0.1419196  </td><td>0.1293304  </td><td>0.09705357 </td><td>0.05147321 </td><td>0.01620536 </td><td>0.8352679  </td><td> 622.58    </td><td> 35.97931  </td></tr>\n",
       "\t<tr><td>Blount     </td><td>Alabama    </td><td>01009      </td><td> 57840     </td><td>0.4927386  </td><td>0.5072614  </td><td>0.9718361  </td><td>0.02162863 </td><td>0.005411480</td><td>0.09571231 </td><td>...        </td><td>0.1198824  </td><td>0.1221819  </td><td>0.1351660  </td><td>0.1319156  </td><td>0.10793568 </td><td>0.05658714 </td><td>0.01784232 </td><td>0.8176349  </td><td> 644.78    </td><td> 89.70502  </td></tr>\n",
       "\t<tr><td>Bullock    </td><td>Alabama    </td><td>01011      </td><td> 10138     </td><td>0.5451766  </td><td>0.4548234  </td><td>0.2735254  </td><td>0.71404616 </td><td>0.004044190</td><td>0.07960150 </td><td>...        </td><td>0.1505228  </td><td>0.1291182  </td><td>0.1240876  </td><td>0.1410535  </td><td>0.09350957 </td><td>0.05217992 </td><td>0.01814954 </td><td>0.8361610  </td><td> 622.81    </td><td> 16.27784  </td></tr>\n",
       "\t<tr><td>Butler     </td><td>Alabama    </td><td>01013      </td><td> 19680     </td><td>0.4657012  </td><td>0.5342988  </td><td>0.5325711  </td><td>0.45553862 </td><td>0.014939024</td><td>0.01509146 </td><td>...        </td><td>0.1158028  </td><td>0.1214431  </td><td>0.1175305  </td><td>0.1423272  </td><td>0.11178862 </td><td>0.06148374 </td><td>0.02972561 </td><td>0.7970020  </td><td> 776.83    </td><td> 25.33373  </td></tr>\n",
       "\t<tr><td>Calhoun    </td><td>Alabama    </td><td>01015      </td><td>114277     </td><td>0.4805341  </td><td>0.5194659  </td><td>0.7708638  </td><td>0.22228445 </td><td>0.014106076</td><td>0.03910673 </td><td>...        </td><td>0.1317763  </td><td>0.1194116  </td><td>0.1251608  </td><td>0.1396431  </td><td>0.10567306 </td><td>0.05302904 </td><td>0.01847266 </td><td>0.8228252  </td><td> 605.87    </td><td>188.61637  </td></tr>\n",
       "\t<tr><td>Chambers   </td><td>Alabama    </td><td>01017      </td><td> 33615     </td><td>0.4787446  </td><td>0.5212554  </td><td>0.5822698  </td><td>0.40788339 </td><td>0.014755318</td><td>0.02561357 </td><td>...        </td><td>0.1258664  </td><td>0.1123011  </td><td>0.1311617  </td><td>0.1472557  </td><td>0.11423472 </td><td>0.05869404 </td><td>0.02228172 </td><td>0.8047895  </td><td> 596.53    </td><td> 56.35090  </td></tr>\n",
       "\t<tr><td>Cherokee   </td><td>Alabama    </td><td>01019      </td><td> 26032     </td><td>0.4953903  </td><td>0.5046097  </td><td>0.9461048  </td><td>0.04963122 </td><td>0.005262754</td><td>0.01621082 </td><td>...        </td><td>0.1057929  </td><td>0.1063691  </td><td>0.1379072  </td><td>0.1574985  </td><td>0.13617855 </td><td>0.07294868 </td><td>0.02059004 </td><td>0.7702827  </td><td> 553.70    </td><td> 47.01463  </td></tr>\n",
       "\t<tr><td>Chilton    </td><td>Alabama    </td><td>01021      </td><td> 44153     </td><td>0.4907481  </td><td>0.5092519  </td><td>0.8830884  </td><td>0.11097774 </td><td>0.006885149</td><td>0.07926981 </td><td>...        </td><td>0.1261749  </td><td>0.1235477  </td><td>0.1316558  </td><td>0.1332639  </td><td>0.10103504 </td><td>0.04939642 </td><td>0.01741671 </td><td>0.8321518  </td><td> 692.85    </td><td> 63.72664  </td></tr>\n",
       "\t<tr><td>Choctaw    </td><td>Alabama    </td><td>01023      </td><td> 12841     </td><td>0.4727046  </td><td>0.5272954  </td><td>0.5784596  </td><td>0.42091737 </td><td>0.003037147</td><td>0.01043532 </td><td>...        </td><td>0.1015497  </td><td>0.1076240  </td><td>0.1310646  </td><td>0.1566856  </td><td>0.12989643 </td><td>0.07258002 </td><td>0.02749007 </td><td>0.7700335  </td><td> 913.50    </td><td> 14.05692  </td></tr>\n",
       "\t<tr><td>Clarke     </td><td>Alabama    </td><td>01025      </td><td> 23920     </td><td>0.4735786  </td><td>0.5264214  </td><td>0.5430602  </td><td>0.45163043 </td><td>0.006061873</td><td>0.01362876 </td><td>...        </td><td>0.1098662  </td><td>0.1165552  </td><td>0.1304348  </td><td>0.1441890  </td><td>0.10857023 </td><td>0.06538462 </td><td>0.02474916 </td><td>0.8012960  </td><td>1238.47    </td><td> 19.31415  </td></tr>\n",
       "\t<tr><td>Clay       </td><td>Alabama    </td><td>01027      </td><td> 13275     </td><td>0.4890395  </td><td>0.5109605  </td><td>0.8503955  </td><td>0.15216573 </td><td>0.004293785</td><td>0.03013183 </td><td>...        </td><td>0.1089266  </td><td>0.1134463  </td><td>0.1392844  </td><td>0.1475706  </td><td>0.11487759 </td><td>0.06885122 </td><td>0.02350282 </td><td>0.7927684  </td><td> 603.96    </td><td> 21.97993  </td></tr>\n",
       "\t<tr><td>Cleburne   </td><td>Alabama    </td><td>01029      </td><td> 14987     </td><td>0.4951625  </td><td>0.5048375  </td><td>0.9619670  </td><td>0.03609795 </td><td>0.003803296</td><td>0.02482151 </td><td>...        </td><td>0.1167679  </td><td>0.1169013  </td><td>0.1385201  </td><td>0.1345166  </td><td>0.11289784 </td><td>0.05898445 </td><td>0.02261960 </td><td>0.8054981  </td><td> 560.10    </td><td> 26.75772  </td></tr>\n",
       "\t<tr><td>Coffee     </td><td>Alabama    </td><td>01031      </td><td> 51909     </td><td>0.4916488  </td><td>0.5083512  </td><td>0.7855863  </td><td>0.19000559 </td><td>0.024388834</td><td>0.07580574 </td><td>...        </td><td>0.1270878  </td><td>0.1283015  </td><td>0.1334065  </td><td>0.1253732  </td><td>0.09975149 </td><td>0.05110867 </td><td>0.01868655 </td><td>0.8304533  </td><td> 678.97    </td><td> 76.45257  </td></tr>\n",
       "\t<tr><td>Colbert    </td><td>Alabama    </td><td>01033      </td><td> 54762     </td><td>0.4795113  </td><td>0.5204887  </td><td>0.8235820  </td><td>0.17196231 </td><td>0.007925204</td><td>0.02675213 </td><td>...        </td><td>0.1266754  </td><td>0.1154268  </td><td>0.1308572  </td><td>0.1414302  </td><td>0.11203024 </td><td>0.06378511 </td><td>0.02348344 </td><td>0.8007012  </td><td> 592.62    </td><td> 92.40660  </td></tr>\n",
       "\t<tr><td>Conecuh    </td><td>Alabama    </td><td>01035      </td><td> 12277     </td><td>0.4790258  </td><td>0.5209742  </td><td>0.5286308  </td><td>0.46957726 </td><td>0.003909750</td><td>0.02150362 </td><td>...        </td><td>0.1105319  </td><td>0.1030382  </td><td>0.1212022  </td><td>0.1561456  </td><td>0.12649670 </td><td>0.07200456 </td><td>0.02647227 </td><td>0.7750265  </td><td> 850.16    </td><td> 14.44081  </td></tr>\n",
       "\t<tr><td>Coosa      </td><td>Alabama    </td><td>01037      </td><td> 10715     </td><td>0.5038731  </td><td>0.4961269  </td><td>0.6810079  </td><td>0.31441904 </td><td>0.003173122</td><td>0.02519832 </td><td>...        </td><td>0.1026598  </td><td>0.1058329  </td><td>0.1459636  </td><td>0.1799347  </td><td>0.13504433 </td><td>0.07130191 </td><td>0.02519832 </td><td>0.7684554  </td><td> 650.93    </td><td> 16.46106  </td></tr>\n",
       "\t<tr><td>Covington  </td><td>Alabama    </td><td>01039      </td><td> 36986     </td><td>0.4838588  </td><td>0.5161412  </td><td>0.8617315  </td><td>0.13515925 </td><td>0.006137457</td><td>0.01749311 </td><td>...        </td><td>0.1173958  </td><td>0.1089331  </td><td>0.1251555  </td><td>0.1486779  </td><td>0.11696318 </td><td>0.06718758 </td><td>0.02646947 </td><td>0.7893798  </td><td>1030.46    </td><td> 35.89271  </td></tr>\n",
       "\t<tr><td>Crenshaw   </td><td>Alabama    </td><td>01041      </td><td> 13824     </td><td>0.4827836  </td><td>0.5172164  </td><td>0.7464554  </td><td>0.24660012 </td><td>0.013237847</td><td>0.02314815 </td><td>...        </td><td>0.1187066  </td><td>0.1146557  </td><td>0.1278212  </td><td>0.1446036  </td><td>0.11610243 </td><td>0.05215567 </td><td>0.02191840 </td><td>0.8098235  </td><td> 608.84    </td><td> 22.70547  </td></tr>\n",
       "\t<tr><td>Cullman    </td><td>Alabama    </td><td>01043      </td><td> 83442     </td><td>0.4942954  </td><td>0.5057046  </td><td>0.9718008  </td><td>0.01804846 </td><td>0.008520889</td><td>0.04433019 </td><td>...        </td><td>0.1290717  </td><td>0.1201194  </td><td>0.1282328  </td><td>0.1362863  </td><td>0.10878215 </td><td>0.05895113 </td><td>0.01737734 </td><td>0.8148894  </td><td> 734.84    </td><td>113.55125  </td></tr>\n",
       "\t<tr><td>Dale       </td><td>Alabama    </td><td>01045      </td><td> 48956     </td><td>0.4907059  </td><td>0.5092941  </td><td>0.7630730  </td><td>0.22375194 </td><td>0.021121007</td><td>0.06638614 </td><td>...        </td><td>0.1470096  </td><td>0.1158796  </td><td>0.1205777  </td><td>0.1311382  </td><td>0.09759784 </td><td>0.05298636 </td><td>0.01834300 </td><td>0.8310728  </td><td> 561.15    </td><td> 87.24227  </td></tr>\n",
       "\t<tr><td>Dallas     </td><td>Alabama    </td><td>01047      </td><td> 38310     </td><td>0.4616288  </td><td>0.5383712  </td><td>0.2853824  </td><td>0.71004960 </td><td>0.007047768</td><td>0.01111981 </td><td>...        </td><td>0.1170191  </td><td>0.1108327  </td><td>0.1180371  </td><td>0.1476638  </td><td>0.10801357 </td><td>0.05434612 </td><td>0.01829809 </td><td>0.8193422  </td><td> 978.70    </td><td> 39.14376  </td></tr>\n",
       "\t<tr><td>DeKalb     </td><td>Alabama    </td><td>01049      </td><td> 71385     </td><td>0.4962947  </td><td>0.5037053  </td><td>0.9482244  </td><td>0.02420677 </td><td>0.006808153</td><td>0.14842054 </td><td>...        </td><td>0.1191427  </td><td>0.1227289  </td><td>0.1328150  </td><td>0.1305596  </td><td>0.10331302 </td><td>0.05239196 </td><td>0.01690831 </td><td>0.8273867  </td><td> 777.09    </td><td> 91.86195  </td></tr>\n",
       "\t<tr><td>Elmore     </td><td>Alabama    </td><td>01051      </td><td> 81887     </td><td>0.4834101  </td><td>0.5165899  </td><td>0.7704520  </td><td>0.22294137 </td><td>0.011149511</td><td>0.03012688 </td><td>...        </td><td>0.1412556  </td><td>0.1322676  </td><td>0.1376531  </td><td>0.1315105  </td><td>0.09213917 </td><td>0.04507431 </td><td>0.01421471 </td><td>0.8485718  </td><td> 618.49    </td><td>132.39826  </td></tr>\n",
       "\t<tr><td>Escambia   </td><td>Alabama    </td><td>01053      </td><td> 36748     </td><td>0.5069119  </td><td>0.4930881  </td><td>0.6389191  </td><td>0.32706542 </td><td>0.005551323</td><td>0.02468162 </td><td>...        </td><td>0.1352999  </td><td>0.1244694  </td><td>0.1299663  </td><td>0.1306466  </td><td>0.10302602 </td><td>0.05788070 </td><td>0.01858605 </td><td>0.8205072  </td><td> 945.08    </td><td> 38.88348  </td></tr>\n",
       "\t<tr><td>Etowah     </td><td>Alabama    </td><td>01055      </td><td>102501     </td><td>0.4844148  </td><td>0.5155852  </td><td>0.8245090  </td><td>0.16596911 </td><td>0.010390143</td><td>0.04015571 </td><td>...        </td><td>0.1211598  </td><td>0.1198720  </td><td>0.1353548  </td><td>0.1369255  </td><td>0.11347206 </td><td>0.05729700 </td><td>0.01934615 </td><td>0.8098848  </td><td> 534.99    </td><td>191.59424  </td></tr>\n",
       "\t<tr><td>Fayette    </td><td>Alabama    </td><td>01057      </td><td> 16433     </td><td>0.4882249  </td><td>0.5117751  </td><td>0.8702002  </td><td>0.12906956 </td><td>0.005598491</td><td>0.01807339 </td><td>...        </td><td>0.1147691  </td><td>0.1102659  </td><td>0.1294347  </td><td>0.1438569  </td><td>0.12091523 </td><td>0.06967687 </td><td>0.02069007 </td><td>0.7887178  </td><td> 627.66    </td><td> 26.18137  </td></tr>\n",
       "\t<tr><td>Franklin   </td><td>Alabama    </td><td>01059      </td><td> 31363     </td><td>0.5045117  </td><td>0.4954883  </td><td>0.9321175  </td><td>0.05315180 </td><td>0.004910245</td><td>0.17750215 </td><td>...        </td><td>0.1239358  </td><td>0.1236489  </td><td>0.1324809  </td><td>0.1250837  </td><td>0.09581354 </td><td>0.05503300 </td><td>0.01801486 </td><td>0.8311386  </td><td> 633.82    </td><td> 49.48250  </td></tr>\n",
       "\t<tr><td>...</td><td>...</td><td>...</td><td>...</td><td>...</td><td>...</td><td>...</td><td>...</td><td>...</td><td>...</td><td>   </td><td>...</td><td>...</td><td>...</td><td>...</td><td>...</td><td>...</td><td>...</td><td>...</td><td>...</td><td>...</td></tr>\n",
       "\t<tr><td>Washburn   </td><td>Wisconsin  </td><td>55129      </td><td> 15878     </td><td>0.4950875  </td><td>0.5049125  </td><td>0.9719108  </td><td>0.009510014</td><td>0.008124449</td><td>0.01851619 </td><td>...        </td><td>0.08678675 </td><td>0.09510014 </td><td>0.12369316 </td><td>0.18383927 </td><td>0.15833228 </td><td>0.07349792 </td><td>0.03073435 </td><td>0.7374354  </td><td>  797.11   </td><td> 19.919459 </td></tr>\n",
       "\t<tr><td>Washington </td><td>Wisconsin  </td><td>55131      </td><td>135693     </td><td>0.4970927  </td><td>0.5029073  </td><td>0.9671759  </td><td>0.019337770</td><td>0.018195485</td><td>0.03220505 </td><td>...        </td><td>0.10572395 </td><td>0.12219495 </td><td>0.14586604 </td><td>0.15440001 </td><td>0.10365310 </td><td>0.05311254 </td><td>0.02308888 </td><td>0.8201455  </td><td>  430.70   </td><td>315.052241 </td></tr>\n",
       "\t<tr><td>Waukesha   </td><td>Wisconsin  </td><td>55133      </td><td>403072     </td><td>0.4916963  </td><td>0.5083037  </td><td>0.9398371  </td><td>0.023065358</td><td>0.044763715</td><td>0.04786986 </td><td>...        </td><td>0.10467113 </td><td>0.12341219 </td><td>0.13700282 </td><td>0.15546106 </td><td>0.10670798 </td><td>0.05375466 </td><td>0.02607971 </td><td>0.8134576  </td><td>  549.57   </td><td>733.431592 </td></tr>\n",
       "\t<tr><td>Waupaca    </td><td>Wisconsin  </td><td>55135      </td><td> 51128     </td><td>0.5073541  </td><td>0.4926459  </td><td>0.9804217  </td><td>0.009505555</td><td>0.008195118</td><td>0.03258488 </td><td>...        </td><td>0.10514786 </td><td>0.11361680 </td><td>0.13452511 </td><td>0.16533015 </td><td>0.11310828 </td><td>0.06260757 </td><td>0.03295650 </td><td>0.7913276  </td><td>  747.71   </td><td> 68.379452 </td></tr>\n",
       "\t<tr><td>Waushara   </td><td>Wisconsin  </td><td>55137      </td><td> 24263     </td><td>0.5260685  </td><td>0.4739315  </td><td>0.9633186  </td><td>0.026624902</td><td>0.008119359</td><td>0.06281169 </td><td>...        </td><td>0.09734987 </td><td>0.10464493 </td><td>0.13300087 </td><td>0.17664757 </td><td>0.14182088 </td><td>0.07414582 </td><td>0.02769649 </td><td>0.7563368  </td><td>  626.15   </td><td> 38.749501 </td></tr>\n",
       "\t<tr><td>Winnebago  </td><td>Wisconsin  </td><td>55139      </td><td>171020     </td><td>0.5032335  </td><td>0.4967665  </td><td>0.9375804  </td><td>0.031967021</td><td>0.035791136</td><td>0.04200094 </td><td>...        </td><td>0.13267454 </td><td>0.12036604 </td><td>0.12591510 </td><td>0.13454567 </td><td>0.09208864 </td><td>0.04861420 </td><td>0.02314934 </td><td>0.8361478  </td><td>  434.49   </td><td>393.610900 </td></tr>\n",
       "\t<tr><td>Wood       </td><td>Wisconsin  </td><td>55141      </td><td> 73055     </td><td>0.4920813  </td><td>0.5079187  </td><td>0.9600027  </td><td>0.016152214</td><td>0.022791048</td><td>0.03092191 </td><td>...        </td><td>0.11162823 </td><td>0.11049209 </td><td>0.12756143 </td><td>0.15748409 </td><td>0.11190199 </td><td>0.06378756 </td><td>0.02993635 </td><td>0.7943741  </td><td>  793.12   </td><td> 92.110904 </td></tr>\n",
       "\t<tr><td>Albany     </td><td>Wyoming    </td><td>56001      </td><td> 38601     </td><td>0.5218777  </td><td>0.4781223  </td><td>0.9292505  </td><td>0.027589959</td><td>0.046216419</td><td>0.09813217 </td><td>...        </td><td>0.15978861 </td><td>0.10370198 </td><td>0.08038652 </td><td>0.09769177 </td><td>0.07385819 </td><td>0.03183855 </td><td>0.01165773 </td><td>0.8826455  </td><td> 4273.84   </td><td>  9.031924 </td></tr>\n",
       "\t<tr><td>Big Horn   </td><td>Wyoming    </td><td>56003      </td><td> 11881     </td><td>0.5034930  </td><td>0.4965070  </td><td>0.9722246  </td><td>0.010436832</td><td>0.008080128</td><td>0.09233230 </td><td>...        </td><td>0.10419998 </td><td>0.11059675 </td><td>0.11177510 </td><td>0.13786718 </td><td>0.12086525 </td><td>0.06539854 </td><td>0.02373538 </td><td>0.7900008  </td><td> 3137.10   </td><td>  3.787256 </td></tr>\n",
       "\t<tr><td>Campbell   </td><td>Wyoming    </td><td>56005      </td><td> 46140     </td><td>0.5153663  </td><td>0.4846337  </td><td>0.9695925  </td><td>0.011053316</td><td>0.012830516</td><td>0.08660598 </td><td>...        </td><td>0.15106199 </td><td>0.14310793 </td><td>0.11287386 </td><td>0.14018205 </td><td>0.06926745 </td><td>0.02340702 </td><td>0.00793238 </td><td>0.8993932  </td><td> 4802.71   </td><td>  9.607076 </td></tr>\n",
       "\t<tr><td>Carbon     </td><td>Wyoming    </td><td>56007      </td><td> 14971     </td><td>0.5397769  </td><td>0.4602231  </td><td>0.9585198  </td><td>0.018569234</td><td>0.012223632</td><td>0.18235255 </td><td>...        </td><td>0.14407855 </td><td>0.12851513 </td><td>0.11001269 </td><td>0.14461292 </td><td>0.10587135 </td><td>0.04815978 </td><td>0.01716652 </td><td>0.8288024  </td><td> 7897.58   </td><td>  1.895644 </td></tr>\n",
       "\t<tr><td>Converse   </td><td>Wyoming    </td><td>56009      </td><td> 13640     </td><td>0.5078446  </td><td>0.4921554  </td><td>0.9750000  </td><td>0.010997067</td><td>0.007771261</td><td>0.08482405 </td><td>...        </td><td>0.12228739 </td><td>0.12272727 </td><td>0.12382698 </td><td>0.14780059 </td><td>0.10109971 </td><td>0.04838710 </td><td>0.01671554 </td><td>0.8337977  </td><td> 4254.88   </td><td>  3.205731 </td></tr>\n",
       "\t<tr><td>Crook      </td><td>Wyoming    </td><td>56011      </td><td>  7450     </td><td>0.5080537  </td><td>0.4919463  </td><td>0.9753020  </td><td>0.014228188</td><td>0.003892617</td><td>0.02402685 </td><td>...        </td><td>0.10322148 </td><td>0.10000000 </td><td>0.12093960 </td><td>0.17033557 </td><td>0.12617450 </td><td>0.05879195 </td><td>0.02134228 </td><td>0.7936913  </td><td> 2854.41   </td><td>  2.609996 </td></tr>\n",
       "\t<tr><td>Fremont    </td><td>Wyoming    </td><td>56013      </td><td> 39531     </td><td>0.5015304  </td><td>0.4984696  </td><td>0.7667906  </td><td>0.009587412</td><td>0.009005591</td><td>0.06966684 </td><td>...        </td><td>0.12119602 </td><td>0.11365764 </td><td>0.10910425 </td><td>0.14120564 </td><td>0.11115327 </td><td>0.05117503 </td><td>0.02036377 </td><td>0.8173079  </td><td> 9183.81   </td><td>  4.304423 </td></tr>\n",
       "\t<tr><td>Goshen     </td><td>Wyoming    </td><td>56015      </td><td> 13376     </td><td>0.5220544  </td><td>0.4779456  </td><td>0.9649372  </td><td>0.014802632</td><td>0.010840311</td><td>0.10862739 </td><td>...        </td><td>0.11662679 </td><td>0.11206639 </td><td>0.11356160 </td><td>0.14518541 </td><td>0.11737440 </td><td>0.06877990 </td><td>0.03319378 </td><td>0.7806519  </td><td> 2225.39   </td><td>  6.010632 </td></tr>\n",
       "\t<tr><td>Hot Springs</td><td>Wyoming    </td><td>56017      </td><td>  4555     </td><td>0.5045005  </td><td>0.4954995  </td><td>0.9705818  </td><td>0.012294182</td><td>0.007025247</td><td>0.04039517 </td><td>...        </td><td>0.09813392 </td><td>0.10164654 </td><td>0.10669594 </td><td>0.16245884 </td><td>0.14094402 </td><td>0.08847420 </td><td>0.03271131 </td><td>0.7378705  </td><td> 2004.09   </td><td>  2.272852 </td></tr>\n",
       "\t<tr><td>Johnson    </td><td>Wyoming    </td><td>56019      </td><td>  8460     </td><td>0.5041371  </td><td>0.4958629  </td><td>0.9680851  </td><td>0.011229314</td><td>0.009456265</td><td>0.04775414 </td><td>...        </td><td>0.09680851 </td><td>0.11560284 </td><td>0.11323877 </td><td>0.15957447 </td><td>0.13924350 </td><td>0.06962175 </td><td>0.02801418 </td><td>0.7631206  </td><td> 4154.15   </td><td>  2.036518 </td></tr>\n",
       "\t<tr><td>Laramie    </td><td>Wyoming    </td><td>56021      </td><td> 98976     </td><td>0.5068906  </td><td>0.4931094  </td><td>0.9443704  </td><td>0.039039767</td><td>0.022227611</td><td>0.14795506 </td><td>...        </td><td>0.14851075 </td><td>0.12318138 </td><td>0.11647268 </td><td>0.13024370 </td><td>0.09597276 </td><td>0.04503112 </td><td>0.01927740 </td><td>0.8397187  </td><td> 2685.91   </td><td> 36.850081 </td></tr>\n",
       "\t<tr><td>Lincoln    </td><td>Wyoming    </td><td>56023      </td><td> 19434     </td><td>0.5109602  </td><td>0.4890398  </td><td>0.9778224  </td><td>0.008387362</td><td>0.009056293</td><td>0.04733971 </td><td>...        </td><td>0.09781826 </td><td>0.13013276 </td><td>0.11459298 </td><td>0.15210456 </td><td>0.11263765 </td><td>0.04687661 </td><td>0.01420191 </td><td>0.8262838  </td><td> 4076.13   </td><td>  4.767758 </td></tr>\n",
       "\t<tr><td>Natrona    </td><td>Wyoming    </td><td>56025      </td><td> 79115     </td><td>0.5038235  </td><td>0.4961765  </td><td>0.9617266  </td><td>0.022397775</td><td>0.013233900</td><td>0.08581179 </td><td>...        </td><td>0.14625545 </td><td>0.13244012 </td><td>0.11209000 </td><td>0.13704102 </td><td>0.09252354 </td><td>0.04118056 </td><td>0.02024900 </td><td>0.8460469  </td><td> 5340.35   </td><td> 14.814572 </td></tr>\n",
       "\t<tr><td>Niobrara   </td><td>Wyoming    </td><td>56027      </td><td>  2388     </td><td>0.4568677  </td><td>0.5431323  </td><td>0.9715243  </td><td>0.018425461</td><td>0.010887772</td><td>0.03643216 </td><td>...        </td><td>0.13232831 </td><td>0.12311558 </td><td>0.11348409 </td><td>0.15368509 </td><td>0.12437186 </td><td>0.07998325 </td><td>0.02177554 </td><td>0.7738693  </td><td> 2626.04   </td><td>  0.909354 </td></tr>\n",
       "\t<tr><td>Park       </td><td>Wyoming    </td><td>56029      </td><td> 29324     </td><td>0.4980562  </td><td>0.5019438  </td><td>0.9738781  </td><td>0.010707953</td><td>0.011765107</td><td>0.05623380 </td><td>...        </td><td>0.11137635 </td><td>0.11062611 </td><td>0.10800027 </td><td>0.15587914 </td><td>0.13811213 </td><td>0.06711226 </td><td>0.02683808 </td><td>0.7679375  </td><td> 6942.08   </td><td>  4.224094 </td></tr>\n",
       "\t<tr><td>Platte     </td><td>Wyoming    </td><td>56031      </td><td>  8566     </td><td>0.5031520  </td><td>0.4968480  </td><td>0.9722157  </td><td>0.011440579</td><td>0.015176278</td><td>0.08475368 </td><td>...        </td><td>0.10600047 </td><td>0.10296521 </td><td>0.11498949 </td><td>0.15841700 </td><td>0.14440813 </td><td>0.08230212 </td><td>0.02953537 </td><td>0.7437544  </td><td> 2084.21   </td><td>  4.109951 </td></tr>\n",
       "\t<tr><td>Sheridan   </td><td>Wyoming    </td><td>56033      </td><td> 30233     </td><td>0.5020673  </td><td>0.4979327  </td><td>0.9671882  </td><td>0.012469818</td><td>0.013032117</td><td>0.04342937 </td><td>...        </td><td>0.11560216 </td><td>0.11874442 </td><td>0.11424602 </td><td>0.14881090 </td><td>0.12717891 </td><td>0.05785069 </td><td>0.02490656 </td><td>0.7900638  </td><td> 2523.99   </td><td> 11.978257 </td></tr>\n",
       "\t<tr><td>Sublette   </td><td>Wyoming    </td><td>56035      </td><td>  9813     </td><td>0.5395903  </td><td>0.4604097  </td><td>0.9710588  </td><td>0.013043921</td><td>0.010598186</td><td>0.07459493 </td><td>...        </td><td>0.11423622 </td><td>0.13217161 </td><td>0.12778967 </td><td>0.14603078 </td><td>0.12055437 </td><td>0.05584429 </td><td>0.01834301 </td><td>0.8052583  </td><td> 4886.54   </td><td>  2.008169 </td></tr>\n",
       "\t<tr><td>Sweetwater </td><td>Wyoming    </td><td>56037      </td><td> 43051     </td><td>0.5145525  </td><td>0.4854475  </td><td>0.9580498  </td><td>0.020278275</td><td>0.015470024</td><td>0.16083250 </td><td>...        </td><td>0.13990383 </td><td>0.14457272 </td><td>0.11330747 </td><td>0.13367866 </td><td>0.07971940 </td><td>0.03045225 </td><td>0.01094051 </td><td>0.8788878  </td><td>10426.65   </td><td>  4.128939 </td></tr>\n",
       "\t<tr><td>Teton      </td><td>Wyoming    </td><td>56039      </td><td> 23081     </td><td>0.5159655  </td><td>0.4840345  </td><td>0.9666392  </td><td>0.011004722</td><td>0.020449721</td><td>0.14878038 </td><td>...        </td><td>0.16970669 </td><td>0.16468091 </td><td>0.13474286 </td><td>0.13205667 </td><td>0.10029895 </td><td>0.03977297 </td><td>0.01408085 </td><td>0.8458472  </td><td> 3995.38   </td><td>  5.776922 </td></tr>\n",
       "\t<tr><td>Uinta      </td><td>Wyoming    </td><td>56041      </td><td> 20299     </td><td>0.5066752  </td><td>0.4933248  </td><td>0.9704912  </td><td>0.012660722</td><td>0.009064486</td><td>0.09236908 </td><td>...        </td><td>0.11803537 </td><td>0.13389822 </td><td>0.10837972 </td><td>0.13803636 </td><td>0.09281245 </td><td>0.03542046 </td><td>0.01256220 </td><td>0.8592049  </td><td> 2081.26   </td><td>  9.753226 </td></tr>\n",
       "\t<tr><td>Washakie   </td><td>Wyoming    </td><td>56043      </td><td>  7885     </td><td>0.5057705  </td><td>0.4942295  </td><td>0.9662651  </td><td>0.012555485</td><td>0.012809131</td><td>0.14051997 </td><td>...        </td><td>0.09879518 </td><td>0.11756500 </td><td>0.12403297 </td><td>0.14812936 </td><td>0.11883323 </td><td>0.06734306 </td><td>0.03069119 </td><td>0.7831325  </td><td> 2238.55   </td><td>  3.522369 </td></tr>\n",
       "\t<tr><td>Weston     </td><td>Wyoming    </td><td>56045      </td><td>  6967     </td><td>0.5294962  </td><td>0.4705038  </td><td>0.9547869  </td><td>0.014640448</td><td>0.023683077</td><td>0.04076360 </td><td>...        </td><td>0.11468351 </td><td>0.12071193 </td><td>0.11597531 </td><td>0.17496770 </td><td>0.11611885 </td><td>0.06028420 </td><td>0.02870676 </td><td>0.7948902  </td><td> 2398.09   </td><td>  2.905229 </td></tr>\n",
       "</tbody>\n",
       "</table>\n"
      ],
      "text/latex": [
       "\\begin{tabular}{r|lllllllllllllllllllllll}\n",
       " county & state & fips & tot\\_pop & male\\_perc & female\\_perc & white\\_pop\\_perc & black\\_pop\\_perc & asian\\_pop\\_perc & hisp\\_pop\\_perc & ... & age\\_25to34\\_perc & age\\_35to44\\_perc & age\\_45to54\\_perc & age\\_55to64\\_perc & age\\_65to74\\_perc & age\\_75to84\\_perc & age\\_84plus\\_perc & lowrisk\\_agegroup\\_perc & land\\_area & population\\_density\\\\\n",
       "\\hline\n",
       "\t Autauga     & Alabama     & 01001       &  55601      & 0.4855129   & 0.5144871   & 0.7837989   & 0.20616536  & 0.017301847 & 0.02965774  & ...         & 0.1288826   & 0.1302854   & 0.1398716   & 0.1288466   & 0.08812791  & 0.05183360  & 0.01566519  & 0.8443733   &  594.44     &  93.53509  \\\\\n",
       "\t Baldwin     & Alabama     & 01003       & 218022      & 0.4846162   & 0.5153838   & 0.8895983   & 0.09688472  & 0.015613103 & 0.04646779  & ...         & 0.1125024   & 0.1194054   & 0.1316519   & 0.1440634   & 0.12263900  & 0.06205337  & 0.01974113  & 0.7955665   & 1589.78     & 137.13973  \\\\\n",
       "\t Barbour     & Alabama     & 01005       &  24881      & 0.5278325   & 0.4721675   & 0.5003416   & 0.49290623  & 0.006068888 & 0.04276355  & ...         & 0.1393031   & 0.1198103   & 0.1296974   & 0.1290543   & 0.11563040  & 0.05960371  & 0.01897030  & 0.8057956   &  884.88     &  28.11794  \\\\\n",
       "\t Bibb        & Alabama     & 01007       &  22400      & 0.5321875   & 0.4678125   & 0.7781250   & 0.21901786  & 0.003794643 & 0.02625000  & ...         & 0.1485268   & 0.1317857   & 0.1419196   & 0.1293304   & 0.09705357  & 0.05147321  & 0.01620536  & 0.8352679   &  622.58     &  35.97931  \\\\\n",
       "\t Blount      & Alabama     & 01009       &  57840      & 0.4927386   & 0.5072614   & 0.9718361   & 0.02162863  & 0.005411480 & 0.09571231  & ...         & 0.1198824   & 0.1221819   & 0.1351660   & 0.1319156   & 0.10793568  & 0.05658714  & 0.01784232  & 0.8176349   &  644.78     &  89.70502  \\\\\n",
       "\t Bullock     & Alabama     & 01011       &  10138      & 0.5451766   & 0.4548234   & 0.2735254   & 0.71404616  & 0.004044190 & 0.07960150  & ...         & 0.1505228   & 0.1291182   & 0.1240876   & 0.1410535   & 0.09350957  & 0.05217992  & 0.01814954  & 0.8361610   &  622.81     &  16.27784  \\\\\n",
       "\t Butler      & Alabama     & 01013       &  19680      & 0.4657012   & 0.5342988   & 0.5325711   & 0.45553862  & 0.014939024 & 0.01509146  & ...         & 0.1158028   & 0.1214431   & 0.1175305   & 0.1423272   & 0.11178862  & 0.06148374  & 0.02972561  & 0.7970020   &  776.83     &  25.33373  \\\\\n",
       "\t Calhoun     & Alabama     & 01015       & 114277      & 0.4805341   & 0.5194659   & 0.7708638   & 0.22228445  & 0.014106076 & 0.03910673  & ...         & 0.1317763   & 0.1194116   & 0.1251608   & 0.1396431   & 0.10567306  & 0.05302904  & 0.01847266  & 0.8228252   &  605.87     & 188.61637  \\\\\n",
       "\t Chambers    & Alabama     & 01017       &  33615      & 0.4787446   & 0.5212554   & 0.5822698   & 0.40788339  & 0.014755318 & 0.02561357  & ...         & 0.1258664   & 0.1123011   & 0.1311617   & 0.1472557   & 0.11423472  & 0.05869404  & 0.02228172  & 0.8047895   &  596.53     &  56.35090  \\\\\n",
       "\t Cherokee    & Alabama     & 01019       &  26032      & 0.4953903   & 0.5046097   & 0.9461048   & 0.04963122  & 0.005262754 & 0.01621082  & ...         & 0.1057929   & 0.1063691   & 0.1379072   & 0.1574985   & 0.13617855  & 0.07294868  & 0.02059004  & 0.7702827   &  553.70     &  47.01463  \\\\\n",
       "\t Chilton     & Alabama     & 01021       &  44153      & 0.4907481   & 0.5092519   & 0.8830884   & 0.11097774  & 0.006885149 & 0.07926981  & ...         & 0.1261749   & 0.1235477   & 0.1316558   & 0.1332639   & 0.10103504  & 0.04939642  & 0.01741671  & 0.8321518   &  692.85     &  63.72664  \\\\\n",
       "\t Choctaw     & Alabama     & 01023       &  12841      & 0.4727046   & 0.5272954   & 0.5784596   & 0.42091737  & 0.003037147 & 0.01043532  & ...         & 0.1015497   & 0.1076240   & 0.1310646   & 0.1566856   & 0.12989643  & 0.07258002  & 0.02749007  & 0.7700335   &  913.50     &  14.05692  \\\\\n",
       "\t Clarke      & Alabama     & 01025       &  23920      & 0.4735786   & 0.5264214   & 0.5430602   & 0.45163043  & 0.006061873 & 0.01362876  & ...         & 0.1098662   & 0.1165552   & 0.1304348   & 0.1441890   & 0.10857023  & 0.06538462  & 0.02474916  & 0.8012960   & 1238.47     &  19.31415  \\\\\n",
       "\t Clay        & Alabama     & 01027       &  13275      & 0.4890395   & 0.5109605   & 0.8503955   & 0.15216573  & 0.004293785 & 0.03013183  & ...         & 0.1089266   & 0.1134463   & 0.1392844   & 0.1475706   & 0.11487759  & 0.06885122  & 0.02350282  & 0.7927684   &  603.96     &  21.97993  \\\\\n",
       "\t Cleburne    & Alabama     & 01029       &  14987      & 0.4951625   & 0.5048375   & 0.9619670   & 0.03609795  & 0.003803296 & 0.02482151  & ...         & 0.1167679   & 0.1169013   & 0.1385201   & 0.1345166   & 0.11289784  & 0.05898445  & 0.02261960  & 0.8054981   &  560.10     &  26.75772  \\\\\n",
       "\t Coffee      & Alabama     & 01031       &  51909      & 0.4916488   & 0.5083512   & 0.7855863   & 0.19000559  & 0.024388834 & 0.07580574  & ...         & 0.1270878   & 0.1283015   & 0.1334065   & 0.1253732   & 0.09975149  & 0.05110867  & 0.01868655  & 0.8304533   &  678.97     &  76.45257  \\\\\n",
       "\t Colbert     & Alabama     & 01033       &  54762      & 0.4795113   & 0.5204887   & 0.8235820   & 0.17196231  & 0.007925204 & 0.02675213  & ...         & 0.1266754   & 0.1154268   & 0.1308572   & 0.1414302   & 0.11203024  & 0.06378511  & 0.02348344  & 0.8007012   &  592.62     &  92.40660  \\\\\n",
       "\t Conecuh     & Alabama     & 01035       &  12277      & 0.4790258   & 0.5209742   & 0.5286308   & 0.46957726  & 0.003909750 & 0.02150362  & ...         & 0.1105319   & 0.1030382   & 0.1212022   & 0.1561456   & 0.12649670  & 0.07200456  & 0.02647227  & 0.7750265   &  850.16     &  14.44081  \\\\\n",
       "\t Coosa       & Alabama     & 01037       &  10715      & 0.5038731   & 0.4961269   & 0.6810079   & 0.31441904  & 0.003173122 & 0.02519832  & ...         & 0.1026598   & 0.1058329   & 0.1459636   & 0.1799347   & 0.13504433  & 0.07130191  & 0.02519832  & 0.7684554   &  650.93     &  16.46106  \\\\\n",
       "\t Covington   & Alabama     & 01039       &  36986      & 0.4838588   & 0.5161412   & 0.8617315   & 0.13515925  & 0.006137457 & 0.01749311  & ...         & 0.1173958   & 0.1089331   & 0.1251555   & 0.1486779   & 0.11696318  & 0.06718758  & 0.02646947  & 0.7893798   & 1030.46     &  35.89271  \\\\\n",
       "\t Crenshaw    & Alabama     & 01041       &  13824      & 0.4827836   & 0.5172164   & 0.7464554   & 0.24660012  & 0.013237847 & 0.02314815  & ...         & 0.1187066   & 0.1146557   & 0.1278212   & 0.1446036   & 0.11610243  & 0.05215567  & 0.02191840  & 0.8098235   &  608.84     &  22.70547  \\\\\n",
       "\t Cullman     & Alabama     & 01043       &  83442      & 0.4942954   & 0.5057046   & 0.9718008   & 0.01804846  & 0.008520889 & 0.04433019  & ...         & 0.1290717   & 0.1201194   & 0.1282328   & 0.1362863   & 0.10878215  & 0.05895113  & 0.01737734  & 0.8148894   &  734.84     & 113.55125  \\\\\n",
       "\t Dale        & Alabama     & 01045       &  48956      & 0.4907059   & 0.5092941   & 0.7630730   & 0.22375194  & 0.021121007 & 0.06638614  & ...         & 0.1470096   & 0.1158796   & 0.1205777   & 0.1311382   & 0.09759784  & 0.05298636  & 0.01834300  & 0.8310728   &  561.15     &  87.24227  \\\\\n",
       "\t Dallas      & Alabama     & 01047       &  38310      & 0.4616288   & 0.5383712   & 0.2853824   & 0.71004960  & 0.007047768 & 0.01111981  & ...         & 0.1170191   & 0.1108327   & 0.1180371   & 0.1476638   & 0.10801357  & 0.05434612  & 0.01829809  & 0.8193422   &  978.70     &  39.14376  \\\\\n",
       "\t DeKalb      & Alabama     & 01049       &  71385      & 0.4962947   & 0.5037053   & 0.9482244   & 0.02420677  & 0.006808153 & 0.14842054  & ...         & 0.1191427   & 0.1227289   & 0.1328150   & 0.1305596   & 0.10331302  & 0.05239196  & 0.01690831  & 0.8273867   &  777.09     &  91.86195  \\\\\n",
       "\t Elmore      & Alabama     & 01051       &  81887      & 0.4834101   & 0.5165899   & 0.7704520   & 0.22294137  & 0.011149511 & 0.03012688  & ...         & 0.1412556   & 0.1322676   & 0.1376531   & 0.1315105   & 0.09213917  & 0.04507431  & 0.01421471  & 0.8485718   &  618.49     & 132.39826  \\\\\n",
       "\t Escambia    & Alabama     & 01053       &  36748      & 0.5069119   & 0.4930881   & 0.6389191   & 0.32706542  & 0.005551323 & 0.02468162  & ...         & 0.1352999   & 0.1244694   & 0.1299663   & 0.1306466   & 0.10302602  & 0.05788070  & 0.01858605  & 0.8205072   &  945.08     &  38.88348  \\\\\n",
       "\t Etowah      & Alabama     & 01055       & 102501      & 0.4844148   & 0.5155852   & 0.8245090   & 0.16596911  & 0.010390143 & 0.04015571  & ...         & 0.1211598   & 0.1198720   & 0.1353548   & 0.1369255   & 0.11347206  & 0.05729700  & 0.01934615  & 0.8098848   &  534.99     & 191.59424  \\\\\n",
       "\t Fayette     & Alabama     & 01057       &  16433      & 0.4882249   & 0.5117751   & 0.8702002   & 0.12906956  & 0.005598491 & 0.01807339  & ...         & 0.1147691   & 0.1102659   & 0.1294347   & 0.1438569   & 0.12091523  & 0.06967687  & 0.02069007  & 0.7887178   &  627.66     &  26.18137  \\\\\n",
       "\t Franklin    & Alabama     & 01059       &  31363      & 0.5045117   & 0.4954883   & 0.9321175   & 0.05315180  & 0.004910245 & 0.17750215  & ...         & 0.1239358   & 0.1236489   & 0.1324809   & 0.1250837   & 0.09581354  & 0.05503300  & 0.01801486  & 0.8311386   &  633.82     &  49.48250  \\\\\n",
       "\t ... & ... & ... & ... & ... & ... & ... & ... & ... & ... &     & ... & ... & ... & ... & ... & ... & ... & ... & ... & ...\\\\\n",
       "\t Washburn    & Wisconsin   & 55129       &  15878      & 0.4950875   & 0.5049125   & 0.9719108   & 0.009510014 & 0.008124449 & 0.01851619  & ...         & 0.08678675  & 0.09510014  & 0.12369316  & 0.18383927  & 0.15833228  & 0.07349792  & 0.03073435  & 0.7374354   &   797.11    &  19.919459 \\\\\n",
       "\t Washington  & Wisconsin   & 55131       & 135693      & 0.4970927   & 0.5029073   & 0.9671759   & 0.019337770 & 0.018195485 & 0.03220505  & ...         & 0.10572395  & 0.12219495  & 0.14586604  & 0.15440001  & 0.10365310  & 0.05311254  & 0.02308888  & 0.8201455   &   430.70    & 315.052241 \\\\\n",
       "\t Waukesha    & Wisconsin   & 55133       & 403072      & 0.4916963   & 0.5083037   & 0.9398371   & 0.023065358 & 0.044763715 & 0.04786986  & ...         & 0.10467113  & 0.12341219  & 0.13700282  & 0.15546106  & 0.10670798  & 0.05375466  & 0.02607971  & 0.8134576   &   549.57    & 733.431592 \\\\\n",
       "\t Waupaca     & Wisconsin   & 55135       &  51128      & 0.5073541   & 0.4926459   & 0.9804217   & 0.009505555 & 0.008195118 & 0.03258488  & ...         & 0.10514786  & 0.11361680  & 0.13452511  & 0.16533015  & 0.11310828  & 0.06260757  & 0.03295650  & 0.7913276   &   747.71    &  68.379452 \\\\\n",
       "\t Waushara    & Wisconsin   & 55137       &  24263      & 0.5260685   & 0.4739315   & 0.9633186   & 0.026624902 & 0.008119359 & 0.06281169  & ...         & 0.09734987  & 0.10464493  & 0.13300087  & 0.17664757  & 0.14182088  & 0.07414582  & 0.02769649  & 0.7563368   &   626.15    &  38.749501 \\\\\n",
       "\t Winnebago   & Wisconsin   & 55139       & 171020      & 0.5032335   & 0.4967665   & 0.9375804   & 0.031967021 & 0.035791136 & 0.04200094  & ...         & 0.13267454  & 0.12036604  & 0.12591510  & 0.13454567  & 0.09208864  & 0.04861420  & 0.02314934  & 0.8361478   &   434.49    & 393.610900 \\\\\n",
       "\t Wood        & Wisconsin   & 55141       &  73055      & 0.4920813   & 0.5079187   & 0.9600027   & 0.016152214 & 0.022791048 & 0.03092191  & ...         & 0.11162823  & 0.11049209  & 0.12756143  & 0.15748409  & 0.11190199  & 0.06378756  & 0.02993635  & 0.7943741   &   793.12    &  92.110904 \\\\\n",
       "\t Albany      & Wyoming     & 56001       &  38601      & 0.5218777   & 0.4781223   & 0.9292505   & 0.027589959 & 0.046216419 & 0.09813217  & ...         & 0.15978861  & 0.10370198  & 0.08038652  & 0.09769177  & 0.07385819  & 0.03183855  & 0.01165773  & 0.8826455   &  4273.84    &   9.031924 \\\\\n",
       "\t Big Horn    & Wyoming     & 56003       &  11881      & 0.5034930   & 0.4965070   & 0.9722246   & 0.010436832 & 0.008080128 & 0.09233230  & ...         & 0.10419998  & 0.11059675  & 0.11177510  & 0.13786718  & 0.12086525  & 0.06539854  & 0.02373538  & 0.7900008   &  3137.10    &   3.787256 \\\\\n",
       "\t Campbell    & Wyoming     & 56005       &  46140      & 0.5153663   & 0.4846337   & 0.9695925   & 0.011053316 & 0.012830516 & 0.08660598  & ...         & 0.15106199  & 0.14310793  & 0.11287386  & 0.14018205  & 0.06926745  & 0.02340702  & 0.00793238  & 0.8993932   &  4802.71    &   9.607076 \\\\\n",
       "\t Carbon      & Wyoming     & 56007       &  14971      & 0.5397769   & 0.4602231   & 0.9585198   & 0.018569234 & 0.012223632 & 0.18235255  & ...         & 0.14407855  & 0.12851513  & 0.11001269  & 0.14461292  & 0.10587135  & 0.04815978  & 0.01716652  & 0.8288024   &  7897.58    &   1.895644 \\\\\n",
       "\t Converse    & Wyoming     & 56009       &  13640      & 0.5078446   & 0.4921554   & 0.9750000   & 0.010997067 & 0.007771261 & 0.08482405  & ...         & 0.12228739  & 0.12272727  & 0.12382698  & 0.14780059  & 0.10109971  & 0.04838710  & 0.01671554  & 0.8337977   &  4254.88    &   3.205731 \\\\\n",
       "\t Crook       & Wyoming     & 56011       &   7450      & 0.5080537   & 0.4919463   & 0.9753020   & 0.014228188 & 0.003892617 & 0.02402685  & ...         & 0.10322148  & 0.10000000  & 0.12093960  & 0.17033557  & 0.12617450  & 0.05879195  & 0.02134228  & 0.7936913   &  2854.41    &   2.609996 \\\\\n",
       "\t Fremont     & Wyoming     & 56013       &  39531      & 0.5015304   & 0.4984696   & 0.7667906   & 0.009587412 & 0.009005591 & 0.06966684  & ...         & 0.12119602  & 0.11365764  & 0.10910425  & 0.14120564  & 0.11115327  & 0.05117503  & 0.02036377  & 0.8173079   &  9183.81    &   4.304423 \\\\\n",
       "\t Goshen      & Wyoming     & 56015       &  13376      & 0.5220544   & 0.4779456   & 0.9649372   & 0.014802632 & 0.010840311 & 0.10862739  & ...         & 0.11662679  & 0.11206639  & 0.11356160  & 0.14518541  & 0.11737440  & 0.06877990  & 0.03319378  & 0.7806519   &  2225.39    &   6.010632 \\\\\n",
       "\t Hot Springs & Wyoming     & 56017       &   4555      & 0.5045005   & 0.4954995   & 0.9705818   & 0.012294182 & 0.007025247 & 0.04039517  & ...         & 0.09813392  & 0.10164654  & 0.10669594  & 0.16245884  & 0.14094402  & 0.08847420  & 0.03271131  & 0.7378705   &  2004.09    &   2.272852 \\\\\n",
       "\t Johnson     & Wyoming     & 56019       &   8460      & 0.5041371   & 0.4958629   & 0.9680851   & 0.011229314 & 0.009456265 & 0.04775414  & ...         & 0.09680851  & 0.11560284  & 0.11323877  & 0.15957447  & 0.13924350  & 0.06962175  & 0.02801418  & 0.7631206   &  4154.15    &   2.036518 \\\\\n",
       "\t Laramie     & Wyoming     & 56021       &  98976      & 0.5068906   & 0.4931094   & 0.9443704   & 0.039039767 & 0.022227611 & 0.14795506  & ...         & 0.14851075  & 0.12318138  & 0.11647268  & 0.13024370  & 0.09597276  & 0.04503112  & 0.01927740  & 0.8397187   &  2685.91    &  36.850081 \\\\\n",
       "\t Lincoln     & Wyoming     & 56023       &  19434      & 0.5109602   & 0.4890398   & 0.9778224   & 0.008387362 & 0.009056293 & 0.04733971  & ...         & 0.09781826  & 0.13013276  & 0.11459298  & 0.15210456  & 0.11263765  & 0.04687661  & 0.01420191  & 0.8262838   &  4076.13    &   4.767758 \\\\\n",
       "\t Natrona     & Wyoming     & 56025       &  79115      & 0.5038235   & 0.4961765   & 0.9617266   & 0.022397775 & 0.013233900 & 0.08581179  & ...         & 0.14625545  & 0.13244012  & 0.11209000  & 0.13704102  & 0.09252354  & 0.04118056  & 0.02024900  & 0.8460469   &  5340.35    &  14.814572 \\\\\n",
       "\t Niobrara    & Wyoming     & 56027       &   2388      & 0.4568677   & 0.5431323   & 0.9715243   & 0.018425461 & 0.010887772 & 0.03643216  & ...         & 0.13232831  & 0.12311558  & 0.11348409  & 0.15368509  & 0.12437186  & 0.07998325  & 0.02177554  & 0.7738693   &  2626.04    &   0.909354 \\\\\n",
       "\t Park        & Wyoming     & 56029       &  29324      & 0.4980562   & 0.5019438   & 0.9738781   & 0.010707953 & 0.011765107 & 0.05623380  & ...         & 0.11137635  & 0.11062611  & 0.10800027  & 0.15587914  & 0.13811213  & 0.06711226  & 0.02683808  & 0.7679375   &  6942.08    &   4.224094 \\\\\n",
       "\t Platte      & Wyoming     & 56031       &   8566      & 0.5031520   & 0.4968480   & 0.9722157   & 0.011440579 & 0.015176278 & 0.08475368  & ...         & 0.10600047  & 0.10296521  & 0.11498949  & 0.15841700  & 0.14440813  & 0.08230212  & 0.02953537  & 0.7437544   &  2084.21    &   4.109951 \\\\\n",
       "\t Sheridan    & Wyoming     & 56033       &  30233      & 0.5020673   & 0.4979327   & 0.9671882   & 0.012469818 & 0.013032117 & 0.04342937  & ...         & 0.11560216  & 0.11874442  & 0.11424602  & 0.14881090  & 0.12717891  & 0.05785069  & 0.02490656  & 0.7900638   &  2523.99    &  11.978257 \\\\\n",
       "\t Sublette    & Wyoming     & 56035       &   9813      & 0.5395903   & 0.4604097   & 0.9710588   & 0.013043921 & 0.010598186 & 0.07459493  & ...         & 0.11423622  & 0.13217161  & 0.12778967  & 0.14603078  & 0.12055437  & 0.05584429  & 0.01834301  & 0.8052583   &  4886.54    &   2.008169 \\\\\n",
       "\t Sweetwater  & Wyoming     & 56037       &  43051      & 0.5145525   & 0.4854475   & 0.9580498   & 0.020278275 & 0.015470024 & 0.16083250  & ...         & 0.13990383  & 0.14457272  & 0.11330747  & 0.13367866  & 0.07971940  & 0.03045225  & 0.01094051  & 0.8788878   & 10426.65    &   4.128939 \\\\\n",
       "\t Teton       & Wyoming     & 56039       &  23081      & 0.5159655   & 0.4840345   & 0.9666392   & 0.011004722 & 0.020449721 & 0.14878038  & ...         & 0.16970669  & 0.16468091  & 0.13474286  & 0.13205667  & 0.10029895  & 0.03977297  & 0.01408085  & 0.8458472   &  3995.38    &   5.776922 \\\\\n",
       "\t Uinta       & Wyoming     & 56041       &  20299      & 0.5066752   & 0.4933248   & 0.9704912   & 0.012660722 & 0.009064486 & 0.09236908  & ...         & 0.11803537  & 0.13389822  & 0.10837972  & 0.13803636  & 0.09281245  & 0.03542046  & 0.01256220  & 0.8592049   &  2081.26    &   9.753226 \\\\\n",
       "\t Washakie    & Wyoming     & 56043       &   7885      & 0.5057705   & 0.4942295   & 0.9662651   & 0.012555485 & 0.012809131 & 0.14051997  & ...         & 0.09879518  & 0.11756500  & 0.12403297  & 0.14812936  & 0.11883323  & 0.06734306  & 0.03069119  & 0.7831325   &  2238.55    &   3.522369 \\\\\n",
       "\t Weston      & Wyoming     & 56045       &   6967      & 0.5294962   & 0.4705038   & 0.9547869   & 0.014640448 & 0.023683077 & 0.04076360  & ...         & 0.11468351  & 0.12071193  & 0.11597531  & 0.17496770  & 0.11611885  & 0.06028420  & 0.02870676  & 0.7948902   &  2398.09    &   2.905229 \\\\\n",
       "\\end{tabular}\n"
      ],
      "text/markdown": [
       "\n",
       "| county | state | fips | tot_pop | male_perc | female_perc | white_pop_perc | black_pop_perc | asian_pop_perc | hisp_pop_perc | ... | age_25to34_perc | age_35to44_perc | age_45to54_perc | age_55to64_perc | age_65to74_perc | age_75to84_perc | age_84plus_perc | lowrisk_agegroup_perc | land_area | population_density |\n",
       "|---|---|---|---|---|---|---|---|---|---|---|---|---|---|---|---|---|---|---|---|---|\n",
       "| Autauga     | Alabama     | 01001       |  55601      | 0.4855129   | 0.5144871   | 0.7837989   | 0.20616536  | 0.017301847 | 0.02965774  | ...         | 0.1288826   | 0.1302854   | 0.1398716   | 0.1288466   | 0.08812791  | 0.05183360  | 0.01566519  | 0.8443733   |  594.44     |  93.53509   |\n",
       "| Baldwin     | Alabama     | 01003       | 218022      | 0.4846162   | 0.5153838   | 0.8895983   | 0.09688472  | 0.015613103 | 0.04646779  | ...         | 0.1125024   | 0.1194054   | 0.1316519   | 0.1440634   | 0.12263900  | 0.06205337  | 0.01974113  | 0.7955665   | 1589.78     | 137.13973   |\n",
       "| Barbour     | Alabama     | 01005       |  24881      | 0.5278325   | 0.4721675   | 0.5003416   | 0.49290623  | 0.006068888 | 0.04276355  | ...         | 0.1393031   | 0.1198103   | 0.1296974   | 0.1290543   | 0.11563040  | 0.05960371  | 0.01897030  | 0.8057956   |  884.88     |  28.11794   |\n",
       "| Bibb        | Alabama     | 01007       |  22400      | 0.5321875   | 0.4678125   | 0.7781250   | 0.21901786  | 0.003794643 | 0.02625000  | ...         | 0.1485268   | 0.1317857   | 0.1419196   | 0.1293304   | 0.09705357  | 0.05147321  | 0.01620536  | 0.8352679   |  622.58     |  35.97931   |\n",
       "| Blount      | Alabama     | 01009       |  57840      | 0.4927386   | 0.5072614   | 0.9718361   | 0.02162863  | 0.005411480 | 0.09571231  | ...         | 0.1198824   | 0.1221819   | 0.1351660   | 0.1319156   | 0.10793568  | 0.05658714  | 0.01784232  | 0.8176349   |  644.78     |  89.70502   |\n",
       "| Bullock     | Alabama     | 01011       |  10138      | 0.5451766   | 0.4548234   | 0.2735254   | 0.71404616  | 0.004044190 | 0.07960150  | ...         | 0.1505228   | 0.1291182   | 0.1240876   | 0.1410535   | 0.09350957  | 0.05217992  | 0.01814954  | 0.8361610   |  622.81     |  16.27784   |\n",
       "| Butler      | Alabama     | 01013       |  19680      | 0.4657012   | 0.5342988   | 0.5325711   | 0.45553862  | 0.014939024 | 0.01509146  | ...         | 0.1158028   | 0.1214431   | 0.1175305   | 0.1423272   | 0.11178862  | 0.06148374  | 0.02972561  | 0.7970020   |  776.83     |  25.33373   |\n",
       "| Calhoun     | Alabama     | 01015       | 114277      | 0.4805341   | 0.5194659   | 0.7708638   | 0.22228445  | 0.014106076 | 0.03910673  | ...         | 0.1317763   | 0.1194116   | 0.1251608   | 0.1396431   | 0.10567306  | 0.05302904  | 0.01847266  | 0.8228252   |  605.87     | 188.61637   |\n",
       "| Chambers    | Alabama     | 01017       |  33615      | 0.4787446   | 0.5212554   | 0.5822698   | 0.40788339  | 0.014755318 | 0.02561357  | ...         | 0.1258664   | 0.1123011   | 0.1311617   | 0.1472557   | 0.11423472  | 0.05869404  | 0.02228172  | 0.8047895   |  596.53     |  56.35090   |\n",
       "| Cherokee    | Alabama     | 01019       |  26032      | 0.4953903   | 0.5046097   | 0.9461048   | 0.04963122  | 0.005262754 | 0.01621082  | ...         | 0.1057929   | 0.1063691   | 0.1379072   | 0.1574985   | 0.13617855  | 0.07294868  | 0.02059004  | 0.7702827   |  553.70     |  47.01463   |\n",
       "| Chilton     | Alabama     | 01021       |  44153      | 0.4907481   | 0.5092519   | 0.8830884   | 0.11097774  | 0.006885149 | 0.07926981  | ...         | 0.1261749   | 0.1235477   | 0.1316558   | 0.1332639   | 0.10103504  | 0.04939642  | 0.01741671  | 0.8321518   |  692.85     |  63.72664   |\n",
       "| Choctaw     | Alabama     | 01023       |  12841      | 0.4727046   | 0.5272954   | 0.5784596   | 0.42091737  | 0.003037147 | 0.01043532  | ...         | 0.1015497   | 0.1076240   | 0.1310646   | 0.1566856   | 0.12989643  | 0.07258002  | 0.02749007  | 0.7700335   |  913.50     |  14.05692   |\n",
       "| Clarke      | Alabama     | 01025       |  23920      | 0.4735786   | 0.5264214   | 0.5430602   | 0.45163043  | 0.006061873 | 0.01362876  | ...         | 0.1098662   | 0.1165552   | 0.1304348   | 0.1441890   | 0.10857023  | 0.06538462  | 0.02474916  | 0.8012960   | 1238.47     |  19.31415   |\n",
       "| Clay        | Alabama     | 01027       |  13275      | 0.4890395   | 0.5109605   | 0.8503955   | 0.15216573  | 0.004293785 | 0.03013183  | ...         | 0.1089266   | 0.1134463   | 0.1392844   | 0.1475706   | 0.11487759  | 0.06885122  | 0.02350282  | 0.7927684   |  603.96     |  21.97993   |\n",
       "| Cleburne    | Alabama     | 01029       |  14987      | 0.4951625   | 0.5048375   | 0.9619670   | 0.03609795  | 0.003803296 | 0.02482151  | ...         | 0.1167679   | 0.1169013   | 0.1385201   | 0.1345166   | 0.11289784  | 0.05898445  | 0.02261960  | 0.8054981   |  560.10     |  26.75772   |\n",
       "| Coffee      | Alabama     | 01031       |  51909      | 0.4916488   | 0.5083512   | 0.7855863   | 0.19000559  | 0.024388834 | 0.07580574  | ...         | 0.1270878   | 0.1283015   | 0.1334065   | 0.1253732   | 0.09975149  | 0.05110867  | 0.01868655  | 0.8304533   |  678.97     |  76.45257   |\n",
       "| Colbert     | Alabama     | 01033       |  54762      | 0.4795113   | 0.5204887   | 0.8235820   | 0.17196231  | 0.007925204 | 0.02675213  | ...         | 0.1266754   | 0.1154268   | 0.1308572   | 0.1414302   | 0.11203024  | 0.06378511  | 0.02348344  | 0.8007012   |  592.62     |  92.40660   |\n",
       "| Conecuh     | Alabama     | 01035       |  12277      | 0.4790258   | 0.5209742   | 0.5286308   | 0.46957726  | 0.003909750 | 0.02150362  | ...         | 0.1105319   | 0.1030382   | 0.1212022   | 0.1561456   | 0.12649670  | 0.07200456  | 0.02647227  | 0.7750265   |  850.16     |  14.44081   |\n",
       "| Coosa       | Alabama     | 01037       |  10715      | 0.5038731   | 0.4961269   | 0.6810079   | 0.31441904  | 0.003173122 | 0.02519832  | ...         | 0.1026598   | 0.1058329   | 0.1459636   | 0.1799347   | 0.13504433  | 0.07130191  | 0.02519832  | 0.7684554   |  650.93     |  16.46106   |\n",
       "| Covington   | Alabama     | 01039       |  36986      | 0.4838588   | 0.5161412   | 0.8617315   | 0.13515925  | 0.006137457 | 0.01749311  | ...         | 0.1173958   | 0.1089331   | 0.1251555   | 0.1486779   | 0.11696318  | 0.06718758  | 0.02646947  | 0.7893798   | 1030.46     |  35.89271   |\n",
       "| Crenshaw    | Alabama     | 01041       |  13824      | 0.4827836   | 0.5172164   | 0.7464554   | 0.24660012  | 0.013237847 | 0.02314815  | ...         | 0.1187066   | 0.1146557   | 0.1278212   | 0.1446036   | 0.11610243  | 0.05215567  | 0.02191840  | 0.8098235   |  608.84     |  22.70547   |\n",
       "| Cullman     | Alabama     | 01043       |  83442      | 0.4942954   | 0.5057046   | 0.9718008   | 0.01804846  | 0.008520889 | 0.04433019  | ...         | 0.1290717   | 0.1201194   | 0.1282328   | 0.1362863   | 0.10878215  | 0.05895113  | 0.01737734  | 0.8148894   |  734.84     | 113.55125   |\n",
       "| Dale        | Alabama     | 01045       |  48956      | 0.4907059   | 0.5092941   | 0.7630730   | 0.22375194  | 0.021121007 | 0.06638614  | ...         | 0.1470096   | 0.1158796   | 0.1205777   | 0.1311382   | 0.09759784  | 0.05298636  | 0.01834300  | 0.8310728   |  561.15     |  87.24227   |\n",
       "| Dallas      | Alabama     | 01047       |  38310      | 0.4616288   | 0.5383712   | 0.2853824   | 0.71004960  | 0.007047768 | 0.01111981  | ...         | 0.1170191   | 0.1108327   | 0.1180371   | 0.1476638   | 0.10801357  | 0.05434612  | 0.01829809  | 0.8193422   |  978.70     |  39.14376   |\n",
       "| DeKalb      | Alabama     | 01049       |  71385      | 0.4962947   | 0.5037053   | 0.9482244   | 0.02420677  | 0.006808153 | 0.14842054  | ...         | 0.1191427   | 0.1227289   | 0.1328150   | 0.1305596   | 0.10331302  | 0.05239196  | 0.01690831  | 0.8273867   |  777.09     |  91.86195   |\n",
       "| Elmore      | Alabama     | 01051       |  81887      | 0.4834101   | 0.5165899   | 0.7704520   | 0.22294137  | 0.011149511 | 0.03012688  | ...         | 0.1412556   | 0.1322676   | 0.1376531   | 0.1315105   | 0.09213917  | 0.04507431  | 0.01421471  | 0.8485718   |  618.49     | 132.39826   |\n",
       "| Escambia    | Alabama     | 01053       |  36748      | 0.5069119   | 0.4930881   | 0.6389191   | 0.32706542  | 0.005551323 | 0.02468162  | ...         | 0.1352999   | 0.1244694   | 0.1299663   | 0.1306466   | 0.10302602  | 0.05788070  | 0.01858605  | 0.8205072   |  945.08     |  38.88348   |\n",
       "| Etowah      | Alabama     | 01055       | 102501      | 0.4844148   | 0.5155852   | 0.8245090   | 0.16596911  | 0.010390143 | 0.04015571  | ...         | 0.1211598   | 0.1198720   | 0.1353548   | 0.1369255   | 0.11347206  | 0.05729700  | 0.01934615  | 0.8098848   |  534.99     | 191.59424   |\n",
       "| Fayette     | Alabama     | 01057       |  16433      | 0.4882249   | 0.5117751   | 0.8702002   | 0.12906956  | 0.005598491 | 0.01807339  | ...         | 0.1147691   | 0.1102659   | 0.1294347   | 0.1438569   | 0.12091523  | 0.06967687  | 0.02069007  | 0.7887178   |  627.66     |  26.18137   |\n",
       "| Franklin    | Alabama     | 01059       |  31363      | 0.5045117   | 0.4954883   | 0.9321175   | 0.05315180  | 0.004910245 | 0.17750215  | ...         | 0.1239358   | 0.1236489   | 0.1324809   | 0.1250837   | 0.09581354  | 0.05503300  | 0.01801486  | 0.8311386   |  633.82     |  49.48250   |\n",
       "| ... | ... | ... | ... | ... | ... | ... | ... | ... | ... |     | ... | ... | ... | ... | ... | ... | ... | ... | ... | ... |\n",
       "| Washburn    | Wisconsin   | 55129       |  15878      | 0.4950875   | 0.5049125   | 0.9719108   | 0.009510014 | 0.008124449 | 0.01851619  | ...         | 0.08678675  | 0.09510014  | 0.12369316  | 0.18383927  | 0.15833228  | 0.07349792  | 0.03073435  | 0.7374354   |   797.11    |  19.919459  |\n",
       "| Washington  | Wisconsin   | 55131       | 135693      | 0.4970927   | 0.5029073   | 0.9671759   | 0.019337770 | 0.018195485 | 0.03220505  | ...         | 0.10572395  | 0.12219495  | 0.14586604  | 0.15440001  | 0.10365310  | 0.05311254  | 0.02308888  | 0.8201455   |   430.70    | 315.052241  |\n",
       "| Waukesha    | Wisconsin   | 55133       | 403072      | 0.4916963   | 0.5083037   | 0.9398371   | 0.023065358 | 0.044763715 | 0.04786986  | ...         | 0.10467113  | 0.12341219  | 0.13700282  | 0.15546106  | 0.10670798  | 0.05375466  | 0.02607971  | 0.8134576   |   549.57    | 733.431592  |\n",
       "| Waupaca     | Wisconsin   | 55135       |  51128      | 0.5073541   | 0.4926459   | 0.9804217   | 0.009505555 | 0.008195118 | 0.03258488  | ...         | 0.10514786  | 0.11361680  | 0.13452511  | 0.16533015  | 0.11310828  | 0.06260757  | 0.03295650  | 0.7913276   |   747.71    |  68.379452  |\n",
       "| Waushara    | Wisconsin   | 55137       |  24263      | 0.5260685   | 0.4739315   | 0.9633186   | 0.026624902 | 0.008119359 | 0.06281169  | ...         | 0.09734987  | 0.10464493  | 0.13300087  | 0.17664757  | 0.14182088  | 0.07414582  | 0.02769649  | 0.7563368   |   626.15    |  38.749501  |\n",
       "| Winnebago   | Wisconsin   | 55139       | 171020      | 0.5032335   | 0.4967665   | 0.9375804   | 0.031967021 | 0.035791136 | 0.04200094  | ...         | 0.13267454  | 0.12036604  | 0.12591510  | 0.13454567  | 0.09208864  | 0.04861420  | 0.02314934  | 0.8361478   |   434.49    | 393.610900  |\n",
       "| Wood        | Wisconsin   | 55141       |  73055      | 0.4920813   | 0.5079187   | 0.9600027   | 0.016152214 | 0.022791048 | 0.03092191  | ...         | 0.11162823  | 0.11049209  | 0.12756143  | 0.15748409  | 0.11190199  | 0.06378756  | 0.02993635  | 0.7943741   |   793.12    |  92.110904  |\n",
       "| Albany      | Wyoming     | 56001       |  38601      | 0.5218777   | 0.4781223   | 0.9292505   | 0.027589959 | 0.046216419 | 0.09813217  | ...         | 0.15978861  | 0.10370198  | 0.08038652  | 0.09769177  | 0.07385819  | 0.03183855  | 0.01165773  | 0.8826455   |  4273.84    |   9.031924  |\n",
       "| Big Horn    | Wyoming     | 56003       |  11881      | 0.5034930   | 0.4965070   | 0.9722246   | 0.010436832 | 0.008080128 | 0.09233230  | ...         | 0.10419998  | 0.11059675  | 0.11177510  | 0.13786718  | 0.12086525  | 0.06539854  | 0.02373538  | 0.7900008   |  3137.10    |   3.787256  |\n",
       "| Campbell    | Wyoming     | 56005       |  46140      | 0.5153663   | 0.4846337   | 0.9695925   | 0.011053316 | 0.012830516 | 0.08660598  | ...         | 0.15106199  | 0.14310793  | 0.11287386  | 0.14018205  | 0.06926745  | 0.02340702  | 0.00793238  | 0.8993932   |  4802.71    |   9.607076  |\n",
       "| Carbon      | Wyoming     | 56007       |  14971      | 0.5397769   | 0.4602231   | 0.9585198   | 0.018569234 | 0.012223632 | 0.18235255  | ...         | 0.14407855  | 0.12851513  | 0.11001269  | 0.14461292  | 0.10587135  | 0.04815978  | 0.01716652  | 0.8288024   |  7897.58    |   1.895644  |\n",
       "| Converse    | Wyoming     | 56009       |  13640      | 0.5078446   | 0.4921554   | 0.9750000   | 0.010997067 | 0.007771261 | 0.08482405  | ...         | 0.12228739  | 0.12272727  | 0.12382698  | 0.14780059  | 0.10109971  | 0.04838710  | 0.01671554  | 0.8337977   |  4254.88    |   3.205731  |\n",
       "| Crook       | Wyoming     | 56011       |   7450      | 0.5080537   | 0.4919463   | 0.9753020   | 0.014228188 | 0.003892617 | 0.02402685  | ...         | 0.10322148  | 0.10000000  | 0.12093960  | 0.17033557  | 0.12617450  | 0.05879195  | 0.02134228  | 0.7936913   |  2854.41    |   2.609996  |\n",
       "| Fremont     | Wyoming     | 56013       |  39531      | 0.5015304   | 0.4984696   | 0.7667906   | 0.009587412 | 0.009005591 | 0.06966684  | ...         | 0.12119602  | 0.11365764  | 0.10910425  | 0.14120564  | 0.11115327  | 0.05117503  | 0.02036377  | 0.8173079   |  9183.81    |   4.304423  |\n",
       "| Goshen      | Wyoming     | 56015       |  13376      | 0.5220544   | 0.4779456   | 0.9649372   | 0.014802632 | 0.010840311 | 0.10862739  | ...         | 0.11662679  | 0.11206639  | 0.11356160  | 0.14518541  | 0.11737440  | 0.06877990  | 0.03319378  | 0.7806519   |  2225.39    |   6.010632  |\n",
       "| Hot Springs | Wyoming     | 56017       |   4555      | 0.5045005   | 0.4954995   | 0.9705818   | 0.012294182 | 0.007025247 | 0.04039517  | ...         | 0.09813392  | 0.10164654  | 0.10669594  | 0.16245884  | 0.14094402  | 0.08847420  | 0.03271131  | 0.7378705   |  2004.09    |   2.272852  |\n",
       "| Johnson     | Wyoming     | 56019       |   8460      | 0.5041371   | 0.4958629   | 0.9680851   | 0.011229314 | 0.009456265 | 0.04775414  | ...         | 0.09680851  | 0.11560284  | 0.11323877  | 0.15957447  | 0.13924350  | 0.06962175  | 0.02801418  | 0.7631206   |  4154.15    |   2.036518  |\n",
       "| Laramie     | Wyoming     | 56021       |  98976      | 0.5068906   | 0.4931094   | 0.9443704   | 0.039039767 | 0.022227611 | 0.14795506  | ...         | 0.14851075  | 0.12318138  | 0.11647268  | 0.13024370  | 0.09597276  | 0.04503112  | 0.01927740  | 0.8397187   |  2685.91    |  36.850081  |\n",
       "| Lincoln     | Wyoming     | 56023       |  19434      | 0.5109602   | 0.4890398   | 0.9778224   | 0.008387362 | 0.009056293 | 0.04733971  | ...         | 0.09781826  | 0.13013276  | 0.11459298  | 0.15210456  | 0.11263765  | 0.04687661  | 0.01420191  | 0.8262838   |  4076.13    |   4.767758  |\n",
       "| Natrona     | Wyoming     | 56025       |  79115      | 0.5038235   | 0.4961765   | 0.9617266   | 0.022397775 | 0.013233900 | 0.08581179  | ...         | 0.14625545  | 0.13244012  | 0.11209000  | 0.13704102  | 0.09252354  | 0.04118056  | 0.02024900  | 0.8460469   |  5340.35    |  14.814572  |\n",
       "| Niobrara    | Wyoming     | 56027       |   2388      | 0.4568677   | 0.5431323   | 0.9715243   | 0.018425461 | 0.010887772 | 0.03643216  | ...         | 0.13232831  | 0.12311558  | 0.11348409  | 0.15368509  | 0.12437186  | 0.07998325  | 0.02177554  | 0.7738693   |  2626.04    |   0.909354  |\n",
       "| Park        | Wyoming     | 56029       |  29324      | 0.4980562   | 0.5019438   | 0.9738781   | 0.010707953 | 0.011765107 | 0.05623380  | ...         | 0.11137635  | 0.11062611  | 0.10800027  | 0.15587914  | 0.13811213  | 0.06711226  | 0.02683808  | 0.7679375   |  6942.08    |   4.224094  |\n",
       "| Platte      | Wyoming     | 56031       |   8566      | 0.5031520   | 0.4968480   | 0.9722157   | 0.011440579 | 0.015176278 | 0.08475368  | ...         | 0.10600047  | 0.10296521  | 0.11498949  | 0.15841700  | 0.14440813  | 0.08230212  | 0.02953537  | 0.7437544   |  2084.21    |   4.109951  |\n",
       "| Sheridan    | Wyoming     | 56033       |  30233      | 0.5020673   | 0.4979327   | 0.9671882   | 0.012469818 | 0.013032117 | 0.04342937  | ...         | 0.11560216  | 0.11874442  | 0.11424602  | 0.14881090  | 0.12717891  | 0.05785069  | 0.02490656  | 0.7900638   |  2523.99    |  11.978257  |\n",
       "| Sublette    | Wyoming     | 56035       |   9813      | 0.5395903   | 0.4604097   | 0.9710588   | 0.013043921 | 0.010598186 | 0.07459493  | ...         | 0.11423622  | 0.13217161  | 0.12778967  | 0.14603078  | 0.12055437  | 0.05584429  | 0.01834301  | 0.8052583   |  4886.54    |   2.008169  |\n",
       "| Sweetwater  | Wyoming     | 56037       |  43051      | 0.5145525   | 0.4854475   | 0.9580498   | 0.020278275 | 0.015470024 | 0.16083250  | ...         | 0.13990383  | 0.14457272  | 0.11330747  | 0.13367866  | 0.07971940  | 0.03045225  | 0.01094051  | 0.8788878   | 10426.65    |   4.128939  |\n",
       "| Teton       | Wyoming     | 56039       |  23081      | 0.5159655   | 0.4840345   | 0.9666392   | 0.011004722 | 0.020449721 | 0.14878038  | ...         | 0.16970669  | 0.16468091  | 0.13474286  | 0.13205667  | 0.10029895  | 0.03977297  | 0.01408085  | 0.8458472   |  3995.38    |   5.776922  |\n",
       "| Uinta       | Wyoming     | 56041       |  20299      | 0.5066752   | 0.4933248   | 0.9704912   | 0.012660722 | 0.009064486 | 0.09236908  | ...         | 0.11803537  | 0.13389822  | 0.10837972  | 0.13803636  | 0.09281245  | 0.03542046  | 0.01256220  | 0.8592049   |  2081.26    |   9.753226  |\n",
       "| Washakie    | Wyoming     | 56043       |   7885      | 0.5057705   | 0.4942295   | 0.9662651   | 0.012555485 | 0.012809131 | 0.14051997  | ...         | 0.09879518  | 0.11756500  | 0.12403297  | 0.14812936  | 0.11883323  | 0.06734306  | 0.03069119  | 0.7831325   |  2238.55    |   3.522369  |\n",
       "| Weston      | Wyoming     | 56045       |   6967      | 0.5294962   | 0.4705038   | 0.9547869   | 0.014640448 | 0.023683077 | 0.04076360  | ...         | 0.11468351  | 0.12071193  | 0.11597531  | 0.17496770  | 0.11611885  | 0.06028420  | 0.02870676  | 0.7948902   |  2398.09    |   2.905229  |\n",
       "\n"
      ],
      "text/plain": [
       "     county      state     fips  tot_pop male_perc female_perc white_pop_perc\n",
       "1    Autauga     Alabama   01001  55601  0.4855129 0.5144871   0.7837989     \n",
       "2    Baldwin     Alabama   01003 218022  0.4846162 0.5153838   0.8895983     \n",
       "3    Barbour     Alabama   01005  24881  0.5278325 0.4721675   0.5003416     \n",
       "4    Bibb        Alabama   01007  22400  0.5321875 0.4678125   0.7781250     \n",
       "5    Blount      Alabama   01009  57840  0.4927386 0.5072614   0.9718361     \n",
       "6    Bullock     Alabama   01011  10138  0.5451766 0.4548234   0.2735254     \n",
       "7    Butler      Alabama   01013  19680  0.4657012 0.5342988   0.5325711     \n",
       "8    Calhoun     Alabama   01015 114277  0.4805341 0.5194659   0.7708638     \n",
       "9    Chambers    Alabama   01017  33615  0.4787446 0.5212554   0.5822698     \n",
       "10   Cherokee    Alabama   01019  26032  0.4953903 0.5046097   0.9461048     \n",
       "11   Chilton     Alabama   01021  44153  0.4907481 0.5092519   0.8830884     \n",
       "12   Choctaw     Alabama   01023  12841  0.4727046 0.5272954   0.5784596     \n",
       "13   Clarke      Alabama   01025  23920  0.4735786 0.5264214   0.5430602     \n",
       "14   Clay        Alabama   01027  13275  0.4890395 0.5109605   0.8503955     \n",
       "15   Cleburne    Alabama   01029  14987  0.4951625 0.5048375   0.9619670     \n",
       "16   Coffee      Alabama   01031  51909  0.4916488 0.5083512   0.7855863     \n",
       "17   Colbert     Alabama   01033  54762  0.4795113 0.5204887   0.8235820     \n",
       "18   Conecuh     Alabama   01035  12277  0.4790258 0.5209742   0.5286308     \n",
       "19   Coosa       Alabama   01037  10715  0.5038731 0.4961269   0.6810079     \n",
       "20   Covington   Alabama   01039  36986  0.4838588 0.5161412   0.8617315     \n",
       "21   Crenshaw    Alabama   01041  13824  0.4827836 0.5172164   0.7464554     \n",
       "22   Cullman     Alabama   01043  83442  0.4942954 0.5057046   0.9718008     \n",
       "23   Dale        Alabama   01045  48956  0.4907059 0.5092941   0.7630730     \n",
       "24   Dallas      Alabama   01047  38310  0.4616288 0.5383712   0.2853824     \n",
       "25   DeKalb      Alabama   01049  71385  0.4962947 0.5037053   0.9482244     \n",
       "26   Elmore      Alabama   01051  81887  0.4834101 0.5165899   0.7704520     \n",
       "27   Escambia    Alabama   01053  36748  0.5069119 0.4930881   0.6389191     \n",
       "28   Etowah      Alabama   01055 102501  0.4844148 0.5155852   0.8245090     \n",
       "29   Fayette     Alabama   01057  16433  0.4882249 0.5117751   0.8702002     \n",
       "30   Franklin    Alabama   01059  31363  0.5045117 0.4954883   0.9321175     \n",
       "...  ...         ...       ...   ...     ...       ...         ...           \n",
       "3113 Washburn    Wisconsin 55129  15878  0.4950875 0.5049125   0.9719108     \n",
       "3114 Washington  Wisconsin 55131 135693  0.4970927 0.5029073   0.9671759     \n",
       "3115 Waukesha    Wisconsin 55133 403072  0.4916963 0.5083037   0.9398371     \n",
       "3116 Waupaca     Wisconsin 55135  51128  0.5073541 0.4926459   0.9804217     \n",
       "3117 Waushara    Wisconsin 55137  24263  0.5260685 0.4739315   0.9633186     \n",
       "3118 Winnebago   Wisconsin 55139 171020  0.5032335 0.4967665   0.9375804     \n",
       "3119 Wood        Wisconsin 55141  73055  0.4920813 0.5079187   0.9600027     \n",
       "3120 Albany      Wyoming   56001  38601  0.5218777 0.4781223   0.9292505     \n",
       "3121 Big Horn    Wyoming   56003  11881  0.5034930 0.4965070   0.9722246     \n",
       "3122 Campbell    Wyoming   56005  46140  0.5153663 0.4846337   0.9695925     \n",
       "3123 Carbon      Wyoming   56007  14971  0.5397769 0.4602231   0.9585198     \n",
       "3124 Converse    Wyoming   56009  13640  0.5078446 0.4921554   0.9750000     \n",
       "3125 Crook       Wyoming   56011   7450  0.5080537 0.4919463   0.9753020     \n",
       "3126 Fremont     Wyoming   56013  39531  0.5015304 0.4984696   0.7667906     \n",
       "3127 Goshen      Wyoming   56015  13376  0.5220544 0.4779456   0.9649372     \n",
       "3128 Hot Springs Wyoming   56017   4555  0.5045005 0.4954995   0.9705818     \n",
       "3129 Johnson     Wyoming   56019   8460  0.5041371 0.4958629   0.9680851     \n",
       "3130 Laramie     Wyoming   56021  98976  0.5068906 0.4931094   0.9443704     \n",
       "3131 Lincoln     Wyoming   56023  19434  0.5109602 0.4890398   0.9778224     \n",
       "3132 Natrona     Wyoming   56025  79115  0.5038235 0.4961765   0.9617266     \n",
       "3133 Niobrara    Wyoming   56027   2388  0.4568677 0.5431323   0.9715243     \n",
       "3134 Park        Wyoming   56029  29324  0.4980562 0.5019438   0.9738781     \n",
       "3135 Platte      Wyoming   56031   8566  0.5031520 0.4968480   0.9722157     \n",
       "3136 Sheridan    Wyoming   56033  30233  0.5020673 0.4979327   0.9671882     \n",
       "3137 Sublette    Wyoming   56035   9813  0.5395903 0.4604097   0.9710588     \n",
       "3138 Sweetwater  Wyoming   56037  43051  0.5145525 0.4854475   0.9580498     \n",
       "3139 Teton       Wyoming   56039  23081  0.5159655 0.4840345   0.9666392     \n",
       "3140 Uinta       Wyoming   56041  20299  0.5066752 0.4933248   0.9704912     \n",
       "3141 Washakie    Wyoming   56043   7885  0.5057705 0.4942295   0.9662651     \n",
       "3142 Weston      Wyoming   56045   6967  0.5294962 0.4705038   0.9547869     \n",
       "     black_pop_perc asian_pop_perc hisp_pop_perc ... age_25to34_perc\n",
       "1    0.20616536     0.017301847    0.02965774    ... 0.1288826      \n",
       "2    0.09688472     0.015613103    0.04646779    ... 0.1125024      \n",
       "3    0.49290623     0.006068888    0.04276355    ... 0.1393031      \n",
       "4    0.21901786     0.003794643    0.02625000    ... 0.1485268      \n",
       "5    0.02162863     0.005411480    0.09571231    ... 0.1198824      \n",
       "6    0.71404616     0.004044190    0.07960150    ... 0.1505228      \n",
       "7    0.45553862     0.014939024    0.01509146    ... 0.1158028      \n",
       "8    0.22228445     0.014106076    0.03910673    ... 0.1317763      \n",
       "9    0.40788339     0.014755318    0.02561357    ... 0.1258664      \n",
       "10   0.04963122     0.005262754    0.01621082    ... 0.1057929      \n",
       "11   0.11097774     0.006885149    0.07926981    ... 0.1261749      \n",
       "12   0.42091737     0.003037147    0.01043532    ... 0.1015497      \n",
       "13   0.45163043     0.006061873    0.01362876    ... 0.1098662      \n",
       "14   0.15216573     0.004293785    0.03013183    ... 0.1089266      \n",
       "15   0.03609795     0.003803296    0.02482151    ... 0.1167679      \n",
       "16   0.19000559     0.024388834    0.07580574    ... 0.1270878      \n",
       "17   0.17196231     0.007925204    0.02675213    ... 0.1266754      \n",
       "18   0.46957726     0.003909750    0.02150362    ... 0.1105319      \n",
       "19   0.31441904     0.003173122    0.02519832    ... 0.1026598      \n",
       "20   0.13515925     0.006137457    0.01749311    ... 0.1173958      \n",
       "21   0.24660012     0.013237847    0.02314815    ... 0.1187066      \n",
       "22   0.01804846     0.008520889    0.04433019    ... 0.1290717      \n",
       "23   0.22375194     0.021121007    0.06638614    ... 0.1470096      \n",
       "24   0.71004960     0.007047768    0.01111981    ... 0.1170191      \n",
       "25   0.02420677     0.006808153    0.14842054    ... 0.1191427      \n",
       "26   0.22294137     0.011149511    0.03012688    ... 0.1412556      \n",
       "27   0.32706542     0.005551323    0.02468162    ... 0.1352999      \n",
       "28   0.16596911     0.010390143    0.04015571    ... 0.1211598      \n",
       "29   0.12906956     0.005598491    0.01807339    ... 0.1147691      \n",
       "30   0.05315180     0.004910245    0.17750215    ... 0.1239358      \n",
       "...  ...            ...            ...               ...            \n",
       "3113 0.009510014    0.008124449    0.01851619    ... 0.08678675     \n",
       "3114 0.019337770    0.018195485    0.03220505    ... 0.10572395     \n",
       "3115 0.023065358    0.044763715    0.04786986    ... 0.10467113     \n",
       "3116 0.009505555    0.008195118    0.03258488    ... 0.10514786     \n",
       "3117 0.026624902    0.008119359    0.06281169    ... 0.09734987     \n",
       "3118 0.031967021    0.035791136    0.04200094    ... 0.13267454     \n",
       "3119 0.016152214    0.022791048    0.03092191    ... 0.11162823     \n",
       "3120 0.027589959    0.046216419    0.09813217    ... 0.15978861     \n",
       "3121 0.010436832    0.008080128    0.09233230    ... 0.10419998     \n",
       "3122 0.011053316    0.012830516    0.08660598    ... 0.15106199     \n",
       "3123 0.018569234    0.012223632    0.18235255    ... 0.14407855     \n",
       "3124 0.010997067    0.007771261    0.08482405    ... 0.12228739     \n",
       "3125 0.014228188    0.003892617    0.02402685    ... 0.10322148     \n",
       "3126 0.009587412    0.009005591    0.06966684    ... 0.12119602     \n",
       "3127 0.014802632    0.010840311    0.10862739    ... 0.11662679     \n",
       "3128 0.012294182    0.007025247    0.04039517    ... 0.09813392     \n",
       "3129 0.011229314    0.009456265    0.04775414    ... 0.09680851     \n",
       "3130 0.039039767    0.022227611    0.14795506    ... 0.14851075     \n",
       "3131 0.008387362    0.009056293    0.04733971    ... 0.09781826     \n",
       "3132 0.022397775    0.013233900    0.08581179    ... 0.14625545     \n",
       "3133 0.018425461    0.010887772    0.03643216    ... 0.13232831     \n",
       "3134 0.010707953    0.011765107    0.05623380    ... 0.11137635     \n",
       "3135 0.011440579    0.015176278    0.08475368    ... 0.10600047     \n",
       "3136 0.012469818    0.013032117    0.04342937    ... 0.11560216     \n",
       "3137 0.013043921    0.010598186    0.07459493    ... 0.11423622     \n",
       "3138 0.020278275    0.015470024    0.16083250    ... 0.13990383     \n",
       "3139 0.011004722    0.020449721    0.14878038    ... 0.16970669     \n",
       "3140 0.012660722    0.009064486    0.09236908    ... 0.11803537     \n",
       "3141 0.012555485    0.012809131    0.14051997    ... 0.09879518     \n",
       "3142 0.014640448    0.023683077    0.04076360    ... 0.11468351     \n",
       "     age_35to44_perc age_45to54_perc age_55to64_perc age_65to74_perc\n",
       "1    0.1302854       0.1398716       0.1288466       0.08812791     \n",
       "2    0.1194054       0.1316519       0.1440634       0.12263900     \n",
       "3    0.1198103       0.1296974       0.1290543       0.11563040     \n",
       "4    0.1317857       0.1419196       0.1293304       0.09705357     \n",
       "5    0.1221819       0.1351660       0.1319156       0.10793568     \n",
       "6    0.1291182       0.1240876       0.1410535       0.09350957     \n",
       "7    0.1214431       0.1175305       0.1423272       0.11178862     \n",
       "8    0.1194116       0.1251608       0.1396431       0.10567306     \n",
       "9    0.1123011       0.1311617       0.1472557       0.11423472     \n",
       "10   0.1063691       0.1379072       0.1574985       0.13617855     \n",
       "11   0.1235477       0.1316558       0.1332639       0.10103504     \n",
       "12   0.1076240       0.1310646       0.1566856       0.12989643     \n",
       "13   0.1165552       0.1304348       0.1441890       0.10857023     \n",
       "14   0.1134463       0.1392844       0.1475706       0.11487759     \n",
       "15   0.1169013       0.1385201       0.1345166       0.11289784     \n",
       "16   0.1283015       0.1334065       0.1253732       0.09975149     \n",
       "17   0.1154268       0.1308572       0.1414302       0.11203024     \n",
       "18   0.1030382       0.1212022       0.1561456       0.12649670     \n",
       "19   0.1058329       0.1459636       0.1799347       0.13504433     \n",
       "20   0.1089331       0.1251555       0.1486779       0.11696318     \n",
       "21   0.1146557       0.1278212       0.1446036       0.11610243     \n",
       "22   0.1201194       0.1282328       0.1362863       0.10878215     \n",
       "23   0.1158796       0.1205777       0.1311382       0.09759784     \n",
       "24   0.1108327       0.1180371       0.1476638       0.10801357     \n",
       "25   0.1227289       0.1328150       0.1305596       0.10331302     \n",
       "26   0.1322676       0.1376531       0.1315105       0.09213917     \n",
       "27   0.1244694       0.1299663       0.1306466       0.10302602     \n",
       "28   0.1198720       0.1353548       0.1369255       0.11347206     \n",
       "29   0.1102659       0.1294347       0.1438569       0.12091523     \n",
       "30   0.1236489       0.1324809       0.1250837       0.09581354     \n",
       "...  ...             ...             ...             ...            \n",
       "3113 0.09510014      0.12369316      0.18383927      0.15833228     \n",
       "3114 0.12219495      0.14586604      0.15440001      0.10365310     \n",
       "3115 0.12341219      0.13700282      0.15546106      0.10670798     \n",
       "3116 0.11361680      0.13452511      0.16533015      0.11310828     \n",
       "3117 0.10464493      0.13300087      0.17664757      0.14182088     \n",
       "3118 0.12036604      0.12591510      0.13454567      0.09208864     \n",
       "3119 0.11049209      0.12756143      0.15748409      0.11190199     \n",
       "3120 0.10370198      0.08038652      0.09769177      0.07385819     \n",
       "3121 0.11059675      0.11177510      0.13786718      0.12086525     \n",
       "3122 0.14310793      0.11287386      0.14018205      0.06926745     \n",
       "3123 0.12851513      0.11001269      0.14461292      0.10587135     \n",
       "3124 0.12272727      0.12382698      0.14780059      0.10109971     \n",
       "3125 0.10000000      0.12093960      0.17033557      0.12617450     \n",
       "3126 0.11365764      0.10910425      0.14120564      0.11115327     \n",
       "3127 0.11206639      0.11356160      0.14518541      0.11737440     \n",
       "3128 0.10164654      0.10669594      0.16245884      0.14094402     \n",
       "3129 0.11560284      0.11323877      0.15957447      0.13924350     \n",
       "3130 0.12318138      0.11647268      0.13024370      0.09597276     \n",
       "3131 0.13013276      0.11459298      0.15210456      0.11263765     \n",
       "3132 0.13244012      0.11209000      0.13704102      0.09252354     \n",
       "3133 0.12311558      0.11348409      0.15368509      0.12437186     \n",
       "3134 0.11062611      0.10800027      0.15587914      0.13811213     \n",
       "3135 0.10296521      0.11498949      0.15841700      0.14440813     \n",
       "3136 0.11874442      0.11424602      0.14881090      0.12717891     \n",
       "3137 0.13217161      0.12778967      0.14603078      0.12055437     \n",
       "3138 0.14457272      0.11330747      0.13367866      0.07971940     \n",
       "3139 0.16468091      0.13474286      0.13205667      0.10029895     \n",
       "3140 0.13389822      0.10837972      0.13803636      0.09281245     \n",
       "3141 0.11756500      0.12403297      0.14812936      0.11883323     \n",
       "3142 0.12071193      0.11597531      0.17496770      0.11611885     \n",
       "     age_75to84_perc age_84plus_perc lowrisk_agegroup_perc land_area\n",
       "1    0.05183360      0.01566519      0.8443733              594.44  \n",
       "2    0.06205337      0.01974113      0.7955665             1589.78  \n",
       "3    0.05960371      0.01897030      0.8057956              884.88  \n",
       "4    0.05147321      0.01620536      0.8352679              622.58  \n",
       "5    0.05658714      0.01784232      0.8176349              644.78  \n",
       "6    0.05217992      0.01814954      0.8361610              622.81  \n",
       "7    0.06148374      0.02972561      0.7970020              776.83  \n",
       "8    0.05302904      0.01847266      0.8228252              605.87  \n",
       "9    0.05869404      0.02228172      0.8047895              596.53  \n",
       "10   0.07294868      0.02059004      0.7702827              553.70  \n",
       "11   0.04939642      0.01741671      0.8321518              692.85  \n",
       "12   0.07258002      0.02749007      0.7700335              913.50  \n",
       "13   0.06538462      0.02474916      0.8012960             1238.47  \n",
       "14   0.06885122      0.02350282      0.7927684              603.96  \n",
       "15   0.05898445      0.02261960      0.8054981              560.10  \n",
       "16   0.05110867      0.01868655      0.8304533              678.97  \n",
       "17   0.06378511      0.02348344      0.8007012              592.62  \n",
       "18   0.07200456      0.02647227      0.7750265              850.16  \n",
       "19   0.07130191      0.02519832      0.7684554              650.93  \n",
       "20   0.06718758      0.02646947      0.7893798             1030.46  \n",
       "21   0.05215567      0.02191840      0.8098235              608.84  \n",
       "22   0.05895113      0.01737734      0.8148894              734.84  \n",
       "23   0.05298636      0.01834300      0.8310728              561.15  \n",
       "24   0.05434612      0.01829809      0.8193422              978.70  \n",
       "25   0.05239196      0.01690831      0.8273867              777.09  \n",
       "26   0.04507431      0.01421471      0.8485718              618.49  \n",
       "27   0.05788070      0.01858605      0.8205072              945.08  \n",
       "28   0.05729700      0.01934615      0.8098848              534.99  \n",
       "29   0.06967687      0.02069007      0.7887178              627.66  \n",
       "30   0.05503300      0.01801486      0.8311386              633.82  \n",
       "...  ...             ...             ...                   ...      \n",
       "3113 0.07349792      0.03073435      0.7374354               797.11 \n",
       "3114 0.05311254      0.02308888      0.8201455               430.70 \n",
       "3115 0.05375466      0.02607971      0.8134576               549.57 \n",
       "3116 0.06260757      0.03295650      0.7913276               747.71 \n",
       "3117 0.07414582      0.02769649      0.7563368               626.15 \n",
       "3118 0.04861420      0.02314934      0.8361478               434.49 \n",
       "3119 0.06378756      0.02993635      0.7943741               793.12 \n",
       "3120 0.03183855      0.01165773      0.8826455              4273.84 \n",
       "3121 0.06539854      0.02373538      0.7900008              3137.10 \n",
       "3122 0.02340702      0.00793238      0.8993932              4802.71 \n",
       "3123 0.04815978      0.01716652      0.8288024              7897.58 \n",
       "3124 0.04838710      0.01671554      0.8337977              4254.88 \n",
       "3125 0.05879195      0.02134228      0.7936913              2854.41 \n",
       "3126 0.05117503      0.02036377      0.8173079              9183.81 \n",
       "3127 0.06877990      0.03319378      0.7806519              2225.39 \n",
       "3128 0.08847420      0.03271131      0.7378705              2004.09 \n",
       "3129 0.06962175      0.02801418      0.7631206              4154.15 \n",
       "3130 0.04503112      0.01927740      0.8397187              2685.91 \n",
       "3131 0.04687661      0.01420191      0.8262838              4076.13 \n",
       "3132 0.04118056      0.02024900      0.8460469              5340.35 \n",
       "3133 0.07998325      0.02177554      0.7738693              2626.04 \n",
       "3134 0.06711226      0.02683808      0.7679375              6942.08 \n",
       "3135 0.08230212      0.02953537      0.7437544              2084.21 \n",
       "3136 0.05785069      0.02490656      0.7900638              2523.99 \n",
       "3137 0.05584429      0.01834301      0.8052583              4886.54 \n",
       "3138 0.03045225      0.01094051      0.8788878             10426.65 \n",
       "3139 0.03977297      0.01408085      0.8458472              3995.38 \n",
       "3140 0.03542046      0.01256220      0.8592049              2081.26 \n",
       "3141 0.06734306      0.03069119      0.7831325              2238.55 \n",
       "3142 0.06028420      0.02870676      0.7948902              2398.09 \n",
       "     population_density\n",
       "1     93.53509         \n",
       "2    137.13973         \n",
       "3     28.11794         \n",
       "4     35.97931         \n",
       "5     89.70502         \n",
       "6     16.27784         \n",
       "7     25.33373         \n",
       "8    188.61637         \n",
       "9     56.35090         \n",
       "10    47.01463         \n",
       "11    63.72664         \n",
       "12    14.05692         \n",
       "13    19.31415         \n",
       "14    21.97993         \n",
       "15    26.75772         \n",
       "16    76.45257         \n",
       "17    92.40660         \n",
       "18    14.44081         \n",
       "19    16.46106         \n",
       "20    35.89271         \n",
       "21    22.70547         \n",
       "22   113.55125         \n",
       "23    87.24227         \n",
       "24    39.14376         \n",
       "25    91.86195         \n",
       "26   132.39826         \n",
       "27    38.88348         \n",
       "28   191.59424         \n",
       "29    26.18137         \n",
       "30    49.48250         \n",
       "...  ...               \n",
       "3113  19.919459        \n",
       "3114 315.052241        \n",
       "3115 733.431592        \n",
       "3116  68.379452        \n",
       "3117  38.749501        \n",
       "3118 393.610900        \n",
       "3119  92.110904        \n",
       "3120   9.031924        \n",
       "3121   3.787256        \n",
       "3122   9.607076        \n",
       "3123   1.895644        \n",
       "3124   3.205731        \n",
       "3125   2.609996        \n",
       "3126   4.304423        \n",
       "3127   6.010632        \n",
       "3128   2.272852        \n",
       "3129   2.036518        \n",
       "3130  36.850081        \n",
       "3131   4.767758        \n",
       "3132  14.814572        \n",
       "3133   0.909354        \n",
       "3134   4.224094        \n",
       "3135   4.109951        \n",
       "3136  11.978257        \n",
       "3137   2.008169        \n",
       "3138   4.128939        \n",
       "3139   5.776922        \n",
       "3140   9.753226        \n",
       "3141   3.522369        \n",
       "3142   2.905229        "
      ]
     },
     "metadata": {},
     "output_type": "display_data"
    }
   ],
   "source": [
    "county_demographics_df"
   ]
  },
  {
   "cell_type": "code",
   "execution_count": 57,
   "metadata": {
    "scrolled": true
   },
   "outputs": [
    {
     "data": {
      "text/html": [
       "<table>\n",
       "<thead><tr><th scope=col>county</th><th scope=col>state</th><th scope=col>fips</th><th scope=col>tot_pop</th><th scope=col>male_perc</th><th scope=col>female_perc</th><th scope=col>white_pop_perc</th><th scope=col>black_pop_perc</th><th scope=col>asian_pop_perc</th><th scope=col>hisp_pop_perc</th><th scope=col>...</th><th scope=col>age_25to34_perc</th><th scope=col>age_35to44_perc</th><th scope=col>age_45to54_perc</th><th scope=col>age_55to64_perc</th><th scope=col>age_65to74_perc</th><th scope=col>age_75to84_perc</th><th scope=col>age_84plus_perc</th><th scope=col>lowrisk_agegroup_perc</th><th scope=col>land_area</th><th scope=col>population_density</th></tr></thead>\n",
       "<tbody>\n",
       "\t<tr><td>Autauga    </td><td>Alabama    </td><td>01001      </td><td> 55601     </td><td>0.4855129  </td><td>0.5144871  </td><td>0.7837989  </td><td>0.20616536 </td><td>0.017301847</td><td>0.02965774 </td><td>...        </td><td>0.1288826  </td><td>0.1302854  </td><td>0.1398716  </td><td>0.1288466  </td><td>0.08812791 </td><td>0.05183360 </td><td>0.01566519 </td><td>0.8443733  </td><td> 594.44    </td><td> 93.53509  </td></tr>\n",
       "\t<tr><td>Baldwin    </td><td>Alabama    </td><td>01003      </td><td>218022     </td><td>0.4846162  </td><td>0.5153838  </td><td>0.8895983  </td><td>0.09688472 </td><td>0.015613103</td><td>0.04646779 </td><td>...        </td><td>0.1125024  </td><td>0.1194054  </td><td>0.1316519  </td><td>0.1440634  </td><td>0.12263900 </td><td>0.06205337 </td><td>0.01974113 </td><td>0.7955665  </td><td>1589.78    </td><td>137.13973  </td></tr>\n",
       "\t<tr><td>Barbour    </td><td>Alabama    </td><td>01005      </td><td> 24881     </td><td>0.5278325  </td><td>0.4721675  </td><td>0.5003416  </td><td>0.49290623 </td><td>0.006068888</td><td>0.04276355 </td><td>...        </td><td>0.1393031  </td><td>0.1198103  </td><td>0.1296974  </td><td>0.1290543  </td><td>0.11563040 </td><td>0.05960371 </td><td>0.01897030 </td><td>0.8057956  </td><td> 884.88    </td><td> 28.11794  </td></tr>\n",
       "</tbody>\n",
       "</table>\n"
      ],
      "text/latex": [
       "\\begin{tabular}{r|lllllllllllllllllllllll}\n",
       " county & state & fips & tot\\_pop & male\\_perc & female\\_perc & white\\_pop\\_perc & black\\_pop\\_perc & asian\\_pop\\_perc & hisp\\_pop\\_perc & ... & age\\_25to34\\_perc & age\\_35to44\\_perc & age\\_45to54\\_perc & age\\_55to64\\_perc & age\\_65to74\\_perc & age\\_75to84\\_perc & age\\_84plus\\_perc & lowrisk\\_agegroup\\_perc & land\\_area & population\\_density\\\\\n",
       "\\hline\n",
       "\t Autauga     & Alabama     & 01001       &  55601      & 0.4855129   & 0.5144871   & 0.7837989   & 0.20616536  & 0.017301847 & 0.02965774  & ...         & 0.1288826   & 0.1302854   & 0.1398716   & 0.1288466   & 0.08812791  & 0.05183360  & 0.01566519  & 0.8443733   &  594.44     &  93.53509  \\\\\n",
       "\t Baldwin     & Alabama     & 01003       & 218022      & 0.4846162   & 0.5153838   & 0.8895983   & 0.09688472  & 0.015613103 & 0.04646779  & ...         & 0.1125024   & 0.1194054   & 0.1316519   & 0.1440634   & 0.12263900  & 0.06205337  & 0.01974113  & 0.7955665   & 1589.78     & 137.13973  \\\\\n",
       "\t Barbour     & Alabama     & 01005       &  24881      & 0.5278325   & 0.4721675   & 0.5003416   & 0.49290623  & 0.006068888 & 0.04276355  & ...         & 0.1393031   & 0.1198103   & 0.1296974   & 0.1290543   & 0.11563040  & 0.05960371  & 0.01897030  & 0.8057956   &  884.88     &  28.11794  \\\\\n",
       "\\end{tabular}\n"
      ],
      "text/markdown": [
       "\n",
       "| county | state | fips | tot_pop | male_perc | female_perc | white_pop_perc | black_pop_perc | asian_pop_perc | hisp_pop_perc | ... | age_25to34_perc | age_35to44_perc | age_45to54_perc | age_55to64_perc | age_65to74_perc | age_75to84_perc | age_84plus_perc | lowrisk_agegroup_perc | land_area | population_density |\n",
       "|---|---|---|---|---|---|---|---|---|---|---|---|---|---|---|---|---|---|---|---|---|\n",
       "| Autauga     | Alabama     | 01001       |  55601      | 0.4855129   | 0.5144871   | 0.7837989   | 0.20616536  | 0.017301847 | 0.02965774  | ...         | 0.1288826   | 0.1302854   | 0.1398716   | 0.1288466   | 0.08812791  | 0.05183360  | 0.01566519  | 0.8443733   |  594.44     |  93.53509   |\n",
       "| Baldwin     | Alabama     | 01003       | 218022      | 0.4846162   | 0.5153838   | 0.8895983   | 0.09688472  | 0.015613103 | 0.04646779  | ...         | 0.1125024   | 0.1194054   | 0.1316519   | 0.1440634   | 0.12263900  | 0.06205337  | 0.01974113  | 0.7955665   | 1589.78     | 137.13973   |\n",
       "| Barbour     | Alabama     | 01005       |  24881      | 0.5278325   | 0.4721675   | 0.5003416   | 0.49290623  | 0.006068888 | 0.04276355  | ...         | 0.1393031   | 0.1198103   | 0.1296974   | 0.1290543   | 0.11563040  | 0.05960371  | 0.01897030  | 0.8057956   |  884.88     |  28.11794   |\n",
       "\n"
      ],
      "text/plain": [
       "  county  state   fips  tot_pop male_perc female_perc white_pop_perc\n",
       "1 Autauga Alabama 01001  55601  0.4855129 0.5144871   0.7837989     \n",
       "2 Baldwin Alabama 01003 218022  0.4846162 0.5153838   0.8895983     \n",
       "3 Barbour Alabama 01005  24881  0.5278325 0.4721675   0.5003416     \n",
       "  black_pop_perc asian_pop_perc hisp_pop_perc ... age_25to34_perc\n",
       "1 0.20616536     0.017301847    0.02965774    ... 0.1288826      \n",
       "2 0.09688472     0.015613103    0.04646779    ... 0.1125024      \n",
       "3 0.49290623     0.006068888    0.04276355    ... 0.1393031      \n",
       "  age_35to44_perc age_45to54_perc age_55to64_perc age_65to74_perc\n",
       "1 0.1302854       0.1398716       0.1288466       0.08812791     \n",
       "2 0.1194054       0.1316519       0.1440634       0.12263900     \n",
       "3 0.1198103       0.1296974       0.1290543       0.11563040     \n",
       "  age_75to84_perc age_84plus_perc lowrisk_agegroup_perc land_area\n",
       "1 0.05183360      0.01566519      0.8443733              594.44  \n",
       "2 0.06205337      0.01974113      0.7955665             1589.78  \n",
       "3 0.05960371      0.01897030      0.8057956              884.88  \n",
       "  population_density\n",
       "1  93.53509         \n",
       "2 137.13973         \n",
       "3  28.11794         "
      ]
     },
     "metadata": {},
     "output_type": "display_data"
    }
   ],
   "source": [
    "head(county_demographics_df, 3)\n",
    "write.csv(county_demographics_df, 'county_demographics_df.csv', row.names = FALSE)"
   ]
  },
  {
   "cell_type": "markdown",
   "metadata": {},
   "source": [
    "### Filter by state, date"
   ]
  },
  {
   "cell_type": "code",
   "execution_count": 165,
   "metadata": {
    "scrolled": true
   },
   "outputs": [],
   "source": [
    "# filter jail_county_demographics_df \n",
    "\n",
    "#  consider only some states\n",
    "selected_states <- 'California|Texas|Ohio|Oregon'\n",
    "jail_county_demographics_filtered_df <- jail_county_demographics_df %>%\n",
    "    filter( #grepl( selected_states, state) ,   # use all states\n",
    "          jail_incarceration_rate_per_100k < 2000 ) # remove outlier counties\n",
    "\n",
    "\n",
    "\n",
    "#  keep most recent data\n",
    "jail_county_demographics_filtered_df$date <- as.Date(jail_county_demographics_filtered_df$date)\n",
    "\n",
    "jail_county_demographics_filtered_df <- jail_county_demographics_filtered_df %>%\n",
    "    group_by(county) %>% \n",
    "    filter(date == max(date))"
   ]
  },
  {
   "cell_type": "code",
   "execution_count": 46,
   "metadata": {
    "scrolled": true
   },
   "outputs": [
    {
     "name": "stderr",
     "output_type": "stream",
     "text": [
      "Warning message:\n",
      "\"Removed 8 rows containing missing values (geom_point).\""
     ]
    },
    {
     "data": {
      "image/png": "[encoded data removed]",
      "text/plain": [
       "plot without title"
      ]
     },
     "metadata": {},
     "output_type": "display_data"
    }
   ],
   "source": [
    "# try some plots\n",
    "options(repr.plot.width=4, repr.plot.height=4)\n",
    "ggplot(jail_county_demographics_filtered_df, \n",
    "       aes( x = log(highrisk_agegroup_perc), y = log(jail_incarceration_rate_per_100k), color = urbanicity) ) + \n",
    "            geom_point()"
   ]
  },
  {
   "cell_type": "markdown",
   "metadata": {},
   "source": [
    "## k-means clustering + project to 2 principal components to visualize"
   ]
  },
  {
   "cell_type": "code",
   "execution_count": 167,
   "metadata": {},
   "outputs": [
    {
     "data": {
      "text/html": [
       "<table>\n",
       "<thead><tr><th scope=col>colindex</th><th scope=col>colname</th></tr></thead>\n",
       "<tbody>\n",
       "\t<tr><td> 1                              </td><td>date                            </td></tr>\n",
       "\t<tr><td> 2                              </td><td>county                          </td></tr>\n",
       "\t<tr><td> 3                              </td><td>state                           </td></tr>\n",
       "\t<tr><td> 4                              </td><td>jail_population                 </td></tr>\n",
       "\t<tr><td> 5                              </td><td>resident_population             </td></tr>\n",
       "\t<tr><td> 6                              </td><td>cases                           </td></tr>\n",
       "\t<tr><td> 7                              </td><td>deaths                          </td></tr>\n",
       "\t<tr><td> 8                              </td><td>jail_incarceration_rate_per_100k</td></tr>\n",
       "\t<tr><td> 9                              </td><td>urbanicity                      </td></tr>\n",
       "\t<tr><td>10                              </td><td>tot_pop                         </td></tr>\n",
       "\t<tr><td>11                              </td><td>male_perc                       </td></tr>\n",
       "\t<tr><td>12                              </td><td>female_perc                     </td></tr>\n",
       "\t<tr><td>13                              </td><td>white_pop_perc                  </td></tr>\n",
       "\t<tr><td>14                              </td><td>black_pop_perc                  </td></tr>\n",
       "\t<tr><td>15                              </td><td>asian_pop_perc                  </td></tr>\n",
       "\t<tr><td>16                              </td><td>hisp_pop_perc                   </td></tr>\n",
       "\t<tr><td>17                              </td><td>age_oto4                        </td></tr>\n",
       "\t<tr><td>18                              </td><td>age_5to14_perc                  </td></tr>\n",
       "\t<tr><td>19                              </td><td>age_15to24_perc                 </td></tr>\n",
       "\t<tr><td>20                              </td><td>age_25to34_perc                 </td></tr>\n",
       "\t<tr><td>21                              </td><td>age_35to44_perc                 </td></tr>\n",
       "\t<tr><td>22                              </td><td>age_45to54_perc                 </td></tr>\n",
       "\t<tr><td>23                              </td><td>age_55to64_perc                 </td></tr>\n",
       "\t<tr><td>24                              </td><td>age_65to74_perc                 </td></tr>\n",
       "\t<tr><td>25                              </td><td>age_75to84_perc                 </td></tr>\n",
       "\t<tr><td>26                              </td><td>age_84plus_perc                 </td></tr>\n",
       "\t<tr><td>27                              </td><td>lowrisk_agegroup_perc           </td></tr>\n",
       "\t<tr><td>28                              </td><td>highrisk_agegroup_perc          </td></tr>\n",
       "\t<tr><td>29                              </td><td>land_area                       </td></tr>\n",
       "\t<tr><td>30                              </td><td>population_density              </td></tr>\n",
       "\t<tr><td>31                              </td><td>pop_infection_rate              </td></tr>\n",
       "</tbody>\n",
       "</table>\n"
      ],
      "text/latex": [
       "\\begin{tabular}{r|ll}\n",
       " colindex & colname\\\\\n",
       "\\hline\n",
       "\t  1                               & date                            \\\\\n",
       "\t  2                               & county                          \\\\\n",
       "\t  3                               & state                           \\\\\n",
       "\t  4                                 & jail\\_population                 \\\\\n",
       "\t  5                                 & resident\\_population             \\\\\n",
       "\t  6                               & cases                           \\\\\n",
       "\t  7                               & deaths                          \\\\\n",
       "\t  8                                       & jail\\_incarceration\\_rate\\_per\\_100k\\\\\n",
       "\t  9                               & urbanicity                      \\\\\n",
       "\t 10                                 & tot\\_pop                         \\\\\n",
       "\t 11                                 & male\\_perc                       \\\\\n",
       "\t 12                                 & female\\_perc                     \\\\\n",
       "\t 13                                   & white\\_pop\\_perc                  \\\\\n",
       "\t 14                                   & black\\_pop\\_perc                  \\\\\n",
       "\t 15                                   & asian\\_pop\\_perc                  \\\\\n",
       "\t 16                                   & hisp\\_pop\\_perc                   \\\\\n",
       "\t 17                                 & age\\_oto4                        \\\\\n",
       "\t 18                                   & age\\_5to14\\_perc                  \\\\\n",
       "\t 19                                   & age\\_15to24\\_perc                 \\\\\n",
       "\t 20                                   & age\\_25to34\\_perc                 \\\\\n",
       "\t 21                                   & age\\_35to44\\_perc                 \\\\\n",
       "\t 22                                   & age\\_45to54\\_perc                 \\\\\n",
       "\t 23                                   & age\\_55to64\\_perc                 \\\\\n",
       "\t 24                                   & age\\_65to74\\_perc                 \\\\\n",
       "\t 25                                   & age\\_75to84\\_perc                 \\\\\n",
       "\t 26                                   & age\\_84plus\\_perc                 \\\\\n",
       "\t 27                                   & lowrisk\\_agegroup\\_perc           \\\\\n",
       "\t 28                                   & highrisk\\_agegroup\\_perc          \\\\\n",
       "\t 29                                 & land\\_area                       \\\\\n",
       "\t 30                                 & population\\_density              \\\\\n",
       "\t 31                                   & pop\\_infection\\_rate              \\\\\n",
       "\\end{tabular}\n"
      ],
      "text/markdown": [
       "\n",
       "| colindex | colname |\n",
       "|---|---|\n",
       "|  1                               | date                             |\n",
       "|  2                               | county                           |\n",
       "|  3                               | state                            |\n",
       "|  4                               | jail_population                  |\n",
       "|  5                               | resident_population              |\n",
       "|  6                               | cases                            |\n",
       "|  7                               | deaths                           |\n",
       "|  8                               | jail_incarceration_rate_per_100k |\n",
       "|  9                               | urbanicity                       |\n",
       "| 10                               | tot_pop                          |\n",
       "| 11                               | male_perc                        |\n",
       "| 12                               | female_perc                      |\n",
       "| 13                               | white_pop_perc                   |\n",
       "| 14                               | black_pop_perc                   |\n",
       "| 15                               | asian_pop_perc                   |\n",
       "| 16                               | hisp_pop_perc                    |\n",
       "| 17                               | age_oto4                         |\n",
       "| 18                               | age_5to14_perc                   |\n",
       "| 19                               | age_15to24_perc                  |\n",
       "| 20                               | age_25to34_perc                  |\n",
       "| 21                               | age_35to44_perc                  |\n",
       "| 22                               | age_45to54_perc                  |\n",
       "| 23                               | age_55to64_perc                  |\n",
       "| 24                               | age_65to74_perc                  |\n",
       "| 25                               | age_75to84_perc                  |\n",
       "| 26                               | age_84plus_perc                  |\n",
       "| 27                               | lowrisk_agegroup_perc            |\n",
       "| 28                               | highrisk_agegroup_perc           |\n",
       "| 29                               | land_area                        |\n",
       "| 30                               | population_density               |\n",
       "| 31                               | pop_infection_rate               |\n",
       "\n"
      ],
      "text/plain": [
       "   colindex colname                         \n",
       "1   1       date                            \n",
       "2   2       county                          \n",
       "3   3       state                           \n",
       "4   4       jail_population                 \n",
       "5   5       resident_population             \n",
       "6   6       cases                           \n",
       "7   7       deaths                          \n",
       "8   8       jail_incarceration_rate_per_100k\n",
       "9   9       urbanicity                      \n",
       "10 10       tot_pop                         \n",
       "11 11       male_perc                       \n",
       "12 12       female_perc                     \n",
       "13 13       white_pop_perc                  \n",
       "14 14       black_pop_perc                  \n",
       "15 15       asian_pop_perc                  \n",
       "16 16       hisp_pop_perc                   \n",
       "17 17       age_oto4                        \n",
       "18 18       age_5to14_perc                  \n",
       "19 19       age_15to24_perc                 \n",
       "20 20       age_25to34_perc                 \n",
       "21 21       age_35to44_perc                 \n",
       "22 22       age_45to54_perc                 \n",
       "23 23       age_55to64_perc                 \n",
       "24 24       age_65to74_perc                 \n",
       "25 25       age_75to84_perc                 \n",
       "26 26       age_84plus_perc                 \n",
       "27 27       lowrisk_agegroup_perc           \n",
       "28 28       highrisk_agegroup_perc          \n",
       "29 29       land_area                       \n",
       "30 30       population_density              \n",
       "31 31       pop_infection_rate              "
      ]
     },
     "metadata": {},
     "output_type": "display_data"
    }
   ],
   "source": [
    "# column names\n",
    "#jail_county_demographics_columns <- data.frame( colindex = 1:31, colname = names(jail_county_demographics_df))\n",
    "jail_county_demographics_columns\n",
    "\n",
    "#county_demographics_columns <- data.frame( colindex = 1:23, colname = names(county_demographics_df))\n",
    "#county_demographics_columns"
   ]
  },
  {
   "cell_type": "code",
   "execution_count": 174,
   "metadata": {
    "scrolled": true
   },
   "outputs": [
    {
     "data": {
      "text/html": [
       "<table>\n",
       "<thead><tr><th scope=col>cluster</th><th scope=col>count</th><th scope=col>ave_incarceration_rate</th><th scope=col>ave_jail_pop</th><th scope=col>ave_res_pop</th><th scope=col>ave_highrisk_agegroup_perc</th></tr></thead>\n",
       "<tbody>\n",
       "\t<tr><td>1         </td><td>788       </td><td>232.42284 </td><td> 161.4657 </td><td>  94271.12</td><td>0.1829725 </td></tr>\n",
       "\t<tr><td>2         </td><td> 15       </td><td> 95.06667 </td><td>3024.5333 </td><td>2828677.53</td><td>0.1447733 </td></tr>\n",
       "\t<tr><td>3         </td><td>168       </td><td>280.87440 </td><td> 383.6488 </td><td> 230430.54</td><td>0.1671051 </td></tr>\n",
       "</tbody>\n",
       "</table>\n"
      ],
      "text/latex": [
       "\\begin{tabular}{r|llllll}\n",
       " cluster & count & ave\\_incarceration\\_rate & ave\\_jail\\_pop & ave\\_res\\_pop & ave\\_highrisk\\_agegroup\\_perc\\\\\n",
       "\\hline\n",
       "\t 1          & 788        & 232.42284  &  161.4657  &   94271.12 & 0.1829725 \\\\\n",
       "\t 2          &  15        &  95.06667  & 3024.5333  & 2828677.53 & 0.1447733 \\\\\n",
       "\t 3          & 168        & 280.87440  &  383.6488  &  230430.54 & 0.1671051 \\\\\n",
       "\\end{tabular}\n"
      ],
      "text/markdown": [
       "\n",
       "| cluster | count | ave_incarceration_rate | ave_jail_pop | ave_res_pop | ave_highrisk_agegroup_perc |\n",
       "|---|---|---|---|---|---|\n",
       "| 1          | 788        | 232.42284  |  161.4657  |   94271.12 | 0.1829725  |\n",
       "| 2          |  15        |  95.06667  | 3024.5333  | 2828677.53 | 0.1447733  |\n",
       "| 3          | 168        | 280.87440  |  383.6488  |  230430.54 | 0.1671051  |\n",
       "\n"
      ],
      "text/plain": [
       "  cluster count ave_incarceration_rate ave_jail_pop ave_res_pop\n",
       "1 1       788   232.42284               161.4657      94271.12 \n",
       "2 2        15    95.06667              3024.5333    2828677.53 \n",
       "3 3       168   280.87440               383.6488     230430.54 \n",
       "  ave_highrisk_agegroup_perc\n",
       "1 0.1829725                 \n",
       "2 0.1447733                 \n",
       "3 0.1671051                 "
      ]
     },
     "metadata": {},
     "output_type": "display_data"
    },
    {
     "data": {
      "text/html": [
       "<table>\n",
       "<thead><tr><th scope=col>cluster</th><th scope=col>urbanicity</th><th scope=col>count</th><th scope=col>ave_incarceration_rate</th><th scope=col>ave_res_pop</th><th scope=col>ave_highrisk_agegroup_perc</th></tr></thead>\n",
       "<tbody>\n",
       "\t<tr><td>1         </td><td>rural     </td><td>432       </td><td>259.1706  </td><td>  31973.31</td><td>0.1935420 </td></tr>\n",
       "\t<tr><td>1         </td><td>small/mid </td><td>242       </td><td>205.3281  </td><td> 153191.85</td><td>0.1758847 </td></tr>\n",
       "\t<tr><td>1         </td><td>suburban  </td><td>109       </td><td>191.7917  </td><td> 164340.42</td><td>0.1599914 </td></tr>\n",
       "\t<tr><td>1         </td><td>urban     </td><td>  5       </td><td>118.5600  </td><td>1097528.40</td><td>0.1138086 </td></tr>\n",
       "\t<tr><td>2         </td><td>suburban  </td><td>  5       </td><td> 73.9600  </td><td>1362795.60</td><td>0.1589736 </td></tr>\n",
       "\t<tr><td>2         </td><td>urban     </td><td> 10       </td><td>105.6200  </td><td>3561618.50</td><td>0.1376732 </td></tr>\n",
       "\t<tr><td>3         </td><td>rural     </td><td> 68       </td><td>339.0382  </td><td>  31351.25</td><td>0.1847879 </td></tr>\n",
       "\t<tr><td>3         </td><td>small/mid </td><td> 60       </td><td>292.9233  </td><td> 168234.65</td><td>0.1655664 </td></tr>\n",
       "\t<tr><td>3         </td><td>suburban  </td><td> 27       </td><td>185.2815  </td><td> 355611.15</td><td>0.1383516 </td></tr>\n",
       "\t<tr><td>3         </td><td>urban     </td><td> 13       </td><td>119.5615  </td><td>1298835.85</td><td>0.1414309 </td></tr>\n",
       "</tbody>\n",
       "</table>\n"
      ],
      "text/latex": [
       "\\begin{tabular}{r|llllll}\n",
       " cluster & urbanicity & count & ave\\_incarceration\\_rate & ave\\_res\\_pop & ave\\_highrisk\\_agegroup\\_perc\\\\\n",
       "\\hline\n",
       "\t 1          & rural      & 432        & 259.1706   &   31973.31 & 0.1935420 \\\\\n",
       "\t 1          & small/mid  & 242        & 205.3281   &  153191.85 & 0.1758847 \\\\\n",
       "\t 1          & suburban   & 109        & 191.7917   &  164340.42 & 0.1599914 \\\\\n",
       "\t 1          & urban      &   5        & 118.5600   & 1097528.40 & 0.1138086 \\\\\n",
       "\t 2          & suburban   &   5        &  73.9600   & 1362795.60 & 0.1589736 \\\\\n",
       "\t 2          & urban      &  10        & 105.6200   & 3561618.50 & 0.1376732 \\\\\n",
       "\t 3          & rural      &  68        & 339.0382   &   31351.25 & 0.1847879 \\\\\n",
       "\t 3          & small/mid  &  60        & 292.9233   &  168234.65 & 0.1655664 \\\\\n",
       "\t 3          & suburban   &  27        & 185.2815   &  355611.15 & 0.1383516 \\\\\n",
       "\t 3          & urban      &  13        & 119.5615   & 1298835.85 & 0.1414309 \\\\\n",
       "\\end{tabular}\n"
      ],
      "text/markdown": [
       "\n",
       "| cluster | urbanicity | count | ave_incarceration_rate | ave_res_pop | ave_highrisk_agegroup_perc |\n",
       "|---|---|---|---|---|---|\n",
       "| 1          | rural      | 432        | 259.1706   |   31973.31 | 0.1935420  |\n",
       "| 1          | small/mid  | 242        | 205.3281   |  153191.85 | 0.1758847  |\n",
       "| 1          | suburban   | 109        | 191.7917   |  164340.42 | 0.1599914  |\n",
       "| 1          | urban      |   5        | 118.5600   | 1097528.40 | 0.1138086  |\n",
       "| 2          | suburban   |   5        |  73.9600   | 1362795.60 | 0.1589736  |\n",
       "| 2          | urban      |  10        | 105.6200   | 3561618.50 | 0.1376732  |\n",
       "| 3          | rural      |  68        | 339.0382   |   31351.25 | 0.1847879  |\n",
       "| 3          | small/mid  |  60        | 292.9233   |  168234.65 | 0.1655664  |\n",
       "| 3          | suburban   |  27        | 185.2815   |  355611.15 | 0.1383516  |\n",
       "| 3          | urban      |  13        | 119.5615   | 1298835.85 | 0.1414309  |\n",
       "\n"
      ],
      "text/plain": [
       "   cluster urbanicity count ave_incarceration_rate ave_res_pop\n",
       "1  1       rural      432   259.1706                 31973.31 \n",
       "2  1       small/mid  242   205.3281                153191.85 \n",
       "3  1       suburban   109   191.7917                164340.42 \n",
       "4  1       urban        5   118.5600               1097528.40 \n",
       "5  2       suburban     5    73.9600               1362795.60 \n",
       "6  2       urban       10   105.6200               3561618.50 \n",
       "7  3       rural       68   339.0382                 31351.25 \n",
       "8  3       small/mid   60   292.9233                168234.65 \n",
       "9  3       suburban    27   185.2815                355611.15 \n",
       "10 3       urban       13   119.5615               1298835.85 \n",
       "   ave_highrisk_agegroup_perc\n",
       "1  0.1935420                 \n",
       "2  0.1758847                 \n",
       "3  0.1599914                 \n",
       "4  0.1138086                 \n",
       "5  0.1589736                 \n",
       "6  0.1376732                 \n",
       "7  0.1847879                 \n",
       "8  0.1655664                 \n",
       "9  0.1383516                 \n",
       "10 0.1414309                 "
      ]
     },
     "metadata": {},
     "output_type": "display_data"
    },
    {
     "data": {
      "text/plain": [
       "Importance of components:\n",
       "                         PC1    PC2     PC3     PC4     PC5     PC6     PC7\n",
       "Standard deviation     2.851 2.0795 1.56107 1.45509 1.31873 1.20157 1.16285\n",
       "Proportion of Variance 0.301 0.1602 0.09026 0.07842 0.06441 0.05347 0.05008\n",
       "Cumulative Proportion  0.301 0.4612 0.55140 0.62982 0.69423 0.74770 0.79779\n",
       "                          PC8     PC9    PC10    PC11    PC12    PC13    PC14\n",
       "Standard deviation     1.0495 0.95751 0.85663 0.73750 0.71328 0.60950 0.56516\n",
       "Proportion of Variance 0.0408 0.03396 0.02718 0.02014 0.01884 0.01376 0.01183\n",
       "Cumulative Proportion  0.8386 0.87254 0.89972 0.91986 0.93871 0.95247 0.96430\n",
       "                          PC15    PC16    PC17   PC18   PC19    PC20    PC21\n",
       "Standard deviation     0.55914 0.48379 0.40542 0.2597 0.2548 0.21312 0.19808\n",
       "Proportion of Variance 0.01158 0.00867 0.00609 0.0025 0.0024 0.00168 0.00145\n",
       "Cumulative Proportion  0.97588 0.98454 0.99063 0.9931 0.9955 0.99722 0.99867\n",
       "                          PC22     PC23      PC24      PC25      PC26      PC27\n",
       "Standard deviation     0.18947 0.004864 1.283e-15 1.266e-15 8.145e-16 5.659e-16\n",
       "Proportion of Variance 0.00133 0.000000 0.000e+00 0.000e+00 0.000e+00 0.000e+00\n",
       "Cumulative Proportion  1.00000 1.000000 1.000e+00 1.000e+00 1.000e+00 1.000e+00"
      ]
     },
     "metadata": {},
     "output_type": "display_data"
    },
    {
     "data": {
      "image/png": "[encoded data removed]",
      "text/plain": [
       "plot without title"
      ]
     },
     "metadata": {},
     "output_type": "display_data"
    },
    {
     "name": "stderr",
     "output_type": "stream",
     "text": [
      "Saving 6.67 x 6.67 in image\n"
     ]
    },
    {
     "data": {
      "image/png": "[encoded data removed]",
      "text/plain": [
       "plot without title"
      ]
     },
     "metadata": {},
     "output_type": "display_data"
    }
   ],
   "source": [
    "# k means\n",
    "# k = 3\n",
    "\n",
    "selected_column_indices <- c(4:8,11:16)\n",
    "num_clusters <- 3 #try some number\n",
    "\n",
    "jail_county_demographics_filtered_df_dropna <- drop_na(jail_county_demographics_filtered_df)\n",
    "\n",
    "#opt_k <- fviz_nbclust(jail_county_demographics_filtered_df_dropna[ , selected_column_indices], kmeans, method = \"gap_stat\")\n",
    "\n",
    "set.seed(42)\n",
    "km <- kmeans(scale(jail_county_demographics_filtered_df_dropna[ , selected_column_indices]), num_clusters )\n",
    "jail_county_demographics_filtered_df_dropna$cluster <- as.factor(km$cluster)\n",
    "#write.csv(jail_county_demographics_filtered_df_dropna, 'jail_county_demographics_clustered_4means.csv', row.names=FALSE)\n",
    "\n",
    "\n",
    "# get a sense of the clusters\n",
    "options(repr.plot.width=4)\n",
    "ggplot(jail_county_demographics_filtered_df_dropna, \n",
    "       aes( x = highrisk_agegroup_perc, y = population_density, color = cluster) ) + \n",
    "            geom_point()\n",
    "\n",
    "jail_county_demographics_filtered_df_dropna %>%\n",
    "    group_by( cluster ) %>%\n",
    "    summarize( count = n(),\n",
    "             ave_incarceration_rate = mean(jail_incarceration_rate_per_100k),\n",
    "             ave_jail_pop = mean(jail_population),\n",
    "             ave_res_pop = mean(resident_population),\n",
    "             ave_highrisk_agegroup_perc = mean(highrisk_agegroup_perc))\n",
    "\n",
    "jail_county_demographics_filtered_df_dropna %>%\n",
    "    group_by( cluster, urbanicity ) %>%\n",
    "    summarize( count = n(),\n",
    "             ave_incarceration_rate = mean(jail_incarceration_rate_per_100k),\n",
    "             ave_res_pop = mean(resident_population),\n",
    "             ave_highrisk_agegroup_perc = mean(highrisk_agegroup_perc))\n",
    "\n",
    "# pca to see clusters\n",
    "#pca\n",
    "data <- jail_county_demographics_filtered_df_dropna\n",
    "selected_column_indices <- c(4:8,10:31)\n",
    "\n",
    "pca <- prcomp(data[ , selected_column_indices], center = TRUE, scale = TRUE)\n",
    "summary(pca)\n",
    "\n",
    "# principal components + clusters\n",
    "plot <- fviz_pca_ind(pca, geom.ind = \"point\", pointshape = 21, \n",
    "             pointsize = 2, \n",
    "             fill.ind = data$cluster, \n",
    "             col.ind = \"black\", \n",
    "             palette = \"jco\", \n",
    "             addEllipses = TRUE,\n",
    "             label = \"var\",\n",
    "             col.var = \"black\",\n",
    "             repel = TRUE,\n",
    "             legend.title = \"Cluster\") +\n",
    "  theme(plot.title = element_text(hjust = 0.5))\n",
    "plot \n",
    "#ggsave('3clusterpca.png', plot)"
   ]
  },
  {
   "cell_type": "code",
   "execution_count": 169,
   "metadata": {
    "scrolled": true
   },
   "outputs": [
    {
     "data": {
      "image/png": "[encoded data removed]",
      "text/plain": [
       "Plot with title \"Screeplot of the first 10 PCs\""
      ]
     },
     "metadata": {},
     "output_type": "display_data"
    },
    {
     "data": {
      "image/png": "[encoded data removed]",
      "text/plain": [
       "Plot with title \"Cumulative variance plot\""
      ]
     },
     "metadata": {},
     "output_type": "display_data"
    }
   ],
   "source": [
    "# more on pca\n",
    "\n",
    "# initial plots\n",
    "#plot(pca$x[,1],pca$x[,2], xlab=\"PC1 (29.9%)\", ylab = \"PC2 (17.8%)\", main = \"PC1 / PC2 - plot\")\n",
    "\n",
    "#scree plots\n",
    "screeplot(pca, type = \"l\", npcs = 15, main = \"Screeplot of the first 10 PCs\")\n",
    "abline(h = 1, col=\"red\", lty=5)\n",
    "legend(\"topright\", legend=c(\"Eigenvalue = 1\"),\n",
    "       col=c(\"red\"), lty=5, cex=0.6)\n",
    "cumpro <- cumsum(pca$sdev^2 / sum(pca$sdev^2))\n",
    "plot(cumpro[0:15], xlab = \"PC #\", ylab = \"Amount of explained variance\", main = \"Cumulative variance plot\")\n",
    "abline(v = 8, col=\"blue\", lty=5)\n",
    "abline(h = 0.845, col=\"blue\", lty=5)\n",
    "legend(\"topleft\", legend=c(\"Cut-off @ PC8\"),\n",
    "       col=c(\"blue\"), lty=5, cex=0.6)"
   ]
  },
  {
   "cell_type": "code",
   "execution_count": 175,
   "metadata": {
    "scrolled": true
   },
   "outputs": [
    {
     "data": {
      "text/html": [
       "<table>\n",
       "<thead><tr><th scope=col>cluster</th><th scope=col>count</th><th scope=col>ave_incarceration_rate</th><th scope=col>ave_jail_pop</th><th scope=col>ave_res_pop</th><th scope=col>ave_highrisk_agegroup_perc</th></tr></thead>\n",
       "<tbody>\n",
       "\t<tr><td>1         </td><td>140       </td><td>181.59143 </td><td>  82.97857</td><td>  46244.93</td><td>0.2548209 </td></tr>\n",
       "\t<tr><td>2         </td><td>266       </td><td>212.91842 </td><td> 410.70301</td><td> 263109.65</td><td>0.1341650 </td></tr>\n",
       "\t<tr><td>3         </td><td>553       </td><td>268.90235 </td><td> 145.97288</td><td>  78645.64</td><td>0.1831813 </td></tr>\n",
       "\t<tr><td>4         </td><td> 12       </td><td> 83.33333 </td><td>2955.75000</td><td>2956303.75</td><td>0.1471266 </td></tr>\n",
       "</tbody>\n",
       "</table>\n"
      ],
      "text/latex": [
       "\\begin{tabular}{r|llllll}\n",
       " cluster & count & ave\\_incarceration\\_rate & ave\\_jail\\_pop & ave\\_res\\_pop & ave\\_highrisk\\_agegroup\\_perc\\\\\n",
       "\\hline\n",
       "\t 1          & 140        & 181.59143  &   82.97857 &   46244.93 & 0.2548209 \\\\\n",
       "\t 2          & 266        & 212.91842  &  410.70301 &  263109.65 & 0.1341650 \\\\\n",
       "\t 3          & 553        & 268.90235  &  145.97288 &   78645.64 & 0.1831813 \\\\\n",
       "\t 4          &  12        &  83.33333  & 2955.75000 & 2956303.75 & 0.1471266 \\\\\n",
       "\\end{tabular}\n"
      ],
      "text/markdown": [
       "\n",
       "| cluster | count | ave_incarceration_rate | ave_jail_pop | ave_res_pop | ave_highrisk_agegroup_perc |\n",
       "|---|---|---|---|---|---|\n",
       "| 1          | 140        | 181.59143  |   82.97857 |   46244.93 | 0.2548209  |\n",
       "| 2          | 266        | 212.91842  |  410.70301 |  263109.65 | 0.1341650  |\n",
       "| 3          | 553        | 268.90235  |  145.97288 |   78645.64 | 0.1831813  |\n",
       "| 4          |  12        |  83.33333  | 2955.75000 | 2956303.75 | 0.1471266  |\n",
       "\n"
      ],
      "text/plain": [
       "  cluster count ave_incarceration_rate ave_jail_pop ave_res_pop\n",
       "1 1       140   181.59143                82.97857     46244.93 \n",
       "2 2       266   212.91842               410.70301    263109.65 \n",
       "3 3       553   268.90235               145.97288     78645.64 \n",
       "4 4        12    83.33333              2955.75000   2956303.75 \n",
       "  ave_highrisk_agegroup_perc\n",
       "1 0.2548209                 \n",
       "2 0.1341650                 \n",
       "3 0.1831813                 \n",
       "4 0.1471266                 "
      ]
     },
     "metadata": {},
     "output_type": "display_data"
    },
    {
     "data": {
      "text/html": [
       "<table>\n",
       "<thead><tr><th scope=col>cluster</th><th scope=col>urbanicity</th><th scope=col>count</th><th scope=col>ave_incarceration_rate</th><th scope=col>ave_res_pop</th><th scope=col>ave_highrisk_agegroup_perc</th></tr></thead>\n",
       "<tbody>\n",
       "\t<tr><td>1         </td><td>rural     </td><td>109       </td><td>175.86514 </td><td>  29229.49</td><td>0.2510332 </td></tr>\n",
       "\t<tr><td>1         </td><td>small/mid </td><td> 25       </td><td>213.82000 </td><td> 103033.60</td><td>0.2774696 </td></tr>\n",
       "\t<tr><td>1         </td><td>suburban  </td><td>  6       </td><td>151.33333 </td><td> 118739.33</td><td>0.2292599 </td></tr>\n",
       "\t<tr><td>2         </td><td>rural     </td><td> 93       </td><td>246.89355 </td><td>  31421.99</td><td>0.1396095 </td></tr>\n",
       "\t<tr><td>2         </td><td>small/mid </td><td> 99       </td><td>232.82020 </td><td> 232453.48</td><td>0.1337359 </td></tr>\n",
       "\t<tr><td>2         </td><td>suburban  </td><td> 57       </td><td>149.48947 </td><td> 356095.05</td><td>0.1281207 </td></tr>\n",
       "\t<tr><td>2         </td><td>urban     </td><td> 17       </td><td>123.82941 </td><td>1397330.00</td><td>0.1271446 </td></tr>\n",
       "\t<tr><td>3         </td><td>rural     </td><td>298       </td><td>311.69765 </td><td>  33007.04</td><td>0.1873470 </td></tr>\n",
       "\t<tr><td>3         </td><td>small/mid </td><td>178       </td><td>218.37135 </td><td> 121223.43</td><td>0.1815814 </td></tr>\n",
       "\t<tr><td>3         </td><td>suburban  </td><td> 75       </td><td>223.31733 </td><td> 132565.63</td><td>0.1703980 </td></tr>\n",
       "\t<tr><td>3         </td><td>urban     </td><td>  2       </td><td> 99.10000 </td><td>1067373.50</td><td>0.1842663 </td></tr>\n",
       "\t<tr><td>4         </td><td>suburban  </td><td>  3       </td><td> 33.33333 </td><td>1125436.33</td><td>0.1703780 </td></tr>\n",
       "\t<tr><td>4         </td><td>urban     </td><td>  9       </td><td>100.00000 </td><td>3566592.89</td><td>0.1393762 </td></tr>\n",
       "</tbody>\n",
       "</table>\n"
      ],
      "text/latex": [
       "\\begin{tabular}{r|llllll}\n",
       " cluster & urbanicity & count & ave\\_incarceration\\_rate & ave\\_res\\_pop & ave\\_highrisk\\_agegroup\\_perc\\\\\n",
       "\\hline\n",
       "\t 1          & rural      & 109        & 175.86514  &   29229.49 & 0.2510332 \\\\\n",
       "\t 1          & small/mid  &  25        & 213.82000  &  103033.60 & 0.2774696 \\\\\n",
       "\t 1          & suburban   &   6        & 151.33333  &  118739.33 & 0.2292599 \\\\\n",
       "\t 2          & rural      &  93        & 246.89355  &   31421.99 & 0.1396095 \\\\\n",
       "\t 2          & small/mid  &  99        & 232.82020  &  232453.48 & 0.1337359 \\\\\n",
       "\t 2          & suburban   &  57        & 149.48947  &  356095.05 & 0.1281207 \\\\\n",
       "\t 2          & urban      &  17        & 123.82941  & 1397330.00 & 0.1271446 \\\\\n",
       "\t 3          & rural      & 298        & 311.69765  &   33007.04 & 0.1873470 \\\\\n",
       "\t 3          & small/mid  & 178        & 218.37135  &  121223.43 & 0.1815814 \\\\\n",
       "\t 3          & suburban   &  75        & 223.31733  &  132565.63 & 0.1703980 \\\\\n",
       "\t 3          & urban      &   2        &  99.10000  & 1067373.50 & 0.1842663 \\\\\n",
       "\t 4          & suburban   &   3        &  33.33333  & 1125436.33 & 0.1703780 \\\\\n",
       "\t 4          & urban      &   9        & 100.00000  & 3566592.89 & 0.1393762 \\\\\n",
       "\\end{tabular}\n"
      ],
      "text/markdown": [
       "\n",
       "| cluster | urbanicity | count | ave_incarceration_rate | ave_res_pop | ave_highrisk_agegroup_perc |\n",
       "|---|---|---|---|---|---|\n",
       "| 1          | rural      | 109        | 175.86514  |   29229.49 | 0.2510332  |\n",
       "| 1          | small/mid  |  25        | 213.82000  |  103033.60 | 0.2774696  |\n",
       "| 1          | suburban   |   6        | 151.33333  |  118739.33 | 0.2292599  |\n",
       "| 2          | rural      |  93        | 246.89355  |   31421.99 | 0.1396095  |\n",
       "| 2          | small/mid  |  99        | 232.82020  |  232453.48 | 0.1337359  |\n",
       "| 2          | suburban   |  57        | 149.48947  |  356095.05 | 0.1281207  |\n",
       "| 2          | urban      |  17        | 123.82941  | 1397330.00 | 0.1271446  |\n",
       "| 3          | rural      | 298        | 311.69765  |   33007.04 | 0.1873470  |\n",
       "| 3          | small/mid  | 178        | 218.37135  |  121223.43 | 0.1815814  |\n",
       "| 3          | suburban   |  75        | 223.31733  |  132565.63 | 0.1703980  |\n",
       "| 3          | urban      |   2        |  99.10000  | 1067373.50 | 0.1842663  |\n",
       "| 4          | suburban   |   3        |  33.33333  | 1125436.33 | 0.1703780  |\n",
       "| 4          | urban      |   9        | 100.00000  | 3566592.89 | 0.1393762  |\n",
       "\n"
      ],
      "text/plain": [
       "   cluster urbanicity count ave_incarceration_rate ave_res_pop\n",
       "1  1       rural      109   175.86514                29229.49 \n",
       "2  1       small/mid   25   213.82000               103033.60 \n",
       "3  1       suburban     6   151.33333               118739.33 \n",
       "4  2       rural       93   246.89355                31421.99 \n",
       "5  2       small/mid   99   232.82020               232453.48 \n",
       "6  2       suburban    57   149.48947               356095.05 \n",
       "7  2       urban       17   123.82941              1397330.00 \n",
       "8  3       rural      298   311.69765                33007.04 \n",
       "9  3       small/mid  178   218.37135               121223.43 \n",
       "10 3       suburban    75   223.31733               132565.63 \n",
       "11 3       urban        2    99.10000              1067373.50 \n",
       "12 4       suburban     3    33.33333              1125436.33 \n",
       "13 4       urban        9   100.00000              3566592.89 \n",
       "   ave_highrisk_agegroup_perc\n",
       "1  0.2510332                 \n",
       "2  0.2774696                 \n",
       "3  0.2292599                 \n",
       "4  0.1396095                 \n",
       "5  0.1337359                 \n",
       "6  0.1281207                 \n",
       "7  0.1271446                 \n",
       "8  0.1873470                 \n",
       "9  0.1815814                 \n",
       "10 0.1703980                 \n",
       "11 0.1842663                 \n",
       "12 0.1703780                 \n",
       "13 0.1393762                 "
      ]
     },
     "metadata": {},
     "output_type": "display_data"
    },
    {
     "data": {
      "image/png": "[encoded data removed]",
      "text/plain": [
       "plot without title"
      ]
     },
     "metadata": {},
     "output_type": "display_data"
    },
    {
     "name": "stderr",
     "output_type": "stream",
     "text": [
      "Saving 6.67 x 6.67 in image\n"
     ]
    },
    {
     "data": {
      "image/png": "[encoded data removed]",
      "text/plain": [
       "plot without title"
      ]
     },
     "metadata": {},
     "output_type": "display_data"
    }
   ],
   "source": [
    "# k = 4\n",
    "\n",
    "selected_column_indices <- c(4:8,10:31)\n",
    "num_clusters <- 4 #try some number\n",
    "\n",
    "jail_county_demographics_filtered_df_dropna <- drop_na(jail_county_demographics_filtered_df)\n",
    "\n",
    "#opt_k <- fviz_nbclust(jail_county_demographics_filtered_df_dropna[ , selected_column_indices], kmeans, method = \"gap_stat\")\n",
    "\n",
    "set.seed(42)\n",
    "km <- kmeans(scale(jail_county_demographics_filtered_df_dropna[ , selected_column_indices]), num_clusters )\n",
    "jail_county_demographics_filtered_df_dropna$cluster <- as.factor(km$cluster)\n",
    "#write.csv(jail_county_demographics_filtered_df_dropna, 'jail_county_demographics_clustered_4means.csv', row.names=FALSE)\n",
    "\n",
    "\n",
    "# get a sense of the clusters\n",
    "options(repr.plot.width=4)\n",
    "ggplot(jail_county_demographics_filtered_df_dropna, \n",
    "       aes( x = highrisk_agegroup_perc, y = population_density, color = cluster) ) + \n",
    "            geom_point()\n",
    "\n",
    "jail_county_demographics_filtered_df_dropna %>%\n",
    "    group_by( cluster ) %>%\n",
    "    summarize( count = n(),\n",
    "             ave_incarceration_rate = mean(jail_incarceration_rate_per_100k),\n",
    "             ave_jail_pop = mean(jail_population),\n",
    "             ave_res_pop = mean(resident_population),\n",
    "             ave_highrisk_agegroup_perc = mean(highrisk_agegroup_perc))\n",
    "\n",
    "jail_county_demographics_filtered_df_dropna %>%\n",
    "    group_by( cluster, urbanicity ) %>%\n",
    "    summarize( count = n(),\n",
    "             ave_incarceration_rate = mean(jail_incarceration_rate_per_100k),\n",
    "             ave_res_pop = mean(resident_population),\n",
    "             ave_highrisk_agegroup_perc = mean(highrisk_agegroup_perc))\n",
    "\n",
    "#pca\n",
    "data <- jail_county_demographics_filtered_df_dropna\n",
    "#pca <- prcomp(data[ , selected_column_indices], center = TRUE, scale = TRUE)\n",
    "#summary(pca)\n",
    "\n",
    "# principal components + clusters\n",
    "plot <- fviz_pca_ind(pca, geom.ind = \"point\", pointshape = 21, \n",
    "             pointsize = 2, \n",
    "             fill.ind = data$cluster, \n",
    "             col.ind = \"black\", \n",
    "             palette = \"jco\", \n",
    "             addEllipses = TRUE,\n",
    "             label = \"var\",\n",
    "             col.var = \"black\",\n",
    "             repel = TRUE,\n",
    "             legend.title = \"Cluster\") +\n",
    "  theme(plot.title = element_text(hjust = 0.5))\n",
    "plot\n",
    "#ggsave('4clusterpca.png', plot)"
   ]
  },
  {
   "cell_type": "code",
   "execution_count": 176,
   "metadata": {
    "scrolled": true
   },
   "outputs": [
    {
     "data": {
      "text/html": [
       "<table>\n",
       "<thead><tr><th scope=col>cluster</th><th scope=col>count</th><th scope=col>ave_incarceration_rate</th><th scope=col>ave_jail_pop</th><th scope=col>ave_res_pop</th><th scope=col>ave_highrisk_agegroup_perc</th></tr></thead>\n",
       "<tbody>\n",
       "\t<tr><td>1        </td><td>120      </td><td>184.5675 </td><td> 86.18333</td><td> 46187.58</td><td>0.2603560</td></tr>\n",
       "\t<tr><td>2        </td><td>184      </td><td>197.1266 </td><td>659.78804</td><td>486663.04</td><td>0.1309805</td></tr>\n",
       "\t<tr><td>3        </td><td>493      </td><td>252.4696 </td><td>134.15822</td><td> 75804.13</td><td>0.1843947</td></tr>\n",
       "\t<tr><td>4        </td><td>129      </td><td>290.5512 </td><td>271.24031</td><td>162970.09</td><td>0.1700520</td></tr>\n",
       "\t<tr><td>5        </td><td> 45      </td><td>253.2022 </td><td> 92.95556</td><td> 43223.38</td><td>0.1386927</td></tr>\n",
       "</tbody>\n",
       "</table>\n"
      ],
      "text/latex": [
       "\\begin{tabular}{r|llllll}\n",
       " cluster & count & ave\\_incarceration\\_rate & ave\\_jail\\_pop & ave\\_res\\_pop & ave\\_highrisk\\_agegroup\\_perc\\\\\n",
       "\\hline\n",
       "\t 1         & 120       & 184.5675  &  86.18333 &  46187.58 & 0.2603560\\\\\n",
       "\t 2         & 184       & 197.1266  & 659.78804 & 486663.04 & 0.1309805\\\\\n",
       "\t 3         & 493       & 252.4696  & 134.15822 &  75804.13 & 0.1843947\\\\\n",
       "\t 4         & 129       & 290.5512  & 271.24031 & 162970.09 & 0.1700520\\\\\n",
       "\t 5         &  45       & 253.2022  &  92.95556 &  43223.38 & 0.1386927\\\\\n",
       "\\end{tabular}\n"
      ],
      "text/markdown": [
       "\n",
       "| cluster | count | ave_incarceration_rate | ave_jail_pop | ave_res_pop | ave_highrisk_agegroup_perc |\n",
       "|---|---|---|---|---|---|\n",
       "| 1         | 120       | 184.5675  |  86.18333 |  46187.58 | 0.2603560 |\n",
       "| 2         | 184       | 197.1266  | 659.78804 | 486663.04 | 0.1309805 |\n",
       "| 3         | 493       | 252.4696  | 134.15822 |  75804.13 | 0.1843947 |\n",
       "| 4         | 129       | 290.5512  | 271.24031 | 162970.09 | 0.1700520 |\n",
       "| 5         |  45       | 253.2022  |  92.95556 |  43223.38 | 0.1386927 |\n",
       "\n"
      ],
      "text/plain": [
       "  cluster count ave_incarceration_rate ave_jail_pop ave_res_pop\n",
       "1 1       120   184.5675                86.18333     46187.58  \n",
       "2 2       184   197.1266               659.78804    486663.04  \n",
       "3 3       493   252.4696               134.15822     75804.13  \n",
       "4 4       129   290.5512               271.24031    162970.09  \n",
       "5 5        45   253.2022                92.95556     43223.38  \n",
       "  ave_highrisk_agegroup_perc\n",
       "1 0.2603560                 \n",
       "2 0.1309805                 \n",
       "3 0.1843947                 \n",
       "4 0.1700520                 \n",
       "5 0.1386927                 "
      ]
     },
     "metadata": {},
     "output_type": "display_data"
    },
    {
     "data": {
      "text/html": [
       "<table>\n",
       "<thead><tr><th scope=col>cluster</th><th scope=col>urbanicity</th><th scope=col>count</th><th scope=col>ave_incarceration_rate</th><th scope=col>ave_res_pop</th><th scope=col>ave_highrisk_agegroup_perc</th></tr></thead>\n",
       "<tbody>\n",
       "\t<tr><td>1         </td><td>rural     </td><td> 95       </td><td>174.1716  </td><td>  30553.86</td><td>0.2552742 </td></tr>\n",
       "\t<tr><td>1         </td><td>small/mid </td><td> 22       </td><td>228.7727  </td><td> 115593.41</td><td>0.2848198 </td></tr>\n",
       "\t<tr><td>1         </td><td>suburban  </td><td>  3       </td><td>189.6000  </td><td>  32279.33</td><td>0.2418810 </td></tr>\n",
       "\t<tr><td>2         </td><td>rural     </td><td> 49       </td><td>279.5510  </td><td>  31113.78</td><td>0.1346878 </td></tr>\n",
       "\t<tr><td>2         </td><td>small/mid </td><td> 65       </td><td>201.3646  </td><td> 268930.57</td><td>0.1317168 </td></tr>\n",
       "\t<tr><td>2         </td><td>suburban  </td><td> 47       </td><td>144.4170  </td><td> 380720.91</td><td>0.1270597 </td></tr>\n",
       "\t<tr><td>2         </td><td>urban     </td><td> 23       </td><td>117.2609  </td><td>2289002.39</td><td>0.1290134 </td></tr>\n",
       "\t<tr><td>3         </td><td>rural     </td><td>268       </td><td>291.0119  </td><td>  33560.56</td><td>0.1888251 </td></tr>\n",
       "\t<tr><td>3         </td><td>small/mid </td><td>154       </td><td>204.3818  </td><td> 122185.14</td><td>0.1821204 </td></tr>\n",
       "\t<tr><td>3         </td><td>suburban  </td><td> 70       </td><td>212.2943  </td><td> 119209.30</td><td>0.1723691 </td></tr>\n",
       "\t<tr><td>3         </td><td>urban     </td><td>  1       </td><td>140.9000  </td><td>1216045.00</td><td>0.1890735 </td></tr>\n",
       "\t<tr><td>4         </td><td>rural     </td><td> 55       </td><td>351.0927  </td><td>  30962.11</td><td>0.1805931 </td></tr>\n",
       "\t<tr><td>4         </td><td>small/mid </td><td> 50       </td><td>281.4560  </td><td> 144254.06</td><td>0.1659890 </td></tr>\n",
       "\t<tr><td>4         </td><td>suburban  </td><td> 20       </td><td>186.6400  </td><td> 399096.45</td><td>0.1538323 </td></tr>\n",
       "\t<tr><td>4         </td><td>urban     </td><td>  4       </td><td> 91.3500  </td><td>1031398.25</td><td>0.1569989 </td></tr>\n",
       "\t<tr><td>5         </td><td>rural     </td><td> 33       </td><td>226.3848  </td><td>  24849.03</td><td>0.1450671 </td></tr>\n",
       "\t<tr><td>5         </td><td>small/mid </td><td> 11       </td><td>326.8636  </td><td> 101250.00</td><td>0.1204053 </td></tr>\n",
       "\t<tr><td>5         </td><td>suburban  </td><td>  1       </td><td>327.9000  </td><td>  11284.00</td><td>0.1294951 </td></tr>\n",
       "</tbody>\n",
       "</table>\n"
      ],
      "text/latex": [
       "\\begin{tabular}{r|llllll}\n",
       " cluster & urbanicity & count & ave\\_incarceration\\_rate & ave\\_res\\_pop & ave\\_highrisk\\_agegroup\\_perc\\\\\n",
       "\\hline\n",
       "\t 1          & rural      &  95        & 174.1716   &   30553.86 & 0.2552742 \\\\\n",
       "\t 1          & small/mid  &  22        & 228.7727   &  115593.41 & 0.2848198 \\\\\n",
       "\t 1          & suburban   &   3        & 189.6000   &   32279.33 & 0.2418810 \\\\\n",
       "\t 2          & rural      &  49        & 279.5510   &   31113.78 & 0.1346878 \\\\\n",
       "\t 2          & small/mid  &  65        & 201.3646   &  268930.57 & 0.1317168 \\\\\n",
       "\t 2          & suburban   &  47        & 144.4170   &  380720.91 & 0.1270597 \\\\\n",
       "\t 2          & urban      &  23        & 117.2609   & 2289002.39 & 0.1290134 \\\\\n",
       "\t 3          & rural      & 268        & 291.0119   &   33560.56 & 0.1888251 \\\\\n",
       "\t 3          & small/mid  & 154        & 204.3818   &  122185.14 & 0.1821204 \\\\\n",
       "\t 3          & suburban   &  70        & 212.2943   &  119209.30 & 0.1723691 \\\\\n",
       "\t 3          & urban      &   1        & 140.9000   & 1216045.00 & 0.1890735 \\\\\n",
       "\t 4          & rural      &  55        & 351.0927   &   30962.11 & 0.1805931 \\\\\n",
       "\t 4          & small/mid  &  50        & 281.4560   &  144254.06 & 0.1659890 \\\\\n",
       "\t 4          & suburban   &  20        & 186.6400   &  399096.45 & 0.1538323 \\\\\n",
       "\t 4          & urban      &   4        &  91.3500   & 1031398.25 & 0.1569989 \\\\\n",
       "\t 5          & rural      &  33        & 226.3848   &   24849.03 & 0.1450671 \\\\\n",
       "\t 5          & small/mid  &  11        & 326.8636   &  101250.00 & 0.1204053 \\\\\n",
       "\t 5          & suburban   &   1        & 327.9000   &   11284.00 & 0.1294951 \\\\\n",
       "\\end{tabular}\n"
      ],
      "text/markdown": [
       "\n",
       "| cluster | urbanicity | count | ave_incarceration_rate | ave_res_pop | ave_highrisk_agegroup_perc |\n",
       "|---|---|---|---|---|---|\n",
       "| 1          | rural      |  95        | 174.1716   |   30553.86 | 0.2552742  |\n",
       "| 1          | small/mid  |  22        | 228.7727   |  115593.41 | 0.2848198  |\n",
       "| 1          | suburban   |   3        | 189.6000   |   32279.33 | 0.2418810  |\n",
       "| 2          | rural      |  49        | 279.5510   |   31113.78 | 0.1346878  |\n",
       "| 2          | small/mid  |  65        | 201.3646   |  268930.57 | 0.1317168  |\n",
       "| 2          | suburban   |  47        | 144.4170   |  380720.91 | 0.1270597  |\n",
       "| 2          | urban      |  23        | 117.2609   | 2289002.39 | 0.1290134  |\n",
       "| 3          | rural      | 268        | 291.0119   |   33560.56 | 0.1888251  |\n",
       "| 3          | small/mid  | 154        | 204.3818   |  122185.14 | 0.1821204  |\n",
       "| 3          | suburban   |  70        | 212.2943   |  119209.30 | 0.1723691  |\n",
       "| 3          | urban      |   1        | 140.9000   | 1216045.00 | 0.1890735  |\n",
       "| 4          | rural      |  55        | 351.0927   |   30962.11 | 0.1805931  |\n",
       "| 4          | small/mid  |  50        | 281.4560   |  144254.06 | 0.1659890  |\n",
       "| 4          | suburban   |  20        | 186.6400   |  399096.45 | 0.1538323  |\n",
       "| 4          | urban      |   4        |  91.3500   | 1031398.25 | 0.1569989  |\n",
       "| 5          | rural      |  33        | 226.3848   |   24849.03 | 0.1450671  |\n",
       "| 5          | small/mid  |  11        | 326.8636   |  101250.00 | 0.1204053  |\n",
       "| 5          | suburban   |   1        | 327.9000   |   11284.00 | 0.1294951  |\n",
       "\n"
      ],
      "text/plain": [
       "   cluster urbanicity count ave_incarceration_rate ave_res_pop\n",
       "1  1       rural       95   174.1716                 30553.86 \n",
       "2  1       small/mid   22   228.7727                115593.41 \n",
       "3  1       suburban     3   189.6000                 32279.33 \n",
       "4  2       rural       49   279.5510                 31113.78 \n",
       "5  2       small/mid   65   201.3646                268930.57 \n",
       "6  2       suburban    47   144.4170                380720.91 \n",
       "7  2       urban       23   117.2609               2289002.39 \n",
       "8  3       rural      268   291.0119                 33560.56 \n",
       "9  3       small/mid  154   204.3818                122185.14 \n",
       "10 3       suburban    70   212.2943                119209.30 \n",
       "11 3       urban        1   140.9000               1216045.00 \n",
       "12 4       rural       55   351.0927                 30962.11 \n",
       "13 4       small/mid   50   281.4560                144254.06 \n",
       "14 4       suburban    20   186.6400                399096.45 \n",
       "15 4       urban        4    91.3500               1031398.25 \n",
       "16 5       rural       33   226.3848                 24849.03 \n",
       "17 5       small/mid   11   326.8636                101250.00 \n",
       "18 5       suburban     1   327.9000                 11284.00 \n",
       "   ave_highrisk_agegroup_perc\n",
       "1  0.2552742                 \n",
       "2  0.2848198                 \n",
       "3  0.2418810                 \n",
       "4  0.1346878                 \n",
       "5  0.1317168                 \n",
       "6  0.1270597                 \n",
       "7  0.1290134                 \n",
       "8  0.1888251                 \n",
       "9  0.1821204                 \n",
       "10 0.1723691                 \n",
       "11 0.1890735                 \n",
       "12 0.1805931                 \n",
       "13 0.1659890                 \n",
       "14 0.1538323                 \n",
       "15 0.1569989                 \n",
       "16 0.1450671                 \n",
       "17 0.1204053                 \n",
       "18 0.1294951                 "
      ]
     },
     "metadata": {},
     "output_type": "display_data"
    },
    {
     "data": {
      "image/png": "[encoded data removed]",
      "text/plain": [
       "plot without title"
      ]
     },
     "metadata": {},
     "output_type": "display_data"
    },
    {
     "name": "stderr",
     "output_type": "stream",
     "text": [
      "Saving 6.67 x 6.67 in image\n"
     ]
    },
    {
     "data": {
      "image/png": "[encoded data removed]",
      "text/plain": [
       "plot without title"
      ]
     },
     "metadata": {},
     "output_type": "display_data"
    }
   ],
   "source": [
    "# k = 5\n",
    "\n",
    "selected_column_indices <- c(4:8,10:31)\n",
    "num_clusters <- 5 \n",
    "\n",
    "jail_county_demographics_filtered_df_dropna <- drop_na(jail_county_demographics_filtered_df)\n",
    "\n",
    "set.seed(42)\n",
    "km <- kmeans(scale(jail_county_demographics_filtered_df_dropna[ , selected_column_indices]), num_clusters )\n",
    "jail_county_demographics_filtered_df_dropna$cluster <- as.factor(km$cluster)\n",
    "#write.csv(jail_county_demographics_filtered_df_dropna, 'jail_county_demographics_clustered_4means.csv', row.names=FALSE)\n",
    "\n",
    "\n",
    "# get a sense of the clusters\n",
    "options(repr.plot.width=4)\n",
    "ggplot(jail_county_demographics_filtered_df_dropna, \n",
    "       aes( x = highrisk_agegroup_perc, y = population_density, color = cluster) ) + \n",
    "            geom_point()\n",
    "\n",
    "jail_county_demographics_filtered_df_dropna %>%\n",
    "    group_by( cluster ) %>%\n",
    "    summarize( count = n(),\n",
    "             ave_incarceration_rate = mean(jail_incarceration_rate_per_100k),\n",
    "             ave_jail_pop = mean(jail_population),\n",
    "             ave_res_pop = mean(resident_population),\n",
    "             ave_highrisk_agegroup_perc = mean(highrisk_agegroup_perc))\n",
    "\n",
    "jail_county_demographics_filtered_df_dropna %>%\n",
    "    group_by( cluster, urbanicity ) %>%\n",
    "    summarize( count = n(),\n",
    "             ave_incarceration_rate = mean(jail_incarceration_rate_per_100k),\n",
    "             ave_res_pop = mean(resident_population),\n",
    "             ave_highrisk_agegroup_perc = mean(highrisk_agegroup_perc))\n",
    "\n",
    "#pca\n",
    "data <- jail_county_demographics_filtered_df_dropna\n",
    "#pca <- prcomp(data[ , selected_column_indices], center = TRUE, scale = TRUE)\n",
    "\n",
    "# principal components + clusters\n",
    "plot <- fviz_pca_ind(pca, geom.ind = \"point\", pointshape = 21, \n",
    "             pointsize = 2, \n",
    "             fill.ind = data$cluster, \n",
    "             col.ind = \"black\", \n",
    "             palette = \"jco\", \n",
    "             addEllipses = TRUE,\n",
    "             label = \"var\",\n",
    "             col.var = \"black\",\n",
    "             repel = TRUE,\n",
    "             legend.title = \"Cluster\") +\n",
    "  theme(plot.title = element_text(hjust = 0.5))\n",
    "plot\n",
    "#ggsave('5clusterpca.png', plot)"
   ]
  },
  {
   "cell_type": "code",
   "execution_count": 172,
   "metadata": {},
   "outputs": [],
   "source": [
    "# find optimal number of clusters\n",
    "opt_k <- fviz_nbclust(jail_county_demographics_filtered_df_dropna[ , selected_column_indices], kmeans, method = \"gap_stat\")"
   ]
  },
  {
   "cell_type": "code",
   "execution_count": 14,
   "metadata": {
    "scrolled": true
   },
   "outputs": [
    {
     "data": {
      "image/png": "[encoded data removed]",
      "text/plain": [
       "plot without title"
      ]
     },
     "metadata": {},
     "output_type": "display_data"
    }
   ],
   "source": [
    "opt_k\n",
    "\n",
    "# essentially, no obvious clustering"
   ]
  },
  {
   "cell_type": "code",
   "execution_count": 123,
   "metadata": {},
   "outputs": [
    {
     "data": {
      "text/html": [
       "2885"
      ],
      "text/latex": [
       "2885"
      ],
      "text/markdown": [
       "2885"
      ],
      "text/plain": [
       "[1] 2885"
      ]
     },
     "metadata": {},
     "output_type": "display_data"
    },
    {
     "data": {
      "text/html": [
       "858"
      ],
      "text/latex": [
       "858"
      ],
      "text/markdown": [
       "858"
      ],
      "text/plain": [
       "[1] 858"
      ]
     },
     "metadata": {},
     "output_type": "display_data"
    },
    {
     "data": {
      "text/html": [
       "37978"
      ],
      "text/latex": [
       "37978"
      ],
      "text/markdown": [
       "37978"
      ],
      "text/plain": [
       "[1] 37978"
      ]
     },
     "metadata": {},
     "output_type": "display_data"
    }
   ],
   "source": [
    "# ---------------\n",
    "# from jessica's rmd file\n",
    "\n",
    "prison_pop_df <- read.csv(\"prison_county_df.csv\")[ , 2:34]\n",
    "prison_counties <- prison_pop_df %>% filter(prison_county==1)\n",
    "#prison_counties\n",
    "\n",
    "length(unique(prison_pop_df$countystate))\n",
    "length(unique(prison_counties$countystate))\n",
    "nrow(prison_counties)\n",
    "\n",
    "model1 <- glm(diff_cases ~ tot_pop + frac_released + population_density, data = prison_counties)\n",
    "#summary(model1)\n",
    "\n",
    "model2 <- glm(diff_cases ~ tot_pop + prison_county + population_density, data = prison_pop_df)\n",
    "#summary(model2)\n",
    "\n",
    "prison_pop_df_with_indicator <-prison_pop_df %>% mutate(frac_released_for_indicator = ifelse(is.na(frac_released),0,frac_released)) %>%\n",
    "  select(countystate,date,prison_county,frac_released_for_indicator,diff_cases,tot_pop,population_density) %>% drop_na() %>%\n",
    "  mutate(int_prison_county_frac_released = prison_county*frac_released_for_indicator)\n",
    "\n",
    "model3 <- glm(diff_cases ~ tot_pop + int_prison_county_frac_released + prison_county + population_density ,data = prison_pop_df_with_indicator)\n",
    "#summary(model3)\n",
    "\n",
    "#with(summary(model1), 1 - deviance/null.deviance)\n",
    "#with(summary(model2), 1 - deviance/null.deviance)\n",
    "#with(summary(model3), 1 - deviance/null.deviance)"
   ]
  },
  {
   "cell_type": "code",
   "execution_count": 124,
   "metadata": {},
   "outputs": [
    {
     "data": {
      "text/plain": [
       "\n",
       "Call:\n",
       "glm(formula = diff_cases ~ tot_pop + frac_released + population_density + \n",
       "    highrisk_agegroup_perc, data = prison_counties)\n",
       "\n",
       "Deviance Residuals: \n",
       "    Min       1Q   Median       3Q      Max  \n",
       "-2915.7    -45.7    -14.7      5.1   8458.0  \n",
       "\n",
       "Coefficients:\n",
       "                         Estimate Std. Error t value Pr(>|t|)    \n",
       "(Intercept)            -5.358e+01  8.784e+00  -6.099 1.08e-09 ***\n",
       "tot_pop                 2.521e-04  3.320e-06  75.939  < 2e-16 ***\n",
       "frac_released          -3.681e+02  8.241e+01  -4.467 7.95e-06 ***\n",
       "population_density      1.587e-01  1.797e-03  88.305  < 2e-16 ***\n",
       "highrisk_agegroup_perc  2.775e+02  4.648e+01   5.971 2.38e-09 ***\n",
       "---\n",
       "Signif. codes:  0 '***' 0.001 '**' 0.01 '*' 0.05 '.' 0.1 ' ' 1\n",
       "\n",
       "(Dispersion parameter for gaussian family taken to be 133422)\n",
       "\n",
       "    Null deviance: 7866241663  on 37771  degrees of freedom\n",
       "Residual deviance: 5038950461  on 37767  degrees of freedom\n",
       "  (206 observations deleted due to missingness)\n",
       "AIC: 552957\n",
       "\n",
       "Number of Fisher Scoring iterations: 2\n"
      ]
     },
     "metadata": {},
     "output_type": "display_data"
    },
    {
     "data": {
      "text/plain": [
       "\n",
       "Call:\n",
       "glm(formula = diff_cases ~ tot_pop + frac_released + population_density + \n",
       "    prison_fullness + highrisk_agegroup_perc, data = prison_counties)\n",
       "\n",
       "Deviance Residuals: \n",
       "    Min       1Q   Median       3Q      Max  \n",
       "-2154.6    -37.4    -11.4      4.6   6075.6  \n",
       "\n",
       "Coefficients:\n",
       "                         Estimate Std. Error t value Pr(>|t|)    \n",
       "(Intercept)            -2.054e+01  9.407e+00  -2.183  0.02903 *  \n",
       "tot_pop                 2.771e-04  5.592e-06  49.548  < 2e-16 ***\n",
       "frac_released          -7.192e+01  7.200e+01  -0.999  0.31785    \n",
       "population_density      1.373e-01  1.571e-03  87.353  < 2e-16 ***\n",
       "prison_fullness        -1.761e+01  5.621e+00  -3.132  0.00174 ** \n",
       "highrisk_agegroup_perc  1.639e+02  4.130e+01   3.969 7.24e-05 ***\n",
       "---\n",
       "Signif. codes:  0 '***' 0.001 '**' 0.01 '*' 0.05 '.' 0.1 ' ' 1\n",
       "\n",
       "(Dispersion parameter for gaussian family taken to be 82065.58)\n",
       "\n",
       "    Null deviance: 3772510669  on 28586  degrees of freedom\n",
       "Residual deviance: 2345516341  on 28581  degrees of freedom\n",
       "  (9391 observations deleted due to missingness)\n",
       "AIC: 404604\n",
       "\n",
       "Number of Fisher Scoring iterations: 2\n"
      ]
     },
     "metadata": {},
     "output_type": "display_data"
    },
    {
     "data": {
      "text/plain": [
       "\n",
       "Call:\n",
       "glm(formula = diff_cases ~ tot_pop + frac_released + population_density + \n",
       "    prison_fullness, data = prison_counties)\n",
       "\n",
       "Deviance Residuals: \n",
       "    Min       1Q   Median       3Q      Max  \n",
       "-2151.4    -37.6    -10.2      4.0   6079.5  \n",
       "\n",
       "Coefficients:\n",
       "                     Estimate Std. Error t value Pr(>|t|)    \n",
       "(Intercept)         1.049e+01  5.233e+00   2.005  0.04502 *  \n",
       "tot_pop             2.721e-04  5.451e-06  49.918  < 2e-16 ***\n",
       "frac_released      -5.026e+01  7.181e+01  -0.700  0.48401    \n",
       "population_density  1.365e-01  1.561e-03  87.465  < 2e-16 ***\n",
       "prison_fullness    -1.832e+01  5.620e+00  -3.261  0.00111 ** \n",
       "---\n",
       "Signif. codes:  0 '***' 0.001 '**' 0.01 '*' 0.05 '.' 0.1 ' ' 1\n",
       "\n",
       "(Dispersion parameter for gaussian family taken to be 82107.94)\n",
       "\n",
       "    Null deviance: 3772510669  on 28586  degrees of freedom\n",
       "Residual deviance: 2346809039  on 28582  degrees of freedom\n",
       "  (9391 observations deleted due to missingness)\n",
       "AIC: 404618\n",
       "\n",
       "Number of Fisher Scoring iterations: 2\n"
      ]
     },
     "metadata": {},
     "output_type": "display_data"
    },
    {
     "data": {
      "text/plain": [
       "\n",
       "Call:\n",
       "glm(formula = diff_cases ~ tot_pop + int_prison_county_frac_released + \n",
       "    prison_county + population_density + highrisk_agegroup_perc, \n",
       "    data = prison_pop_df_with_indicator)\n",
       "\n",
       "Deviance Residuals: \n",
       "    Min       1Q   Median       3Q      Max  \n",
       "-3465.7    -21.9     -2.9      6.2   9623.0  \n",
       "\n",
       "Coefficients:\n",
       "                                  Estimate Std. Error t value Pr(>|t|)    \n",
       "(Intercept)                     -3.429e+01  4.083e+00  -8.399  < 2e-16 ***\n",
       "tot_pop                          3.187e-04  2.274e-06 140.116  < 2e-16 ***\n",
       "int_prison_county_frac_released -3.780e+02  6.592e+01  -5.734 9.82e-09 ***\n",
       "prison_county                    1.532e+01  2.019e+00   7.589 3.26e-14 ***\n",
       "population_density               1.042e-01  1.073e-03  97.088  < 2e-16 ***\n",
       "highrisk_agegroup_perc           1.204e+02  2.039e+01   5.904 3.56e-09 ***\n",
       "---\n",
       "Signif. codes:  0 '***' 0.001 '**' 0.01 '*' 0.05 '.' 0.1 ' ' 1\n",
       "\n",
       "(Dispersion parameter for gaussian family taken to be 85558.47)\n",
       "\n",
       "    Null deviance: 1.3925e+10  on 111864  degrees of freedom\n",
       "Residual deviance: 9.5705e+09  on 111859  degrees of freedom\n",
       "  (3324 observations deleted due to missingness)\n",
       "AIC: 1587913\n",
       "\n",
       "Number of Fisher Scoring iterations: 2\n"
      ]
     },
     "metadata": {},
     "output_type": "display_data"
    },
    {
     "data": {
      "text/html": [
       "<ol class=list-inline>\n",
       "\t<li>5</li>\n",
       "\t<li>552956.963555235</li>\n",
       "</ol>\n"
      ],
      "text/latex": [
       "\\begin{enumerate*}\n",
       "\\item 5\n",
       "\\item 552956.963555235\n",
       "\\end{enumerate*}\n"
      ],
      "text/markdown": [
       "1. 5\n",
       "2. 552956.963555235\n",
       "\n",
       "\n"
      ],
      "text/plain": [
       "[1]      5 552957"
      ]
     },
     "metadata": {},
     "output_type": "display_data"
    },
    {
     "data": {
      "text/html": [
       "<ol class=list-inline>\n",
       "\t<li>6</li>\n",
       "\t<li>404604.127828696</li>\n",
       "</ol>\n"
      ],
      "text/latex": [
       "\\begin{enumerate*}\n",
       "\\item 6\n",
       "\\item 404604.127828696\n",
       "\\end{enumerate*}\n"
      ],
      "text/markdown": [
       "1. 6\n",
       "2. 404604.127828696\n",
       "\n",
       "\n"
      ],
      "text/plain": [
       "[1]      6.0 404604.1"
      ]
     },
     "metadata": {},
     "output_type": "display_data"
    },
    {
     "data": {
      "text/html": [
       "<ol class=list-inline>\n",
       "\t<li>5</li>\n",
       "\t<li>404617.878805437</li>\n",
       "</ol>\n"
      ],
      "text/latex": [
       "\\begin{enumerate*}\n",
       "\\item 5\n",
       "\\item 404617.878805437\n",
       "\\end{enumerate*}\n"
      ],
      "text/markdown": [
       "1. 5\n",
       "2. 404617.878805437\n",
       "\n",
       "\n"
      ],
      "text/plain": [
       "[1]      5.0 404617.9"
      ]
     },
     "metadata": {},
     "output_type": "display_data"
    },
    {
     "data": {
      "text/html": [
       "<ol class=list-inline>\n",
       "\t<li>6</li>\n",
       "\t<li>1587912.921887</li>\n",
       "</ol>\n"
      ],
      "text/latex": [
       "\\begin{enumerate*}\n",
       "\\item 6\n",
       "\\item 1587912.921887\n",
       "\\end{enumerate*}\n"
      ],
      "text/markdown": [
       "1. 6\n",
       "2. 1587912.921887\n",
       "\n",
       "\n"
      ],
      "text/plain": [
       "[1]       6 1587913"
      ]
     },
     "metadata": {},
     "output_type": "display_data"
    },
    {
     "data": {
      "text/html": [
       "<ol class=list-inline>\n",
       "\t<li>5</li>\n",
       "\t<li>1587945.77605888</li>\n",
       "</ol>\n"
      ],
      "text/latex": [
       "\\begin{enumerate*}\n",
       "\\item 5\n",
       "\\item 1587945.77605888\n",
       "\\end{enumerate*}\n"
      ],
      "text/markdown": [
       "1. 5\n",
       "2. 1587945.77605888\n",
       "\n",
       "\n"
      ],
      "text/plain": [
       "[1]       5 1587946"
      ]
     },
     "metadata": {},
     "output_type": "display_data"
    },
    {
     "data": {
      "text/html": [
       "<ol class=list-inline>\n",
       "\t<li>4</li>\n",
       "\t<li>1587974.68614614</li>\n",
       "</ol>\n"
      ],
      "text/latex": [
       "\\begin{enumerate*}\n",
       "\\item 4\n",
       "\\item 1587974.68614614\n",
       "\\end{enumerate*}\n"
      ],
      "text/markdown": [
       "1. 4\n",
       "2. 1587974.68614614\n",
       "\n",
       "\n"
      ],
      "text/plain": [
       "[1]       4 1587975"
      ]
     },
     "metadata": {},
     "output_type": "display_data"
    },
    {
     "data": {
      "text/html": [
       "<ol class=list-inline>\n",
       "\t<li>4</li>\n",
       "\t<li>552990.600384858</li>\n",
       "</ol>\n"
      ],
      "text/latex": [
       "\\begin{enumerate*}\n",
       "\\item 4\n",
       "\\item 552990.600384858\n",
       "\\end{enumerate*}\n"
      ],
      "text/markdown": [
       "1. 4\n",
       "2. 552990.600384858\n",
       "\n",
       "\n"
      ],
      "text/plain": [
       "[1]      4.0 552990.6"
      ]
     },
     "metadata": {},
     "output_type": "display_data"
    },
    {
     "data": {
      "text/html": [
       "0.359420841948927"
      ],
      "text/latex": [
       "0.359420841948927"
      ],
      "text/markdown": [
       "0.359420841948927"
      ],
      "text/plain": [
       "[1] 0.3594208"
      ]
     },
     "metadata": {},
     "output_type": "display_data"
    },
    {
     "data": {
      "text/html": [
       "0.378261177581407"
      ],
      "text/latex": [
       "0.378261177581407"
      ],
      "text/markdown": [
       "0.378261177581407"
      ],
      "text/plain": [
       "[1] 0.3782612"
      ]
     },
     "metadata": {},
     "output_type": "display_data"
    },
    {
     "data": {
      "text/html": [
       "0.377918515108348"
      ],
      "text/latex": [
       "0.377918515108348"
      ],
      "text/markdown": [
       "0.377918515108348"
      ],
      "text/plain": [
       "[1] 0.3779185"
      ]
     },
     "metadata": {},
     "output_type": "display_data"
    },
    {
     "data": {
      "text/html": [
       "0.312710373205962"
      ],
      "text/latex": [
       "0.312710373205962"
      ],
      "text/markdown": [
       "0.312710373205962"
      ],
      "text/plain": [
       "[1] 0.3127104"
      ]
     },
     "metadata": {},
     "output_type": "display_data"
    }
   ],
   "source": [
    "prison_pop_df_with_indicator <-prison_pop_df %>% mutate(frac_released_for_indicator = ifelse(is.na(frac_released),0,frac_released)) %>%\n",
    "  mutate(int_prison_county_frac_released = prison_county*frac_released_for_indicator,\n",
    "         prison_inc_rate = prison_pop / tot_pop ) ## added prison incarceration rate\n",
    "\n",
    "model4 <- glm(diff_cases ~ tot_pop + int_prison_county_frac_released + prison_county + population_density + highrisk_agegroup_perc,data = prison_pop_df_with_indicator)\n",
    "model5 <- glm(diff_cases ~ tot_pop + frac_released + population_density + prison_fullness, data = prison_counties)\n",
    "model6 <- glm(diff_cases ~ tot_pop + frac_released + population_density + prison_fullness + highrisk_agegroup_perc, data = prison_counties)\n",
    "model7 <- glm(diff_cases ~ tot_pop + frac_released + population_density + highrisk_agegroup_perc, data = prison_counties)\n",
    "\n",
    "summary(model7)\n",
    "summary(model6)\n",
    "summary(model5)\n",
    "summary(model4)\n",
    "\n",
    "extractAIC(model7)\n",
    "extractAIC(model6) ## smallest AIC\n",
    "extractAIC(model5) #  second smallest AIC\n",
    "extractAIC(model4)\n",
    "extractAIC(model3)\n",
    "extractAIC(model2)\n",
    "extractAIC(model1)\n",
    "\n",
    "with(summary(model7), 1 - deviance/null.deviance)\n",
    "with(summary(model6), 1 - deviance/null.deviance)\n",
    "with(summary(model5), 1 - deviance/null.deviance)\n",
    "with(summary(model4), 1 - deviance/null.deviance)"
   ]
  },
  {
   "cell_type": "code",
   "execution_count": 135,
   "metadata": {},
   "outputs": [
    {
     "data": {
      "text/html": [
       "<ol class=list-inline>\n",
       "\t<li>7</li>\n",
       "\t<li>404597.146596079</li>\n",
       "</ol>\n"
      ],
      "text/latex": [
       "\\begin{enumerate*}\n",
       "\\item 7\n",
       "\\item 404597.146596079\n",
       "\\end{enumerate*}\n"
      ],
      "text/markdown": [
       "1. 7\n",
       "2. 404597.146596079\n",
       "\n",
       "\n"
      ],
      "text/plain": [
       "[1]      7.0 404597.1"
      ]
     },
     "metadata": {},
     "output_type": "display_data"
    },
    {
     "data": {
      "text/html": [
       "<ol class=list-inline>\n",
       "\t<li>6</li>\n",
       "\t<li>404595.479844451</li>\n",
       "</ol>\n"
      ],
      "text/latex": [
       "\\begin{enumerate*}\n",
       "\\item 6\n",
       "\\item 404595.479844451\n",
       "\\end{enumerate*}\n"
      ],
      "text/markdown": [
       "1. 6\n",
       "2. 404595.479844451\n",
       "\n",
       "\n"
      ],
      "text/plain": [
       "[1]      6.0 404595.5"
      ]
     },
     "metadata": {},
     "output_type": "display_data"
    },
    {
     "data": {
      "text/html": [
       "<ol class=list-inline>\n",
       "\t<li>7</li>\n",
       "\t<li>404499.027884961</li>\n",
       "</ol>\n"
      ],
      "text/latex": [
       "\\begin{enumerate*}\n",
       "\\item 7\n",
       "\\item 404499.027884961\n",
       "\\end{enumerate*}\n"
      ],
      "text/markdown": [
       "1. 7\n",
       "2. 404499.027884961\n",
       "\n",
       "\n"
      ],
      "text/plain": [
       "[1]      7 404499"
      ]
     },
     "metadata": {},
     "output_type": "display_data"
    },
    {
     "data": {
      "text/html": [
       "<ol class=list-inline>\n",
       "\t<li>6</li>\n",
       "\t<li>496677.421709243</li>\n",
       "</ol>\n"
      ],
      "text/latex": [
       "\\begin{enumerate*}\n",
       "\\item 6\n",
       "\\item 496677.421709243\n",
       "\\end{enumerate*}\n"
      ],
      "text/markdown": [
       "1. 6\n",
       "2. 496677.421709243\n",
       "\n",
       "\n"
      ],
      "text/plain": [
       "[1]      6.0 496677.4"
      ]
     },
     "metadata": {},
     "output_type": "display_data"
    },
    {
     "data": {
      "text/html": [
       "<ol class=list-inline>\n",
       "\t<li>6</li>\n",
       "\t<li>496657.447806624</li>\n",
       "</ol>\n"
      ],
      "text/latex": [
       "\\begin{enumerate*}\n",
       "\\item 6\n",
       "\\item 496657.447806624\n",
       "\\end{enumerate*}\n"
      ],
      "text/markdown": [
       "1. 6\n",
       "2. 496657.447806624\n",
       "\n",
       "\n"
      ],
      "text/plain": [
       "[1]      6.0 496657.4"
      ]
     },
     "metadata": {},
     "output_type": "display_data"
    },
    {
     "data": {
      "text/plain": [
       "\n",
       "Call:\n",
       "glm(formula = diff_cases ~ tot_pop + frac_released + population_density + \n",
       "    prison_fullness + highrisk_agegroup_perc + prison_inc_rate, \n",
       "    data = prison_counties)\n",
       "\n",
       "Deviance Residuals: \n",
       "    Min       1Q   Median       3Q      Max  \n",
       "-2155.1    -35.3    -12.2      2.1   6075.1  \n",
       "\n",
       "Coefficients:\n",
       "                         Estimate Std. Error t value Pr(>|t|)    \n",
       "(Intercept)            -2.374e+01  9.466e+00  -2.508 0.012160 *  \n",
       "tot_pop                 2.809e-04  5.734e-06  48.985  < 2e-16 ***\n",
       "frac_released          -4.195e+01  7.268e+01  -0.577 0.563804    \n",
       "population_density      1.375e-01  1.573e-03  87.411  < 2e-16 ***\n",
       "prison_fullness        -2.028e+01  5.691e+00  -3.564 0.000366 ***\n",
       "highrisk_agegroup_perc  1.709e+02  4.136e+01   4.132  3.6e-05 ***\n",
       "prison_inc_rate         1.149e+02  3.833e+01   2.997 0.002731 ** \n",
       "---\n",
       "Signif. codes:  0 '***' 0.001 '**' 0.01 '*' 0.05 '.' 0.1 ' ' 1\n",
       "\n",
       "(Dispersion parameter for gaussian family taken to be 82042.67)\n",
       "\n",
       "    Null deviance: 3772510669  on 28586  degrees of freedom\n",
       "Residual deviance: 2344779561  on 28580  degrees of freedom\n",
       "  (9391 observations deleted due to missingness)\n",
       "AIC: 404597\n",
       "\n",
       "Number of Fisher Scoring iterations: 2\n"
      ]
     },
     "metadata": {},
     "output_type": "display_data"
    }
   ],
   "source": [
    "# add prison incarceration rate\n",
    "# explore models with prison incarceration rate\n",
    "\n",
    "prison_counties <- prison_counties %>%\n",
    "    mutate( prison_inc_rate = prison_pop / tot_pop )\n",
    "\n",
    "prison_pop_df <- prison_pop_df %>%\n",
    "    mutate( prison_inc_rate = prison_pop / tot_pop )\n",
    "\n",
    "model8 <- glm(diff_cases ~ \n",
    "              tot_pop + frac_released + population_density + prison_fullness + highrisk_agegroup_perc + prison_inc_rate, \n",
    "              data = prison_counties)\n",
    "model9 <- glm(diff_cases ~ \n",
    "              tot_pop  + population_density + prison_fullness + highrisk_agegroup_perc + prison_inc_rate, \n",
    "              data = prison_counties)\n",
    "model10 <- glm(diff_cases ~ \n",
    "              tot_pop + frac_released + population_density + prison_fullness + highrisk_agegroup_perc + prison_pop, \n",
    "              data = prison_counties)\n",
    "model11 <- glm(diff_cases ~ \n",
    "               tot_pop + frac_released + \n",
    "               int_prison_county_frac_released + \n",
    "               prison_county + \n",
    "               population_density + \n",
    "               highrisk_agegroup_perc + \n",
    "               prison_inc_rate,\n",
    "               data = prison_pop_df_with_indicator)\n",
    "model12 <- glm(diff_cases ~ \n",
    "               tot_pop + int_prison_county_frac_released + prison_county + population_density + highrisk_agegroup_perc + prison_pop,\n",
    "               data = prison_pop_df_with_indicator)\n",
    "\n",
    "extractAIC(model8)\n",
    "extractAIC(model9)\n",
    "extractAIC(model10)\n",
    "extractAIC(model11)\n",
    "extractAIC(model12)\n",
    "\n",
    "summary(model8)"
   ]
  },
  {
   "cell_type": "code",
   "execution_count": null,
   "metadata": {},
   "outputs": [],
   "source": []
  },
  {
   "cell_type": "code",
   "execution_count": null,
   "metadata": {},
   "outputs": [],
   "source": []
  }
 ],
 "metadata": {
  "kernelspec": {
   "display_name": "R",
   "language": "R",
   "name": "ir"
  },
  "language_info": {
   "codemirror_mode": "r",
   "file_extension": ".r",
   "mimetype": "text/x-r-source",
   "name": "R",
   "pygments_lexer": "r",
   "version": "3.6.1"
  }
 },
 "nbformat": 4,
 "nbformat_minor": 4
}
